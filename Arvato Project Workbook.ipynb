{
 "cells": [
  {
   "cell_type": "markdown",
   "metadata": {},
   "source": [
    "# Capstone Project: Create a Customer Segmentation Report for Arvato Financial Services\n",
    "\n",
    "In this project, you will analyze demographics data for customers of a mail-order sales company in Germany, comparing it against demographics information for the general population. You'll use unsupervised learning techniques to perform customer segmentation, identifying the parts of the population that best describe the core customer base of the company. Then, you'll apply what you've learned on a third dataset with demographics information for targets of a marketing campaign for the company, and use a model to predict which individuals are most likely to convert into becoming customers for the company. The data that you will use has been provided by our partners at Bertelsmann Arvato Analytics, and represents a real-life data science task.\n",
    "\n",
    "If you completed the first term of this program, you will be familiar with the first part of this project, from the unsupervised learning project. The versions of those two datasets used in this project will include many more features and has not been pre-cleaned. You are also free to choose whatever approach you'd like to analyzing the data rather than follow pre-determined steps. In your work on this project, make sure that you carefully document your steps and decisions, since your main deliverable for this project will be a blog post reporting your findings."
   ]
  },
  {
   "cell_type": "code",
   "execution_count": 2,
   "metadata": {},
   "outputs": [
    {
     "name": "stdout",
     "output_type": "stream",
     "text": [
      "Collecting lightgbm\n",
      "\u001b[?25l  Downloading https://files.pythonhosted.org/packages/18/b2/fff8370f48549ce223f929fe8cab4ee6bf285a41f86037d91312b48ed95b/lightgbm-3.2.1-py3-none-manylinux1_x86_64.whl (2.0MB)\n",
      "\u001b[K    100% |████████████████████████████████| 2.0MB 10.4MB/s ta 0:00:01    13% |████▌                           | 276kB 12.9MB/s eta 0:00:01    63% |████████████████████▍           | 1.3MB 19.6MB/s eta 0:00:01\n",
      "\u001b[?25hRequirement already satisfied: scipy in /opt/conda/lib/python3.6/site-packages (from lightgbm) (1.2.1)\n",
      "Requirement already satisfied: scikit-learn!=0.22.0 in /opt/conda/lib/python3.6/site-packages (from lightgbm) (0.19.1)\n",
      "Requirement already satisfied: wheel in /opt/conda/lib/python3.6/site-packages (from lightgbm) (0.30.0)\n",
      "Requirement already satisfied: numpy in /opt/conda/lib/python3.6/site-packages (from lightgbm) (1.12.1)\n",
      "Installing collected packages: lightgbm\n",
      "Successfully installed lightgbm-3.2.1\n"
     ]
    }
   ],
   "source": [
    "!pip install lightgbm"
   ]
  },
  {
   "cell_type": "code",
   "execution_count": 157,
   "metadata": {},
   "outputs": [],
   "source": [
    "# import libraries here; add more as necessary\n",
    "import time\n",
    "\n",
    "import numpy as np\n",
    "import pandas as pd\n",
    "import matplotlib.pyplot as plt\n",
    "import seaborn as sns\n",
    "import operator\n",
    "from collections import Counter\n",
    "\n",
    "\n",
    "from sklearn.preprocessing import Imputer, StandardScaler\n",
    "from sklearn.decomposition import PCA\n",
    "\n",
    "from sklearn.cluster import KMeans\n",
    "from sklearn.ensemble import AdaBoostClassifier, GradientBoostingClassifier\n",
    "import lightgbm as lgb\n",
    "\n",
    "\n",
    "from sklearn.metrics import accuracy_score, roc_auc_score, confusion_matrix \n",
    "from sklearn.model_selection import train_test_split, cross_val_score, ShuffleSplit\n",
    "from sklearn.model_selection import GridSearchCV\n",
    "\n",
    "\n",
    "# magic word for producing visualizations in notebook\n",
    "%matplotlib inline"
   ]
  },
  {
   "cell_type": "markdown",
   "metadata": {},
   "source": [
    "## Part 0: Get to Know the Data\n",
    "\n",
    "There are four data files associated with this project:\n",
    "\n",
    "- `Udacity_AZDIAS_052018.csv`: Demographics data for the general population of Germany; 891 211 persons (rows) x 366 features (columns).\n",
    "- `Udacity_CUSTOMERS_052018.csv`: Demographics data for customers of a mail-order company; 191 652 persons (rows) x 369 features (columns).\n",
    "- `Udacity_MAILOUT_052018_TRAIN.csv`: Demographics data for individuals who were targets of a marketing campaign; 42 982 persons (rows) x 367 (columns).\n",
    "- `Udacity_MAILOUT_052018_TEST.csv`: Demographics data for individuals who were targets of a marketing campaign; 42 833 persons (rows) x 366 (columns).\n",
    "\n",
    "Each row of the demographics files represents a single person, but also includes information outside of individuals, including information about their household, building, and neighborhood. Use the information from the first two files to figure out how customers (\"CUSTOMERS\") are similar to or differ from the general population at large (\"AZDIAS\"), then use your analysis to make predictions on the other two files (\"MAILOUT\"), predicting which recipients are most likely to become a customer for the mail-order company.\n",
    "\n",
    "The \"CUSTOMERS\" file contains three extra columns ('CUSTOMER_GROUP', 'ONLINE_PURCHASE', and 'PRODUCT_GROUP'), which provide broad information about the customers depicted in the file. The original \"MAILOUT\" file included one additional column, \"RESPONSE\", which indicated whether or not each recipient became a customer of the company. For the \"TRAIN\" subset, this column has been retained, but in the \"TEST\" subset it has been removed; it is against that withheld column that your final predictions will be assessed in the Kaggle competition.\n",
    "\n",
    "Otherwise, all of the remaining columns are the same between the three data files. For more information about the columns depicted in the files, you can refer to two Excel spreadsheets provided in the workspace. [One of them](./DIAS Information Levels - Attributes 2017.xlsx) is a top-level list of attributes and descriptions, organized by informational category. [The other](./DIAS Attributes - Values 2017.xlsx) is a detailed mapping of data values for each feature in alphabetical order.\n",
    "\n",
    "In the below cell, we've provided some initial code to load in the first two datasets. Note for all of the `.csv` data files in this project that they're semicolon (`;`) delimited, so an additional argument in the [`read_csv()`](https://pandas.pydata.org/pandas-docs/stable/generated/pandas.read_csv.html) call has been included to read in the data properly. Also, considering the size of the datasets, it may take some time for them to load completely.\n",
    "\n",
    "You'll notice when the data is loaded in that a warning message will immediately pop up. Before you really start digging into the modeling and analysis, you're going to need to perform some cleaning. Take some time to browse the structure of the data and look over the informational spreadsheets to understand the data values. Make some decisions on which features to keep, which features to drop, and if any revisions need to be made on data formats. It'll be a good idea to create a function with pre-processing steps, since you'll need to clean all of the datasets before you work with them."
   ]
  },
  {
   "cell_type": "markdown",
   "metadata": {},
   "source": [
    "# 0.1. Data Exploration"
   ]
  },
  {
   "cell_type": "code",
   "execution_count": 158,
   "metadata": {},
   "outputs": [
    {
     "name": "stderr",
     "output_type": "stream",
     "text": [
      "/opt/conda/lib/python3.6/site-packages/IPython/core/interactiveshell.py:2785: DtypeWarning: Columns (18,19) have mixed types. Specify dtype option on import or set low_memory=False.\n",
      "  interactivity=interactivity, compiler=compiler, result=result)\n"
     ]
    },
    {
     "name": "stdout",
     "output_type": "stream",
     "text": [
      "Datasets are loaded..\n"
     ]
    }
   ],
   "source": [
    "# load in the data\n",
    "try:\n",
    "    azdias = pd.read_csv('../../data/Term2/capstone/arvato_data/Udacity_AZDIAS_052018.csv', sep=';',nrows = 10000)\n",
    "    customers = pd.read_csv('../../data/Term2/capstone/arvato_data/Udacity_CUSTOMERS_052018.csv', sep=';',nrows = 10000)\n",
    "    attributes_values = pd.read_excel('DIAS Attributes - Values 2017.xlsx', header=1).fillna(method = 'ffill').reset_index().drop(['index'],axis=1)\n",
    "    attributes_desc = pd.read_excel('DIAS Information Levels - Attributes 2017.xlsx', header=1).reset_index().drop(['index'],axis=1)\n",
    "    print('Datasets are loaded..')\n",
    "except:\n",
    "    print('Datasets are not loaded!!')"
   ]
  },
  {
   "cell_type": "markdown",
   "metadata": {},
   "source": [
    "Note: As you can see after downloading the dataset, Python gave a Dtype Warning. We will look at this problem again in the data cleaning section."
   ]
  },
  {
   "cell_type": "code",
   "execution_count": 159,
   "metadata": {},
   "outputs": [
    {
     "name": "stdout",
     "output_type": "stream",
     "text": [
      "General Population Dataset Shape:  (10000, 366)\n",
      "Customer Dataset Shape:  (10000, 369)\n"
     ]
    }
   ],
   "source": [
    "print('General Population Dataset Shape: ', azdias.shape)\n",
    "print('Customer Dataset Shape: ', customers.shape)"
   ]
  },
  {
   "cell_type": "code",
   "execution_count": 160,
   "metadata": {},
   "outputs": [
    {
     "data": {
      "text/html": [
       "<div>\n",
       "<style scoped>\n",
       "    .dataframe tbody tr th:only-of-type {\n",
       "        vertical-align: middle;\n",
       "    }\n",
       "\n",
       "    .dataframe tbody tr th {\n",
       "        vertical-align: top;\n",
       "    }\n",
       "\n",
       "    .dataframe thead th {\n",
       "        text-align: right;\n",
       "    }\n",
       "</style>\n",
       "<table border=\"1\" class=\"dataframe\">\n",
       "  <thead>\n",
       "    <tr style=\"text-align: right;\">\n",
       "      <th></th>\n",
       "      <th>LNR</th>\n",
       "      <th>AGER_TYP</th>\n",
       "      <th>AKT_DAT_KL</th>\n",
       "      <th>ALTER_HH</th>\n",
       "      <th>ALTER_KIND1</th>\n",
       "      <th>ALTER_KIND2</th>\n",
       "      <th>ALTER_KIND3</th>\n",
       "      <th>ALTER_KIND4</th>\n",
       "      <th>ALTERSKATEGORIE_FEIN</th>\n",
       "      <th>ANZ_HAUSHALTE_AKTIV</th>\n",
       "      <th>...</th>\n",
       "      <th>VHN</th>\n",
       "      <th>VK_DHT4A</th>\n",
       "      <th>VK_DISTANZ</th>\n",
       "      <th>VK_ZG11</th>\n",
       "      <th>W_KEIT_KIND_HH</th>\n",
       "      <th>WOHNDAUER_2008</th>\n",
       "      <th>WOHNLAGE</th>\n",
       "      <th>ZABEOTYP</th>\n",
       "      <th>ANREDE_KZ</th>\n",
       "      <th>ALTERSKATEGORIE_GROB</th>\n",
       "    </tr>\n",
       "  </thead>\n",
       "  <tbody>\n",
       "    <tr>\n",
       "      <th>0</th>\n",
       "      <td>910215</td>\n",
       "      <td>-1</td>\n",
       "      <td>NaN</td>\n",
       "      <td>NaN</td>\n",
       "      <td>NaN</td>\n",
       "      <td>NaN</td>\n",
       "      <td>NaN</td>\n",
       "      <td>NaN</td>\n",
       "      <td>NaN</td>\n",
       "      <td>NaN</td>\n",
       "      <td>...</td>\n",
       "      <td>NaN</td>\n",
       "      <td>NaN</td>\n",
       "      <td>NaN</td>\n",
       "      <td>NaN</td>\n",
       "      <td>NaN</td>\n",
       "      <td>NaN</td>\n",
       "      <td>NaN</td>\n",
       "      <td>3</td>\n",
       "      <td>1</td>\n",
       "      <td>2</td>\n",
       "    </tr>\n",
       "    <tr>\n",
       "      <th>1</th>\n",
       "      <td>910220</td>\n",
       "      <td>-1</td>\n",
       "      <td>9.0</td>\n",
       "      <td>0.0</td>\n",
       "      <td>NaN</td>\n",
       "      <td>NaN</td>\n",
       "      <td>NaN</td>\n",
       "      <td>NaN</td>\n",
       "      <td>21.0</td>\n",
       "      <td>11.0</td>\n",
       "      <td>...</td>\n",
       "      <td>4.0</td>\n",
       "      <td>8.0</td>\n",
       "      <td>11.0</td>\n",
       "      <td>10.0</td>\n",
       "      <td>3.0</td>\n",
       "      <td>9.0</td>\n",
       "      <td>4.0</td>\n",
       "      <td>5</td>\n",
       "      <td>2</td>\n",
       "      <td>1</td>\n",
       "    </tr>\n",
       "    <tr>\n",
       "      <th>2</th>\n",
       "      <td>910225</td>\n",
       "      <td>-1</td>\n",
       "      <td>9.0</td>\n",
       "      <td>17.0</td>\n",
       "      <td>NaN</td>\n",
       "      <td>NaN</td>\n",
       "      <td>NaN</td>\n",
       "      <td>NaN</td>\n",
       "      <td>17.0</td>\n",
       "      <td>10.0</td>\n",
       "      <td>...</td>\n",
       "      <td>2.0</td>\n",
       "      <td>9.0</td>\n",
       "      <td>9.0</td>\n",
       "      <td>6.0</td>\n",
       "      <td>3.0</td>\n",
       "      <td>9.0</td>\n",
       "      <td>2.0</td>\n",
       "      <td>5</td>\n",
       "      <td>2</td>\n",
       "      <td>3</td>\n",
       "    </tr>\n",
       "    <tr>\n",
       "      <th>3</th>\n",
       "      <td>910226</td>\n",
       "      <td>2</td>\n",
       "      <td>1.0</td>\n",
       "      <td>13.0</td>\n",
       "      <td>NaN</td>\n",
       "      <td>NaN</td>\n",
       "      <td>NaN</td>\n",
       "      <td>NaN</td>\n",
       "      <td>13.0</td>\n",
       "      <td>1.0</td>\n",
       "      <td>...</td>\n",
       "      <td>0.0</td>\n",
       "      <td>7.0</td>\n",
       "      <td>10.0</td>\n",
       "      <td>11.0</td>\n",
       "      <td>NaN</td>\n",
       "      <td>9.0</td>\n",
       "      <td>7.0</td>\n",
       "      <td>3</td>\n",
       "      <td>2</td>\n",
       "      <td>4</td>\n",
       "    </tr>\n",
       "    <tr>\n",
       "      <th>4</th>\n",
       "      <td>910241</td>\n",
       "      <td>-1</td>\n",
       "      <td>1.0</td>\n",
       "      <td>20.0</td>\n",
       "      <td>NaN</td>\n",
       "      <td>NaN</td>\n",
       "      <td>NaN</td>\n",
       "      <td>NaN</td>\n",
       "      <td>14.0</td>\n",
       "      <td>3.0</td>\n",
       "      <td>...</td>\n",
       "      <td>2.0</td>\n",
       "      <td>3.0</td>\n",
       "      <td>5.0</td>\n",
       "      <td>4.0</td>\n",
       "      <td>2.0</td>\n",
       "      <td>9.0</td>\n",
       "      <td>3.0</td>\n",
       "      <td>4</td>\n",
       "      <td>1</td>\n",
       "      <td>3</td>\n",
       "    </tr>\n",
       "  </tbody>\n",
       "</table>\n",
       "<p>5 rows × 366 columns</p>\n",
       "</div>"
      ],
      "text/plain": [
       "      LNR  AGER_TYP  AKT_DAT_KL  ALTER_HH  ALTER_KIND1  ALTER_KIND2  \\\n",
       "0  910215        -1         NaN       NaN          NaN          NaN   \n",
       "1  910220        -1         9.0       0.0          NaN          NaN   \n",
       "2  910225        -1         9.0      17.0          NaN          NaN   \n",
       "3  910226         2         1.0      13.0          NaN          NaN   \n",
       "4  910241        -1         1.0      20.0          NaN          NaN   \n",
       "\n",
       "   ALTER_KIND3  ALTER_KIND4  ALTERSKATEGORIE_FEIN  ANZ_HAUSHALTE_AKTIV  \\\n",
       "0          NaN          NaN                   NaN                  NaN   \n",
       "1          NaN          NaN                  21.0                 11.0   \n",
       "2          NaN          NaN                  17.0                 10.0   \n",
       "3          NaN          NaN                  13.0                  1.0   \n",
       "4          NaN          NaN                  14.0                  3.0   \n",
       "\n",
       "          ...           VHN  VK_DHT4A  VK_DISTANZ  VK_ZG11  W_KEIT_KIND_HH  \\\n",
       "0         ...           NaN       NaN         NaN      NaN             NaN   \n",
       "1         ...           4.0       8.0        11.0     10.0             3.0   \n",
       "2         ...           2.0       9.0         9.0      6.0             3.0   \n",
       "3         ...           0.0       7.0        10.0     11.0             NaN   \n",
       "4         ...           2.0       3.0         5.0      4.0             2.0   \n",
       "\n",
       "   WOHNDAUER_2008  WOHNLAGE ZABEOTYP ANREDE_KZ ALTERSKATEGORIE_GROB  \n",
       "0             NaN       NaN        3         1                    2  \n",
       "1             9.0       4.0        5         2                    1  \n",
       "2             9.0       2.0        5         2                    3  \n",
       "3             9.0       7.0        3         2                    4  \n",
       "4             9.0       3.0        4         1                    3  \n",
       "\n",
       "[5 rows x 366 columns]"
      ]
     },
     "execution_count": 160,
     "metadata": {},
     "output_type": "execute_result"
    }
   ],
   "source": [
    "azdias.head()"
   ]
  },
  {
   "cell_type": "code",
   "execution_count": 161,
   "metadata": {},
   "outputs": [
    {
     "data": {
      "text/html": [
       "<div>\n",
       "<style scoped>\n",
       "    .dataframe tbody tr th:only-of-type {\n",
       "        vertical-align: middle;\n",
       "    }\n",
       "\n",
       "    .dataframe tbody tr th {\n",
       "        vertical-align: top;\n",
       "    }\n",
       "\n",
       "    .dataframe thead th {\n",
       "        text-align: right;\n",
       "    }\n",
       "</style>\n",
       "<table border=\"1\" class=\"dataframe\">\n",
       "  <thead>\n",
       "    <tr style=\"text-align: right;\">\n",
       "      <th></th>\n",
       "      <th>LNR</th>\n",
       "      <th>AGER_TYP</th>\n",
       "      <th>AKT_DAT_KL</th>\n",
       "      <th>ALTER_HH</th>\n",
       "      <th>ALTER_KIND1</th>\n",
       "      <th>ALTER_KIND2</th>\n",
       "      <th>ALTER_KIND3</th>\n",
       "      <th>ALTER_KIND4</th>\n",
       "      <th>ALTERSKATEGORIE_FEIN</th>\n",
       "      <th>ANZ_HAUSHALTE_AKTIV</th>\n",
       "      <th>...</th>\n",
       "      <th>VK_ZG11</th>\n",
       "      <th>W_KEIT_KIND_HH</th>\n",
       "      <th>WOHNDAUER_2008</th>\n",
       "      <th>WOHNLAGE</th>\n",
       "      <th>ZABEOTYP</th>\n",
       "      <th>PRODUCT_GROUP</th>\n",
       "      <th>CUSTOMER_GROUP</th>\n",
       "      <th>ONLINE_PURCHASE</th>\n",
       "      <th>ANREDE_KZ</th>\n",
       "      <th>ALTERSKATEGORIE_GROB</th>\n",
       "    </tr>\n",
       "  </thead>\n",
       "  <tbody>\n",
       "    <tr>\n",
       "      <th>0</th>\n",
       "      <td>9626</td>\n",
       "      <td>2</td>\n",
       "      <td>1.0</td>\n",
       "      <td>10.0</td>\n",
       "      <td>NaN</td>\n",
       "      <td>NaN</td>\n",
       "      <td>NaN</td>\n",
       "      <td>NaN</td>\n",
       "      <td>10.0</td>\n",
       "      <td>1.0</td>\n",
       "      <td>...</td>\n",
       "      <td>2.0</td>\n",
       "      <td>6.0</td>\n",
       "      <td>9.0</td>\n",
       "      <td>7.0</td>\n",
       "      <td>3</td>\n",
       "      <td>COSMETIC_AND_FOOD</td>\n",
       "      <td>MULTI_BUYER</td>\n",
       "      <td>0</td>\n",
       "      <td>1</td>\n",
       "      <td>4</td>\n",
       "    </tr>\n",
       "    <tr>\n",
       "      <th>1</th>\n",
       "      <td>9628</td>\n",
       "      <td>-1</td>\n",
       "      <td>9.0</td>\n",
       "      <td>11.0</td>\n",
       "      <td>NaN</td>\n",
       "      <td>NaN</td>\n",
       "      <td>NaN</td>\n",
       "      <td>NaN</td>\n",
       "      <td>NaN</td>\n",
       "      <td>NaN</td>\n",
       "      <td>...</td>\n",
       "      <td>3.0</td>\n",
       "      <td>0.0</td>\n",
       "      <td>9.0</td>\n",
       "      <td>NaN</td>\n",
       "      <td>3</td>\n",
       "      <td>FOOD</td>\n",
       "      <td>SINGLE_BUYER</td>\n",
       "      <td>0</td>\n",
       "      <td>1</td>\n",
       "      <td>4</td>\n",
       "    </tr>\n",
       "    <tr>\n",
       "      <th>2</th>\n",
       "      <td>143872</td>\n",
       "      <td>-1</td>\n",
       "      <td>1.0</td>\n",
       "      <td>6.0</td>\n",
       "      <td>NaN</td>\n",
       "      <td>NaN</td>\n",
       "      <td>NaN</td>\n",
       "      <td>NaN</td>\n",
       "      <td>0.0</td>\n",
       "      <td>1.0</td>\n",
       "      <td>...</td>\n",
       "      <td>11.0</td>\n",
       "      <td>6.0</td>\n",
       "      <td>9.0</td>\n",
       "      <td>2.0</td>\n",
       "      <td>3</td>\n",
       "      <td>COSMETIC_AND_FOOD</td>\n",
       "      <td>MULTI_BUYER</td>\n",
       "      <td>0</td>\n",
       "      <td>2</td>\n",
       "      <td>4</td>\n",
       "    </tr>\n",
       "    <tr>\n",
       "      <th>3</th>\n",
       "      <td>143873</td>\n",
       "      <td>1</td>\n",
       "      <td>1.0</td>\n",
       "      <td>8.0</td>\n",
       "      <td>NaN</td>\n",
       "      <td>NaN</td>\n",
       "      <td>NaN</td>\n",
       "      <td>NaN</td>\n",
       "      <td>8.0</td>\n",
       "      <td>0.0</td>\n",
       "      <td>...</td>\n",
       "      <td>2.0</td>\n",
       "      <td>NaN</td>\n",
       "      <td>9.0</td>\n",
       "      <td>7.0</td>\n",
       "      <td>1</td>\n",
       "      <td>COSMETIC</td>\n",
       "      <td>MULTI_BUYER</td>\n",
       "      <td>0</td>\n",
       "      <td>1</td>\n",
       "      <td>4</td>\n",
       "    </tr>\n",
       "    <tr>\n",
       "      <th>4</th>\n",
       "      <td>143874</td>\n",
       "      <td>-1</td>\n",
       "      <td>1.0</td>\n",
       "      <td>20.0</td>\n",
       "      <td>NaN</td>\n",
       "      <td>NaN</td>\n",
       "      <td>NaN</td>\n",
       "      <td>NaN</td>\n",
       "      <td>14.0</td>\n",
       "      <td>7.0</td>\n",
       "      <td>...</td>\n",
       "      <td>4.0</td>\n",
       "      <td>2.0</td>\n",
       "      <td>9.0</td>\n",
       "      <td>3.0</td>\n",
       "      <td>1</td>\n",
       "      <td>FOOD</td>\n",
       "      <td>MULTI_BUYER</td>\n",
       "      <td>0</td>\n",
       "      <td>1</td>\n",
       "      <td>3</td>\n",
       "    </tr>\n",
       "  </tbody>\n",
       "</table>\n",
       "<p>5 rows × 369 columns</p>\n",
       "</div>"
      ],
      "text/plain": [
       "      LNR  AGER_TYP  AKT_DAT_KL  ALTER_HH  ALTER_KIND1  ALTER_KIND2  \\\n",
       "0    9626         2         1.0      10.0          NaN          NaN   \n",
       "1    9628        -1         9.0      11.0          NaN          NaN   \n",
       "2  143872        -1         1.0       6.0          NaN          NaN   \n",
       "3  143873         1         1.0       8.0          NaN          NaN   \n",
       "4  143874        -1         1.0      20.0          NaN          NaN   \n",
       "\n",
       "   ALTER_KIND3  ALTER_KIND4  ALTERSKATEGORIE_FEIN  ANZ_HAUSHALTE_AKTIV  \\\n",
       "0          NaN          NaN                  10.0                  1.0   \n",
       "1          NaN          NaN                   NaN                  NaN   \n",
       "2          NaN          NaN                   0.0                  1.0   \n",
       "3          NaN          NaN                   8.0                  0.0   \n",
       "4          NaN          NaN                  14.0                  7.0   \n",
       "\n",
       "          ...           VK_ZG11  W_KEIT_KIND_HH  WOHNDAUER_2008  WOHNLAGE  \\\n",
       "0         ...               2.0             6.0             9.0       7.0   \n",
       "1         ...               3.0             0.0             9.0       NaN   \n",
       "2         ...              11.0             6.0             9.0       2.0   \n",
       "3         ...               2.0             NaN             9.0       7.0   \n",
       "4         ...               4.0             2.0             9.0       3.0   \n",
       "\n",
       "   ZABEOTYP      PRODUCT_GROUP  CUSTOMER_GROUP ONLINE_PURCHASE ANREDE_KZ  \\\n",
       "0         3  COSMETIC_AND_FOOD     MULTI_BUYER               0         1   \n",
       "1         3               FOOD    SINGLE_BUYER               0         1   \n",
       "2         3  COSMETIC_AND_FOOD     MULTI_BUYER               0         2   \n",
       "3         1           COSMETIC     MULTI_BUYER               0         1   \n",
       "4         1               FOOD     MULTI_BUYER               0         1   \n",
       "\n",
       "  ALTERSKATEGORIE_GROB  \n",
       "0                    4  \n",
       "1                    4  \n",
       "2                    4  \n",
       "3                    4  \n",
       "4                    3  \n",
       "\n",
       "[5 rows x 369 columns]"
      ]
     },
     "execution_count": 161,
     "metadata": {},
     "output_type": "execute_result"
    }
   ],
   "source": [
    "customers.head()"
   ]
  },
  {
   "cell_type": "markdown",
   "metadata": {},
   "source": [
    "When I looked at the 2 data sets, the first thing that caught my attention was that there was a lot of missing data."
   ]
  },
  {
   "cell_type": "code",
   "execution_count": 162,
   "metadata": {},
   "outputs": [
    {
     "data": {
      "text/html": [
       "<div>\n",
       "<style scoped>\n",
       "    .dataframe tbody tr th:only-of-type {\n",
       "        vertical-align: middle;\n",
       "    }\n",
       "\n",
       "    .dataframe tbody tr th {\n",
       "        vertical-align: top;\n",
       "    }\n",
       "\n",
       "    .dataframe thead th {\n",
       "        text-align: right;\n",
       "    }\n",
       "</style>\n",
       "<table border=\"1\" class=\"dataframe\">\n",
       "  <thead>\n",
       "    <tr style=\"text-align: right;\">\n",
       "      <th></th>\n",
       "      <th>LNR</th>\n",
       "      <th>AGER_TYP</th>\n",
       "      <th>AKT_DAT_KL</th>\n",
       "      <th>ALTER_HH</th>\n",
       "      <th>ALTER_KIND1</th>\n",
       "      <th>ALTER_KIND2</th>\n",
       "      <th>ALTER_KIND3</th>\n",
       "      <th>ALTER_KIND4</th>\n",
       "      <th>ALTERSKATEGORIE_FEIN</th>\n",
       "      <th>ANZ_HAUSHALTE_AKTIV</th>\n",
       "      <th>...</th>\n",
       "      <th>VHN</th>\n",
       "      <th>VK_DHT4A</th>\n",
       "      <th>VK_DISTANZ</th>\n",
       "      <th>VK_ZG11</th>\n",
       "      <th>W_KEIT_KIND_HH</th>\n",
       "      <th>WOHNDAUER_2008</th>\n",
       "      <th>WOHNLAGE</th>\n",
       "      <th>ZABEOTYP</th>\n",
       "      <th>ANREDE_KZ</th>\n",
       "      <th>ALTERSKATEGORIE_GROB</th>\n",
       "    </tr>\n",
       "  </thead>\n",
       "  <tbody>\n",
       "    <tr>\n",
       "      <th>count</th>\n",
       "      <td>1.000000e+04</td>\n",
       "      <td>10000.000000</td>\n",
       "      <td>9003.000000</td>\n",
       "      <td>9003.000000</td>\n",
       "      <td>875.000000</td>\n",
       "      <td>291.000000</td>\n",
       "      <td>75.00000</td>\n",
       "      <td>9.000000</td>\n",
       "      <td>6894.000000</td>\n",
       "      <td>8778.000000</td>\n",
       "      <td>...</td>\n",
       "      <td>8438.000000</td>\n",
       "      <td>8977.000000</td>\n",
       "      <td>8977.000000</td>\n",
       "      <td>8977.000000</td>\n",
       "      <td>8606.000000</td>\n",
       "      <td>9003.000000</td>\n",
       "      <td>8778.000000</td>\n",
       "      <td>10000.00000</td>\n",
       "      <td>10000.000000</td>\n",
       "      <td>10000.000000</td>\n",
       "    </tr>\n",
       "    <tr>\n",
       "      <th>mean</th>\n",
       "      <td>6.266046e+05</td>\n",
       "      <td>-0.367900</td>\n",
       "      <td>4.429635</td>\n",
       "      <td>10.835944</td>\n",
       "      <td>11.737143</td>\n",
       "      <td>13.542955</td>\n",
       "      <td>14.32000</td>\n",
       "      <td>12.444444</td>\n",
       "      <td>13.756455</td>\n",
       "      <td>8.194805</td>\n",
       "      <td>...</td>\n",
       "      <td>2.410287</td>\n",
       "      <td>5.990531</td>\n",
       "      <td>7.527682</td>\n",
       "      <td>5.951097</td>\n",
       "      <td>3.908436</td>\n",
       "      <td>7.816506</td>\n",
       "      <td>4.053771</td>\n",
       "      <td>3.36970</td>\n",
       "      <td>1.531400</td>\n",
       "      <td>2.757700</td>\n",
       "    </tr>\n",
       "    <tr>\n",
       "      <th>std</th>\n",
       "      <td>2.531945e+05</td>\n",
       "      <td>1.200622</td>\n",
       "      <td>3.633788</td>\n",
       "      <td>7.647133</td>\n",
       "      <td>4.239342</td>\n",
       "      <td>3.376497</td>\n",
       "      <td>2.88594</td>\n",
       "      <td>2.788867</td>\n",
       "      <td>5.056536</td>\n",
       "      <td>15.052681</td>\n",
       "      <td>...</td>\n",
       "      <td>1.187305</td>\n",
       "      <td>2.856689</td>\n",
       "      <td>3.253193</td>\n",
       "      <td>2.774372</td>\n",
       "      <td>1.978145</td>\n",
       "      <td>1.981218</td>\n",
       "      <td>1.935635</td>\n",
       "      <td>1.33154</td>\n",
       "      <td>0.499038</td>\n",
       "      <td>1.068506</td>\n",
       "    </tr>\n",
       "    <tr>\n",
       "      <th>min</th>\n",
       "      <td>1.994870e+05</td>\n",
       "      <td>-1.000000</td>\n",
       "      <td>1.000000</td>\n",
       "      <td>0.000000</td>\n",
       "      <td>2.000000</td>\n",
       "      <td>5.000000</td>\n",
       "      <td>7.00000</td>\n",
       "      <td>9.000000</td>\n",
       "      <td>0.000000</td>\n",
       "      <td>0.000000</td>\n",
       "      <td>...</td>\n",
       "      <td>0.000000</td>\n",
       "      <td>1.000000</td>\n",
       "      <td>1.000000</td>\n",
       "      <td>1.000000</td>\n",
       "      <td>0.000000</td>\n",
       "      <td>1.000000</td>\n",
       "      <td>0.000000</td>\n",
       "      <td>1.00000</td>\n",
       "      <td>1.000000</td>\n",
       "      <td>1.000000</td>\n",
       "    </tr>\n",
       "    <tr>\n",
       "      <th>25%</th>\n",
       "      <td>4.039395e+05</td>\n",
       "      <td>-1.000000</td>\n",
       "      <td>1.000000</td>\n",
       "      <td>0.000000</td>\n",
       "      <td>8.000000</td>\n",
       "      <td>11.000000</td>\n",
       "      <td>12.00000</td>\n",
       "      <td>10.000000</td>\n",
       "      <td>11.000000</td>\n",
       "      <td>2.000000</td>\n",
       "      <td>...</td>\n",
       "      <td>2.000000</td>\n",
       "      <td>3.000000</td>\n",
       "      <td>6.000000</td>\n",
       "      <td>4.000000</td>\n",
       "      <td>2.000000</td>\n",
       "      <td>8.000000</td>\n",
       "      <td>3.000000</td>\n",
       "      <td>3.00000</td>\n",
       "      <td>1.000000</td>\n",
       "      <td>2.000000</td>\n",
       "    </tr>\n",
       "    <tr>\n",
       "      <th>50%</th>\n",
       "      <td>6.167425e+05</td>\n",
       "      <td>-1.000000</td>\n",
       "      <td>3.000000</td>\n",
       "      <td>13.000000</td>\n",
       "      <td>12.000000</td>\n",
       "      <td>14.000000</td>\n",
       "      <td>15.00000</td>\n",
       "      <td>13.000000</td>\n",
       "      <td>14.000000</td>\n",
       "      <td>4.000000</td>\n",
       "      <td>...</td>\n",
       "      <td>2.000000</td>\n",
       "      <td>6.000000</td>\n",
       "      <td>8.000000</td>\n",
       "      <td>6.000000</td>\n",
       "      <td>4.000000</td>\n",
       "      <td>9.000000</td>\n",
       "      <td>3.000000</td>\n",
       "      <td>3.00000</td>\n",
       "      <td>2.000000</td>\n",
       "      <td>3.000000</td>\n",
       "    </tr>\n",
       "    <tr>\n",
       "      <th>75%</th>\n",
       "      <td>8.462482e+05</td>\n",
       "      <td>-1.000000</td>\n",
       "      <td>9.000000</td>\n",
       "      <td>17.000000</td>\n",
       "      <td>15.000000</td>\n",
       "      <td>17.000000</td>\n",
       "      <td>17.00000</td>\n",
       "      <td>14.000000</td>\n",
       "      <td>17.000000</td>\n",
       "      <td>10.000000</td>\n",
       "      <td>...</td>\n",
       "      <td>3.000000</td>\n",
       "      <td>9.000000</td>\n",
       "      <td>10.000000</td>\n",
       "      <td>8.000000</td>\n",
       "      <td>6.000000</td>\n",
       "      <td>9.000000</td>\n",
       "      <td>5.000000</td>\n",
       "      <td>4.00000</td>\n",
       "      <td>2.000000</td>\n",
       "      <td>3.000000</td>\n",
       "    </tr>\n",
       "    <tr>\n",
       "      <th>max</th>\n",
       "      <td>1.081507e+06</td>\n",
       "      <td>3.000000</td>\n",
       "      <td>9.000000</td>\n",
       "      <td>21.000000</td>\n",
       "      <td>18.000000</td>\n",
       "      <td>18.000000</td>\n",
       "      <td>18.00000</td>\n",
       "      <td>16.000000</td>\n",
       "      <td>25.000000</td>\n",
       "      <td>272.000000</td>\n",
       "      <td>...</td>\n",
       "      <td>4.000000</td>\n",
       "      <td>11.000000</td>\n",
       "      <td>13.000000</td>\n",
       "      <td>11.000000</td>\n",
       "      <td>6.000000</td>\n",
       "      <td>9.000000</td>\n",
       "      <td>8.000000</td>\n",
       "      <td>6.00000</td>\n",
       "      <td>2.000000</td>\n",
       "      <td>9.000000</td>\n",
       "    </tr>\n",
       "  </tbody>\n",
       "</table>\n",
       "<p>8 rows × 360 columns</p>\n",
       "</div>"
      ],
      "text/plain": [
       "                LNR      AGER_TYP   AKT_DAT_KL     ALTER_HH  ALTER_KIND1  \\\n",
       "count  1.000000e+04  10000.000000  9003.000000  9003.000000   875.000000   \n",
       "mean   6.266046e+05     -0.367900     4.429635    10.835944    11.737143   \n",
       "std    2.531945e+05      1.200622     3.633788     7.647133     4.239342   \n",
       "min    1.994870e+05     -1.000000     1.000000     0.000000     2.000000   \n",
       "25%    4.039395e+05     -1.000000     1.000000     0.000000     8.000000   \n",
       "50%    6.167425e+05     -1.000000     3.000000    13.000000    12.000000   \n",
       "75%    8.462482e+05     -1.000000     9.000000    17.000000    15.000000   \n",
       "max    1.081507e+06      3.000000     9.000000    21.000000    18.000000   \n",
       "\n",
       "       ALTER_KIND2  ALTER_KIND3  ALTER_KIND4  ALTERSKATEGORIE_FEIN  \\\n",
       "count   291.000000     75.00000     9.000000           6894.000000   \n",
       "mean     13.542955     14.32000    12.444444             13.756455   \n",
       "std       3.376497      2.88594     2.788867              5.056536   \n",
       "min       5.000000      7.00000     9.000000              0.000000   \n",
       "25%      11.000000     12.00000    10.000000             11.000000   \n",
       "50%      14.000000     15.00000    13.000000             14.000000   \n",
       "75%      17.000000     17.00000    14.000000             17.000000   \n",
       "max      18.000000     18.00000    16.000000             25.000000   \n",
       "\n",
       "       ANZ_HAUSHALTE_AKTIV          ...                   VHN     VK_DHT4A  \\\n",
       "count          8778.000000          ...           8438.000000  8977.000000   \n",
       "mean              8.194805          ...              2.410287     5.990531   \n",
       "std              15.052681          ...              1.187305     2.856689   \n",
       "min               0.000000          ...              0.000000     1.000000   \n",
       "25%               2.000000          ...              2.000000     3.000000   \n",
       "50%               4.000000          ...              2.000000     6.000000   \n",
       "75%              10.000000          ...              3.000000     9.000000   \n",
       "max             272.000000          ...              4.000000    11.000000   \n",
       "\n",
       "        VK_DISTANZ      VK_ZG11  W_KEIT_KIND_HH  WOHNDAUER_2008     WOHNLAGE  \\\n",
       "count  8977.000000  8977.000000     8606.000000     9003.000000  8778.000000   \n",
       "mean      7.527682     5.951097        3.908436        7.816506     4.053771   \n",
       "std       3.253193     2.774372        1.978145        1.981218     1.935635   \n",
       "min       1.000000     1.000000        0.000000        1.000000     0.000000   \n",
       "25%       6.000000     4.000000        2.000000        8.000000     3.000000   \n",
       "50%       8.000000     6.000000        4.000000        9.000000     3.000000   \n",
       "75%      10.000000     8.000000        6.000000        9.000000     5.000000   \n",
       "max      13.000000    11.000000        6.000000        9.000000     8.000000   \n",
       "\n",
       "          ZABEOTYP     ANREDE_KZ  ALTERSKATEGORIE_GROB  \n",
       "count  10000.00000  10000.000000          10000.000000  \n",
       "mean       3.36970      1.531400              2.757700  \n",
       "std        1.33154      0.499038              1.068506  \n",
       "min        1.00000      1.000000              1.000000  \n",
       "25%        3.00000      1.000000              2.000000  \n",
       "50%        3.00000      2.000000              3.000000  \n",
       "75%        4.00000      2.000000              3.000000  \n",
       "max        6.00000      2.000000              9.000000  \n",
       "\n",
       "[8 rows x 360 columns]"
      ]
     },
     "execution_count": 162,
     "metadata": {},
     "output_type": "execute_result"
    }
   ],
   "source": [
    "azdias.describe()"
   ]
  },
  {
   "cell_type": "code",
   "execution_count": 163,
   "metadata": {},
   "outputs": [
    {
     "data": {
      "text/html": [
       "<div>\n",
       "<style scoped>\n",
       "    .dataframe tbody tr th:only-of-type {\n",
       "        vertical-align: middle;\n",
       "    }\n",
       "\n",
       "    .dataframe tbody tr th {\n",
       "        vertical-align: top;\n",
       "    }\n",
       "\n",
       "    .dataframe thead th {\n",
       "        text-align: right;\n",
       "    }\n",
       "</style>\n",
       "<table border=\"1\" class=\"dataframe\">\n",
       "  <thead>\n",
       "    <tr style=\"text-align: right;\">\n",
       "      <th></th>\n",
       "      <th>LNR</th>\n",
       "      <th>AGER_TYP</th>\n",
       "      <th>AKT_DAT_KL</th>\n",
       "      <th>ALTER_HH</th>\n",
       "      <th>ALTER_KIND1</th>\n",
       "      <th>ALTER_KIND2</th>\n",
       "      <th>ALTER_KIND3</th>\n",
       "      <th>ALTER_KIND4</th>\n",
       "      <th>ALTERSKATEGORIE_FEIN</th>\n",
       "      <th>ANZ_HAUSHALTE_AKTIV</th>\n",
       "      <th>...</th>\n",
       "      <th>VK_DHT4A</th>\n",
       "      <th>VK_DISTANZ</th>\n",
       "      <th>VK_ZG11</th>\n",
       "      <th>W_KEIT_KIND_HH</th>\n",
       "      <th>WOHNDAUER_2008</th>\n",
       "      <th>WOHNLAGE</th>\n",
       "      <th>ZABEOTYP</th>\n",
       "      <th>ONLINE_PURCHASE</th>\n",
       "      <th>ANREDE_KZ</th>\n",
       "      <th>ALTERSKATEGORIE_GROB</th>\n",
       "    </tr>\n",
       "  </thead>\n",
       "  <tbody>\n",
       "    <tr>\n",
       "      <th>count</th>\n",
       "      <td>10000.000000</td>\n",
       "      <td>10000.000000</td>\n",
       "      <td>7438.000000</td>\n",
       "      <td>7438.000000</td>\n",
       "      <td>675.000000</td>\n",
       "      <td>288.000000</td>\n",
       "      <td>88.000000</td>\n",
       "      <td>15.000000</td>\n",
       "      <td>7133.000000</td>\n",
       "      <td>7288.000000</td>\n",
       "      <td>...</td>\n",
       "      <td>7390.000000</td>\n",
       "      <td>7390.000000</td>\n",
       "      <td>7390.000000</td>\n",
       "      <td>7073.000000</td>\n",
       "      <td>7438.000000</td>\n",
       "      <td>7288.000000</td>\n",
       "      <td>10000.000000</td>\n",
       "      <td>10000.000000</td>\n",
       "      <td>10000.000000</td>\n",
       "      <td>10000.000000</td>\n",
       "    </tr>\n",
       "    <tr>\n",
       "      <th>mean</th>\n",
       "      <td>99845.566900</td>\n",
       "      <td>0.297000</td>\n",
       "      <td>1.784888</td>\n",
       "      <td>11.420274</td>\n",
       "      <td>12.282963</td>\n",
       "      <td>13.576389</td>\n",
       "      <td>14.409091</td>\n",
       "      <td>15.266667</td>\n",
       "      <td>10.409225</td>\n",
       "      <td>5.259330</td>\n",
       "      <td>...</td>\n",
       "      <td>4.400271</td>\n",
       "      <td>4.603518</td>\n",
       "      <td>3.212179</td>\n",
       "      <td>4.122296</td>\n",
       "      <td>8.618984</td>\n",
       "      <td>3.712953</td>\n",
       "      <td>2.589900</td>\n",
       "      <td>0.090000</td>\n",
       "      <td>1.386400</td>\n",
       "      <td>3.035200</td>\n",
       "    </tr>\n",
       "    <tr>\n",
       "      <th>std</th>\n",
       "      <td>54833.394019</td>\n",
       "      <td>1.387294</td>\n",
       "      <td>2.011926</td>\n",
       "      <td>6.300744</td>\n",
       "      <td>3.879673</td>\n",
       "      <td>3.149205</td>\n",
       "      <td>2.748610</td>\n",
       "      <td>2.520393</td>\n",
       "      <td>4.158162</td>\n",
       "      <td>16.437146</td>\n",
       "      <td>...</td>\n",
       "      <td>2.924132</td>\n",
       "      <td>2.878707</td>\n",
       "      <td>2.249112</td>\n",
       "      <td>1.990191</td>\n",
       "      <td>1.173081</td>\n",
       "      <td>2.086884</td>\n",
       "      <td>1.161057</td>\n",
       "      <td>0.286196</td>\n",
       "      <td>0.486948</td>\n",
       "      <td>1.089807</td>\n",
       "    </tr>\n",
       "    <tr>\n",
       "      <th>min</th>\n",
       "      <td>1112.000000</td>\n",
       "      <td>-1.000000</td>\n",
       "      <td>1.000000</td>\n",
       "      <td>0.000000</td>\n",
       "      <td>2.000000</td>\n",
       "      <td>5.000000</td>\n",
       "      <td>7.000000</td>\n",
       "      <td>11.000000</td>\n",
       "      <td>0.000000</td>\n",
       "      <td>0.000000</td>\n",
       "      <td>...</td>\n",
       "      <td>1.000000</td>\n",
       "      <td>1.000000</td>\n",
       "      <td>1.000000</td>\n",
       "      <td>0.000000</td>\n",
       "      <td>1.000000</td>\n",
       "      <td>0.000000</td>\n",
       "      <td>1.000000</td>\n",
       "      <td>0.000000</td>\n",
       "      <td>1.000000</td>\n",
       "      <td>1.000000</td>\n",
       "    </tr>\n",
       "    <tr>\n",
       "      <th>25%</th>\n",
       "      <td>48567.750000</td>\n",
       "      <td>-1.000000</td>\n",
       "      <td>1.000000</td>\n",
       "      <td>8.000000</td>\n",
       "      <td>9.000000</td>\n",
       "      <td>11.000000</td>\n",
       "      <td>12.750000</td>\n",
       "      <td>13.000000</td>\n",
       "      <td>9.000000</td>\n",
       "      <td>1.000000</td>\n",
       "      <td>...</td>\n",
       "      <td>2.000000</td>\n",
       "      <td>2.000000</td>\n",
       "      <td>2.000000</td>\n",
       "      <td>2.000000</td>\n",
       "      <td>9.000000</td>\n",
       "      <td>2.000000</td>\n",
       "      <td>1.000000</td>\n",
       "      <td>0.000000</td>\n",
       "      <td>1.000000</td>\n",
       "      <td>2.000000</td>\n",
       "    </tr>\n",
       "    <tr>\n",
       "      <th>50%</th>\n",
       "      <td>102372.000000</td>\n",
       "      <td>0.000000</td>\n",
       "      <td>1.000000</td>\n",
       "      <td>11.000000</td>\n",
       "      <td>13.000000</td>\n",
       "      <td>14.000000</td>\n",
       "      <td>14.500000</td>\n",
       "      <td>16.000000</td>\n",
       "      <td>10.000000</td>\n",
       "      <td>1.000000</td>\n",
       "      <td>...</td>\n",
       "      <td>4.000000</td>\n",
       "      <td>4.000000</td>\n",
       "      <td>3.000000</td>\n",
       "      <td>5.000000</td>\n",
       "      <td>9.000000</td>\n",
       "      <td>3.000000</td>\n",
       "      <td>3.000000</td>\n",
       "      <td>0.000000</td>\n",
       "      <td>1.000000</td>\n",
       "      <td>3.000000</td>\n",
       "    </tr>\n",
       "    <tr>\n",
       "      <th>75%</th>\n",
       "      <td>157711.250000</td>\n",
       "      <td>2.000000</td>\n",
       "      <td>1.000000</td>\n",
       "      <td>17.000000</td>\n",
       "      <td>15.000000</td>\n",
       "      <td>16.000000</td>\n",
       "      <td>17.000000</td>\n",
       "      <td>17.500000</td>\n",
       "      <td>13.000000</td>\n",
       "      <td>4.000000</td>\n",
       "      <td>...</td>\n",
       "      <td>7.000000</td>\n",
       "      <td>7.000000</td>\n",
       "      <td>4.000000</td>\n",
       "      <td>6.000000</td>\n",
       "      <td>9.000000</td>\n",
       "      <td>5.000000</td>\n",
       "      <td>3.000000</td>\n",
       "      <td>0.000000</td>\n",
       "      <td>2.000000</td>\n",
       "      <td>4.000000</td>\n",
       "    </tr>\n",
       "    <tr>\n",
       "      <th>max</th>\n",
       "      <td>191652.000000</td>\n",
       "      <td>3.000000</td>\n",
       "      <td>9.000000</td>\n",
       "      <td>21.000000</td>\n",
       "      <td>18.000000</td>\n",
       "      <td>18.000000</td>\n",
       "      <td>18.000000</td>\n",
       "      <td>18.000000</td>\n",
       "      <td>25.000000</td>\n",
       "      <td>523.000000</td>\n",
       "      <td>...</td>\n",
       "      <td>10.000000</td>\n",
       "      <td>13.000000</td>\n",
       "      <td>11.000000</td>\n",
       "      <td>6.000000</td>\n",
       "      <td>9.000000</td>\n",
       "      <td>8.000000</td>\n",
       "      <td>6.000000</td>\n",
       "      <td>1.000000</td>\n",
       "      <td>2.000000</td>\n",
       "      <td>9.000000</td>\n",
       "    </tr>\n",
       "  </tbody>\n",
       "</table>\n",
       "<p>8 rows × 361 columns</p>\n",
       "</div>"
      ],
      "text/plain": [
       "                 LNR      AGER_TYP   AKT_DAT_KL     ALTER_HH  ALTER_KIND1  \\\n",
       "count   10000.000000  10000.000000  7438.000000  7438.000000   675.000000   \n",
       "mean    99845.566900      0.297000     1.784888    11.420274    12.282963   \n",
       "std     54833.394019      1.387294     2.011926     6.300744     3.879673   \n",
       "min      1112.000000     -1.000000     1.000000     0.000000     2.000000   \n",
       "25%     48567.750000     -1.000000     1.000000     8.000000     9.000000   \n",
       "50%    102372.000000      0.000000     1.000000    11.000000    13.000000   \n",
       "75%    157711.250000      2.000000     1.000000    17.000000    15.000000   \n",
       "max    191652.000000      3.000000     9.000000    21.000000    18.000000   \n",
       "\n",
       "       ALTER_KIND2  ALTER_KIND3  ALTER_KIND4  ALTERSKATEGORIE_FEIN  \\\n",
       "count   288.000000    88.000000    15.000000           7133.000000   \n",
       "mean     13.576389    14.409091    15.266667             10.409225   \n",
       "std       3.149205     2.748610     2.520393              4.158162   \n",
       "min       5.000000     7.000000    11.000000              0.000000   \n",
       "25%      11.000000    12.750000    13.000000              9.000000   \n",
       "50%      14.000000    14.500000    16.000000             10.000000   \n",
       "75%      16.000000    17.000000    17.500000             13.000000   \n",
       "max      18.000000    18.000000    18.000000             25.000000   \n",
       "\n",
       "       ANZ_HAUSHALTE_AKTIV          ...              VK_DHT4A   VK_DISTANZ  \\\n",
       "count          7288.000000          ...           7390.000000  7390.000000   \n",
       "mean              5.259330          ...              4.400271     4.603518   \n",
       "std              16.437146          ...              2.924132     2.878707   \n",
       "min               0.000000          ...              1.000000     1.000000   \n",
       "25%               1.000000          ...              2.000000     2.000000   \n",
       "50%               1.000000          ...              4.000000     4.000000   \n",
       "75%               4.000000          ...              7.000000     7.000000   \n",
       "max             523.000000          ...             10.000000    13.000000   \n",
       "\n",
       "           VK_ZG11  W_KEIT_KIND_HH  WOHNDAUER_2008     WOHNLAGE      ZABEOTYP  \\\n",
       "count  7390.000000     7073.000000     7438.000000  7288.000000  10000.000000   \n",
       "mean      3.212179        4.122296        8.618984     3.712953      2.589900   \n",
       "std       2.249112        1.990191        1.173081     2.086884      1.161057   \n",
       "min       1.000000        0.000000        1.000000     0.000000      1.000000   \n",
       "25%       2.000000        2.000000        9.000000     2.000000      1.000000   \n",
       "50%       3.000000        5.000000        9.000000     3.000000      3.000000   \n",
       "75%       4.000000        6.000000        9.000000     5.000000      3.000000   \n",
       "max      11.000000        6.000000        9.000000     8.000000      6.000000   \n",
       "\n",
       "       ONLINE_PURCHASE     ANREDE_KZ  ALTERSKATEGORIE_GROB  \n",
       "count     10000.000000  10000.000000          10000.000000  \n",
       "mean          0.090000      1.386400              3.035200  \n",
       "std           0.286196      0.486948              1.089807  \n",
       "min           0.000000      1.000000              1.000000  \n",
       "25%           0.000000      1.000000              2.000000  \n",
       "50%           0.000000      1.000000              3.000000  \n",
       "75%           0.000000      2.000000              4.000000  \n",
       "max           1.000000      2.000000              9.000000  \n",
       "\n",
       "[8 rows x 361 columns]"
      ]
     },
     "execution_count": 163,
     "metadata": {},
     "output_type": "execute_result"
    }
   ],
   "source": [
    "customers.describe()"
   ]
  },
  {
   "cell_type": "code",
   "execution_count": 164,
   "metadata": {},
   "outputs": [
    {
     "data": {
      "text/html": [
       "<div>\n",
       "<style scoped>\n",
       "    .dataframe tbody tr th:only-of-type {\n",
       "        vertical-align: middle;\n",
       "    }\n",
       "\n",
       "    .dataframe tbody tr th {\n",
       "        vertical-align: top;\n",
       "    }\n",
       "\n",
       "    .dataframe thead th {\n",
       "        text-align: right;\n",
       "    }\n",
       "</style>\n",
       "<table border=\"1\" class=\"dataframe\">\n",
       "  <thead>\n",
       "    <tr style=\"text-align: right;\">\n",
       "      <th></th>\n",
       "      <th>CAMEO_DEU_2015</th>\n",
       "      <th>CAMEO_DEUG_2015</th>\n",
       "      <th>CAMEO_INTL_2015</th>\n",
       "      <th>D19_LETZTER_KAUF_BRANCHE</th>\n",
       "      <th>EINGEFUEGT_AM</th>\n",
       "      <th>OST_WEST_KZ</th>\n",
       "    </tr>\n",
       "  </thead>\n",
       "  <tbody>\n",
       "    <tr>\n",
       "      <th>0</th>\n",
       "      <td>NaN</td>\n",
       "      <td>NaN</td>\n",
       "      <td>NaN</td>\n",
       "      <td>NaN</td>\n",
       "      <td>NaN</td>\n",
       "      <td>NaN</td>\n",
       "    </tr>\n",
       "    <tr>\n",
       "      <th>1</th>\n",
       "      <td>8A</td>\n",
       "      <td>8</td>\n",
       "      <td>51</td>\n",
       "      <td>NaN</td>\n",
       "      <td>1992-02-10 00:00:00</td>\n",
       "      <td>W</td>\n",
       "    </tr>\n",
       "    <tr>\n",
       "      <th>2</th>\n",
       "      <td>4C</td>\n",
       "      <td>4</td>\n",
       "      <td>24</td>\n",
       "      <td>D19_UNBEKANNT</td>\n",
       "      <td>1992-02-12 00:00:00</td>\n",
       "      <td>W</td>\n",
       "    </tr>\n",
       "    <tr>\n",
       "      <th>3</th>\n",
       "      <td>2A</td>\n",
       "      <td>2</td>\n",
       "      <td>12</td>\n",
       "      <td>D19_UNBEKANNT</td>\n",
       "      <td>1997-04-21 00:00:00</td>\n",
       "      <td>W</td>\n",
       "    </tr>\n",
       "    <tr>\n",
       "      <th>4</th>\n",
       "      <td>6B</td>\n",
       "      <td>6</td>\n",
       "      <td>43</td>\n",
       "      <td>D19_SCHUHE</td>\n",
       "      <td>1992-02-12 00:00:00</td>\n",
       "      <td>W</td>\n",
       "    </tr>\n",
       "  </tbody>\n",
       "</table>\n",
       "</div>"
      ],
      "text/plain": [
       "  CAMEO_DEU_2015 CAMEO_DEUG_2015 CAMEO_INTL_2015 D19_LETZTER_KAUF_BRANCHE  \\\n",
       "0            NaN             NaN             NaN                      NaN   \n",
       "1             8A               8              51                      NaN   \n",
       "2             4C               4              24            D19_UNBEKANNT   \n",
       "3             2A               2              12            D19_UNBEKANNT   \n",
       "4             6B               6              43               D19_SCHUHE   \n",
       "\n",
       "         EINGEFUEGT_AM OST_WEST_KZ  \n",
       "0                  NaN         NaN  \n",
       "1  1992-02-10 00:00:00           W  \n",
       "2  1992-02-12 00:00:00           W  \n",
       "3  1997-04-21 00:00:00           W  \n",
       "4  1992-02-12 00:00:00           W  "
      ]
     },
     "execution_count": 164,
     "metadata": {},
     "output_type": "execute_result"
    }
   ],
   "source": [
    "azdias.select_dtypes('object').head()"
   ]
  },
  {
   "cell_type": "code",
   "execution_count": 165,
   "metadata": {},
   "outputs": [
    {
     "data": {
      "text/html": [
       "<div>\n",
       "<style scoped>\n",
       "    .dataframe tbody tr th:only-of-type {\n",
       "        vertical-align: middle;\n",
       "    }\n",
       "\n",
       "    .dataframe tbody tr th {\n",
       "        vertical-align: top;\n",
       "    }\n",
       "\n",
       "    .dataframe thead th {\n",
       "        text-align: right;\n",
       "    }\n",
       "</style>\n",
       "<table border=\"1\" class=\"dataframe\">\n",
       "  <thead>\n",
       "    <tr style=\"text-align: right;\">\n",
       "      <th></th>\n",
       "      <th>CAMEO_DEU_2015</th>\n",
       "      <th>CAMEO_DEUG_2015</th>\n",
       "      <th>CAMEO_INTL_2015</th>\n",
       "      <th>D19_LETZTER_KAUF_BRANCHE</th>\n",
       "      <th>EINGEFUEGT_AM</th>\n",
       "      <th>OST_WEST_KZ</th>\n",
       "      <th>PRODUCT_GROUP</th>\n",
       "      <th>CUSTOMER_GROUP</th>\n",
       "    </tr>\n",
       "  </thead>\n",
       "  <tbody>\n",
       "    <tr>\n",
       "      <th>0</th>\n",
       "      <td>1A</td>\n",
       "      <td>1</td>\n",
       "      <td>13</td>\n",
       "      <td>D19_UNBEKANNT</td>\n",
       "      <td>1992-02-12 00:00:00</td>\n",
       "      <td>W</td>\n",
       "      <td>COSMETIC_AND_FOOD</td>\n",
       "      <td>MULTI_BUYER</td>\n",
       "    </tr>\n",
       "    <tr>\n",
       "      <th>1</th>\n",
       "      <td>NaN</td>\n",
       "      <td>NaN</td>\n",
       "      <td>NaN</td>\n",
       "      <td>D19_BANKEN_GROSS</td>\n",
       "      <td>NaN</td>\n",
       "      <td>NaN</td>\n",
       "      <td>FOOD</td>\n",
       "      <td>SINGLE_BUYER</td>\n",
       "    </tr>\n",
       "    <tr>\n",
       "      <th>2</th>\n",
       "      <td>5D</td>\n",
       "      <td>5</td>\n",
       "      <td>34</td>\n",
       "      <td>D19_UNBEKANNT</td>\n",
       "      <td>1992-02-10 00:00:00</td>\n",
       "      <td>W</td>\n",
       "      <td>COSMETIC_AND_FOOD</td>\n",
       "      <td>MULTI_BUYER</td>\n",
       "    </tr>\n",
       "    <tr>\n",
       "      <th>3</th>\n",
       "      <td>4C</td>\n",
       "      <td>4</td>\n",
       "      <td>24</td>\n",
       "      <td>D19_NAHRUNGSERGAENZUNG</td>\n",
       "      <td>1992-02-10 00:00:00</td>\n",
       "      <td>W</td>\n",
       "      <td>COSMETIC</td>\n",
       "      <td>MULTI_BUYER</td>\n",
       "    </tr>\n",
       "    <tr>\n",
       "      <th>4</th>\n",
       "      <td>7B</td>\n",
       "      <td>7</td>\n",
       "      <td>41</td>\n",
       "      <td>D19_SCHUHE</td>\n",
       "      <td>1992-02-12 00:00:00</td>\n",
       "      <td>W</td>\n",
       "      <td>FOOD</td>\n",
       "      <td>MULTI_BUYER</td>\n",
       "    </tr>\n",
       "  </tbody>\n",
       "</table>\n",
       "</div>"
      ],
      "text/plain": [
       "  CAMEO_DEU_2015 CAMEO_DEUG_2015 CAMEO_INTL_2015 D19_LETZTER_KAUF_BRANCHE  \\\n",
       "0             1A               1              13            D19_UNBEKANNT   \n",
       "1            NaN             NaN             NaN         D19_BANKEN_GROSS   \n",
       "2             5D               5              34            D19_UNBEKANNT   \n",
       "3             4C               4              24   D19_NAHRUNGSERGAENZUNG   \n",
       "4             7B               7              41               D19_SCHUHE   \n",
       "\n",
       "         EINGEFUEGT_AM OST_WEST_KZ      PRODUCT_GROUP CUSTOMER_GROUP  \n",
       "0  1992-02-12 00:00:00           W  COSMETIC_AND_FOOD    MULTI_BUYER  \n",
       "1                  NaN         NaN               FOOD   SINGLE_BUYER  \n",
       "2  1992-02-10 00:00:00           W  COSMETIC_AND_FOOD    MULTI_BUYER  \n",
       "3  1992-02-10 00:00:00           W           COSMETIC    MULTI_BUYER  \n",
       "4  1992-02-12 00:00:00           W               FOOD    MULTI_BUYER  "
      ]
     },
     "execution_count": 165,
     "metadata": {},
     "output_type": "execute_result"
    }
   ],
   "source": [
    "customers.select_dtypes('object').head()"
   ]
  },
  {
   "cell_type": "code",
   "execution_count": 166,
   "metadata": {},
   "outputs": [
    {
     "name": "stdout",
     "output_type": "stream",
     "text": [
      "Extra columns in Customers Data -  ['PRODUCT_GROUP', 'CUSTOMER_GROUP', 'ONLINE_PURCHASE']\n"
     ]
    }
   ],
   "source": [
    "extra_columns = [col for col in customers.columns if col not in azdias.columns]\n",
    "print(\"Extra columns in Customers Data - \",extra_columns)"
   ]
  },
  {
   "cell_type": "code",
   "execution_count": 167,
   "metadata": {},
   "outputs": [
    {
     "data": {
      "image/png": "[encoded data removed]",
      "text/plain": [
       "<matplotlib.figure.Figure at 0x7f0f081b7be0>"
      ]
     },
     "metadata": {
      "needs_background": "light"
     },
     "output_type": "display_data"
    }
   ],
   "source": [
    "f, ax = plt.subplots(figsize=(15, 6))\n",
    "\n",
    "plt.subplot(1, 3, 1)\n",
    "cust_group = customers['CUSTOMER_GROUP'].value_counts()\n",
    "(cust_group/customers.shape[0]).plot(kind=\"bar\")\n",
    "plt.title(\"CUSTOMER_GROUP\")\n",
    "\n",
    "\n",
    "plt.subplot(1, 3, 2)\n",
    "onln_pur = customers['ONLINE_PURCHASE'].value_counts()\n",
    "(onln_pur/customers.shape[0]).plot(kind=\"bar\")\n",
    "plt.title(\"ONLINE_PURCHASE\")\n",
    "\n",
    "\n",
    "plt.subplot(1, 3, 3)\n",
    "prod_group = customers['PRODUCT_GROUP'].value_counts()\n",
    "(prod_group/customers.shape[0]).plot(kind=\"bar\")\n",
    "plt.title(\"PRODUCT_GROUP\")\n",
    "\n",
    "plt.show()"
   ]
  },
  {
   "cell_type": "code",
   "execution_count": 168,
   "metadata": {},
   "outputs": [
    {
     "name": "stdout",
     "output_type": "stream",
     "text": [
      "Number of columns without missing data in the Customers dataset: 96\n",
      "Number of columns without missing data in the Azdias dataset: 93\n"
     ]
    }
   ],
   "source": [
    "print(\"Number of columns without missing data in the Customers dataset:\",len(set(customers.columns[customers.isnull().sum() == 0])))\n",
    "print(\"Number of columns without missing data in the Azdias dataset:\",len(set(azdias.columns[azdias.isnull().sum() == 0])))"
   ]
  },
  {
   "cell_type": "markdown",
   "metadata": {},
   "source": [
    "##### Explore Attribute Data\n",
    "\n",
    "According to the information given to us \"attributes_desc\" is a top-level list of attributes and descriptions, organized by informational category. \"attributes_values\" is a detailed mapping of data values for each feature in alphabetical order."
   ]
  },
  {
   "cell_type": "code",
   "execution_count": 169,
   "metadata": {},
   "outputs": [
    {
     "data": {
      "text/html": [
       "<div>\n",
       "<style scoped>\n",
       "    .dataframe tbody tr th:only-of-type {\n",
       "        vertical-align: middle;\n",
       "    }\n",
       "\n",
       "    .dataframe tbody tr th {\n",
       "        vertical-align: top;\n",
       "    }\n",
       "\n",
       "    .dataframe thead th {\n",
       "        text-align: right;\n",
       "    }\n",
       "</style>\n",
       "<table border=\"1\" class=\"dataframe\">\n",
       "  <thead>\n",
       "    <tr style=\"text-align: right;\">\n",
       "      <th></th>\n",
       "      <th>Information level</th>\n",
       "      <th>Attribute</th>\n",
       "      <th>Description</th>\n",
       "      <th>Additional notes</th>\n",
       "    </tr>\n",
       "  </thead>\n",
       "  <tbody>\n",
       "    <tr>\n",
       "      <th>0</th>\n",
       "      <td>NaN</td>\n",
       "      <td>AGER_TYP</td>\n",
       "      <td>best-ager typology</td>\n",
       "      <td>in cooperation with Kantar TNS; the informatio...</td>\n",
       "    </tr>\n",
       "    <tr>\n",
       "      <th>1</th>\n",
       "      <td>Person</td>\n",
       "      <td>ALTERSKATEGORIE_GROB</td>\n",
       "      <td>age through prename analysis</td>\n",
       "      <td>modelled on millions of first name-age-referen...</td>\n",
       "    </tr>\n",
       "    <tr>\n",
       "      <th>2</th>\n",
       "      <td>NaN</td>\n",
       "      <td>ANREDE_KZ</td>\n",
       "      <td>gender</td>\n",
       "      <td>NaN</td>\n",
       "    </tr>\n",
       "    <tr>\n",
       "      <th>3</th>\n",
       "      <td>NaN</td>\n",
       "      <td>CJT_GESAMTTYP</td>\n",
       "      <td>Customer-Journey-Typology relating to the pref...</td>\n",
       "      <td>relating to the preferred information, marketi...</td>\n",
       "    </tr>\n",
       "    <tr>\n",
       "      <th>4</th>\n",
       "      <td>NaN</td>\n",
       "      <td>FINANZ_MINIMALIST</td>\n",
       "      <td>financial typology: low financial interest</td>\n",
       "      <td>Gfk-Typology based on a representative househo...</td>\n",
       "    </tr>\n",
       "  </tbody>\n",
       "</table>\n",
       "</div>"
      ],
      "text/plain": [
       "  Information level             Attribute  \\\n",
       "0               NaN              AGER_TYP   \n",
       "1            Person  ALTERSKATEGORIE_GROB   \n",
       "2               NaN             ANREDE_KZ   \n",
       "3               NaN         CJT_GESAMTTYP   \n",
       "4               NaN     FINANZ_MINIMALIST   \n",
       "\n",
       "                                         Description  \\\n",
       "0                                 best-ager typology   \n",
       "1                      age through prename analysis    \n",
       "2                                             gender   \n",
       "3  Customer-Journey-Typology relating to the pref...   \n",
       "4         financial typology: low financial interest   \n",
       "\n",
       "                                    Additional notes  \n",
       "0  in cooperation with Kantar TNS; the informatio...  \n",
       "1  modelled on millions of first name-age-referen...  \n",
       "2                                                NaN  \n",
       "3  relating to the preferred information, marketi...  \n",
       "4  Gfk-Typology based on a representative househo...  "
      ]
     },
     "execution_count": 169,
     "metadata": {},
     "output_type": "execute_result"
    }
   ],
   "source": [
    "attributes_desc.head()"
   ]
  },
  {
   "cell_type": "code",
   "execution_count": 170,
   "metadata": {},
   "outputs": [
    {
     "data": {
      "text/html": [
       "<div>\n",
       "<style scoped>\n",
       "    .dataframe tbody tr th:only-of-type {\n",
       "        vertical-align: middle;\n",
       "    }\n",
       "\n",
       "    .dataframe tbody tr th {\n",
       "        vertical-align: top;\n",
       "    }\n",
       "\n",
       "    .dataframe thead th {\n",
       "        text-align: right;\n",
       "    }\n",
       "</style>\n",
       "<table border=\"1\" class=\"dataframe\">\n",
       "  <thead>\n",
       "    <tr style=\"text-align: right;\">\n",
       "      <th></th>\n",
       "      <th>Attribute</th>\n",
       "      <th>Description</th>\n",
       "      <th>Value</th>\n",
       "      <th>Meaning</th>\n",
       "    </tr>\n",
       "  </thead>\n",
       "  <tbody>\n",
       "    <tr>\n",
       "      <th>0</th>\n",
       "      <td>AGER_TYP</td>\n",
       "      <td>best-ager typology</td>\n",
       "      <td>-1</td>\n",
       "      <td>unknown</td>\n",
       "    </tr>\n",
       "    <tr>\n",
       "      <th>1</th>\n",
       "      <td>AGER_TYP</td>\n",
       "      <td>best-ager typology</td>\n",
       "      <td>0</td>\n",
       "      <td>no classification possible</td>\n",
       "    </tr>\n",
       "    <tr>\n",
       "      <th>2</th>\n",
       "      <td>AGER_TYP</td>\n",
       "      <td>best-ager typology</td>\n",
       "      <td>1</td>\n",
       "      <td>passive elderly</td>\n",
       "    </tr>\n",
       "    <tr>\n",
       "      <th>3</th>\n",
       "      <td>AGER_TYP</td>\n",
       "      <td>best-ager typology</td>\n",
       "      <td>2</td>\n",
       "      <td>cultural elderly</td>\n",
       "    </tr>\n",
       "    <tr>\n",
       "      <th>4</th>\n",
       "      <td>AGER_TYP</td>\n",
       "      <td>best-ager typology</td>\n",
       "      <td>3</td>\n",
       "      <td>experience-driven elderly</td>\n",
       "    </tr>\n",
       "    <tr>\n",
       "      <th>5</th>\n",
       "      <td>ALTERSKATEGORIE_GROB</td>\n",
       "      <td>age classification through prename analysis</td>\n",
       "      <td>-1, 0</td>\n",
       "      <td>unknown</td>\n",
       "    </tr>\n",
       "    <tr>\n",
       "      <th>6</th>\n",
       "      <td>ALTERSKATEGORIE_GROB</td>\n",
       "      <td>age classification through prename analysis</td>\n",
       "      <td>1</td>\n",
       "      <td>&lt; 30 years</td>\n",
       "    </tr>\n",
       "    <tr>\n",
       "      <th>7</th>\n",
       "      <td>ALTERSKATEGORIE_GROB</td>\n",
       "      <td>age classification through prename analysis</td>\n",
       "      <td>2</td>\n",
       "      <td>30 - 45 years</td>\n",
       "    </tr>\n",
       "  </tbody>\n",
       "</table>\n",
       "</div>"
      ],
      "text/plain": [
       "              Attribute                                   Description  Value  \\\n",
       "0              AGER_TYP                            best-ager typology     -1   \n",
       "1              AGER_TYP                            best-ager typology      0   \n",
       "2              AGER_TYP                            best-ager typology      1   \n",
       "3              AGER_TYP                            best-ager typology      2   \n",
       "4              AGER_TYP                            best-ager typology      3   \n",
       "5  ALTERSKATEGORIE_GROB  age classification through prename analysis   -1, 0   \n",
       "6  ALTERSKATEGORIE_GROB  age classification through prename analysis       1   \n",
       "7  ALTERSKATEGORIE_GROB  age classification through prename analysis       2   \n",
       "\n",
       "                      Meaning  \n",
       "0                     unknown  \n",
       "1  no classification possible  \n",
       "2             passive elderly  \n",
       "3            cultural elderly  \n",
       "4   experience-driven elderly  \n",
       "5                     unknown  \n",
       "6                  < 30 years  \n",
       "7               30 - 45 years  "
      ]
     },
     "execution_count": 170,
     "metadata": {},
     "output_type": "execute_result"
    }
   ],
   "source": [
    "attributes_values.head(8)"
   ]
  },
  {
   "cell_type": "markdown",
   "metadata": {},
   "source": [
    "I have manually reviewed the attribute files. We will use the \"attributes_desc\" file in the following sections to get information about the columns.\n",
    "\n",
    "What I noticed while inspecting the \"attributes_values\" file is that some attributes have some descriptions like \"unknown\" or \"no transactions known\". We will also examine them in the missing data section."
   ]
  },
  {
   "cell_type": "markdown",
   "metadata": {},
   "source": [
    "# 0.2. Data Preparation\n",
    "\n",
    "## 0.2.1 Dtype Warning"
   ]
  },
  {
   "cell_type": "code",
   "execution_count": 171,
   "metadata": {},
   "outputs": [],
   "source": [
    "warning_cols = list(azdias.columns[18:20])"
   ]
  },
  {
   "cell_type": "code",
   "execution_count": 172,
   "metadata": {},
   "outputs": [
    {
     "data": {
      "text/html": [
       "<div>\n",
       "<style scoped>\n",
       "    .dataframe tbody tr th:only-of-type {\n",
       "        vertical-align: middle;\n",
       "    }\n",
       "\n",
       "    .dataframe tbody tr th {\n",
       "        vertical-align: top;\n",
       "    }\n",
       "\n",
       "    .dataframe thead th {\n",
       "        text-align: right;\n",
       "    }\n",
       "</style>\n",
       "<table border=\"1\" class=\"dataframe\">\n",
       "  <thead>\n",
       "    <tr style=\"text-align: right;\">\n",
       "      <th></th>\n",
       "      <th>Information level</th>\n",
       "      <th>Attribute</th>\n",
       "      <th>Description</th>\n",
       "      <th>Additional notes</th>\n",
       "    </tr>\n",
       "  </thead>\n",
       "  <tbody>\n",
       "    <tr>\n",
       "      <th>85</th>\n",
       "      <td>Microcell (RR4_ID)</td>\n",
       "      <td>CAMEO_DEUG_2015</td>\n",
       "      <td>CAMEO_4.0: uppergroup</td>\n",
       "      <td>New German CAMEO Typology established together...</td>\n",
       "    </tr>\n",
       "    <tr>\n",
       "      <th>87</th>\n",
       "      <td>NaN</td>\n",
       "      <td>CAMEO_DEUINTL_2015</td>\n",
       "      <td>CAMEO_4.0: international classification</td>\n",
       "      <td>NaN</td>\n",
       "    </tr>\n",
       "  </tbody>\n",
       "</table>\n",
       "</div>"
      ],
      "text/plain": [
       "     Information level           Attribute  \\\n",
       "85  Microcell (RR4_ID)     CAMEO_DEUG_2015   \n",
       "87                 NaN  CAMEO_DEUINTL_2015   \n",
       "\n",
       "                                Description  \\\n",
       "85                    CAMEO_4.0: uppergroup   \n",
       "87  CAMEO_4.0: international classification   \n",
       "\n",
       "                                     Additional notes  \n",
       "85  New German CAMEO Typology established together...  \n",
       "87                                                NaN  "
      ]
     },
     "execution_count": 172,
     "metadata": {},
     "output_type": "execute_result"
    }
   ],
   "source": [
    "# CAMEO_INTL_2015 column is defined in the attribute file as CAMEO_DEUINTL_2015.\n",
    "attributes_desc[attributes_desc[\"Attribute\"].isin(['CAMEO_DEUG_2015','CAMEO_DEUINTL_2015'])]"
   ]
  },
  {
   "cell_type": "code",
   "execution_count": 173,
   "metadata": {},
   "outputs": [],
   "source": [
    "def print_unique_values(df,col):\n",
    "    '''\n",
    "    INPUT:\n",
    "    df - Pandas DataFrame\n",
    "    col - Column List\n",
    "    \n",
    "    OUTPUT: No Output\n",
    "    \n",
    "    DESC: Returns unique values according to the dataframe and column list given as input.\n",
    "    '''\n",
    "    for c in col:\n",
    "        print(c,df[c].unique())"
   ]
  },
  {
   "cell_type": "code",
   "execution_count": 174,
   "metadata": {},
   "outputs": [
    {
     "name": "stdout",
     "output_type": "stream",
     "text": [
      "CAMEO_DEUG_2015 [nan 8.0 4.0 2.0 6.0 1.0 9.0 5.0 7.0 3.0 '4' '3' '7' '2' '8' '9' '6' '5'\n",
      " '1' 'X']\n",
      "CAMEO_INTL_2015 [nan 51.0 24.0 12.0 43.0 54.0 22.0 14.0 13.0 15.0 33.0 41.0 34.0 55.0 25.0\n",
      " 23.0 31.0 52.0 35.0 45.0 44.0 32.0 '22' '24' '41' '12' '54' '51' '44' '35'\n",
      " '23' '25' '14' '34' '52' '55' '31' '32' '15' '13' '43' '33' '45' 'XX']\n"
     ]
    }
   ],
   "source": [
    "print_unique_values(azdias,warning_cols)"
   ]
  },
  {
   "cell_type": "markdown",
   "metadata": {},
   "source": [
    "As you can see, there are both numerical and categorical data in both columns. We also noticed the 'X' and 'XX' columns. We considered these values as missing data."
   ]
  },
  {
   "cell_type": "code",
   "execution_count": 175,
   "metadata": {},
   "outputs": [],
   "source": [
    "azdias[warning_cols[0]].replace('X', np.nan, inplace = True)\n",
    "customers[warning_cols[0]].replace('X', np.nan, inplace = True)\n",
    "azdias[warning_cols[1]].replace('XX', np.nan, inplace = True)\n",
    "customers[warning_cols[1]].replace('XX', np.nan, inplace = True)"
   ]
  },
  {
   "cell_type": "code",
   "execution_count": 176,
   "metadata": {},
   "outputs": [],
   "source": [
    "def convert_object_to_float(df,col):\n",
    "    '''\n",
    "    INPUT:\n",
    "    df - Pandas DataFrame\n",
    "    col - Column List\n",
    "    \n",
    "    OUTPUT:\n",
    "    df - Pandas DataFrame\n",
    "    \n",
    "    DESC: Converts the data type from object to float according to the data frame and column list given as input.\n",
    "    '''\n",
    "    for c in col:\n",
    "        df[c] = df[c].astype(str).astype(float)\n",
    "    \n",
    "    return df"
   ]
  },
  {
   "cell_type": "code",
   "execution_count": 177,
   "metadata": {},
   "outputs": [],
   "source": [
    "customers = convert_object_to_float(customers,warning_cols)\n",
    "azdias = convert_object_to_float(azdias,warning_cols)"
   ]
  },
  {
   "cell_type": "code",
   "execution_count": 178,
   "metadata": {},
   "outputs": [
    {
     "name": "stdout",
     "output_type": "stream",
     "text": [
      "CAMEO_DEUG_2015 [ nan   8.   4.   2.   6.   1.   9.   5.   7.   3.]\n",
      "CAMEO_INTL_2015 [ nan  51.  24.  12.  43.  54.  22.  14.  13.  15.  33.  41.  34.  55.  25.\n",
      "  23.  31.  52.  35.  45.  44.  32.]\n"
     ]
    }
   ],
   "source": [
    "print_unique_values(azdias,warning_cols)"
   ]
  },
  {
   "cell_type": "markdown",
   "metadata": {},
   "source": [
    "**Everything looks good now for these 2 columns. We can continue cleaning data.**"
   ]
  },
  {
   "cell_type": "markdown",
   "metadata": {},
   "source": [
    "## 0.2.2 Missing Value"
   ]
  },
  {
   "cell_type": "code",
   "execution_count": 179,
   "metadata": {},
   "outputs": [],
   "source": [
    "first_nan_count_customers = customers.isna().sum()\n",
    "first_nan_count_azdias = azdias.isna().sum()"
   ]
  },
  {
   "cell_type": "markdown",
   "metadata": {},
   "source": [
    "* In the following sections we take the initial missing data numbers for comparison."
   ]
  },
  {
   "cell_type": "code",
   "execution_count": 180,
   "metadata": {},
   "outputs": [
    {
     "data": {
      "image/png": "[encoded data removed]",
      "text/plain": [
       "<matplotlib.figure.Figure at 0x7f0f0e098cc0>"
      ]
     },
     "metadata": {
      "needs_background": "light"
     },
     "output_type": "display_data"
    }
   ],
   "source": [
    "azdias_nan_value = pd.DataFrame(first_nan_count_azdias[first_nan_count_azdias != 0].sort_values(ascending=False)[:50])\n",
    "\n",
    "X_axis = np.arange(len(azdias_nan_value))\n",
    "f, ax = plt.subplots(figsize=(15, 6))\n",
    "plt.bar(X_axis - 0.2, azdias_nan_value[0])\n",
    "  \n",
    "plt.xticks(X_axis, azdias_nan_value.index,rotation='vertical')\n",
    "plt.xlabel(\"Attribute\")\n",
    "plt.ylabel(\"Number of NaN Value\")\n",
    "plt.title(\"Number of NaN Value in Attribute\")\n",
    "plt.legend()\n",
    "plt.show()"
   ]
  },
  {
   "cell_type": "markdown",
   "metadata": {},
   "source": [
    "### 0.2.2.1 Explore Attribute file for Missing Value"
   ]
  },
  {
   "cell_type": "markdown",
   "metadata": {},
   "source": [
    "If you remember, while we were examining the Attribute files, we saw that some values have meanings such as \"unknown\",\"no transactions known\". We need to use the data from the Attribute file to fix these incorrect values.\n",
    "\n",
    "* First we will find the values that are \"unknown\",\"no transactions known\" in the table \"attributes_values\".\n",
    "* Some values are written with commas, we will separate them."
   ]
  },
  {
   "cell_type": "code",
   "execution_count": 181,
   "metadata": {},
   "outputs": [
    {
     "data": {
      "text/html": [
       "<div>\n",
       "<style scoped>\n",
       "    .dataframe tbody tr th:only-of-type {\n",
       "        vertical-align: middle;\n",
       "    }\n",
       "\n",
       "    .dataframe tbody tr th {\n",
       "        vertical-align: top;\n",
       "    }\n",
       "\n",
       "    .dataframe thead th {\n",
       "        text-align: right;\n",
       "    }\n",
       "</style>\n",
       "<table border=\"1\" class=\"dataframe\">\n",
       "  <thead>\n",
       "    <tr style=\"text-align: right;\">\n",
       "      <th></th>\n",
       "      <th>Attribute</th>\n",
       "      <th>Description</th>\n",
       "      <th>Value</th>\n",
       "      <th>Meaning</th>\n",
       "    </tr>\n",
       "  </thead>\n",
       "  <tbody>\n",
       "    <tr>\n",
       "      <th>0</th>\n",
       "      <td>AGER_TYP</td>\n",
       "      <td>best-ager typology</td>\n",
       "      <td>-1</td>\n",
       "      <td>unknown</td>\n",
       "    </tr>\n",
       "    <tr>\n",
       "      <th>5</th>\n",
       "      <td>ALTERSKATEGORIE_GROB</td>\n",
       "      <td>age classification through prename analysis</td>\n",
       "      <td>-1, 0</td>\n",
       "      <td>unknown</td>\n",
       "    </tr>\n",
       "    <tr>\n",
       "      <th>11</th>\n",
       "      <td>ALTER_HH</td>\n",
       "      <td>main age within the household</td>\n",
       "      <td>0</td>\n",
       "      <td>unknown / no main age detectable</td>\n",
       "    </tr>\n",
       "    <tr>\n",
       "      <th>33</th>\n",
       "      <td>ANREDE_KZ</td>\n",
       "      <td>gender</td>\n",
       "      <td>-1, 0</td>\n",
       "      <td>unknown</td>\n",
       "    </tr>\n",
       "    <tr>\n",
       "      <th>40</th>\n",
       "      <td>BALLRAUM</td>\n",
       "      <td>distance to next urban centre</td>\n",
       "      <td>-1</td>\n",
       "      <td>unknown</td>\n",
       "    </tr>\n",
       "  </tbody>\n",
       "</table>\n",
       "</div>"
      ],
      "text/plain": [
       "               Attribute                                   Description  Value  \\\n",
       "0               AGER_TYP                            best-ager typology     -1   \n",
       "5   ALTERSKATEGORIE_GROB  age classification through prename analysis   -1, 0   \n",
       "11              ALTER_HH                 main age within the household      0   \n",
       "33             ANREDE_KZ                                        gender  -1, 0   \n",
       "40              BALLRAUM                distance to next urban centre      -1   \n",
       "\n",
       "                             Meaning  \n",
       "0                            unknown  \n",
       "5                            unknown  \n",
       "11  unknown / no main age detectable  \n",
       "33                           unknown  \n",
       "40                           unknown  "
      ]
     },
     "execution_count": 181,
     "metadata": {},
     "output_type": "execute_result"
    }
   ],
   "source": [
    "attributes_missing = attributes_values[attributes_values['Meaning'].isin(['unknown','unknown / no main age detectable','no transactions known','no transaction known'])]\n",
    "attributes_missing.head()"
   ]
  },
  {
   "cell_type": "code",
   "execution_count": 182,
   "metadata": {},
   "outputs": [],
   "source": [
    "def missing_dict(df):\n",
    "    '''\n",
    "    INPUT:\n",
    "    df - Pandas DataFrame \n",
    "    \n",
    "    OUPUT:\n",
    "    missing_dict - Dictionary\n",
    "    \n",
    "    DESC: Combines \"unknown\" and \"no transaction known\" values into a dictionary for each column.\n",
    "    '''\n",
    "\n",
    "    unknown_values = []\n",
    "    for val in df.Value:\n",
    "        if isinstance(val, int):\n",
    "            unknown_values.append([val])\n",
    "        elif isinstance(val, str):\n",
    "            split_list = val.split(',')\n",
    "            int_list = [int(x) for x in split_list]\n",
    "            unknown_values.append(int_list)\n",
    "\n",
    "    unknown_dict = {}\n",
    "    for attr, value_list in zip(df.Attribute, unknown_values):\n",
    "        if 'D19' in attr and '_RZ' in attr:\n",
    "            attr = attr[:-3]\n",
    "        \n",
    "        unknown_dict[attr] = value_list\n",
    "\n",
    "    unknown_dict['ALTERSKATEGORIE_FEIN'] = [0]\n",
    "    unknown_dict['GEBURTSJAHR'] = [0]\n",
    "    \n",
    "    return unknown_dict"
   ]
  },
  {
   "cell_type": "code",
   "execution_count": 183,
   "metadata": {},
   "outputs": [
    {
     "data": {
      "text/plain": [
       "{'AGER_TYP': [-1],\n",
       " 'ALTERSKATEGORIE_GROB': [-1, 0],\n",
       " 'ALTER_HH': [0],\n",
       " 'ANREDE_KZ': [-1, 0],\n",
       " 'BALLRAUM': [-1],\n",
       " 'BIP_FLAG': [-1],\n",
       " 'CAMEO_DEUG_2015': [-1],\n",
       " 'CAMEO_DEUINTL_2015': [-1],\n",
       " 'CJT_GESAMTTYP': [0],\n",
       " 'D19_BANKEN_ANZ_12': [0],\n",
       " 'D19_BANKEN_ANZ_24': [0],\n",
       " 'D19_BANKEN_DATUM': [10],\n",
       " 'D19_BANKEN_DIREKT': [0],\n",
       " 'D19_BANKEN_GROSS': [0],\n",
       " 'D19_BANKEN_LOKAL': [0],\n",
       " 'D19_BANKEN_OFFLINE_DATUM': [10],\n",
       " 'D19_BANKEN_ONLINE_DATUM': [10],\n",
       " 'D19_BANKEN_REST': [0],\n",
       " 'D19_BEKLEIDUNG_GEH': [0],\n",
       " 'D19_BEKLEIDUNG_REST': [0],\n",
       " 'D19_BILDUNG': [0],\n",
       " 'D19_BIO_OEKO': [0],\n",
       " 'D19_BUCH': [0],\n",
       " 'D19_DIGIT_SERV': [0],\n",
       " 'D19_DROGERIEARTIKEL': [0],\n",
       " 'D19_ENERGIE': [0],\n",
       " 'D19_FREIZEIT': [0],\n",
       " 'D19_GARTEN': [0],\n",
       " 'D19_GESAMT_ANZ_12': [0],\n",
       " 'D19_GESAMT_ANZ_24': [0],\n",
       " 'D19_GESAMT_DATUM': [10],\n",
       " 'D19_GESAMT_OFFLINE_DATUM': [10],\n",
       " 'D19_GESAMT_ONLINE_DATUM': [10],\n",
       " 'D19_HANDWERK': [0],\n",
       " 'D19_HAUS_DEKO': [0],\n",
       " 'D19_KINDERARTIKEL': [0],\n",
       " 'D19_KK_KUNDENTYP': [-1],\n",
       " 'D19_KOSMETIK': [0],\n",
       " 'D19_LEBENSMITTEL': [0],\n",
       " 'D19_LOTTO': [0],\n",
       " 'D19_NAHRUNGSERGAENZUNG': [0],\n",
       " 'D19_RATGEBER': [0],\n",
       " 'D19_REISEN': [0],\n",
       " 'D19_SAMMELARTIKEL': [0],\n",
       " 'D19_SCHUHE': [0],\n",
       " 'D19_SONSTIGE': [0],\n",
       " 'D19_TECHNIK': [0],\n",
       " 'D19_TELKO_ANZ_12': [0],\n",
       " 'D19_TELKO_ANZ_24': [0],\n",
       " 'D19_TELKO_DATUM': [10],\n",
       " 'D19_TELKO_MOBILE': [0],\n",
       " 'D19_TELKO_OFFLINE_DATUM': [10],\n",
       " 'D19_TELKO_ONLINE_DATUM': [10],\n",
       " 'D19_TELKO_REST': [0],\n",
       " 'D19_TIERARTIKEL': [0],\n",
       " 'D19_VERSAND_ANZ_12': [0],\n",
       " 'D19_VERSAND_ANZ_24': [0],\n",
       " 'D19_VERSAND_DATUM': [10],\n",
       " 'D19_VERSAND_OFFLINE_DATUM': [10],\n",
       " 'D19_VERSAND_ONLINE_DATUM': [10],\n",
       " 'D19_VERSAND_REST': [0],\n",
       " 'D19_VERSICHERUNGEN': [0],\n",
       " 'D19_VERSI_ANZ_12': [0],\n",
       " 'D19_VERSI_ANZ_24': [0],\n",
       " 'D19_VOLLSORTIMENT': [0],\n",
       " 'D19_WEIN_FEINKOST': [0],\n",
       " 'EWDICHTE': [-1],\n",
       " 'FINANZTYP': [-1],\n",
       " 'FINANZ_ANLEGER': [-1],\n",
       " 'FINANZ_HAUSBAUER': [-1],\n",
       " 'FINANZ_MINIMALIST': [-1],\n",
       " 'FINANZ_SPARER': [-1],\n",
       " 'FINANZ_UNAUFFAELLIGER': [-1],\n",
       " 'FINANZ_VORSORGER': [-1],\n",
       " 'GEBAEUDETYP': [-1, 0],\n",
       " 'GEOSCORE_KLS7': [-1, 0],\n",
       " 'HAUSHALTSSTRUKTUR': [-1, 0],\n",
       " 'HEALTH_TYP': [-1],\n",
       " 'HH_EINKOMMEN_SCORE': [-1, 0],\n",
       " 'INNENSTADT': [-1],\n",
       " 'KBA05_ALTER1': [-1, 9],\n",
       " 'KBA05_ALTER2': [-1, 9],\n",
       " 'KBA05_ALTER3': [-1, 9],\n",
       " 'KBA05_ALTER4': [-1, 9],\n",
       " 'KBA05_ANHANG': [-1, 9],\n",
       " 'KBA05_ANTG1': [-1],\n",
       " 'KBA05_ANTG2': [-1],\n",
       " 'KBA05_ANTG3': [-1],\n",
       " 'KBA05_ANTG4': [-1],\n",
       " 'KBA05_AUTOQUOT': [-1, 9],\n",
       " 'KBA05_BAUMAX': [-1, 0],\n",
       " 'KBA05_CCM1': [-1, 9],\n",
       " 'KBA05_CCM2': [-1, 9],\n",
       " 'KBA05_CCM3': [-1, 9],\n",
       " 'KBA05_CCM4': [-1, 9],\n",
       " 'KBA05_DIESEL': [-1, 9],\n",
       " 'KBA05_FRAU': [-1, 9],\n",
       " 'KBA05_GBZ': [-1, 0],\n",
       " 'KBA05_HERST1': [-1, 9],\n",
       " 'KBA05_HERST2': [-1, 9],\n",
       " 'KBA05_HERST3': [-1, 9],\n",
       " 'KBA05_HERST4': [-1, 9],\n",
       " 'KBA05_HERST5': [-1, 9],\n",
       " 'KBA05_HERSTTEMP': [-1, 9],\n",
       " 'KBA05_KRSAQUOT': [-1, 9],\n",
       " 'KBA05_KRSHERST1': [-1, 9],\n",
       " 'KBA05_KRSHERST2': [-1, 9],\n",
       " 'KBA05_KRSHERST3': [-1, 9],\n",
       " 'KBA05_KRSKLEIN': [-1, 9],\n",
       " 'KBA05_KRSOBER': [-1, 9],\n",
       " 'KBA05_KRSVAN': [-1, 9],\n",
       " 'KBA05_KRSZUL': [-1, 9],\n",
       " 'KBA05_KW1': [-1, 9],\n",
       " 'KBA05_KW2': [-1, 9],\n",
       " 'KBA05_KW3': [-1, 9],\n",
       " 'KBA05_MAXAH': [-1, 9],\n",
       " 'KBA05_MAXBJ': [-1, 9],\n",
       " 'KBA05_MAXHERST': [-1, 9],\n",
       " 'KBA05_MAXSEG': [-1, 9],\n",
       " 'KBA05_MAXVORB': [-1, 9],\n",
       " 'KBA05_MOD1': [-1, 9],\n",
       " 'KBA05_MOD2': [-1, 9],\n",
       " 'KBA05_MOD3': [-1, 9],\n",
       " 'KBA05_MOD4': [-1, 9],\n",
       " 'KBA05_MOD8': [-1, 9],\n",
       " 'KBA05_MODTEMP': [-1, 9],\n",
       " 'KBA05_MOTOR': [-1, 9],\n",
       " 'KBA05_MOTRAD': [-1, 9],\n",
       " 'KBA05_SEG1': [-1, 9],\n",
       " 'KBA05_SEG10': [-1, 9],\n",
       " 'KBA05_SEG2': [-1, 9],\n",
       " 'KBA05_SEG3': [-1, 9],\n",
       " 'KBA05_SEG4': [-1, 9],\n",
       " 'KBA05_SEG5': [-1, 9],\n",
       " 'KBA05_SEG6': [-1, 9],\n",
       " 'KBA05_SEG7': [-1, 9],\n",
       " 'KBA05_SEG8': [-1, 9],\n",
       " 'KBA05_SEG9': [-1, 9],\n",
       " 'KBA05_VORB0': [-1, 9],\n",
       " 'KBA05_VORB1': [-1, 9],\n",
       " 'KBA05_VORB2': [-1, 9],\n",
       " 'KBA05_ZUL1': [-1, 9],\n",
       " 'KBA05_ZUL2': [-1, 9],\n",
       " 'KBA05_ZUL3': [-1, 9],\n",
       " 'KBA05_ZUL4': [-1, 9],\n",
       " 'KBA13_ALTERHALTER_30': [-1],\n",
       " 'KBA13_ALTERHALTER_45': [-1],\n",
       " 'KBA13_ALTERHALTER_60': [-1],\n",
       " 'KBA13_ALTERHALTER_61': [-1],\n",
       " 'KBA13_AUDI': [-1],\n",
       " 'KBA13_AUTOQUOTE': [-1],\n",
       " 'KBA13_BJ_1999': [-1],\n",
       " 'KBA13_BJ_2000': [-1],\n",
       " 'KBA13_BJ_2004': [-1],\n",
       " 'KBA13_BJ_2006': [-1],\n",
       " 'KBA13_BJ_2008': [-1],\n",
       " 'KBA13_BJ_2009': [-1],\n",
       " 'KBA13_BMW': [-1],\n",
       " 'KBA13_CCM_1000': [-1],\n",
       " 'KBA13_CCM_1200': [-1],\n",
       " 'KBA13_CCM_1400': [-1],\n",
       " 'KBA13_CCM_0_1400': [-1],\n",
       " 'KBA13_CCM_1500': [-1],\n",
       " 'KBA13_CCM_1400_2500': [-1],\n",
       " 'KBA13_CCM_1600': [-1],\n",
       " 'KBA13_CCM_1800': [-1],\n",
       " 'KBA13_CCM_2000': [-1],\n",
       " 'KBA13_CCM_2500': [-1],\n",
       " 'KBA13_CCM_2501': [-1],\n",
       " 'KBA13_CCM_3000': [-1],\n",
       " 'KBA13_CCM_3001': [-1],\n",
       " 'KBA13_FAB_ASIEN': [-1],\n",
       " 'KBA13_FAB_SONSTIGE': [-1],\n",
       " 'KBA13_FIAT': [-1],\n",
       " 'KBA13_FORD': [-1],\n",
       " 'KBA13_HALTER_20': [-1],\n",
       " 'KBA13_HALTER_25': [-1],\n",
       " 'KBA13_HALTER_30': [-1],\n",
       " 'KBA13_HALTER_35': [-1],\n",
       " 'KBA13_HALTER_40': [-1],\n",
       " 'KBA13_HALTER_45': [-1],\n",
       " 'KBA13_HALTER_50': [-1],\n",
       " 'KBA13_HALTER_55': [-1],\n",
       " 'KBA13_HALTER_60': [-1],\n",
       " 'KBA13_HALTER_65': [-1],\n",
       " 'KBA13_HALTER_66': [-1],\n",
       " 'KBA13_HERST_ASIEN': [-1],\n",
       " 'KBA13_HERST_AUDI_VW': [-1],\n",
       " 'KBA13_HERST_BMW_BENZ': [-1],\n",
       " 'KBA13_HERST_EUROPA': [-1],\n",
       " 'KBA13_HERST_FORD_OPEL': [-1],\n",
       " 'KBA13_HERST_SONST': [-1],\n",
       " 'KBA13_KMH_110': [-1],\n",
       " 'KBA13_KMH_140': [-1],\n",
       " 'KBA13_KMH_180': [-1],\n",
       " 'KBA13_KMH_0_140': [-1],\n",
       " 'KBA13_KMH_140_210': [-1],\n",
       " 'KBA13_KMH_211': [-1],\n",
       " 'KBA13_KMH_250': [-1],\n",
       " 'KBA13_KMH_251': [-1],\n",
       " 'KBA13_KRSAQUOT': [-1],\n",
       " 'KBA13_KRSHERST_AUDI_VW': [-1],\n",
       " 'KBA13_KRSHERST_BMW_BENZ': [-1],\n",
       " 'KBA13_KRSHERST_FORD_OPEL': [-1],\n",
       " 'KBA13_KRSSEG_KLEIN': [-1],\n",
       " 'KBA13_KRSSEG_OBER': [-1],\n",
       " 'KBA13_KRSSEG_VAN': [-1],\n",
       " 'KBA13_KRSZUL_NEU': [-1],\n",
       " 'KBA13_KW_30': [-1],\n",
       " 'KBA13_KW_40': [-1],\n",
       " 'KBA13_KW_50': [-1],\n",
       " 'KBA13_KW_60': [-1],\n",
       " 'KBA13_KW_0_60': [-1],\n",
       " 'KBA13_KW_70': [-1],\n",
       " 'KBA13_KW_61_120': [-1],\n",
       " 'KBA13_KW_80': [-1],\n",
       " 'KBA13_KW_90': [-1],\n",
       " 'KBA13_KW_110': [-1],\n",
       " 'KBA13_KW_120': [-1],\n",
       " 'KBA13_KW_121': [-1],\n",
       " 'KBA13_MAZDA': [-1],\n",
       " 'KBA13_MERCEDES': [-1],\n",
       " 'KBA13_MOTOR': [-1],\n",
       " 'KBA13_NISSAN': [-1],\n",
       " 'KBA13_OPEL': [-1],\n",
       " 'KBA13_PEUGEOT': [-1],\n",
       " 'KBA13_RENAULT': [-1],\n",
       " 'KBA13_SEG_GELAENDEWAGEN': [-1],\n",
       " 'KBA13_SEG_GROSSRAUMVANS': [-1],\n",
       " 'KBA13_SEG_KLEINST': [-1],\n",
       " 'KBA13_SEG_KLEINWAGEN': [-1],\n",
       " 'KBA13_SEG_KOMPAKTKLASSE': [-1],\n",
       " 'KBA13_SEG_MINIVANS': [-1],\n",
       " 'KBA13_SEG_MINIWAGEN': [-1],\n",
       " 'KBA13_SEG_MITTELKLASSE': [-1],\n",
       " 'KBA13_SEG_OBEREMITTELKLASSE': [-1],\n",
       " 'KBA13_SEG_OBERKLASSE': [-1],\n",
       " 'KBA13_SEG_SONSTIGE': [-1],\n",
       " 'KBA13_SEG_SPORTWAGEN': [-1],\n",
       " 'KBA13_SEG_UTILITIES': [-1],\n",
       " 'KBA13_SEG_VAN': [-1],\n",
       " 'KBA13_SEG_WOHNMOBILE': [-1],\n",
       " 'KBA13_SITZE_4': [-1],\n",
       " 'KBA13_SITZE_5': [-1],\n",
       " 'KBA13_SITZE_6': [-1],\n",
       " 'KBA13_TOYOTA': [-1],\n",
       " 'KBA13_VORB_0': [-1],\n",
       " 'KBA13_VORB_1': [-1],\n",
       " 'KBA13_VORB_1_2': [-1],\n",
       " 'KBA13_VORB_2': [-1],\n",
       " 'KBA13_VORB_3': [-1],\n",
       " 'KBA13_VW': [-1],\n",
       " 'KKK': [-1, 0],\n",
       " 'NATIONALITAET_KZ': [-1, 0],\n",
       " 'ORTSGR_KLS9': [-1],\n",
       " 'OST_WEST_KZ': [-1],\n",
       " 'PLZ8_ANTG1': [-1],\n",
       " 'PLZ8_ANTG2': [-1],\n",
       " 'PLZ8_ANTG3': [-1],\n",
       " 'PLZ8_ANTG4': [-1],\n",
       " 'PLZ8_GBZ': [-1],\n",
       " 'PLZ8_HHZ': [-1],\n",
       " 'PRAEGENDE_JUGENDJAHRE': [-1, 0],\n",
       " 'REGIOTYP': [-1, 0],\n",
       " 'RELAT_AB': [-1, 9],\n",
       " 'RETOURTYP_BK_S': [0],\n",
       " 'SEMIO_DOM': [-1, 9],\n",
       " 'SEMIO_ERL': [-1, 9],\n",
       " 'SEMIO_FAM': [-1, 9],\n",
       " 'SEMIO_KAEM': [-1, 9],\n",
       " 'SEMIO_KRIT': [-1, 9],\n",
       " 'SEMIO_KULT': [-1, 9],\n",
       " 'SEMIO_LUST': [-1, 9],\n",
       " 'SEMIO_MAT': [-1, 9],\n",
       " 'SEMIO_PFLICHT': [-1, 9],\n",
       " 'SEMIO_RAT': [-1, 9],\n",
       " 'SEMIO_REL': [-1, 9],\n",
       " 'SEMIO_SOZ': [-1, 9],\n",
       " 'SEMIO_TRADV': [-1, 9],\n",
       " 'SEMIO_VERT': [-1, 9],\n",
       " 'SHOPPER_TYP': [-1],\n",
       " 'SOHO_FLAG': [-1],\n",
       " 'TITEL_KZ': [-1, 0],\n",
       " 'VERS_TYP': [-1],\n",
       " 'WOHNDAUER_2008': [-1, 0],\n",
       " 'WOHNLAGE': [-1],\n",
       " 'WACHSTUMSGEBIET_NB': [-1, 0],\n",
       " 'W_KEIT_KIND_HH': [-1, 0],\n",
       " 'ZABEOTYP': [-1, 9],\n",
       " 'ALTERSKATEGORIE_FEIN': [0],\n",
       " 'GEBURTSJAHR': [0]}"
      ]
     },
     "execution_count": 183,
     "metadata": {},
     "output_type": "execute_result"
    }
   ],
   "source": [
    "missing_dict = missing_dict(attributes_missing)\n",
    "missing_dict"
   ]
  },
  {
   "cell_type": "markdown",
   "metadata": {},
   "source": [
    "The \"missing_dict\" dictionary shows us the values in the column that we need to convert to nan.\n",
    "\n",
    "Now it's time to convert these values to nan."
   ]
  },
  {
   "cell_type": "code",
   "execution_count": 184,
   "metadata": {},
   "outputs": [],
   "source": [
    "def change_nan_value(df,missing_dict):\n",
    "    '''\n",
    "    INPUT:\n",
    "    df - Pandas DataFrame\n",
    "    missing_dict - Dictionary\n",
    "    \n",
    "    OUTPUT:\n",
    "    df - Pandas Dataframe\n",
    "    \n",
    "    DESC: Converts values that should be NaN to NaN.\n",
    "    '''\n",
    "    \n",
    "    change_column = []\n",
    "    for (key,value) in missing_dict.items():\n",
    "\n",
    "        try:\n",
    "            df[key].replace(missing_dict[key], np.nan, inplace = True)\n",
    "            change_column.append(key)\n",
    "        except:\n",
    "            continue\n",
    "            \n",
    "    return df\n",
    "    "
   ]
  },
  {
   "cell_type": "code",
   "execution_count": 185,
   "metadata": {},
   "outputs": [],
   "source": [
    "customers = change_nan_value(customers,missing_dict)\n",
    "azdias = change_nan_value(azdias,missing_dict)"
   ]
  },
  {
   "cell_type": "code",
   "execution_count": 186,
   "metadata": {},
   "outputs": [],
   "source": [
    "last_nan_count_customers = customers.isna().sum()\n",
    "last_nan_count_azdias = customers.isna().sum()"
   ]
  },
  {
   "cell_type": "markdown",
   "metadata": {},
   "source": [
    "Yes, we now have completely missing values. Now it's time to visualize this missing data to see, compare and determine what to do.\n",
    "\n",
    "In the first chart, we will see how to compare the number of missing data before and after converting to nan."
   ]
  },
  {
   "cell_type": "code",
   "execution_count": 187,
   "metadata": {},
   "outputs": [],
   "source": [
    "nan_values = pd.concat([first_nan_count_azdias, last_nan_count_azdias], axis=1,sort=True)\n",
    "nan_values['yüzde'] = nan_values[1]/len(azdias)\n",
    "nan_values = nan_values[nan_values['yüzde']>0.75]"
   ]
  },
  {
   "cell_type": "code",
   "execution_count": 188,
   "metadata": {},
   "outputs": [
    {
     "data": {
      "image/png": "[encoded data removed]",
      "text/plain": [
       "<matplotlib.figure.Figure at 0x7f0f11318978>"
      ]
     },
     "metadata": {
      "needs_background": "light"
     },
     "output_type": "display_data"
    }
   ],
   "source": [
    "X_axis = np.arange(len(nan_values))\n",
    "f, ax = plt.subplots(figsize=(15, 6))\n",
    "plt.bar(X_axis - 0.2, nan_values[0], 0.3, label = 'first')\n",
    "plt.bar(X_axis + 0.2, nan_values[1], 0.3, label = 'last')\n",
    "  \n",
    "plt.xticks(X_axis, nan_values.index,rotation='vertical')\n",
    "plt.xlabel(\"Attribute\")\n",
    "plt.ylabel(\"Number of NaN Value\")\n",
    "plt.title(\"Number of NaN Value in Attribute\")\n",
    "plt.legend()\n",
    "plt.show()"
   ]
  },
  {
   "cell_type": "code",
   "execution_count": 189,
   "metadata": {},
   "outputs": [],
   "source": [
    "nan_values = pd.concat([first_nan_count_customers, last_nan_count_customers], axis=1)\n",
    "nan_values['yüzde'] = nan_values[1]/len(azdias)\n",
    "nan_values = nan_values[nan_values['yüzde']>0.75]"
   ]
  },
  {
   "cell_type": "code",
   "execution_count": 190,
   "metadata": {},
   "outputs": [
    {
     "data": {
      "image/png": "[encoded data removed]",
      "text/plain": [
       "<matplotlib.figure.Figure at 0x7f0f1133e2e8>"
      ]
     },
     "metadata": {
      "needs_background": "light"
     },
     "output_type": "display_data"
    }
   ],
   "source": [
    "X_axis = np.arange(len(nan_values))\n",
    "f, ax = plt.subplots(figsize=(15, 6))\n",
    "plt.bar(X_axis - 0.2, nan_values[0], 0.3, label = 'first')\n",
    "plt.bar(X_axis + 0.2, nan_values[1], 0.3, label = 'last')\n",
    "  \n",
    "plt.xticks(X_axis, nan_values.index,rotation='vertical')\n",
    "plt.xlabel(\"Attribute\")\n",
    "plt.ylabel(\"Number of NaN Value\")\n",
    "plt.title(\"Number of NaN Value in Attribute\")\n",
    "plt.legend()\n",
    "plt.show()"
   ]
  },
  {
   "cell_type": "markdown",
   "metadata": {},
   "source": [
    "In the graphs below, we will see the features in the datasets whose missing data is more than 50% of the total data."
   ]
  },
  {
   "cell_type": "code",
   "execution_count": 191,
   "metadata": {},
   "outputs": [
    {
     "data": {
      "text/plain": [
       "Text(0.5,1,'Percent missing data by feature')"
      ]
     },
     "execution_count": 191,
     "metadata": {},
     "output_type": "execute_result"
    },
    {
     "data": {
      "image/png": "[encoded data removed]",
      "text/plain": [
       "<matplotlib.figure.Figure at 0x7f0f1882acf8>"
      ]
     },
     "metadata": {
      "needs_background": "light"
     },
     "output_type": "display_data"
    }
   ],
   "source": [
    "# Percentage of missing values in each dataframe along with visualization\n",
    "total = azdias.isnull().sum().sort_values(ascending=False)\n",
    "percent = (azdias.isnull().sum()/azdias.isnull().count()).sort_values(ascending=False)\n",
    "missing_data = pd.concat([total, percent], axis=1, keys=['Total', 'Percent'])\n",
    "missing_data = missing_data[missing_data['Percent'] > 0.5]\n",
    "f, ax = plt.subplots(figsize=(15, 6))\n",
    "plt.xticks(rotation='90')\n",
    "sns.barplot(x=missing_data.index, y=missing_data['Percent'])\n",
    "plt.xlabel('Azdias', fontsize=15)\n",
    "plt.ylabel('Percent of missing values', fontsize=15)\n",
    "plt.title('Percent missing data by feature', fontsize=15)"
   ]
  },
  {
   "cell_type": "code",
   "execution_count": 192,
   "metadata": {},
   "outputs": [
    {
     "data": {
      "text/plain": [
       "Text(0.5,1,'Percent missing data by feature')"
      ]
     },
     "execution_count": 192,
     "metadata": {},
     "output_type": "execute_result"
    },
    {
     "data": {
      "image/png": "[encoded data removed]",
      "text/plain": [
       "<matplotlib.figure.Figure at 0x7f0f1106a978>"
      ]
     },
     "metadata": {
      "needs_background": "light"
     },
     "output_type": "display_data"
    }
   ],
   "source": [
    "total = customers.isnull().sum().sort_values(ascending=False)\n",
    "percent = (customers.isnull().sum()/customers.isnull().count()).sort_values(ascending=False)\n",
    "missing_data = pd.concat([total, percent], axis=1, keys=['Total', 'Percent'])\n",
    "missing_data = missing_data[missing_data['Percent'] > 0.5]\n",
    "f, ax = plt.subplots(figsize=(15, 6))\n",
    "plt.xticks(rotation='90')\n",
    "sns.barplot(x=missing_data.index, y=missing_data['Percent'])\n",
    "plt.xlabel('Customers', fontsize=15)\n",
    "plt.ylabel('Percent of missing values', fontsize=15)\n",
    "plt.title('Percent missing data by feature', fontsize=15)"
   ]
  },
  {
   "cell_type": "markdown",
   "metadata": {},
   "source": [
    "As you can see in the graphs, almost all of the data with some features is missing data. It would be best to drop these columns."
   ]
  },
  {
   "cell_type": "code",
   "execution_count": 193,
   "metadata": {},
   "outputs": [],
   "source": [
    "def missing_column(df,per = 0.75):\n",
    "    '''\n",
    "    INPUT:\n",
    "    df - Pandas DataFrame\n",
    "    per - float\n",
    "    \n",
    "    OUTPUT:\n",
    "    df - Pandas DataFrame\n",
    "    \n",
    "    DESC: Returns a list of columns with a missing data rate higher than the threshold value we set.\n",
    "    '''\n",
    "    nan_count_by_column = pd.DataFrame(df.isna().sum() / len(df),columns=['Percentage'])\n",
    "    nan_count_by_column = nan_count_by_column.sort_values(by=['Percentage'], ascending= False)\n",
    "    drop_col = list(nan_count_by_column[nan_count_by_column['Percentage'] > per].index)\n",
    "    \n",
    "    return drop_col\n",
    "\n",
    "def drop_column(df,col):\n",
    "    '''\n",
    "    INPUT:\n",
    "    df - Pandas DataFrame\n",
    "    col - list\n",
    "    \n",
    "    OUTPUT:\n",
    "    df - Pandas DataFrame\n",
    "    \n",
    "    DESC: Removes columns from the input list from the dataset.\n",
    "    '''\n",
    "    try:\n",
    "        df = df.drop(col,axis=1)\n",
    "    except:\n",
    "        print(\"Can't drop the column!!\")\n",
    "    \n",
    "    return df\n",
    "    "
   ]
  },
  {
   "cell_type": "code",
   "execution_count": 194,
   "metadata": {},
   "outputs": [
    {
     "name": "stdout",
     "output_type": "stream",
     "text": [
      "Before Dropping:\n",
      "General Population Dataset Shape:  (10000, 366)\n",
      "Customer Dataset Shape:  (10000, 369)\n",
      "48\n",
      "After Dropping:\n",
      "General Population Dataset Shape:  (10000, 318)\n",
      "Customer Dataset Shape:  (10000, 321)\n"
     ]
    }
   ],
   "source": [
    "print('Before Dropping:')\n",
    "print('General Population Dataset Shape: ', azdias.shape)\n",
    "print('Customer Dataset Shape: ', customers.shape)\n",
    "\n",
    "customers_missing_columns = missing_column(customers)\n",
    "azdias_missing_columns = missing_column(azdias)\n",
    "\n",
    "azdias_missing_columns.extend(customers_missing_columns)\n",
    "drop_col = list(set(azdias_missing_columns))\n",
    "\n",
    "print(len(drop_col))\n",
    "\n",
    "azdias = drop_column(azdias,drop_col)\n",
    "customers = drop_column(customers,drop_col)\n",
    "\n",
    "print('After Dropping:')\n",
    "print('General Population Dataset Shape: ', azdias.shape)\n",
    "print('Customer Dataset Shape: ', customers.shape)"
   ]
  },
  {
   "cell_type": "code",
   "execution_count": 195,
   "metadata": {},
   "outputs": [
    {
     "data": {
      "image/png": "[encoded data removed]",
      "text/plain": [
       "<matplotlib.figure.Figure at 0x7f0f1147f278>"
      ]
     },
     "metadata": {
      "needs_background": "light"
     },
     "output_type": "display_data"
    }
   ],
   "source": [
    "bins = 30\n",
    "fig = plt.figure(figsize=(15, 6))\n",
    "\n",
    "ax = fig.add_subplot(111)\n",
    "ax.set_title(\"No. of Rows vs No. of Missing features\")\n",
    "ax.set_xlabel(\"No. of Missing Features\")\n",
    "ax.set_ylabel(\"No. of Rows\")\n",
    "sns.distplot(azdias.isnull().sum(axis=1), bins, kde=False, ax=ax, label=\"Azdias\")\n",
    "sns.distplot(customers.isnull().sum(axis=1), bins, kde=False, ax=ax, label=\"Customers\")\n",
    "ax.legend()\n",
    "    \n",
    "plt.show()"
   ]
  },
  {
   "cell_type": "code",
   "execution_count": 196,
   "metadata": {},
   "outputs": [],
   "source": [
    "def remove_missing_rows(df, threshold):\n",
    "    '''\n",
    "    INPUT:\n",
    "    df - Pandas DataFrame\n",
    "    threshold - int\n",
    "    \n",
    "    OUTPUT:\n",
    "    df - Pandas DataFrame\n",
    "    \n",
    "    DESC: Removes missing data more than the threshold specified in the row.\n",
    "    '''\n",
    "    total_rows = df.shape[0]\n",
    "    \n",
    "    df = df.dropna(thresh=df.shape[1]-threshold)\n",
    "    \n",
    "    removed_rows = total_rows - df.shape[0]\n",
    "    \n",
    "    df = df.reset_index().drop(['index'],axis=1)\n",
    "    \n",
    "    return df"
   ]
  },
  {
   "cell_type": "code",
   "execution_count": 197,
   "metadata": {},
   "outputs": [
    {
     "name": "stdout",
     "output_type": "stream",
     "text": [
      "Before Dropping:\n",
      "General Population Dataset Shape:  (10000, 318)\n",
      "Customer Dataset Shape:  (10000, 321)\n",
      "After Dropping:\n",
      "General Population Dataset Shape:  (8105, 318)\n",
      "Customer Dataset Shape:  (6893, 321)\n"
     ]
    }
   ],
   "source": [
    "print('Before Dropping:')\n",
    "print('General Population Dataset Shape: ', azdias.shape)\n",
    "print('Customer Dataset Shape: ', customers.shape)\n",
    "\n",
    "customers = remove_missing_rows(customers, threshold=50)\n",
    "azdias = remove_missing_rows(azdias, threshold=50)\n",
    "\n",
    "print('After Dropping:')\n",
    "print('General Population Dataset Shape: ', azdias.shape)\n",
    "print('Customer Dataset Shape: ', customers.shape)"
   ]
  },
  {
   "cell_type": "markdown",
   "metadata": {},
   "source": [
    "## 0.2.3 Categorical Data Cleaning"
   ]
  },
  {
   "cell_type": "markdown",
   "metadata": {},
   "source": [
    "Now that we have solved most of the missing data problem, we can move on to categorical data. Now let's examine the categorical data we have."
   ]
  },
  {
   "cell_type": "code",
   "execution_count": 198,
   "metadata": {},
   "outputs": [],
   "source": [
    "def get_numeric_column_name(df):\n",
    "    '''\n",
    "    INPUT: \n",
    "    df - Pandas DataFrame\n",
    "    \n",
    "    OUTPUT: \n",
    "    col - Column list\n",
    "    \n",
    "    DESC: Returns the column names that are numeric types in the input dataframe.\n",
    "    \n",
    "    '''\n",
    "    col = df.select_dtypes(include = ['int64','float64']).columns\n",
    "    \n",
    "    return col\n",
    "\n",
    "customers_numeric_col = get_numeric_column_name(customers)\n",
    "azdias_numeric_col = get_numeric_column_name(azdias)"
   ]
  },
  {
   "cell_type": "code",
   "execution_count": 199,
   "metadata": {},
   "outputs": [],
   "source": [
    "def get_object_column_name(df):\n",
    "    '''\n",
    "    INPUT: \n",
    "    df - Dandas DataFrame\n",
    "    \n",
    "    OUTPUT: \n",
    "    col - Column list\n",
    "    \n",
    "    DESC: Returns the column names that are objects types in the input dataframe.\n",
    "    \n",
    "    '''\n",
    "    col = df.select_dtypes('object').columns\n",
    "    \n",
    "    return col\n",
    "\n",
    "customers_object_col = get_object_column_name(customers)\n",
    "azdias_object_col = get_object_column_name(azdias)"
   ]
  },
  {
   "cell_type": "code",
   "execution_count": 200,
   "metadata": {},
   "outputs": [
    {
     "name": "stdout",
     "output_type": "stream",
     "text": [
      "CAMEO_DEU_2015 ['8A' '4C' '2A' '6B' '8C' '4A' '2D' '1A' '1E' '9D' '7A' '5D' '9E' '5C' '9B'\n",
      " '1B' '8B' '3D' nan '4E' '4B' '3C' '5A' '7B' '9A' '6E' '6D' '2C' '7C' '9C'\n",
      " '7D' '5E' '1D' '8D' '6C' '6A' '5B' '4D' '3A' '2B' '7E' '3B' '6F' '5F' '1C'\n",
      " 'XX']\n",
      "D19_LETZTER_KAUF_BRANCHE [nan 'D19_UNBEKANNT' 'D19_SCHUHE' 'D19_ENERGIE' 'D19_KOSMETIK'\n",
      " 'D19_SONSTIGE' 'D19_BANKEN_GROSS' 'D19_VOLLSORTIMENT'\n",
      " 'D19_DROGERIEARTIKEL' 'D19_HANDWERK' 'D19_BUCH_CD' 'D19_VERSICHERUNGEN'\n",
      " 'D19_VERSAND_REST' 'D19_TELKO_REST' 'D19_BANKEN_DIREKT' 'D19_BANKEN_REST'\n",
      " 'D19_LEBENSMITTEL' 'D19_HAUS_DEKO' 'D19_BEKLEIDUNG_REST'\n",
      " 'D19_SAMMELARTIKEL' 'D19_TELKO_MOBILE' 'D19_REISEN' 'D19_BEKLEIDUNG_GEH'\n",
      " 'D19_TECHNIK' 'D19_NAHRUNGSERGAENZUNG' 'D19_DIGIT_SERV' 'D19_LOTTO'\n",
      " 'D19_RATGEBER' 'D19_TIERARTIKEL' 'D19_KINDERARTIKEL' 'D19_BIO_OEKO'\n",
      " 'D19_FREIZEIT' 'D19_WEIN_FEINKOST' 'D19_GARTEN' 'D19_BILDUNG'\n",
      " 'D19_BANKEN_LOKAL']\n",
      "EINGEFUEGT_AM ['1992-02-10 00:00:00' '1992-02-12 00:00:00' '1997-04-21 00:00:00'\n",
      " '1995-02-02 00:00:00' '1996-12-05 00:00:00' '1996-05-09 00:00:00'\n",
      " '2005-04-12 00:00:00' '2004-10-14 00:00:00' '1996-10-28 00:00:00'\n",
      " '1996-10-30 00:00:00' '2000-05-10 00:00:00' '1996-03-26 00:00:00'\n",
      " '1997-07-30 00:00:00' '1994-12-20 00:00:00' '1993-10-25 00:00:00'\n",
      " '1995-09-07 00:00:00' '2003-11-18 00:00:00' '1995-10-10 00:00:00'\n",
      " '1995-05-24 00:00:00' '1997-06-28 00:00:00' '1993-02-12 00:00:00'\n",
      " '1997-10-06 00:00:00' '1997-03-10 00:00:00' '1993-07-02 00:00:00'\n",
      " '1995-09-06 00:00:00' '1996-07-03 00:00:00' '1993-03-01 00:00:00'\n",
      " '1994-02-03 00:00:00' '1994-04-11 00:00:00' '1997-06-10 00:00:00'\n",
      " '1993-09-01 00:00:00' '1994-02-11 00:00:00' '1995-02-07 00:00:00'\n",
      " '1994-02-28 00:00:00' '1994-02-15 00:00:00' '1997-01-13 00:00:00'\n",
      " '1997-08-11 00:00:00' '1993-09-28 00:00:00' '1995-08-14 00:00:00'\n",
      " '2004-02-19 00:00:00' '1997-10-02 00:00:00' '2004-02-13 00:00:00'\n",
      " '1999-05-27 00:00:00' '1995-09-28 00:00:00' '2001-04-17 00:00:00'\n",
      " '1997-08-21 00:00:00' '2001-10-17 00:00:00' '1995-07-17 00:00:00'\n",
      " '1993-10-21 00:00:00' '1994-02-23 00:00:00' '1994-03-15 00:00:00'\n",
      " '1993-09-21 00:00:00' '1996-07-04 00:00:00' '1994-04-14 00:00:00'\n",
      " '1995-10-18 00:00:00' '1995-10-19 00:00:00' '1996-11-21 00:00:00'\n",
      " '1997-03-25 00:00:00' '1996-08-12 00:00:00' '1996-02-29 00:00:00'\n",
      " '1997-12-08 00:00:00' '1995-03-20 00:00:00' '2004-04-14 00:00:00'\n",
      " '1998-01-16 00:00:00' '1996-10-14 00:00:00' '1993-11-02 00:00:00'\n",
      " '1993-09-23 00:00:00' '2001-10-11 00:00:00' '1993-01-22 00:00:00'\n",
      " '1996-05-28 00:00:00' '1997-08-05 00:00:00' '1995-04-11 00:00:00'\n",
      " '1992-02-21 00:00:00' '1997-03-11 00:00:00' '1996-02-23 00:00:00'\n",
      " '2003-11-17 00:00:00' '1997-07-24 00:00:00' '2000-07-06 00:00:00'\n",
      " '1996-01-26 00:00:00' '1997-02-26 00:00:00' '1994-05-19 00:00:00'\n",
      " '1994-06-17 00:00:00' '1994-12-13 00:00:00' '1993-04-01 00:00:00'\n",
      " '1994-12-15 00:00:00' '1994-04-12 00:00:00' '1996-05-30 00:00:00'\n",
      " '1996-02-15 00:00:00' '1995-08-08 00:00:00' '1996-06-13 00:00:00'\n",
      " '1994-05-26 00:00:00' '1995-03-29 00:00:00' '1996-03-07 00:00:00'\n",
      " '2005-04-15 00:00:00' '2004-07-12 00:00:00' '1995-09-27 00:00:00'\n",
      " '1997-09-29 00:00:00' '1997-05-10 00:00:00' '1995-09-22 00:00:00'\n",
      " '1997-11-18 00:00:00' '2000-07-31 00:00:00' '1997-08-04 00:00:00'\n",
      " '1994-02-01 00:00:00' '1993-04-07 00:00:00' '1996-09-19 00:00:00'\n",
      " '1993-11-27 00:00:00' '1994-08-31 00:00:00' '1996-08-16 00:00:00'\n",
      " '1998-12-10 00:00:00' '1996-09-25 00:00:00' '1995-10-16 00:00:00'\n",
      " '1993-11-04 00:00:00' '2000-07-07 00:00:00' '1996-06-14 00:00:00'\n",
      " '1995-08-01 00:00:00' '1996-03-27 00:00:00' '1995-06-22 00:00:00'\n",
      " '1993-04-02 00:00:00' '1995-09-01 00:00:00' '1995-08-18 00:00:00'\n",
      " '1993-06-18 00:00:00' '1996-03-04 00:00:00' '1995-07-05 00:00:00'\n",
      " '1994-03-09 00:00:00' '1995-08-07 00:00:00' '1997-07-25 00:00:00'\n",
      " '1996-03-29 00:00:00' '1995-08-17 00:00:00' '1997-10-27 00:00:00'\n",
      " '1994-03-14 00:00:00' '1995-03-15 00:00:00' '1997-11-10 00:00:00'\n",
      " '1994-01-17 00:00:00' '1997-02-25 00:00:00' '2001-09-19 00:00:00'\n",
      " '1996-09-27 00:00:00' '1996-01-29 00:00:00' '1997-04-15 00:00:00'\n",
      " '1995-01-10 00:00:00' '1995-10-13 00:00:00' '2002-07-03 00:00:00'\n",
      " '1995-08-09 00:00:00' '1993-09-22 00:00:00' '1996-08-15 00:00:00'\n",
      " '1994-10-07 00:00:00' '2002-07-04 00:00:00' '1993-08-04 00:00:00'\n",
      " '2004-07-06 00:00:00' '1996-11-14 00:00:00' '1997-05-13 00:00:00'\n",
      " '1994-02-17 00:00:00' '1994-04-19 00:00:00' '1994-02-10 00:00:00'\n",
      " '2004-12-30 00:00:00' '1994-11-28 00:00:00' '1995-07-19 00:00:00'\n",
      " '1996-02-14 00:00:00' '1996-03-15 00:00:00' '1995-07-31 00:00:00'\n",
      " '1994-04-07 00:00:00' '1996-09-24 00:00:00' '1995-06-08 00:00:00'\n",
      " '1993-03-31 00:00:00' '1996-05-22 00:00:00' '1996-10-10 00:00:00'\n",
      " '1996-02-28 00:00:00' '2003-03-10 00:00:00' '2002-06-13 00:00:00'\n",
      " '1995-04-05 00:00:00' '1992-12-23 00:00:00' '1995-10-11 00:00:00'\n",
      " '1997-09-02 00:00:00' '1993-02-03 00:00:00' '1999-03-03 00:00:00'\n",
      " '1998-07-13 00:00:00' '1996-03-18 00:00:00' '2002-06-19 00:00:00'\n",
      " '1996-10-16 00:00:00' '1994-05-06 00:00:00' '1996-02-27 00:00:00'\n",
      " '2000-12-04 00:00:00' '1998-05-25 00:00:00' '2000-09-21 00:00:00'\n",
      " '1998-02-25 00:00:00' '2003-10-09 00:00:00' '2004-06-24 00:00:00'\n",
      " '1994-07-25 00:00:00' '1997-08-12 00:00:00' '1994-08-29 00:00:00'\n",
      " '1997-10-08 00:00:00' '1997-05-05 00:00:00' '1993-12-27 00:00:00'\n",
      " '1996-10-09 00:00:00' '1994-02-04 00:00:00' '1993-09-16 00:00:00'\n",
      " '1994-10-26 00:00:00' '1994-02-16 00:00:00' '1997-01-22 00:00:00'\n",
      " '1996-10-18 00:00:00' '1996-08-14 00:00:00' '1995-08-04 00:00:00'\n",
      " '1997-03-03 00:00:00' '1997-03-20 00:00:00' '1997-03-18 00:00:00'\n",
      " '1995-07-18 00:00:00' '1998-03-16 00:00:00' '1995-06-06 00:00:00'\n",
      " '1994-05-25 00:00:00' '1994-08-04 00:00:00' '1994-09-14 00:00:00'\n",
      " '1995-11-14 00:00:00' '1995-09-08 00:00:00' '1996-03-28 00:00:00'\n",
      " '1994-02-08 00:00:00' '1994-03-21 00:00:00' '1994-03-29 00:00:00'\n",
      " '1995-08-25 00:00:00' '1995-08-23 00:00:00' '1996-09-23 00:00:00'\n",
      " '1994-08-30 00:00:00' '1995-05-12 00:00:00' '1993-01-20 00:00:00'\n",
      " '2002-01-18 00:00:00' '1996-06-24 00:00:00' '1997-02-18 00:00:00'\n",
      " '1996-07-15 00:00:00' '1995-03-21 00:00:00' '2004-03-15 00:00:00'\n",
      " '1994-01-20 00:00:00' '1998-01-26 00:00:00' '1996-02-16 00:00:00'\n",
      " '1994-06-14 00:00:00' '1997-07-23 00:00:00' '1995-09-05 00:00:00'\n",
      " '1997-03-05 00:00:00' '1993-09-20 00:00:00' '1996-08-02 00:00:00'\n",
      " '1995-10-05 00:00:00' '1996-06-27 00:00:00' '2005-03-23 00:00:00'\n",
      " '1997-03-13 00:00:00' '1997-10-22 00:00:00' '1995-03-30 00:00:00'\n",
      " '2003-11-14 00:00:00' '2004-08-30 00:00:00' '2002-03-15 00:00:00'\n",
      " '1996-10-31 00:00:00' '1996-12-30 00:00:00' '1995-08-11 00:00:00'\n",
      " '2003-03-13 00:00:00' '2005-03-09 00:00:00' '1998-02-19 00:00:00'\n",
      " '1997-07-07 00:00:00' '2004-02-20 00:00:00' '1996-08-01 00:00:00'\n",
      " '2002-07-08 00:00:00' '1998-02-18 00:00:00' '1996-03-14 00:00:00'\n",
      " '1999-01-27 00:00:00' '1995-12-04 00:00:00' '1994-01-28 00:00:00'\n",
      " '1994-07-21 00:00:00' '1996-04-18 00:00:00' '1994-11-08 00:00:00'\n",
      " '1995-08-15 00:00:00' '1998-09-04 00:00:00' '1994-04-21 00:00:00'\n",
      " '1995-10-17 00:00:00' '1994-01-14 00:00:00' '1996-11-04 00:00:00'\n",
      " '1997-02-19 00:00:00' '1997-10-09 00:00:00' '1993-09-07 00:00:00'\n",
      " '1993-05-28 00:00:00' '2004-03-07 00:00:00' '1998-06-03 00:00:00'\n",
      " '1993-12-02 00:00:00' '1997-04-09 00:00:00' '1994-05-27 00:00:00'\n",
      " '1995-03-22 00:00:00' '1993-02-24 00:00:00' '1994-08-01 00:00:00'\n",
      " '2000-06-26 00:00:00' '1993-04-26 00:00:00' '1997-01-24 00:00:00'\n",
      " '1996-06-07 00:00:00' '1993-03-23 00:00:00' '2003-02-20 00:00:00'\n",
      " '1997-10-21 00:00:00' '2001-06-25 00:00:00' '2000-10-27 00:00:00'\n",
      " '1994-09-08 00:00:00' '1997-04-08 00:00:00' '1993-03-22 00:00:00'\n",
      " '1993-11-03 00:00:00' '1994-05-20 00:00:00' '1996-07-06 00:00:00'\n",
      " '2004-08-07 00:00:00' '1996-02-06 00:00:00' '1993-04-05 00:00:00'\n",
      " '1996-03-13 00:00:00' '2002-04-17 00:00:00' '1994-02-07 00:00:00'\n",
      " '1996-06-04 00:00:00' '1997-08-28 00:00:00' '1995-09-26 00:00:00'\n",
      " '2003-08-17 00:00:00' '1997-11-05 00:00:00' '1996-03-08 00:00:00'\n",
      " '1994-03-22 00:00:00' '1995-11-03 00:00:00' '1996-07-24 00:00:00'\n",
      " '2000-11-08 00:00:00' '1994-07-07 00:00:00' '1994-12-27 00:00:00'\n",
      " '1994-09-21 00:00:00' '1997-01-23 00:00:00' '1995-08-02 00:00:00'\n",
      " '1997-10-17 00:00:00' '1998-01-22 00:00:00' '1995-07-13 00:00:00'\n",
      " '2002-04-12 00:00:00' '1997-03-07 00:00:00' '1996-07-25 00:00:00'\n",
      " '1993-05-21 00:00:00' '1992-02-19 00:00:00' '1995-09-21 00:00:00'\n",
      " '1997-03-21 00:00:00' '1997-07-16 00:00:00' '1995-12-27 00:00:00'\n",
      " '2000-09-20 00:00:00' '1996-03-20 00:00:00' '1995-12-11 00:00:00'\n",
      " '1995-07-26 00:00:00' '1996-05-03 00:00:00' '1997-05-07 00:00:00'\n",
      " '1994-03-24 00:00:00' '1995-12-28 00:00:00' '1997-08-25 00:00:00'\n",
      " '1996-03-12 00:00:00' '1997-07-09 00:00:00' '1997-05-23 00:00:00'\n",
      " '1997-07-28 00:00:00' '1995-11-10 00:00:00' '1994-03-07 00:00:00'\n",
      " '1996-06-25 00:00:00' '1995-08-24 00:00:00' '1999-09-15 00:00:00'\n",
      " '1996-01-24 00:00:00' '2000-11-15 00:00:00' '1995-11-23 00:00:00'\n",
      " '1994-10-27 00:00:00' '1994-01-19 00:00:00' '1996-08-08 00:00:00'\n",
      " '1997-09-01 00:00:00' '2002-05-16 00:00:00' '1994-09-07 00:00:00'\n",
      " '1998-03-05 00:00:00' '1995-01-24 00:00:00' '2003-12-15 00:00:00'\n",
      " '1994-01-24 00:00:00' '1995-04-18 00:00:00' '1996-01-19 00:00:00'\n",
      " '1994-06-01 00:00:00' '1997-08-26 00:00:00' '1993-09-06 00:00:00'\n",
      " '1998-05-02 00:00:00' '1996-07-23 00:00:00' '1997-07-22 00:00:00'\n",
      " '1995-02-10 00:00:00' '1996-07-16 00:00:00' '1997-05-15 00:00:00'\n",
      " '1996-08-05 00:00:00' '1996-10-01 00:00:00' '1998-12-17 00:00:00'\n",
      " '1999-01-14 00:00:00' '1994-03-01 00:00:00' '1994-01-25 00:00:00'\n",
      " '1996-01-16 00:00:00' '1996-10-11 00:00:00' '1997-01-17 00:00:00'\n",
      " '1996-04-24 00:00:00' '1997-04-01 00:00:00' '1996-05-29 00:00:00'\n",
      " '1997-07-08 00:00:00' '1995-11-17 00:00:00' '1997-04-03 00:00:00'\n",
      " '1995-09-12 00:00:00' '1994-03-28 00:00:00' '1997-04-11 00:00:00'\n",
      " '1997-12-18 00:00:00' '1997-08-01 00:00:00' '1998-04-23 00:00:00'\n",
      " '1993-07-14 00:00:00' '1997-03-26 00:00:00' '1994-06-20 00:00:00'\n",
      " '2000-02-24 00:00:00' '1996-12-23 00:00:00' '1994-04-29 00:00:00'\n",
      " '1997-01-10 00:00:00' '1994-02-21 00:00:00' '1994-05-05 00:00:00'\n",
      " '2003-08-07 00:00:00' '1997-05-21 00:00:00' '1996-02-12 00:00:00'\n",
      " '2000-05-02 00:00:00' '1995-01-25 00:00:00' '1996-07-22 00:00:00'\n",
      " '2002-04-15 00:00:00' '1994-03-18 00:00:00' '1997-02-24 00:00:00'\n",
      " '2002-09-27 00:00:00' '1994-07-29 00:00:00' '1993-02-02 00:00:00'\n",
      " '1995-03-14 00:00:00' '1996-11-12 00:00:00' '1995-10-30 00:00:00'\n",
      " '1996-01-03 00:00:00' '1993-10-26 00:00:00' '1994-07-11 00:00:00'\n",
      " '1997-06-26 00:00:00' '1996-04-09 00:00:00' '2003-11-03 00:00:00'\n",
      " '1997-08-19 00:00:00' '1996-01-12 00:00:00' '1994-03-02 00:00:00'\n",
      " '1996-07-05 00:00:00' '2002-11-07 00:00:00' '2002-09-30 00:00:00'\n",
      " '1996-02-26 00:00:00' '1994-05-04 00:00:00' '1994-08-26 00:00:00'\n",
      " '1997-07-02 00:00:00' '1995-09-11 00:00:00' '1998-04-07 00:00:00'\n",
      " '1996-04-04 00:00:00' '1999-05-21 00:00:00' '1997-12-17 00:00:00'\n",
      " '1994-04-13 00:00:00' '1996-07-09 00:00:00' '2000-09-27 00:00:00'\n",
      " '1995-08-16 00:00:00' '1995-06-29 00:00:00' '1996-02-20 00:00:00'\n",
      " '1996-02-21 00:00:00' '1996-07-08 00:00:00' '1997-06-07 00:00:00'\n",
      " '1997-01-14 00:00:00' '1997-04-24 00:00:00' '1996-01-23 00:00:00'\n",
      " '1997-01-16 00:00:00' '1993-12-20 00:00:00' '1997-07-17 00:00:00'\n",
      " '1995-06-21 00:00:00' '2001-06-26 00:00:00' '1994-09-16 00:00:00'\n",
      " '2002-04-11 00:00:00' '1996-05-31 00:00:00' '1995-06-23 00:00:00'\n",
      " '1994-02-02 00:00:00' '1994-02-18 00:00:00' '1996-10-23 00:00:00'\n",
      " '1995-08-22 00:00:00' '1993-03-20 00:00:00' '2003-09-24 00:00:00'\n",
      " '1995-04-10 00:00:00' '1996-10-22 00:00:00' '1993-09-14 00:00:00'\n",
      " '1996-07-30 00:00:00' '1994-03-25 00:00:00' '1995-08-29 00:00:00'\n",
      " '1993-12-29 00:00:00' '1996-04-01 00:00:00' '1994-08-10 00:00:00'\n",
      " '1998-02-26 00:00:00' '2002-03-13 00:00:00' '2001-06-22 00:00:00'\n",
      " '1998-03-06 00:00:00' '1994-05-18 00:00:00' '1995-09-19 00:00:00'\n",
      " '1993-09-15 00:00:00' '1994-12-05 00:00:00' '1993-04-14 00:00:00'\n",
      " '1996-09-30 00:00:00' '1995-04-19 00:00:00' '1998-11-03 00:00:00'\n",
      " '1996-02-22 00:00:00' '2003-11-21 00:00:00' '1994-09-09 00:00:00'\n",
      " '1999-05-04 00:00:00' '2002-07-29 00:00:00' '1994-02-24 00:00:00'\n",
      " '2000-03-30 00:00:00' '1999-05-18 00:00:00' '1994-03-23 00:00:00'\n",
      " '2002-02-27 00:00:00' '2002-07-09 00:00:00' '1998-07-27 00:00:00'\n",
      " '1996-05-14 00:00:00' '1995-10-12 00:00:00' '1994-03-17 00:00:00'\n",
      " '1995-10-09 00:00:00' '1995-02-23 00:00:00' '2000-06-29 00:00:00'\n",
      " '1999-11-11 00:00:00' '1997-06-27 00:00:00' '1996-05-23 00:00:00'\n",
      " '2002-05-17 00:00:00' '1997-09-26 00:00:00' '1996-06-28 00:00:00'\n",
      " '1996-04-02 00:00:00' '2002-12-16 00:00:00' '1997-10-20 00:00:00'\n",
      " '1995-09-20 00:00:00' '1996-04-23 00:00:00' '1993-04-15 00:00:00'\n",
      " '1994-07-08 00:00:00' '2001-02-14 00:00:00' '2003-05-12 00:00:00'\n",
      " '2003-09-08 00:00:00' '2001-10-01 00:00:00' '1995-04-12 00:00:00'\n",
      " '2000-05-26 00:00:00' '1994-04-05 00:00:00' '2002-03-14 00:00:00'\n",
      " '2001-03-01 00:00:00' '1995-12-18 00:00:00' '1997-05-14 00:00:00'\n",
      " '1996-08-13 00:00:00' '2004-08-31 00:00:00' '1997-08-18 00:00:00'\n",
      " '1995-11-09 00:00:00' '1995-04-03 00:00:00' '1996-08-06 00:00:00'\n",
      " '1997-03-12 00:00:00' '2002-12-06 00:00:00' '1994-07-18 00:00:00'\n",
      " '2001-04-26 00:00:00' '1995-07-14 00:00:00' '1996-10-08 00:00:00'\n",
      " '2004-03-02 00:00:00' '1996-05-02 00:00:00' '1996-04-11 00:00:00'\n",
      " '1997-05-02 00:00:00' '1997-04-17 00:00:00' '2004-02-12 00:00:00'\n",
      " '2003-08-04 00:00:00' '1998-12-23 00:00:00' '1996-07-31 00:00:00'\n",
      " '1994-04-06 00:00:00' '1996-03-19 00:00:00' '2003-05-06 00:00:00'\n",
      " '1998-01-13 00:00:00' '2003-12-30 00:00:00' '1995-01-26 00:00:00'\n",
      " '1995-11-27 00:00:00' '1997-03-17 00:00:00' '2004-12-12 00:00:00'\n",
      " '1995-05-19 00:00:00' '1994-09-26 00:00:00' '2003-07-25 00:00:00'\n",
      " '2000-09-04 00:00:00' '1997-07-03 00:00:00' '1995-01-19 00:00:00'\n",
      " '1995-06-30 00:00:00' '1993-01-19 00:00:00' '1998-08-05 00:00:00'\n",
      " '1997-06-30 00:00:00' '1997-02-01 00:00:00' '1999-02-02 00:00:00'\n",
      " '1997-06-21 00:00:00' '2002-08-29 00:00:00' '1994-12-12 00:00:00'\n",
      " '2001-11-07 00:00:00' '2002-03-05 00:00:00' '1994-07-13 00:00:00'\n",
      " '1997-07-21 00:00:00' '2000-12-08 00:00:00' '1995-10-04 00:00:00'\n",
      " '1997-03-19 00:00:00' '1997-03-06 00:00:00' '1994-08-05 00:00:00'\n",
      " '1997-03-04 00:00:00' '1997-05-03 00:00:00' '1995-01-11 00:00:00'\n",
      " '1995-03-24 00:00:00' '2001-06-06 00:00:00' '1996-07-18 00:00:00'\n",
      " '1996-11-26 00:00:00' '1998-07-14 00:00:00' '1995-11-16 00:00:00'\n",
      " '2003-07-31 00:00:00' '1996-03-05 00:00:00' '2002-04-10 00:00:00'\n",
      " '2002-05-13 00:00:00' '1994-07-20 00:00:00' '1995-09-13 00:00:00'\n",
      " '1997-01-28 00:00:00' '2004-09-24 00:00:00' '1995-10-02 00:00:00'\n",
      " '1997-01-07 00:00:00' '2002-01-14 00:00:00' '2004-03-03 00:00:00'\n",
      " '1994-01-27 00:00:00' '2001-04-10 00:00:00' '1995-12-07 00:00:00'\n",
      " '1996-04-03 00:00:00' '1995-11-30 00:00:00' '1995-06-28 00:00:00'\n",
      " '1994-05-13 00:00:00' '1994-09-02 00:00:00' '1993-01-28 00:00:00'\n",
      " '1993-10-29 00:00:00' '1997-05-26 00:00:00' '1993-09-29 00:00:00'\n",
      " '2002-12-13 00:00:00' '1996-04-17 00:00:00' '1996-03-06 00:00:00'\n",
      " '1998-01-20 00:00:00' '1997-01-02 00:00:00' '1994-11-18 00:00:00'\n",
      " '1996-05-24 00:00:00' '1996-02-09 00:00:00' '1996-06-05 00:00:00'\n",
      " '2004-12-03 00:00:00' '1993-12-03 00:00:00' '2003-11-22 00:00:00'\n",
      " '2000-08-21 00:00:00' '1996-01-05 00:00:00' '2000-10-09 00:00:00'\n",
      " '1995-12-13 00:00:00' '1996-05-13 00:00:00' '1996-04-30 00:00:00'\n",
      " '1996-01-22 00:00:00' '2003-10-16 00:00:00' '1994-06-16 00:00:00'\n",
      " '1996-04-16 00:00:00' '2003-09-03 00:00:00' '1995-09-18 00:00:00'\n",
      " '2000-11-30 00:00:00' '1996-03-21 00:00:00' '1994-03-08 00:00:00'\n",
      " '1994-02-22 00:00:00' '1997-11-24 00:00:00' '1998-09-22 00:00:00'\n",
      " '1995-03-28 00:00:00' '2000-10-12 00:00:00' '1995-07-25 00:00:00'\n",
      " '1993-09-27 00:00:00' '1996-10-15 00:00:00' '1997-09-25 00:00:00'\n",
      " '1995-12-12 00:00:00' '1997-06-11 00:00:00' '1996-07-26 00:00:00'\n",
      " '1993-10-15 00:00:00' '1997-09-03 00:00:00' '1998-03-11 00:00:00'\n",
      " '1995-10-06 00:00:00' '1993-04-06 00:00:00' '1996-06-20 00:00:00'\n",
      " '2003-08-26 00:00:00' '1997-10-01 00:00:00' '2004-07-01 00:00:00'\n",
      " '2002-08-08 00:00:00' '1995-06-02 00:00:00' '1995-04-20 00:00:00'\n",
      " '1995-04-06 00:00:00' '1997-09-22 00:00:00' '1995-07-20 00:00:00'\n",
      " '2004-09-27 00:00:00' '1999-01-21 00:00:00' '1993-08-31 00:00:00'\n",
      " '1997-02-27 00:00:00' '1993-06-30 00:00:00' '1993-09-08 00:00:00'\n",
      " '1997-10-13 00:00:00' '1997-02-11 00:00:00' '2001-03-08 00:00:00'\n",
      " '1997-07-31 00:00:00' '1994-01-11 00:00:00' '1996-12-06 00:00:00'\n",
      " '1997-03-14 00:00:00' '1999-01-05 00:00:00' '2002-01-17 00:00:00'\n",
      " '2005-03-15 00:00:00' '1997-04-02 00:00:00' '1996-11-06 00:00:00'\n",
      " '1994-06-13 00:00:00' '2002-09-02 00:00:00' '1996-12-20 00:00:00'\n",
      " '1997-07-14 00:00:00' '1996-02-07 00:00:00' '1996-11-16 00:00:00'\n",
      " '1993-05-18 00:00:00' '1993-04-16 00:00:00' '1998-04-08 00:00:00'\n",
      " '1999-02-15 00:00:00' '1996-02-08 00:00:00' '1997-04-10 00:00:00'\n",
      " '1997-09-24 00:00:00' '1993-06-03 00:00:00' '1994-06-22 00:00:00'\n",
      " '2001-04-04 00:00:00' '1993-06-25 00:00:00' '1997-09-23 00:00:00'\n",
      " '1996-09-26 00:00:00' '1995-08-10 00:00:00' '2002-05-27 00:00:00'\n",
      " '1996-12-13 00:00:00' '1996-07-17 00:00:00' '1997-05-22 00:00:00'\n",
      " '1998-02-11 00:00:00' '1993-07-15 00:00:00' '2004-06-23 00:00:00'\n",
      " '1996-02-05 00:00:00' '1995-02-13 00:00:00' '1995-07-24 00:00:00'\n",
      " '1998-01-19 00:00:00' '1998-04-16 00:00:00' '1996-10-04 00:00:00'\n",
      " '2004-05-06 00:00:00' '1994-06-21 00:00:00' '1997-10-14 00:00:00'\n",
      " '2003-10-22 00:00:00' '1998-02-23 00:00:00' '2004-07-27 00:00:00'\n",
      " '2001-10-12 00:00:00' '1994-03-16 00:00:00' '2004-05-11 00:00:00'\n",
      " '2003-11-04 00:00:00' '2001-03-28 00:00:00' '1997-07-11 00:00:00']\n",
      "OST_WEST_KZ ['W' 'O']\n"
     ]
    }
   ],
   "source": [
    "print_unique_values(azdias,azdias_object_col)"
   ]
  },
  {
   "cell_type": "markdown",
   "metadata": {},
   "source": [
    "* D19_LETZTER_KAUF_BRANCHE - Indicates the last purchase sector.\n",
    "* CAMEO_DEU_2015 - Indicates the special group it belongs to.\n",
    "* EINGEFUEGT_AM - Data insert date.\n",
    "* OST_WEST_KZ - Flag indicating the former GDR/FRG.\n",
    "\n",
    "Since the CAMEO_DEU_2015 and D19_LETZTER_KAUF_BRANCHE columns contain very detailed information, we will abandon these columns to simplify our model.\n",
    "\n",
    "Using only the year column in the EINGEFUEGT_AM column is a good way to simplify our model.\n",
    "\n",
    "The OST_WEST_KZ column seems quite reasonable for encoding."
   ]
  },
  {
   "cell_type": "code",
   "execution_count": 201,
   "metadata": {},
   "outputs": [],
   "source": [
    "customers['EINGEFUEGT_AM'] = pd.to_datetime(customers['EINGEFUEGT_AM'])\n",
    "customers['EINGEFUEGT_AM_YEAR'] = customers['EINGEFUEGT_AM'].dt.year\n",
    "\n",
    "azdias['EINGEFUEGT_AM'] = pd.to_datetime(azdias['EINGEFUEGT_AM'])\n",
    "azdias['EINGEFUEGT_AM_YEAR'] = azdias['EINGEFUEGT_AM'].dt.year"
   ]
  },
  {
   "cell_type": "code",
   "execution_count": 202,
   "metadata": {},
   "outputs": [
    {
     "name": "stdout",
     "output_type": "stream",
     "text": [
      "Before Dropping:\n",
      "General Population Dataset Shape:  (8105, 319)\n",
      "Customer Dataset Shape:  (6893, 322)\n",
      "After Dropping:\n",
      "General Population Dataset Shape:  (8105, 316)\n",
      "Customer Dataset Shape:  (6893, 319)\n"
     ]
    }
   ],
   "source": [
    "print('Before Dropping:')\n",
    "print('General Population Dataset Shape: ', azdias.shape)\n",
    "print('Customer Dataset Shape: ', customers.shape)\n",
    "\n",
    "drop_col = ['CAMEO_DEU_2015','D19_LETZTER_KAUF_BRANCHE','EINGEFUEGT_AM']\n",
    "\n",
    "azdias = drop_column(azdias,drop_col)\n",
    "customers = drop_column(customers,drop_col)\n",
    "\n",
    "print('After Dropping:')\n",
    "print('General Population Dataset Shape: ', azdias.shape)\n",
    "print('Customer Dataset Shape: ', customers.shape)"
   ]
  },
  {
   "cell_type": "markdown",
   "metadata": {},
   "source": [
    "We have one last thing left to do with categorical data: encode the OST_WEST_KZ column. But before we move on to this, we need to separate the extra columns in the customers verse from the dataset in order not to cause problems in the model we created in the later sections."
   ]
  },
  {
   "cell_type": "code",
   "execution_count": 203,
   "metadata": {},
   "outputs": [
    {
     "data": {
      "text/plain": [
       "['PRODUCT_GROUP', 'CUSTOMER_GROUP', 'ONLINE_PURCHASE']"
      ]
     },
     "execution_count": 203,
     "metadata": {},
     "output_type": "execute_result"
    }
   ],
   "source": [
    "extra_columns = list(set(customers.columns) - set(azdias.columns))\n",
    "extra_columns"
   ]
  },
  {
   "cell_type": "code",
   "execution_count": 204,
   "metadata": {},
   "outputs": [],
   "source": [
    "extra_columns_data = customers[extra_columns]\n",
    "customers = drop_column(customers,extra_columns)"
   ]
  },
  {
   "cell_type": "code",
   "execution_count": 205,
   "metadata": {},
   "outputs": [],
   "source": [
    "obj_col_customers = get_object_column_name(customers)\n",
    "obj_col_azdias = get_object_column_name(azdias)"
   ]
  },
  {
   "cell_type": "code",
   "execution_count": 206,
   "metadata": {},
   "outputs": [],
   "source": [
    "def create_dummy_df(df, cat_cols, dummy_na):\n",
    "    '''\n",
    "    INPUT:\n",
    "    df - pandas dataframe with categorical variables you want to dummy\n",
    "    cat_cols - list of strings that are associated with names of the categorical columns\n",
    "    dummy_na - Bool holding whether you want to dummy NA vals of categorical columns or not\n",
    "    \n",
    "    OUTPUT:\n",
    "    df - a new dataframe that has the following characteristics:\n",
    "            1. contains all columns that were not specified as categorical\n",
    "            2. removes all the original columns in cat_cols\n",
    "            3. dummy columns for each of the categorical columns in cat_cols\n",
    "            4. if dummy_na is True - it also contains dummy columns for the NaN values\n",
    "            5. Use a prefix of the column name with an underscore (_) for separating \n",
    "    '''\n",
    "    for col in cat_cols:\n",
    "        try:\n",
    "            df = pd.concat([df.drop(col,axis=1),pd.get_dummies(df[col], prefix=col, prefix_sep='_', drop_first=True, dummy_na=dummy_na)],axis=1)\n",
    "        except:\n",
    "            continue\n",
    "    return df"
   ]
  },
  {
   "cell_type": "code",
   "execution_count": 207,
   "metadata": {},
   "outputs": [],
   "source": [
    "customers = create_dummy_df(customers, obj_col_customers, False)\n",
    "azdias = create_dummy_df(azdias, obj_col_azdias, False)"
   ]
  },
  {
   "cell_type": "code",
   "execution_count": 208,
   "metadata": {},
   "outputs": [
    {
     "name": "stdout",
     "output_type": "stream",
     "text": [
      "General Population Dataset Shape:  (8105, 316)\n",
      "Customer Dataset Shape:  (6893, 316)\n"
     ]
    }
   ],
   "source": [
    "print('General Population Dataset Shape: ', azdias.shape)\n",
    "print('Customer Dataset Shape: ', customers.shape)"
   ]
  },
  {
   "cell_type": "markdown",
   "metadata": {},
   "source": [
    "## 0.2.4 Unique Value"
   ]
  },
  {
   "cell_type": "markdown",
   "metadata": {},
   "source": [
    "Since the columns that are the same as the number of datasets are id or index, these columns identify the person or row. Therefore, we cannot extract features from these columns."
   ]
  },
  {
   "cell_type": "code",
   "execution_count": 209,
   "metadata": {},
   "outputs": [
    {
     "name": "stdout",
     "output_type": "stream",
     "text": [
      "LNR is dropped from customers.\n",
      "LNR is dropped from azdias.\n"
     ]
    }
   ],
   "source": [
    "for col in customers.columns:\n",
    "    if len(customers[col].unique()) == len(customers):\n",
    "        LNR_customers = customers[col]\n",
    "        customers = customers.drop([col],axis=1)\n",
    "        print(col,'is dropped from customers.')\n",
    "        \n",
    "for col in azdias.columns:\n",
    "    if len(azdias[col].unique()) == len(azdias):\n",
    "        LNR_azdias = azdias[col]\n",
    "        azdias = azdias.drop([col],axis=1)\n",
    "        print(col,'is dropped from azdias.')"
   ]
  },
  {
   "cell_type": "markdown",
   "metadata": {},
   "source": [
    "**LNR column is something like id or index. Therefore, this column has been dropped.**"
   ]
  },
  {
   "cell_type": "markdown",
   "metadata": {},
   "source": [
    "## 0.2.5 Imputing Missing Values"
   ]
  },
  {
   "cell_type": "code",
   "execution_count": 210,
   "metadata": {},
   "outputs": [
    {
     "data": {
      "text/plain": [
       "Text(0.5,1,'Percent missing data by feature')"
      ]
     },
     "execution_count": 210,
     "metadata": {},
     "output_type": "execute_result"
    },
    {
     "data": {
      "image/png": "[encoded data removed]",
      "text/plain": [
       "<matplotlib.figure.Figure at 0x7f0f111bb588>"
      ]
     },
     "metadata": {
      "needs_background": "light"
     },
     "output_type": "display_data"
    }
   ],
   "source": [
    "total = azdias.isnull().sum().sort_values(ascending=False)\n",
    "percent = (azdias.isnull().sum()/azdias.isnull().count()).sort_values(ascending=False)\n",
    "missing_data = pd.concat([total, percent], axis=1, keys=['Total', 'Percent'])\n",
    "missing_data = missing_data[missing_data['Percent'] > 0.5]\n",
    "f, ax = plt.subplots(figsize=(15, 6))\n",
    "plt.xticks(rotation='90')\n",
    "sns.barplot(x=missing_data.index, y=missing_data['Percent'])\n",
    "plt.xlabel('Azdias', fontsize=15)\n",
    "plt.ylabel('Percent of missing values', fontsize=15)\n",
    "plt.title('Percent missing data by feature', fontsize=15)"
   ]
  },
  {
   "cell_type": "markdown",
   "metadata": {},
   "source": [
    "Until we got to this stage, we deleted many columns and lost data. But there are still missing data as seen in the chart above. Now it's time to fill in this data. Missing data are usually filled in with the mean or most common values.\n",
    "\n",
    "We will fill in our missing data by assigning the most common data, which is the most appropriate method for demographic data."
   ]
  },
  {
   "cell_type": "code",
   "execution_count": 211,
   "metadata": {},
   "outputs": [],
   "source": [
    "def fill_missing_value(df,missing_value = 'NaN',strategy = 'most_frequent'):\n",
    "    '''\n",
    "    INPUT:\n",
    "    df - Pandas DataFrame\n",
    "    missing_value - string\n",
    "    strategy - string\n",
    "    \n",
    "    OUTPUT:\n",
    "    df - Pandas DataFrame\n",
    "    \n",
    "    DESC: Fills the missing data in the Data Set according to the specified strategy.\n",
    "    '''\n",
    "    col = df.columns\n",
    "    \n",
    "    imputer = Imputer(missing_values=missing_value, strategy=strategy, axis=0)\n",
    "    df = imputer.fit_transform(df)\n",
    "    \n",
    "    return pd.DataFrame(df,columns = col)"
   ]
  },
  {
   "cell_type": "code",
   "execution_count": 212,
   "metadata": {},
   "outputs": [],
   "source": [
    "customers = fill_missing_value(customers)\n",
    "azdias = fill_missing_value(azdias)"
   ]
  },
  {
   "cell_type": "code",
   "execution_count": 213,
   "metadata": {},
   "outputs": [
    {
     "name": "stdout",
     "output_type": "stream",
     "text": [
      "Number of missing data in Azdias dataset: 0\n",
      "Number of missing data in Customers dataset: 0\n"
     ]
    }
   ],
   "source": [
    "print('Number of missing data in Azdias dataset:',np.sum(azdias.isna().sum()))\n",
    "print('Number of missing data in Customers dataset:',np.sum(customers.isna().sum()))"
   ]
  },
  {
   "cell_type": "markdown",
   "metadata": {},
   "source": [
    "## 0.2.6 Standardizing Data"
   ]
  },
  {
   "cell_type": "markdown",
   "metadata": {},
   "source": [
    "**We no longer have missing data... We can celebrate that. Because we've come a long way.**\n",
    "\n",
    "But there is one last step left to complete the data preprocessing step. In order not to mislead the data into our model, we need to pass it through the standardization process."
   ]
  },
  {
   "cell_type": "code",
   "execution_count": 214,
   "metadata": {},
   "outputs": [],
   "source": [
    "def standartize_data(df):\n",
    "    '''\n",
    "    INPUT:\n",
    "    df - Pandas DataFrame\n",
    "    \n",
    "    OUTPUT: \n",
    "    df - Pandas DataFrame\n",
    "    scale - trained model\n",
    "    \n",
    "    DESC: Standardizes the given dataset.\n",
    "    '''\n",
    "\n",
    "    scale = StandardScaler(copy=False)\n",
    "\n",
    "    df[df.columns] = scale.fit_transform(df)\n",
    "    \n",
    "    return df, scale"
   ]
  },
  {
   "cell_type": "code",
   "execution_count": 215,
   "metadata": {},
   "outputs": [],
   "source": [
    "azdias,scale = standartize_data(azdias)\n",
    "col = customers.columns\n",
    "customers[col] = scale.transform(customers)"
   ]
  },
  {
   "cell_type": "code",
   "execution_count": 216,
   "metadata": {},
   "outputs": [
    {
     "data": {
      "text/html": [
       "<div>\n",
       "<style scoped>\n",
       "    .dataframe tbody tr th:only-of-type {\n",
       "        vertical-align: middle;\n",
       "    }\n",
       "\n",
       "    .dataframe tbody tr th {\n",
       "        vertical-align: top;\n",
       "    }\n",
       "\n",
       "    .dataframe thead th {\n",
       "        text-align: right;\n",
       "    }\n",
       "</style>\n",
       "<table border=\"1\" class=\"dataframe\">\n",
       "  <thead>\n",
       "    <tr style=\"text-align: right;\">\n",
       "      <th></th>\n",
       "      <th>AKT_DAT_KL</th>\n",
       "      <th>ALTER_HH</th>\n",
       "      <th>ALTERSKATEGORIE_FEIN</th>\n",
       "      <th>ANZ_HAUSHALTE_AKTIV</th>\n",
       "      <th>ANZ_HH_TITEL</th>\n",
       "      <th>ANZ_KINDER</th>\n",
       "      <th>ANZ_PERSONEN</th>\n",
       "      <th>ANZ_STATISTISCHE_HAUSHALTE</th>\n",
       "      <th>ANZ_TITEL</th>\n",
       "      <th>ARBEIT</th>\n",
       "      <th>...</th>\n",
       "      <th>VK_DISTANZ</th>\n",
       "      <th>VK_ZG11</th>\n",
       "      <th>W_KEIT_KIND_HH</th>\n",
       "      <th>WOHNDAUER_2008</th>\n",
       "      <th>WOHNLAGE</th>\n",
       "      <th>ZABEOTYP</th>\n",
       "      <th>ANREDE_KZ</th>\n",
       "      <th>ALTERSKATEGORIE_GROB</th>\n",
       "      <th>EINGEFUEGT_AM_YEAR</th>\n",
       "      <th>OST_WEST_KZ_W</th>\n",
       "    </tr>\n",
       "  </thead>\n",
       "  <tbody>\n",
       "    <tr>\n",
       "      <th>0</th>\n",
       "      <td>1.266336</td>\n",
       "      <td>0.568824</td>\n",
       "      <td>2.066766</td>\n",
       "      <td>0.193916</td>\n",
       "      <td>-0.115906</td>\n",
       "      <td>-0.302206</td>\n",
       "      <td>0.224317</td>\n",
       "      <td>0.328199</td>\n",
       "      <td>-0.06182</td>\n",
       "      <td>-0.180699</td>\n",
       "      <td>...</td>\n",
       "      <td>1.070694</td>\n",
       "      <td>1.465259</td>\n",
       "      <td>-0.739848</td>\n",
       "      <td>0.578743</td>\n",
       "      <td>-0.031663</td>\n",
       "      <td>1.133877</td>\n",
       "      <td>0.938820</td>\n",
       "      <td>-1.665273</td>\n",
       "      <td>-0.440272</td>\n",
       "      <td>0.536218</td>\n",
       "    </tr>\n",
       "    <tr>\n",
       "      <th>1</th>\n",
       "      <td>1.266336</td>\n",
       "      <td>0.275565</td>\n",
       "      <td>0.801335</td>\n",
       "      <td>0.126456</td>\n",
       "      <td>-0.115906</td>\n",
       "      <td>-0.302206</td>\n",
       "      <td>-0.611971</td>\n",
       "      <td>-0.030908</td>\n",
       "      <td>-0.06182</td>\n",
       "      <td>-0.180699</td>\n",
       "      <td>...</td>\n",
       "      <td>0.455562</td>\n",
       "      <td>0.029278</td>\n",
       "      <td>-0.739848</td>\n",
       "      <td>0.578743</td>\n",
       "      <td>-1.096515</td>\n",
       "      <td>1.133877</td>\n",
       "      <td>0.938820</td>\n",
       "      <td>0.184143</td>\n",
       "      <td>-0.440272</td>\n",
       "      <td>0.536218</td>\n",
       "    </tr>\n",
       "    <tr>\n",
       "      <th>2</th>\n",
       "      <td>-0.935633</td>\n",
       "      <td>-0.897469</td>\n",
       "      <td>-0.464095</td>\n",
       "      <td>-0.480686</td>\n",
       "      <td>-0.115906</td>\n",
       "      <td>-0.302206</td>\n",
       "      <td>-1.448259</td>\n",
       "      <td>-0.390016</td>\n",
       "      <td>-0.06182</td>\n",
       "      <td>-1.186584</td>\n",
       "      <td>...</td>\n",
       "      <td>0.763128</td>\n",
       "      <td>1.824255</td>\n",
       "      <td>0.952317</td>\n",
       "      <td>0.578743</td>\n",
       "      <td>1.565615</td>\n",
       "      <td>-0.297710</td>\n",
       "      <td>0.938820</td>\n",
       "      <td>1.108851</td>\n",
       "      <td>1.620721</td>\n",
       "      <td>0.536218</td>\n",
       "    </tr>\n",
       "    <tr>\n",
       "      <th>3</th>\n",
       "      <td>-0.935633</td>\n",
       "      <td>1.155341</td>\n",
       "      <td>-0.147738</td>\n",
       "      <td>-0.345766</td>\n",
       "      <td>-0.115906</td>\n",
       "      <td>-0.302206</td>\n",
       "      <td>1.896894</td>\n",
       "      <td>-0.318194</td>\n",
       "      <td>-0.06182</td>\n",
       "      <td>0.825186</td>\n",
       "      <td>...</td>\n",
       "      <td>-0.774702</td>\n",
       "      <td>-0.688713</td>\n",
       "      <td>-1.303903</td>\n",
       "      <td>0.578743</td>\n",
       "      <td>-0.564089</td>\n",
       "      <td>0.418083</td>\n",
       "      <td>-1.065167</td>\n",
       "      <td>0.184143</td>\n",
       "      <td>-0.440272</td>\n",
       "      <td>0.536218</td>\n",
       "    </tr>\n",
       "    <tr>\n",
       "      <th>4</th>\n",
       "      <td>-0.935633</td>\n",
       "      <td>-1.777245</td>\n",
       "      <td>-1.413169</td>\n",
       "      <td>-0.210845</td>\n",
       "      <td>-0.115906</td>\n",
       "      <td>-0.302206</td>\n",
       "      <td>-0.611971</td>\n",
       "      <td>-0.390016</td>\n",
       "      <td>-0.06182</td>\n",
       "      <td>-1.186584</td>\n",
       "      <td>...</td>\n",
       "      <td>-0.159570</td>\n",
       "      <td>-0.688713</td>\n",
       "      <td>0.952317</td>\n",
       "      <td>0.578743</td>\n",
       "      <td>1.565615</td>\n",
       "      <td>0.418083</td>\n",
       "      <td>0.938820</td>\n",
       "      <td>-1.665273</td>\n",
       "      <td>-0.440272</td>\n",
       "      <td>0.536218</td>\n",
       "    </tr>\n",
       "  </tbody>\n",
       "</table>\n",
       "<p>5 rows × 315 columns</p>\n",
       "</div>"
      ],
      "text/plain": [
       "   AKT_DAT_KL  ALTER_HH  ALTERSKATEGORIE_FEIN  ANZ_HAUSHALTE_AKTIV  \\\n",
       "0    1.266336  0.568824              2.066766             0.193916   \n",
       "1    1.266336  0.275565              0.801335             0.126456   \n",
       "2   -0.935633 -0.897469             -0.464095            -0.480686   \n",
       "3   -0.935633  1.155341             -0.147738            -0.345766   \n",
       "4   -0.935633 -1.777245             -1.413169            -0.210845   \n",
       "\n",
       "   ANZ_HH_TITEL  ANZ_KINDER  ANZ_PERSONEN  ANZ_STATISTISCHE_HAUSHALTE  \\\n",
       "0     -0.115906   -0.302206      0.224317                    0.328199   \n",
       "1     -0.115906   -0.302206     -0.611971                   -0.030908   \n",
       "2     -0.115906   -0.302206     -1.448259                   -0.390016   \n",
       "3     -0.115906   -0.302206      1.896894                   -0.318194   \n",
       "4     -0.115906   -0.302206     -0.611971                   -0.390016   \n",
       "\n",
       "   ANZ_TITEL    ARBEIT      ...        VK_DISTANZ   VK_ZG11  W_KEIT_KIND_HH  \\\n",
       "0   -0.06182 -0.180699      ...          1.070694  1.465259       -0.739848   \n",
       "1   -0.06182 -0.180699      ...          0.455562  0.029278       -0.739848   \n",
       "2   -0.06182 -1.186584      ...          0.763128  1.824255        0.952317   \n",
       "3   -0.06182  0.825186      ...         -0.774702 -0.688713       -1.303903   \n",
       "4   -0.06182 -1.186584      ...         -0.159570 -0.688713        0.952317   \n",
       "\n",
       "   WOHNDAUER_2008  WOHNLAGE  ZABEOTYP  ANREDE_KZ  ALTERSKATEGORIE_GROB  \\\n",
       "0        0.578743 -0.031663  1.133877   0.938820             -1.665273   \n",
       "1        0.578743 -1.096515  1.133877   0.938820              0.184143   \n",
       "2        0.578743  1.565615 -0.297710   0.938820              1.108851   \n",
       "3        0.578743 -0.564089  0.418083  -1.065167              0.184143   \n",
       "4        0.578743  1.565615  0.418083   0.938820             -1.665273   \n",
       "\n",
       "   EINGEFUEGT_AM_YEAR  OST_WEST_KZ_W  \n",
       "0           -0.440272       0.536218  \n",
       "1           -0.440272       0.536218  \n",
       "2            1.620721       0.536218  \n",
       "3           -0.440272       0.536218  \n",
       "4           -0.440272       0.536218  \n",
       "\n",
       "[5 rows x 315 columns]"
      ]
     },
     "execution_count": 216,
     "metadata": {},
     "output_type": "execute_result"
    }
   ],
   "source": [
    "azdias.head()"
   ]
  },
  {
   "cell_type": "code",
   "execution_count": 217,
   "metadata": {},
   "outputs": [
    {
     "data": {
      "text/html": [
       "<div>\n",
       "<style scoped>\n",
       "    .dataframe tbody tr th:only-of-type {\n",
       "        vertical-align: middle;\n",
       "    }\n",
       "\n",
       "    .dataframe tbody tr th {\n",
       "        vertical-align: top;\n",
       "    }\n",
       "\n",
       "    .dataframe thead th {\n",
       "        text-align: right;\n",
       "    }\n",
       "</style>\n",
       "<table border=\"1\" class=\"dataframe\">\n",
       "  <thead>\n",
       "    <tr style=\"text-align: right;\">\n",
       "      <th></th>\n",
       "      <th>AKT_DAT_KL</th>\n",
       "      <th>ALTER_HH</th>\n",
       "      <th>ALTERSKATEGORIE_FEIN</th>\n",
       "      <th>ANZ_HAUSHALTE_AKTIV</th>\n",
       "      <th>ANZ_HH_TITEL</th>\n",
       "      <th>ANZ_KINDER</th>\n",
       "      <th>ANZ_PERSONEN</th>\n",
       "      <th>ANZ_STATISTISCHE_HAUSHALTE</th>\n",
       "      <th>ANZ_TITEL</th>\n",
       "      <th>ARBEIT</th>\n",
       "      <th>...</th>\n",
       "      <th>VK_DISTANZ</th>\n",
       "      <th>VK_ZG11</th>\n",
       "      <th>W_KEIT_KIND_HH</th>\n",
       "      <th>WOHNDAUER_2008</th>\n",
       "      <th>WOHNLAGE</th>\n",
       "      <th>ZABEOTYP</th>\n",
       "      <th>ANREDE_KZ</th>\n",
       "      <th>ALTERSKATEGORIE_GROB</th>\n",
       "      <th>EINGEFUEGT_AM_YEAR</th>\n",
       "      <th>OST_WEST_KZ_W</th>\n",
       "    </tr>\n",
       "  </thead>\n",
       "  <tbody>\n",
       "    <tr>\n",
       "      <th>0</th>\n",
       "      <td>-0.935633</td>\n",
       "      <td>-1.777245</td>\n",
       "      <td>-1.413169</td>\n",
       "      <td>-0.480686</td>\n",
       "      <td>-0.115906</td>\n",
       "      <td>-0.302206</td>\n",
       "      <td>0.224317</td>\n",
       "      <td>-0.461837</td>\n",
       "      <td>-0.06182</td>\n",
       "      <td>-2.192469</td>\n",
       "      <td>...</td>\n",
       "      <td>-1.389834</td>\n",
       "      <td>-1.406704</td>\n",
       "      <td>0.952317</td>\n",
       "      <td>0.578743</td>\n",
       "      <td>1.565615</td>\n",
       "      <td>-0.297710</td>\n",
       "      <td>-1.065167</td>\n",
       "      <td>1.108851</td>\n",
       "      <td>-0.440272</td>\n",
       "      <td>0.536218</td>\n",
       "    </tr>\n",
       "    <tr>\n",
       "      <th>1</th>\n",
       "      <td>-0.935633</td>\n",
       "      <td>-2.950280</td>\n",
       "      <td>-1.413169</td>\n",
       "      <td>-0.480686</td>\n",
       "      <td>-0.115906</td>\n",
       "      <td>-0.302206</td>\n",
       "      <td>-0.611971</td>\n",
       "      <td>-0.461837</td>\n",
       "      <td>-0.06182</td>\n",
       "      <td>-0.180699</td>\n",
       "      <td>...</td>\n",
       "      <td>1.685826</td>\n",
       "      <td>1.824255</td>\n",
       "      <td>0.952317</td>\n",
       "      <td>0.578743</td>\n",
       "      <td>-1.096515</td>\n",
       "      <td>-0.297710</td>\n",
       "      <td>0.938820</td>\n",
       "      <td>1.108851</td>\n",
       "      <td>-0.440272</td>\n",
       "      <td>0.536218</td>\n",
       "    </tr>\n",
       "    <tr>\n",
       "      <th>2</th>\n",
       "      <td>-0.935633</td>\n",
       "      <td>-2.363762</td>\n",
       "      <td>-2.045884</td>\n",
       "      <td>-0.548146</td>\n",
       "      <td>-0.115906</td>\n",
       "      <td>-0.302206</td>\n",
       "      <td>-1.448259</td>\n",
       "      <td>-0.461837</td>\n",
       "      <td>-0.06182</td>\n",
       "      <td>-2.192469</td>\n",
       "      <td>...</td>\n",
       "      <td>-1.082268</td>\n",
       "      <td>-1.406704</td>\n",
       "      <td>0.952317</td>\n",
       "      <td>0.578743</td>\n",
       "      <td>1.565615</td>\n",
       "      <td>-1.729297</td>\n",
       "      <td>-1.065167</td>\n",
       "      <td>1.108851</td>\n",
       "      <td>-0.440272</td>\n",
       "      <td>0.536218</td>\n",
       "    </tr>\n",
       "    <tr>\n",
       "      <th>3</th>\n",
       "      <td>-0.935633</td>\n",
       "      <td>1.155341</td>\n",
       "      <td>-0.147738</td>\n",
       "      <td>-0.075925</td>\n",
       "      <td>-0.115906</td>\n",
       "      <td>-0.302206</td>\n",
       "      <td>1.896894</td>\n",
       "      <td>-0.030908</td>\n",
       "      <td>-0.06182</td>\n",
       "      <td>-0.180699</td>\n",
       "      <td>...</td>\n",
       "      <td>-0.774702</td>\n",
       "      <td>-0.688713</td>\n",
       "      <td>-1.303903</td>\n",
       "      <td>0.578743</td>\n",
       "      <td>-0.564089</td>\n",
       "      <td>-1.729297</td>\n",
       "      <td>-1.065167</td>\n",
       "      <td>0.184143</td>\n",
       "      <td>-0.440272</td>\n",
       "      <td>0.536218</td>\n",
       "    </tr>\n",
       "    <tr>\n",
       "      <th>4</th>\n",
       "      <td>-0.935633</td>\n",
       "      <td>-1.483986</td>\n",
       "      <td>-1.413169</td>\n",
       "      <td>-0.480686</td>\n",
       "      <td>-0.115906</td>\n",
       "      <td>-0.302206</td>\n",
       "      <td>0.224317</td>\n",
       "      <td>-0.461837</td>\n",
       "      <td>-0.06182</td>\n",
       "      <td>-0.180699</td>\n",
       "      <td>...</td>\n",
       "      <td>-1.697400</td>\n",
       "      <td>-1.765699</td>\n",
       "      <td>0.952317</td>\n",
       "      <td>0.578743</td>\n",
       "      <td>-1.628941</td>\n",
       "      <td>-1.013503</td>\n",
       "      <td>-1.065167</td>\n",
       "      <td>0.184143</td>\n",
       "      <td>-0.440272</td>\n",
       "      <td>0.536218</td>\n",
       "    </tr>\n",
       "  </tbody>\n",
       "</table>\n",
       "<p>5 rows × 315 columns</p>\n",
       "</div>"
      ],
      "text/plain": [
       "   AKT_DAT_KL  ALTER_HH  ALTERSKATEGORIE_FEIN  ANZ_HAUSHALTE_AKTIV  \\\n",
       "0   -0.935633 -1.777245             -1.413169            -0.480686   \n",
       "1   -0.935633 -2.950280             -1.413169            -0.480686   \n",
       "2   -0.935633 -2.363762             -2.045884            -0.548146   \n",
       "3   -0.935633  1.155341             -0.147738            -0.075925   \n",
       "4   -0.935633 -1.483986             -1.413169            -0.480686   \n",
       "\n",
       "   ANZ_HH_TITEL  ANZ_KINDER  ANZ_PERSONEN  ANZ_STATISTISCHE_HAUSHALTE  \\\n",
       "0     -0.115906   -0.302206      0.224317                   -0.461837   \n",
       "1     -0.115906   -0.302206     -0.611971                   -0.461837   \n",
       "2     -0.115906   -0.302206     -1.448259                   -0.461837   \n",
       "3     -0.115906   -0.302206      1.896894                   -0.030908   \n",
       "4     -0.115906   -0.302206      0.224317                   -0.461837   \n",
       "\n",
       "   ANZ_TITEL    ARBEIT      ...        VK_DISTANZ   VK_ZG11  W_KEIT_KIND_HH  \\\n",
       "0   -0.06182 -2.192469      ...         -1.389834 -1.406704        0.952317   \n",
       "1   -0.06182 -0.180699      ...          1.685826  1.824255        0.952317   \n",
       "2   -0.06182 -2.192469      ...         -1.082268 -1.406704        0.952317   \n",
       "3   -0.06182 -0.180699      ...         -0.774702 -0.688713       -1.303903   \n",
       "4   -0.06182 -0.180699      ...         -1.697400 -1.765699        0.952317   \n",
       "\n",
       "   WOHNDAUER_2008  WOHNLAGE  ZABEOTYP  ANREDE_KZ  ALTERSKATEGORIE_GROB  \\\n",
       "0        0.578743  1.565615 -0.297710  -1.065167              1.108851   \n",
       "1        0.578743 -1.096515 -0.297710   0.938820              1.108851   \n",
       "2        0.578743  1.565615 -1.729297  -1.065167              1.108851   \n",
       "3        0.578743 -0.564089 -1.729297  -1.065167              0.184143   \n",
       "4        0.578743 -1.628941 -1.013503  -1.065167              0.184143   \n",
       "\n",
       "   EINGEFUEGT_AM_YEAR  OST_WEST_KZ_W  \n",
       "0           -0.440272       0.536218  \n",
       "1           -0.440272       0.536218  \n",
       "2           -0.440272       0.536218  \n",
       "3           -0.440272       0.536218  \n",
       "4           -0.440272       0.536218  \n",
       "\n",
       "[5 rows x 315 columns]"
      ]
     },
     "execution_count": 217,
     "metadata": {},
     "output_type": "execute_result"
    }
   ],
   "source": [
    "customers.head()"
   ]
  },
  {
   "cell_type": "code",
   "execution_count": 218,
   "metadata": {},
   "outputs": [
    {
     "name": "stdout",
     "output_type": "stream",
     "text": [
      "General Population Dataset Shape:  (8105, 315)\n",
      "Customer Dataset Shape:  (6893, 315)\n"
     ]
    }
   ],
   "source": [
    "print('General Population Dataset Shape: ', azdias.shape)\n",
    "print('Customer Dataset Shape: ', customers.shape)"
   ]
  },
  {
   "cell_type": "markdown",
   "metadata": {},
   "source": [
    " "
   ]
  },
  {
   "cell_type": "markdown",
   "metadata": {},
   "source": [
    " "
   ]
  },
  {
   "cell_type": "markdown",
   "metadata": {},
   "source": [
    "## Part 1: Customer Segmentation Report\n",
    "\n",
    "The main bulk of your analysis will come in this part of the project. Here, you should use unsupervised learning techniques to describe the relationship between the demographics of the company's existing customers and the general population of Germany. By the end of this part, you should be able to describe parts of the general population that are more likely to be part of the mail-order company's main customer base, and which parts of the general population are less so."
   ]
  },
  {
   "cell_type": "markdown",
   "metadata": {},
   "source": [
    "# 1.1. Dimensionality Reduction"
   ]
  },
  {
   "cell_type": "markdown",
   "metadata": {},
   "source": [
    "On our scaled data, we are now ready to apply dimensionality reduction techniques. \n",
    "\n",
    "When the number of features/variables is very large relative to the number of observations in your dataset, certain algorithms struggle to train effective models. This is called the “Curse of Dimensionality”. To get rid of this curse, we apply the Dimensionality Reduction technique. In this technique, the aim is to determine the columns that will not affect the result, to reduce the calculation cost and to increase the calculation speed.\n",
    "\n",
    "We will use the PCA algorithm, which is the most widely used algorithm for Dimensionality Reduction."
   ]
  },
  {
   "cell_type": "code",
   "execution_count": 219,
   "metadata": {},
   "outputs": [],
   "source": [
    "def pca_without_component(df):\n",
    "    '''\n",
    "    INPUT:\n",
    "    df - Pandas Dataframe\n",
    "    \n",
    "    OUTPUT:\n",
    "    df_pca - Pandas Dataframe\n",
    "    pca - trained model\n",
    "    \n",
    "    DESC: Trains the PCA model with the input dataset.\n",
    "    '''\n",
    "    pca = PCA()\n",
    "    df_pca = pca.fit_transform(df)\n",
    "    \n",
    "    return df_pca, pca"
   ]
  },
  {
   "cell_type": "code",
   "execution_count": 220,
   "metadata": {},
   "outputs": [],
   "source": [
    "azdias_pca, pca = pca_without_component(azdias)"
   ]
  },
  {
   "cell_type": "code",
   "execution_count": 221,
   "metadata": {},
   "outputs": [],
   "source": [
    "def find_pca_component_number(pca):\n",
    "    '''\n",
    "    INPUT:\n",
    "    pca - trained model\n",
    "    \n",
    "    OUTPUT:\n",
    "    No Output\n",
    "    \n",
    "    DESC: Finds the number of components by visualizing the trained PCA model.\n",
    "    '''\n",
    "    plt.rcParams[\"figure.figsize\"] = (20,8)\n",
    "\n",
    "    fig, ax = plt.subplots()\n",
    "    xi = np.arange(len(pca.explained_variance_ratio_))\n",
    "    y = np.cumsum(pca.explained_variance_ratio_)\n",
    "\n",
    "    plt.ylim(0.0,1.1)\n",
    "    plt.plot(xi, y, marker='o', linestyle='--', color='b')\n",
    "\n",
    "    plt.xlabel('Number of Components')\n",
    "    plt.ylabel('Cumulative variance (%)')\n",
    "    plt.title('The number of components needed to explain variance')\n",
    "\n",
    "    i = np.argmax(y > 0.95)\n",
    "\n",
    "    plt.axhline(y=0.95, color='r', linestyle='-')\n",
    "    plt.text(0.5, 0.85, 'Number of components we need: '+ str(i), color = 'red', fontsize=13)\n",
    "\n",
    "    ax.grid(axis='x')\n",
    "    plt.show()\n",
    "    \n",
    "    return i\n",
    "    "
   ]
  },
  {
   "cell_type": "code",
   "execution_count": 222,
   "metadata": {},
   "outputs": [
    {
     "data": {
      "image/png": "[encoded data removed]",
      "text/plain": [
       "<matplotlib.figure.Figure at 0x7f0f0e037ba8>"
      ]
     },
     "metadata": {
      "needs_background": "light"
     },
     "output_type": "display_data"
    }
   ],
   "source": [
    "component_number = find_pca_component_number(pca)"
   ]
  },
  {
   "cell_type": "code",
   "execution_count": 223,
   "metadata": {},
   "outputs": [],
   "source": [
    "def pca_with_component(df, component):\n",
    "    '''\n",
    "    INPUT:\n",
    "    df - Pandas DataFrame\n",
    "    component - int\n",
    "    \n",
    "    OUTPUT:\n",
    "    df_pca - Pandas DataFrame\n",
    "    pca - trained model\n",
    "    \n",
    "    DESC: Trains the PCA model with the input dataset and the specified number of components.\n",
    "    '''\n",
    "    pca = PCA(component)\n",
    "    df_pca = pca.fit_transform(df)\n",
    "    \n",
    "    return df_pca, pca"
   ]
  },
  {
   "cell_type": "code",
   "execution_count": 224,
   "metadata": {},
   "outputs": [],
   "source": [
    "azdias_pca, pca  = pca_with_component(azdias,component_number)\n",
    "customers_pca = pca.transform(customers)"
   ]
  },
  {
   "cell_type": "code",
   "execution_count": 225,
   "metadata": {},
   "outputs": [],
   "source": [
    "def pca_interpretation(df, pca, i):\n",
    "    '''\n",
    "    INPUT:\n",
    "    df - Pandas DataFrame\n",
    "    pca - trained model\n",
    "    i - int\n",
    "    \n",
    "    OUTPUT:\n",
    "    No Output\n",
    "    \n",
    "    DESC: Creates graph to discuss desired Principial Component.\n",
    "    '''\n",
    "    feature_weights = dict(zip(df.columns.values, pca.components_[i]))\n",
    "    sorted_feature_weights = sorted(feature_weights.items(), key=operator.itemgetter(1), reverse=True)\n",
    "    \n",
    "    features = pd.DataFrame(sorted_feature_weights).iloc[np.r_[:3,  -3, -2, -1],:]\n",
    "    feature_names = features[0].values\n",
    "    weights = features[1].values\n",
    "\n",
    "    sns.set(style='whitegrid')\n",
    "    sns.set_color_codes('bright')\n",
    "    fig = plt.figure(figsize=(10, 5))\n",
    "    sns.set()\n",
    "\n",
    "    ax = sns.barplot(x=weights, y=feature_names)\n",
    "    ax.set(xlabel=\"Weight\", ylabel=\"Feature\", title=f'{i+1}.Principial Component')\n",
    "    \n",
    "    "
   ]
  },
  {
   "cell_type": "code",
   "execution_count": 226,
   "metadata": {},
   "outputs": [
    {
     "data": {
      "image/png": "[encoded data removed]",
      "text/plain": [
       "<matplotlib.figure.Figure at 0x7f0f186e7f98>"
      ]
     },
     "metadata": {},
     "output_type": "display_data"
    }
   ],
   "source": [
    "pca_interpretation(azdias, pca, 0)"
   ]
  },
  {
   "cell_type": "markdown",
   "metadata": {},
   "source": [
    "Highest:\n",
    "\n",
    "* PLZ8_ANTG3 is number of 6-10 family houses in the PLZ8 (3 = high share)\n",
    "* KBA13_ANTG3 is number of 6-10 family houses in the cell (3 = high share of 6-10 family homes)\n",
    "* KBA13_ANTG4 is number of >10 family houses in the cell (2 = high share of >10 family homes)\n",
    "\n",
    "Lowest:\n",
    "\n",
    "* KBA13_ANTG1 is number of 1-2 family houses in the cell (4 = very high share of 1-2 family homes)\n",
    "* PLZ8_ANTG1 is number of 1-2 family houses in the PLZ8 (1 = very high)\n",
    "* MOBI_REGIO is mobility patterns (1 = very high)\n",
    "\n",
    "**1.Principial Component is an indicator of the number of share family in the house.**"
   ]
  },
  {
   "cell_type": "code",
   "execution_count": 227,
   "metadata": {},
   "outputs": [
    {
     "data": {
      "image/png": "[encoded data removed]",
      "text/plain": [
       "<matplotlib.figure.Figure at 0x7f0f1101ba20>"
      ]
     },
     "metadata": {},
     "output_type": "display_data"
    }
   ],
   "source": [
    "pca_interpretation(azdias, pca, 1)"
   ]
  },
  {
   "cell_type": "markdown",
   "metadata": {},
   "source": [
    "Highest:\n",
    "\n",
    "* KBA13_HERST_BMW_BENZ is share of BMW & Mercedes Benz within the PLZ8 (5 = very high)\n",
    "* KBA13_MERCEDES is share of MERCEDES within the PLZ8 (5 = very high)\n",
    "* KBA13_SEG_OBEREMITTELKLASSE is share of upper middle class cars and upper class cars (BMW5er, BMW7er etc.) (5 = very high)\n",
    "\n",
    "Lowest:\n",
    "\n",
    "* KBA13_SEG_KLEINWAGEN is share of small and very small cars (Ford Fiesta, Ford Ka etc.) in the PLZ8 (5 = very high)\n",
    "* KBA13_KMH_140_210 is share of cars with max speed between 140 and 210 km/h within the PLZ8 (5 = very high)\n",
    "* KBA13_SITZE_5 is number of cars with 5 seats in the PLZ8 (5 = very high)\n",
    "\n",
    "**2.Principial Component is obviously an indicator of Cars related properties.**"
   ]
  },
  {
   "cell_type": "markdown",
   "metadata": {},
   "source": [
    "# 1.2. Customer Segmentation with K-Means Algorithm"
   ]
  },
  {
   "cell_type": "markdown",
   "metadata": {},
   "source": [
    "K-means is a centroid-based algorithm, or a distance-based algorithm, where we calculate the distances to assign a point to a cluster. In K-Means, each cluster is associated with a centroid. \n",
    "\n",
    "The main objective of the K-Means algorithm is to minimize the sum of distances between the points and their respective cluster centroid."
   ]
  },
  {
   "cell_type": "code",
   "execution_count": 228,
   "metadata": {},
   "outputs": [],
   "source": [
    "wcss = []\n",
    "for i in range(2,20):\n",
    "    kmeans = KMeans(n_clusters = i, init = 'k-means++', random_state = 42)\n",
    "    kmeans.fit(azdias_pca)\n",
    "    wcss.append(kmeans.inertia_)"
   ]
  },
  {
   "cell_type": "code",
   "execution_count": 229,
   "metadata": {},
   "outputs": [
    {
     "data": {
      "image/png": "[encoded data removed]",
      "text/plain": [
       "<matplotlib.figure.Figure at 0x7f0f11220128>"
      ]
     },
     "metadata": {},
     "output_type": "display_data"
    }
   ],
   "source": [
    "plt.plot(range(2,20), wcss)\n",
    "plt.title(\"elbow method\")\n",
    "plt.xlabel(\"no of clusters\")\n",
    "plt.ylabel(\"wcss\")\n",
    "plt.show()"
   ]
  },
  {
   "cell_type": "code",
   "execution_count": 230,
   "metadata": {},
   "outputs": [],
   "source": [
    "kmeans = KMeans(n_init=10, init=\"k-means++\", n_clusters=7, max_iter=300, random_state=0)\n",
    "azdias_pred = kmeans.fit_predict(azdias_pca)\n",
    "customers_pred = kmeans.predict(customers_pca)"
   ]
  },
  {
   "cell_type": "code",
   "execution_count": 231,
   "metadata": {},
   "outputs": [
    {
     "data": {
      "image/png": "[encoded data removed]",
      "text/plain": [
       "<matplotlib.figure.Figure at 0x7f0f1868c588>"
      ]
     },
     "metadata": {},
     "output_type": "display_data"
    }
   ],
   "source": [
    "labels = ['Cluster 1', 'Cluster 2', 'Cluster 3', 'Cluster 4', 'Cluster 5', 'Cluster 6', 'Cluster 7']\n",
    "sizes = pd.DataFrame(azdias_pred)[0].value_counts()\n",
    "explode = (0, 0, 0, 0, 0, 0, 0)\n",
    "\n",
    "fig1, ax1 = plt.subplots()\n",
    "ax1.pie(sizes, explode=explode, labels=labels, autopct='%1.1f%%',\n",
    "        shadow=True, startangle=90)\n",
    "ax1.axis('equal')\n",
    "\n",
    "plt.show()"
   ]
  },
  {
   "cell_type": "code",
   "execution_count": 232,
   "metadata": {},
   "outputs": [],
   "source": [
    "azdias_preds = pd.DataFrame({'LNR': LNR_azdias, 'Clusters': azdias_pred})\n",
    "customers_preds = pd.DataFrame({'LNR': LNR_customers, 'Clusters': customers_pred})"
   ]
  },
  {
   "cell_type": "code",
   "execution_count": 233,
   "metadata": {},
   "outputs": [],
   "source": [
    "general_proportions = Counter(azdias_preds['Clusters'])\n",
    "customers_proportions = Counter(customers_preds['Clusters'])"
   ]
  },
  {
   "cell_type": "code",
   "execution_count": 234,
   "metadata": {},
   "outputs": [],
   "source": [
    "for k, v in general_proportions.items():\n",
    "    general_proportions[k] = v / len(azdias)\n",
    "    \n",
    "for k, v in customers_proportions.items():\n",
    "    customers_proportions[k] = v / len(customers)"
   ]
  },
  {
   "cell_type": "code",
   "execution_count": 235,
   "metadata": {},
   "outputs": [],
   "source": [
    "df_props = pd.DataFrame(columns=[\"Dataset\", \"Cluster\", \"Proportions\", 'Difference'])\n",
    "for k, v in customers_proportions.items():\n",
    "    df_props = df_props.append({\"Dataset\" : \"customer\", \"Cluster\": k, \"Proportions\": v}, ignore_index=True)\n",
    "\n",
    "for k, v in general_proportions.items():\n",
    "    df_props = df_props.append({\"Dataset\" : \"general\", \"Cluster\": k, \"Proportions\": v}, ignore_index=True)"
   ]
  },
  {
   "cell_type": "code",
   "execution_count": 236,
   "metadata": {},
   "outputs": [
    {
     "data": {
      "text/plain": [
       "<matplotlib.axes._subplots.AxesSubplot at 0x7f0f11323ac8>"
      ]
     },
     "execution_count": 236,
     "metadata": {},
     "output_type": "execute_result"
    },
    {
     "data": {
      "image/png": "[encoded data removed]",
      "text/plain": [
       "<matplotlib.figure.Figure at 0x7f0f11453ba8>"
      ]
     },
     "metadata": {},
     "output_type": "display_data"
    }
   ],
   "source": [
    "fig = plt.figure(figsize=(15,7))\n",
    "sns.barplot(x=\"Cluster\", y=\"Proportions\", hue=\"Dataset\", data=df_props)"
   ]
  },
  {
   "cell_type": "markdown",
   "metadata": {},
   "source": [
    "When we examine the graph, we need to look at the clusters where the difference is the least. Because the best features are determined in these clusters. As seen in the graph, the closest values are in the 1. cluster. If we examine the features in the 1. cluster, it means that we can use these features to identify the 1. cluster."
   ]
  },
  {
   "cell_type": "code",
   "execution_count": 237,
   "metadata": {},
   "outputs": [
    {
     "data": {
      "text/plain": [
       "array([ 2.92153674,  0.24775538, -3.83881799])"
      ]
     },
     "execution_count": 237,
     "metadata": {},
     "output_type": "execute_result"
    }
   ],
   "source": [
    "kmeans.cluster_centers_[1][:3]"
   ]
  },
  {
   "cell_type": "markdown",
   "metadata": {},
   "source": [
    "1. cluster için ilk 3 componenti inceliyoruz. ilk "
   ]
  },
  {
   "cell_type": "code",
   "execution_count": 238,
   "metadata": {},
   "outputs": [
    {
     "data": {
      "text/plain": [
       "array([ 4.12784377, -5.79397939, -2.04551528])"
      ]
     },
     "execution_count": 238,
     "metadata": {},
     "output_type": "execute_result"
    }
   ],
   "source": [
    "kmeans.cluster_centers_[6][:3]"
   ]
  },
  {
   "cell_type": "markdown",
   "metadata": {},
   "source": [
    "6. cluster için ilk 3 componenti inceliyoruz. ilk "
   ]
  },
  {
   "cell_type": "code",
   "execution_count": 239,
   "metadata": {},
   "outputs": [
    {
     "data": {
      "text/plain": [
       "array([ 7.1317422 ,  1.27655202,  2.32754199])"
      ]
     },
     "execution_count": 239,
     "metadata": {},
     "output_type": "execute_result"
    }
   ],
   "source": [
    "kmeans.cluster_centers_[4][:3]"
   ]
  },
  {
   "cell_type": "markdown",
   "metadata": {},
   "source": [
    "4. cluster için ilk 3 componenti inceliyoruz. ilk "
   ]
  },
  {
   "cell_type": "markdown",
   "metadata": {},
   "source": [
    "## Part 2: Supervised Learning Model\n",
    "\n",
    "Now that you've found which parts of the population are more likely to be customers of the mail-order company, it's time to build a prediction model. Each of the rows in the \"MAILOUT\" data files represents an individual that was targeted for a mailout campaign. Ideally, we should be able to use the demographic information from each individual to decide whether or not it will be worth it to include that person in the campaign.\n",
    "\n",
    "The \"MAILOUT\" data has been split into two approximately equal parts, each with almost 43 000 data rows. In this part, you can verify your model with the \"TRAIN\" partition, which includes a column, \"RESPONSE\", that states whether or not a person became a customer of the company following the campaign. In the next part, you'll need to create predictions on the \"TEST\" partition, where the \"RESPONSE\" column has been withheld."
   ]
  },
  {
   "cell_type": "code",
   "execution_count": 240,
   "metadata": {},
   "outputs": [],
   "source": [
    "mailout_train = pd.read_csv('../../data/Term2/capstone/arvato_data/Udacity_MAILOUT_052018_TRAIN.csv', sep=';',nrows=10000)"
   ]
  },
  {
   "cell_type": "code",
   "execution_count": 241,
   "metadata": {},
   "outputs": [
    {
     "data": {
      "text/plain": [
       "(10000, 367)"
      ]
     },
     "execution_count": 241,
     "metadata": {},
     "output_type": "execute_result"
    }
   ],
   "source": [
    "mailout_train.shape"
   ]
  },
  {
   "cell_type": "code",
   "execution_count": 242,
   "metadata": {},
   "outputs": [
    {
     "data": {
      "text/html": [
       "<div>\n",
       "<style scoped>\n",
       "    .dataframe tbody tr th:only-of-type {\n",
       "        vertical-align: middle;\n",
       "    }\n",
       "\n",
       "    .dataframe tbody tr th {\n",
       "        vertical-align: top;\n",
       "    }\n",
       "\n",
       "    .dataframe thead th {\n",
       "        text-align: right;\n",
       "    }\n",
       "</style>\n",
       "<table border=\"1\" class=\"dataframe\">\n",
       "  <thead>\n",
       "    <tr style=\"text-align: right;\">\n",
       "      <th></th>\n",
       "      <th>LNR</th>\n",
       "      <th>AGER_TYP</th>\n",
       "      <th>AKT_DAT_KL</th>\n",
       "      <th>ALTER_HH</th>\n",
       "      <th>ALTER_KIND1</th>\n",
       "      <th>ALTER_KIND2</th>\n",
       "      <th>ALTER_KIND3</th>\n",
       "      <th>ALTER_KIND4</th>\n",
       "      <th>ALTERSKATEGORIE_FEIN</th>\n",
       "      <th>ANZ_HAUSHALTE_AKTIV</th>\n",
       "      <th>...</th>\n",
       "      <th>VK_DHT4A</th>\n",
       "      <th>VK_DISTANZ</th>\n",
       "      <th>VK_ZG11</th>\n",
       "      <th>W_KEIT_KIND_HH</th>\n",
       "      <th>WOHNDAUER_2008</th>\n",
       "      <th>WOHNLAGE</th>\n",
       "      <th>ZABEOTYP</th>\n",
       "      <th>RESPONSE</th>\n",
       "      <th>ANREDE_KZ</th>\n",
       "      <th>ALTERSKATEGORIE_GROB</th>\n",
       "    </tr>\n",
       "  </thead>\n",
       "  <tbody>\n",
       "    <tr>\n",
       "      <th>0</th>\n",
       "      <td>1763</td>\n",
       "      <td>2</td>\n",
       "      <td>1.0</td>\n",
       "      <td>8.0</td>\n",
       "      <td>NaN</td>\n",
       "      <td>NaN</td>\n",
       "      <td>NaN</td>\n",
       "      <td>NaN</td>\n",
       "      <td>8.0</td>\n",
       "      <td>15.0</td>\n",
       "      <td>...</td>\n",
       "      <td>5.0</td>\n",
       "      <td>2.0</td>\n",
       "      <td>1.0</td>\n",
       "      <td>6.0</td>\n",
       "      <td>9.0</td>\n",
       "      <td>3.0</td>\n",
       "      <td>3</td>\n",
       "      <td>0</td>\n",
       "      <td>2</td>\n",
       "      <td>4</td>\n",
       "    </tr>\n",
       "    <tr>\n",
       "      <th>1</th>\n",
       "      <td>1771</td>\n",
       "      <td>1</td>\n",
       "      <td>4.0</td>\n",
       "      <td>13.0</td>\n",
       "      <td>NaN</td>\n",
       "      <td>NaN</td>\n",
       "      <td>NaN</td>\n",
       "      <td>NaN</td>\n",
       "      <td>13.0</td>\n",
       "      <td>1.0</td>\n",
       "      <td>...</td>\n",
       "      <td>1.0</td>\n",
       "      <td>2.0</td>\n",
       "      <td>1.0</td>\n",
       "      <td>4.0</td>\n",
       "      <td>9.0</td>\n",
       "      <td>7.0</td>\n",
       "      <td>1</td>\n",
       "      <td>0</td>\n",
       "      <td>2</td>\n",
       "      <td>3</td>\n",
       "    </tr>\n",
       "    <tr>\n",
       "      <th>2</th>\n",
       "      <td>1776</td>\n",
       "      <td>1</td>\n",
       "      <td>1.0</td>\n",
       "      <td>9.0</td>\n",
       "      <td>NaN</td>\n",
       "      <td>NaN</td>\n",
       "      <td>NaN</td>\n",
       "      <td>NaN</td>\n",
       "      <td>7.0</td>\n",
       "      <td>0.0</td>\n",
       "      <td>...</td>\n",
       "      <td>6.0</td>\n",
       "      <td>4.0</td>\n",
       "      <td>2.0</td>\n",
       "      <td>NaN</td>\n",
       "      <td>9.0</td>\n",
       "      <td>2.0</td>\n",
       "      <td>3</td>\n",
       "      <td>0</td>\n",
       "      <td>1</td>\n",
       "      <td>4</td>\n",
       "    </tr>\n",
       "    <tr>\n",
       "      <th>3</th>\n",
       "      <td>1460</td>\n",
       "      <td>2</td>\n",
       "      <td>1.0</td>\n",
       "      <td>6.0</td>\n",
       "      <td>NaN</td>\n",
       "      <td>NaN</td>\n",
       "      <td>NaN</td>\n",
       "      <td>NaN</td>\n",
       "      <td>6.0</td>\n",
       "      <td>4.0</td>\n",
       "      <td>...</td>\n",
       "      <td>8.0</td>\n",
       "      <td>11.0</td>\n",
       "      <td>11.0</td>\n",
       "      <td>6.0</td>\n",
       "      <td>9.0</td>\n",
       "      <td>1.0</td>\n",
       "      <td>3</td>\n",
       "      <td>0</td>\n",
       "      <td>2</td>\n",
       "      <td>4</td>\n",
       "    </tr>\n",
       "    <tr>\n",
       "      <th>4</th>\n",
       "      <td>1783</td>\n",
       "      <td>2</td>\n",
       "      <td>1.0</td>\n",
       "      <td>9.0</td>\n",
       "      <td>NaN</td>\n",
       "      <td>NaN</td>\n",
       "      <td>NaN</td>\n",
       "      <td>NaN</td>\n",
       "      <td>9.0</td>\n",
       "      <td>53.0</td>\n",
       "      <td>...</td>\n",
       "      <td>2.0</td>\n",
       "      <td>2.0</td>\n",
       "      <td>1.0</td>\n",
       "      <td>6.0</td>\n",
       "      <td>9.0</td>\n",
       "      <td>3.0</td>\n",
       "      <td>3</td>\n",
       "      <td>0</td>\n",
       "      <td>1</td>\n",
       "      <td>3</td>\n",
       "    </tr>\n",
       "  </tbody>\n",
       "</table>\n",
       "<p>5 rows × 367 columns</p>\n",
       "</div>"
      ],
      "text/plain": [
       "    LNR  AGER_TYP  AKT_DAT_KL  ALTER_HH  ALTER_KIND1  ALTER_KIND2  \\\n",
       "0  1763         2         1.0       8.0          NaN          NaN   \n",
       "1  1771         1         4.0      13.0          NaN          NaN   \n",
       "2  1776         1         1.0       9.0          NaN          NaN   \n",
       "3  1460         2         1.0       6.0          NaN          NaN   \n",
       "4  1783         2         1.0       9.0          NaN          NaN   \n",
       "\n",
       "   ALTER_KIND3  ALTER_KIND4  ALTERSKATEGORIE_FEIN  ANZ_HAUSHALTE_AKTIV  \\\n",
       "0          NaN          NaN                   8.0                 15.0   \n",
       "1          NaN          NaN                  13.0                  1.0   \n",
       "2          NaN          NaN                   7.0                  0.0   \n",
       "3          NaN          NaN                   6.0                  4.0   \n",
       "4          NaN          NaN                   9.0                 53.0   \n",
       "\n",
       "           ...           VK_DHT4A  VK_DISTANZ  VK_ZG11  W_KEIT_KIND_HH  \\\n",
       "0          ...                5.0         2.0      1.0             6.0   \n",
       "1          ...                1.0         2.0      1.0             4.0   \n",
       "2          ...                6.0         4.0      2.0             NaN   \n",
       "3          ...                8.0        11.0     11.0             6.0   \n",
       "4          ...                2.0         2.0      1.0             6.0   \n",
       "\n",
       "   WOHNDAUER_2008  WOHNLAGE  ZABEOTYP RESPONSE  ANREDE_KZ  \\\n",
       "0             9.0       3.0         3        0          2   \n",
       "1             9.0       7.0         1        0          2   \n",
       "2             9.0       2.0         3        0          1   \n",
       "3             9.0       1.0         3        0          2   \n",
       "4             9.0       3.0         3        0          1   \n",
       "\n",
       "   ALTERSKATEGORIE_GROB  \n",
       "0                     4  \n",
       "1                     3  \n",
       "2                     4  \n",
       "3                     4  \n",
       "4                     3  \n",
       "\n",
       "[5 rows x 367 columns]"
      ]
     },
     "execution_count": 242,
     "metadata": {},
     "output_type": "execute_result"
    }
   ],
   "source": [
    "mailout_train.head()"
   ]
  },
  {
   "cell_type": "code",
   "execution_count": 243,
   "metadata": {},
   "outputs": [
    {
     "data": {
      "text/plain": [
       "Text(0.5,1,'Response Value Count')"
      ]
     },
     "execution_count": 243,
     "metadata": {},
     "output_type": "execute_result"
    },
    {
     "data": {
      "image/png": "[encoded data removed]",
      "text/plain": [
       "<matplotlib.figure.Figure at 0x7f0f11310b00>"
      ]
     },
     "metadata": {},
     "output_type": "display_data"
    }
   ],
   "source": [
    "pie, ax = plt.subplots(figsize=[8,8])\n",
    "mailout_train.RESPONSE.value_counts().plot.pie(autopct=\"%.1f%%\")\n",
    "plt.title(\"Response Value Count\", fontsize=14)"
   ]
  },
  {
   "cell_type": "markdown",
   "metadata": {},
   "source": [
    "## 2.1. Evaluation Metric"
   ]
  },
  {
   "cell_type": "markdown",
   "metadata": {},
   "source": [
    "There are standard metrics that are widely used for evaluating classification predictive models, such as classification accuracy or classification error.\n",
    "\n",
    "Standard metrics work well on most problems, which is why they are widely adopted. But all metrics make assumptions about the problem or about what is important in the problem. Therefore an evaluation metric must be chosen that best captures what you or your project stakeholders believe is important about the model or predictions, which makes choosing model evaluation metrics challenging.\n",
    "\n",
    "This challenge is made even more difficult when there is a skew in the class distribution. The reason for this is that many of the standard metrics become unreliable or even misleading when classes are imbalanced, or severely imbalanced, such as 1:100 or 1:1000 ratio between a minority and majority class, like us."
   ]
  },
  {
   "cell_type": "markdown",
   "metadata": {},
   "source": [
    "AUC - ROC curve is a performance measurement for the classification problems at various threshold settings. ROC is a probability curve and AUC represents the degree or measure of separability. It tells how much the model is capable of distinguishing between classes. Higher the AUC, the better the model is at predicting 0 classes as 0 and 1 classes as 1. By analogy, the Higher the AUC, the better the model is at distinguishing between patients with the disease and no disease."
   ]
  },
  {
   "cell_type": "markdown",
   "metadata": {},
   "source": [
    "## 2.2. Clean Data"
   ]
  },
  {
   "cell_type": "code",
   "execution_count": 244,
   "metadata": {},
   "outputs": [],
   "source": [
    "def process_data(df,df2):\n",
    "    '''\n",
    "    INPUT:\n",
    "    df - Pandas DataFrame\n",
    "    \n",
    "    OUTPUT:\n",
    "    df - Pandas DataFrame\n",
    "    LNR_df - List\n",
    "    RESPONSE_df - List\n",
    "    \n",
    "    DESC: Returns the cleaned training data, index column and response column.\n",
    "    '''\n",
    "    \n",
    "    LNR_df = df['LNR']\n",
    "    RESPONSE_df = df['RESPONSE']\n",
    "    df = df.drop(['LNR','RESPONSE'],axis=1)\n",
    "    \n",
    "    warning_cols = list(df.columns[18:20])\n",
    "    \n",
    "    df[warning_cols[0]].replace('X', np.nan, inplace = True)\n",
    "    df[warning_cols[1]].replace('XX', np.nan, inplace = True)\n",
    "    \n",
    "    df = convert_object_to_float(df,warning_cols)\n",
    "\n",
    "    df = change_nan_value(df,missing_dict)\n",
    "\n",
    "    df['EINGEFUEGT_AM'] = pd.to_datetime(df['EINGEFUEGT_AM'])\n",
    "    df['EINGEFUEGT_AM_YEAR'] = df['EINGEFUEGT_AM'].dt.year\n",
    "\n",
    "    obj_col_df = get_object_column_name(df)\n",
    "    \n",
    "    df = create_dummy_df(df, obj_col_df, False)\n",
    "    \n",
    "    df_missing_columns = [col for col in df.columns if col not in df2.columns]\n",
    "\n",
    "    df = drop_column(df,df_missing_columns)\n",
    "    \n",
    "    df = fill_missing_value(df)\n",
    "    \n",
    "    return df, LNR_df, RESPONSE_df\n",
    "    "
   ]
  },
  {
   "cell_type": "code",
   "execution_count": 245,
   "metadata": {},
   "outputs": [],
   "source": [
    "clean_mailout_train,mailout_train_LNR,mailout_train_RESPONSE = process_data(mailout_train,azdias)"
   ]
  },
  {
   "cell_type": "code",
   "execution_count": 246,
   "metadata": {},
   "outputs": [
    {
     "data": {
      "text/plain": [
       "(10000, 315)"
      ]
     },
     "execution_count": 246,
     "metadata": {},
     "output_type": "execute_result"
    }
   ],
   "source": [
    "clean_mailout_train.shape"
   ]
  },
  {
   "cell_type": "markdown",
   "metadata": {},
   "source": [
    "## 2.3. Standartize Data"
   ]
  },
  {
   "cell_type": "code",
   "execution_count": 247,
   "metadata": {},
   "outputs": [],
   "source": [
    "clean_mailout_train,scale = standartize_data(clean_mailout_train)"
   ]
  },
  {
   "cell_type": "markdown",
   "metadata": {},
   "source": [
    "## 2.4. Split Data"
   ]
  },
  {
   "cell_type": "code",
   "execution_count": 248,
   "metadata": {},
   "outputs": [],
   "source": [
    "X_train, X_val, y_train, y_val = train_test_split(clean_mailout_train, mailout_train_RESPONSE, stratify=mailout_train_RESPONSE, test_size=0.2, random_state=2)"
   ]
  },
  {
   "cell_type": "markdown",
   "metadata": {},
   "source": [
    "## 2.5. Evaluate Models"
   ]
  },
  {
   "cell_type": "code",
   "execution_count": 249,
   "metadata": {},
   "outputs": [],
   "source": [
    "def evaluate_based_model(model, X_train, y_train, X_test, y_test):\n",
    "    '''\n",
    "    INPUT:\n",
    "    model - Classifier Model\n",
    "    X_train - Pandas DataFrame\n",
    "    y_train - Pandas DataFrame\n",
    "    X_test - Pandas DataFrame\n",
    "    y_test - Pandas DataFrame\n",
    "    \n",
    "    OUTPUT:\n",
    "    roc_score - float \n",
    "    spend_time - float\n",
    "    \n",
    "    DESC: Returns the roc-auc score of the trained model.\n",
    "    '''\n",
    "    start = time.time()\n",
    "    model = model.fit(X_train, y_train)\n",
    "    \n",
    "    roc_score = roc_auc_score(y_test, model.predict_proba(X_test)[:,1])\n",
    "    \n",
    "    end = time.time()\n",
    "    spend_time = end - start\n",
    "    \n",
    "    return roc_score, spend_time"
   ]
  },
  {
   "cell_type": "code",
   "execution_count": 250,
   "metadata": {},
   "outputs": [],
   "source": [
    "based_models = [(\"GradientBoostingClassifier\", GradientBoostingClassifier(random_state=42)),\n",
    "                 (\"AdaBoostClassifier\", AdaBoostClassifier(random_state=42)),\n",
    "                 (\"LightGBMClissifier\",lgb.LGBMClassifier(random_state=42))]"
   ]
  },
  {
   "cell_type": "code",
   "execution_count": 251,
   "metadata": {},
   "outputs": [],
   "source": [
    "results = {\"MODEL\":[],\n",
    "          \"AUCROC_SCORE\":[],\n",
    "          \"SPEND_TIME\":[]}\n",
    "\n",
    "for name, model in based_models:\n",
    "    roc, time_ = evaluate_based_model(model, X_train, y_train, X_val, y_val)\n",
    "    results[\"MODEL\"].append(name)\n",
    "    results[\"AUCROC_SCORE\"].append(roc)\n",
    "    results[\"SPEND_TIME\"].append(time_)"
   ]
  },
  {
   "cell_type": "code",
   "execution_count": 252,
   "metadata": {},
   "outputs": [],
   "source": [
    "results = pd.DataFrame.from_dict(results, orient='index').transpose()"
   ]
  },
  {
   "cell_type": "code",
   "execution_count": 253,
   "metadata": {},
   "outputs": [
    {
     "data": {
      "text/plain": [
       "Text(0.66049,3.32397,'LGB')"
      ]
     },
     "execution_count": 253,
     "metadata": {},
     "output_type": "execute_result"
    },
    {
     "data": {
      "image/png": "[encoded data removed]",
      "text/plain": [
       "<matplotlib.figure.Figure at 0x7f0f10dbdcf8>"
      ]
     },
     "metadata": {},
     "output_type": "display_data"
    }
   ],
   "source": [
    "plt.plot(results.AUCROC_SCORE, results.SPEND_TIME, 'o', color='black',label=results.MODEL)\n",
    "plt.text(results.AUCROC_SCORE[results.MODEL=='GradientBoostingClassifier'],\n",
    "         results.SPEND_TIME[results.MODEL=='GradientBoostingClassifier'],\"GBC\", color='red')\n",
    "plt.text(results.AUCROC_SCORE[results.MODEL=='AdaBoostClassifier'],\n",
    "         results.SPEND_TIME[results.MODEL=='AdaBoostClassifier'],\"ABC\", color='purple')\n",
    "plt.text(results.AUCROC_SCORE[results.MODEL=='LightGBMClissifier'],\n",
    "         results.SPEND_TIME[results.MODEL=='LightGBMClissifier'],\"LGB\", color='blue')"
   ]
  },
  {
   "cell_type": "markdown",
   "metadata": {},
   "source": [
    "### 2.5.1. Gradient Boost"
   ]
  },
  {
   "cell_type": "markdown",
   "metadata": {},
   "source": [
    "temel modellerde en başarılı olan gradient boost modeli için şimdi en iyi parametreleri bulmaya çalışağız."
   ]
  },
  {
   "cell_type": "code",
   "execution_count": 254,
   "metadata": {},
   "outputs": [
    {
     "data": {
      "text/plain": [
       "{'learning_rate': 0.1, 'max_depth': 3, 'n_estimators': 50}"
      ]
     },
     "execution_count": 254,
     "metadata": {},
     "output_type": "execute_result"
    }
   ],
   "source": [
    "GBC_classifier = GradientBoostingClassifier(random_state=42)\n",
    "cv_sets = ShuffleSplit(random_state = 4) # shuffling our data for cross-validation\n",
    "parameters = {'learning_rate':[0.1],#[0.001,0.01,0.1,1]\n",
    "             'n_estimators' : [50],#[50,100,200,300]\n",
    "             'max_depth':[3]}#[3,5,7]\n",
    "GBC_obj = GridSearchCV(GBC_classifier, \n",
    "                             parameters, \n",
    "                             scoring = \"roc_auc\", \n",
    "                             cv = cv_sets)\n",
    "GBC_fit = GBC_obj.fit(X_train, y_train)\n",
    "GBC_opt = GBC_fit.best_estimator_\n",
    "GBC_fit.best_params_"
   ]
  },
  {
   "cell_type": "code",
   "execution_count": 255,
   "metadata": {},
   "outputs": [
    {
     "name": "stdout",
     "output_type": "stream",
     "text": [
      "Best Score:  0.603274887181\n",
      "Best Params:  {'learning_rate': 0.1, 'max_depth': 3, 'n_estimators': 50}\n"
     ]
    }
   ],
   "source": [
    "print(\"Best Score: \", GBC_fit.best_score_)\n",
    "print(\"Best Params: \", GBC_fit.best_params_)"
   ]
  },
  {
   "cell_type": "code",
   "execution_count": 256,
   "metadata": {},
   "outputs": [
    {
     "name": "stdout",
     "output_type": "stream",
     "text": [
      "ROC score on validation data: 0.7985\n"
     ]
    }
   ],
   "source": [
    "preds = GBC_opt.predict_proba(X_val)[:,1]\n",
    "\n",
    "print(\"ROC score on validation data: {:.4f}\".format(roc_auc_score(y_val, preds)))"
   ]
  },
  {
   "cell_type": "code",
   "execution_count": 300,
   "metadata": {},
   "outputs": [
    {
     "data": {
      "text/plain": [
       "D19_SOZIALES          0.083484\n",
       "MIN_GEBAEUDEJAHR      0.036961\n",
       "KBA05_ZUL3            0.036595\n",
       "EINGEFUEGT_AM_YEAR    0.034086\n",
       "VERDICHTUNGSRAUM      0.032360\n",
       "dtype: float64"
      ]
     },
     "execution_count": 300,
     "metadata": {},
     "output_type": "execute_result"
    }
   ],
   "source": [
    "pd.Series(GBC_opt.feature_importances_, index=clean_mailout_train.columns).sort_values(ascending=False).head()"
   ]
  },
  {
   "cell_type": "markdown",
   "metadata": {},
   "source": [
    "### 2.5.2. Ada Boost"
   ]
  },
  {
   "cell_type": "code",
   "execution_count": null,
   "metadata": {},
   "outputs": [],
   "source": [
    "ada_classifier = AdaBoostClassifier(random_state=42)\n",
    "cv_sets = ShuffleSplit(random_state = 4) # shuffling our data for cross-validation\n",
    "parameters = {\"n_estimators\": [50,100,150,200],\n",
    "              \"learning_rate\": [0.01,0.1,0.5,0.9,1.],\n",
    "              \"algorithm\":[\"SAMME.R\"]\n",
    "              }\n",
    "ada_obj = RandomizedSearchCV(ada_classifier, \n",
    "                              parameters, \n",
    "                              scoring = \"roc_auc\", \n",
    "                              cv = cv_sets)\n",
    "ada_fit = ada_obj.fit(X_train, y_train)\n",
    "ada_opt = ada_fit.best_estimator_\n",
    "ada_fit.best_params_"
   ]
  },
  {
   "cell_type": "markdown",
   "metadata": {},
   "source": [
    "## Part 3: Kaggle Competition\n",
    "\n",
    "Now that you've created a model to predict which individuals are most likely to respond to a mailout campaign, it's time to test that model in competition through Kaggle. If you click on the link [here](http://www.kaggle.com/t/21e6d45d4c574c7fa2d868f0e8c83140), you'll be taken to the competition page where, if you have a Kaggle account, you can enter.\n",
    "\n",
    "Your entry to the competition should be a CSV file with two columns. The first column should be a copy of \"LNR\", which acts as an ID number for each individual in the \"TEST\" partition. The second column, \"RESPONSE\", should be some measure of how likely each individual became a customer – this might not be a straightforward probability. As you should have found in Part 2, there is a large output class imbalance, where most individuals did not respond to the mailout. Thus, predicting individual classes and using accuracy does not seem to be an appropriate performance evaluation method. Instead, the competition will be using AUC to evaluate performance. The exact values of the \"RESPONSE\" column do not matter as much: only that the higher values try to capture as many of the actual customers as possible, early in the ROC curve sweep."
   ]
  },
  {
   "cell_type": "code",
   "execution_count": 281,
   "metadata": {},
   "outputs": [
    {
     "name": "stderr",
     "output_type": "stream",
     "text": [
      "/opt/conda/lib/python3.6/site-packages/IPython/core/interactiveshell.py:2785: DtypeWarning: Columns (18,19) have mixed types. Specify dtype option on import or set low_memory=False.\n",
      "  interactivity=interactivity, compiler=compiler, result=result)\n"
     ]
    }
   ],
   "source": [
    "mailout_test = pd.read_csv('../../data/Term2/capstone/arvato_data/Udacity_MAILOUT_052018_TEST.csv', sep=';')"
   ]
  },
  {
   "cell_type": "code",
   "execution_count": 283,
   "metadata": {},
   "outputs": [],
   "source": [
    "def process_data(df,df2):\n",
    "    '''\n",
    "    INPUT:\n",
    "    df - Pandas DataFrame\n",
    "    \n",
    "    OUTPUT:\n",
    "    df - Pandas DataFrame\n",
    "    LNR_df - List\n",
    "    \n",
    "    DESC:Returns the cleaned training data and index column.\n",
    "    '''\n",
    "    \n",
    "    LNR_df = df['LNR']\n",
    "    df = df.drop(['LNR'],axis=1)\n",
    "\n",
    "    warning_cols = ['CAMEO_DEUG_2015','CAMEO_INTL_2015']\n",
    "    df['CAMEO_DEUG_2015'].replace('X', np.nan, inplace = True)\n",
    "    df['CAMEO_INTL_2015'].replace('XX', np.nan, inplace = True)\n",
    "\n",
    "    df = convert_object_to_float(df,warning_cols)\n",
    "\n",
    "    df = change_nan_value(df,missing_dict)\n",
    "\n",
    "    df['EINGEFUEGT_AM'] = pd.to_datetime(df['EINGEFUEGT_AM'])\n",
    "    df['EINGEFUEGT_AM_YEAR'] = df['EINGEFUEGT_AM'].dt.year\n",
    "\n",
    "    obj_col_df = get_object_column_name(df)\n",
    "\n",
    "    df = create_dummy_df(df, obj_col_df, False)\n",
    "\n",
    "    df_missing_columns = [col for col in df.columns if col not in df2.columns]\n",
    "\n",
    "    df = drop_column(df,df_missing_columns)\n",
    "\n",
    "    df = fill_missing_value(df)\n",
    "\n",
    "    return df, LNR_df\n",
    "    "
   ]
  },
  {
   "cell_type": "markdown",
   "metadata": {},
   "source": [
    "**NOTE: In this part, I encountered the problem of shape difference between the dataset that I trained the model with and the dataset that I will predict. When I researched the reason for this, I saw that I deleted 1 more column from the prediction set. When I noticed this and fixed it, I was able to do the guesswork.**"
   ]
  },
  {
   "cell_type": "code",
   "execution_count": 284,
   "metadata": {},
   "outputs": [],
   "source": [
    "mailout_test,mailout_test_LNR = process_data(mailout_test, clean_mailout_train)\n",
    "mailout_test,scale = standartize_data(mailout_test)\n",
    "mailout_test = pd.DataFrame(mailout_test, columns = mailout_test.columns)"
   ]
  },
  {
   "cell_type": "code",
   "execution_count": 289,
   "metadata": {},
   "outputs": [],
   "source": [
    "GBC_opt.fit(clean_mailout_train, mailout_train_RESPONSE)\n",
    "preds_test_GBC = GBC_opt.predict_proba(mailout_test)[:,1]\n",
    "kaggle_GBC = pd.DataFrame(index=mailout_test_LNR, data=preds_test_GBC)\n",
    "kaggle_GBC.rename(columns={0: \"RESPONSE\"}, inplace=True)"
   ]
  },
  {
   "cell_type": "code",
   "execution_count": null,
   "metadata": {},
   "outputs": [],
   "source": [
    "kaggle_GBC.head()"
   ]
  },
  {
   "cell_type": "code",
   "execution_count": 296,
   "metadata": {},
   "outputs": [
    {
     "data": {
      "text/html": [
       "<div>\n",
       "<style scoped>\n",
       "    .dataframe tbody tr th:only-of-type {\n",
       "        vertical-align: middle;\n",
       "    }\n",
       "\n",
       "    .dataframe tbody tr th {\n",
       "        vertical-align: top;\n",
       "    }\n",
       "\n",
       "    .dataframe thead th {\n",
       "        text-align: right;\n",
       "    }\n",
       "</style>\n",
       "<table border=\"1\" class=\"dataframe\">\n",
       "  <thead>\n",
       "    <tr style=\"text-align: right;\">\n",
       "      <th></th>\n",
       "      <th>RESPONSE</th>\n",
       "    </tr>\n",
       "  </thead>\n",
       "  <tbody>\n",
       "    <tr>\n",
       "      <th>count</th>\n",
       "      <td>42833.000000</td>\n",
       "    </tr>\n",
       "    <tr>\n",
       "      <th>mean</th>\n",
       "      <td>0.012586</td>\n",
       "    </tr>\n",
       "    <tr>\n",
       "      <th>std</th>\n",
       "      <td>0.028307</td>\n",
       "    </tr>\n",
       "    <tr>\n",
       "      <th>min</th>\n",
       "      <td>0.000970</td>\n",
       "    </tr>\n",
       "    <tr>\n",
       "      <th>25%</th>\n",
       "      <td>0.004017</td>\n",
       "    </tr>\n",
       "    <tr>\n",
       "      <th>50%</th>\n",
       "      <td>0.007683</td>\n",
       "    </tr>\n",
       "    <tr>\n",
       "      <th>75%</th>\n",
       "      <td>0.014042</td>\n",
       "    </tr>\n",
       "    <tr>\n",
       "      <th>max</th>\n",
       "      <td>0.983186</td>\n",
       "    </tr>\n",
       "  </tbody>\n",
       "</table>\n",
       "</div>"
      ],
      "text/plain": [
       "           RESPONSE\n",
       "count  42833.000000\n",
       "mean       0.012586\n",
       "std        0.028307\n",
       "min        0.000970\n",
       "25%        0.004017\n",
       "50%        0.007683\n",
       "75%        0.014042\n",
       "max        0.983186"
      ]
     },
     "execution_count": 296,
     "metadata": {},
     "output_type": "execute_result"
    }
   ],
   "source": [
    "kaggle_GBC.describe()"
   ]
  },
  {
   "cell_type": "code",
   "execution_count": null,
   "metadata": {},
   "outputs": [],
   "source": [
    "kaggle_GBC.to_csv(\"./submission1.csv\")"
   ]
  }
 ],
 "metadata": {
  "kernelspec": {
   "display_name": "Python 3",
   "language": "python",
   "name": "python3"
  },
  "language_info": {
   "codemirror_mode": {
    "name": "ipython",
    "version": 3
   },
   "file_extension": ".py",
   "mimetype": "text/x-python",
   "name": "python",
   "nbconvert_exporter": "python",
   "pygments_lexer": "ipython3",
   "version": "3.6.3"
  }
 },
 "nbformat": 4,
 "nbformat_minor": 2
}
