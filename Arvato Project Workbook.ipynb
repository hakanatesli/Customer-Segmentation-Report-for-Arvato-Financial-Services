{
 "cells": [
  {
   "cell_type": "markdown",
   "source": [
    "# Capstone Project: Create a Customer Segmentation Report for Arvato Financial Services\n",
    "\n",
    "In this project, you will analyze demographics data for customers of a mail-order sales company in Germany, comparing it against demographics information for the general population. You'll use unsupervised learning techniques to perform customer segmentation, identifying the parts of the population that best describe the core customer base of the company. Then, you'll apply what you've learned on a third dataset with demographics information for targets of a marketing campaign for the company, and use a model to predict which individuals are most likely to convert into becoming customers for the company. The data that you will use has been provided by our partners at Bertelsmann Arvato Analytics, and represents a real-life data science task.\n",
    "\n",
    "If you completed the first term of this program, you will be familiar with the first part of this project, from the unsupervised learning project. The versions of those two datasets used in this project will include many more features and has not been pre-cleaned. You are also free to choose whatever approach you'd like to analyzing the data rather than follow pre-determined steps. In your work on this project, make sure that you carefully document your steps and decisions, since your main deliverable for this project will be a blog post reporting your findings."
   ],
   "metadata": {}
  },
  {
   "cell_type": "code",
   "execution_count": 1,
   "source": [
    "!pip install lightgbm"
   ],
   "outputs": [
    {
     "output_type": "stream",
     "name": "stdout",
     "text": [
      "Requirement already satisfied: lightgbm in c:\\users\\user\\env\\matrixenv\\lib\\site-packages (3.2.1)\n",
      "Requirement already satisfied: scipy in c:\\users\\user\\env\\matrixenv\\lib\\site-packages (from lightgbm) (1.7.1)\n",
      "Requirement already satisfied: scikit-learn!=0.22.0 in c:\\users\\user\\env\\matrixenv\\lib\\site-packages (from lightgbm) (0.24.2)\n",
      "Requirement already satisfied: wheel in c:\\users\\user\\env\\matrixenv\\lib\\site-packages (from lightgbm) (0.37.0)\n",
      "Requirement already satisfied: numpy in c:\\users\\user\\env\\matrixenv\\lib\\site-packages (from lightgbm) (1.21.0)\n",
      "Requirement already satisfied: joblib>=0.11 in c:\\users\\user\\env\\matrixenv\\lib\\site-packages (from scikit-learn!=0.22.0->lightgbm) (1.0.1)\n",
      "Requirement already satisfied: threadpoolctl>=2.0.0 in c:\\users\\user\\env\\matrixenv\\lib\\site-packages (from scikit-learn!=0.22.0->lightgbm) (2.2.0)\n"
     ]
    }
   ],
   "metadata": {}
  },
  {
   "cell_type": "code",
   "execution_count": 2,
   "source": [
    "# import libraries here; add more as necessary\r\n",
    "import time\r\n",
    "\r\n",
    "import numpy as np\r\n",
    "import pandas as pd\r\n",
    "import matplotlib.pyplot as plt\r\n",
    "import seaborn as sns\r\n",
    "import operator\r\n",
    "from collections import Counter\r\n",
    "\r\n",
    "from sklearn.impute import SimpleImputer\r\n",
    "from sklearn.preprocessing import StandardScaler\r\n",
    "from sklearn.decomposition import PCA\r\n",
    "\r\n",
    "from sklearn.cluster import KMeans\r\n",
    "from sklearn.ensemble import AdaBoostClassifier, GradientBoostingClassifier\r\n",
    "import lightgbm as lgb\r\n",
    "\r\n",
    "\r\n",
    "from sklearn.metrics import accuracy_score, roc_auc_score, confusion_matrix \r\n",
    "from sklearn.model_selection import train_test_split, cross_val_score, ShuffleSplit\r\n",
    "from sklearn.model_selection import GridSearchCV\r\n",
    "\r\n",
    "\r\n",
    "# magic word for producing visualizations in notebook\r\n",
    "%matplotlib inline"
   ],
   "outputs": [],
   "metadata": {}
  },
  {
   "cell_type": "markdown",
   "source": [
    "## Part 0: Get to Know the Data\n",
    "\n",
    "There are four data files associated with this project:\n",
    "\n",
    "- `Udacity_AZDIAS_052018.csv`: Demographics data for the general population of Germany; 891 211 persons (rows) x 366 features (columns).\n",
    "- `Udacity_CUSTOMERS_052018.csv`: Demographics data for customers of a mail-order company; 191 652 persons (rows) x 369 features (columns).\n",
    "- `Udacity_MAILOUT_052018_TRAIN.csv`: Demographics data for individuals who were targets of a marketing campaign; 42 982 persons (rows) x 367 (columns).\n",
    "- `Udacity_MAILOUT_052018_TEST.csv`: Demographics data for individuals who were targets of a marketing campaign; 42 833 persons (rows) x 366 (columns).\n",
    "\n",
    "Each row of the demographics files represents a single person, but also includes information outside of individuals, including information about their household, building, and neighborhood. Use the information from the first two files to figure out how customers (\"CUSTOMERS\") are similar to or differ from the general population at large (\"AZDIAS\"), then use your analysis to make predictions on the other two files (\"MAILOUT\"), predicting which recipients are most likely to become a customer for the mail-order company.\n",
    "\n",
    "The \"CUSTOMERS\" file contains three extra columns ('CUSTOMER_GROUP', 'ONLINE_PURCHASE', and 'PRODUCT_GROUP'), which provide broad information about the customers depicted in the file. The original \"MAILOUT\" file included one additional column, \"RESPONSE\", which indicated whether or not each recipient became a customer of the company. For the \"TRAIN\" subset, this column has been retained, but in the \"TEST\" subset it has been removed; it is against that withheld column that your final predictions will be assessed in the Kaggle competition.\n",
    "\n",
    "Otherwise, all of the remaining columns are the same between the three data files. For more information about the columns depicted in the files, you can refer to two Excel spreadsheets provided in the workspace. [One of them](./DIAS Information Levels - Attributes 2017.xlsx) is a top-level list of attributes and descriptions, organized by informational category. [The other](./DIAS Attributes - Values 2017.xlsx) is a detailed mapping of data values for each feature in alphabetical order.\n",
    "\n",
    "In the below cell, we've provided some initial code to load in the first two datasets. Note for all of the `.csv` data files in this project that they're semicolon (`;`) delimited, so an additional argument in the [`read_csv()`](https://pandas.pydata.org/pandas-docs/stable/generated/pandas.read_csv.html) call has been included to read in the data properly. Also, considering the size of the datasets, it may take some time for them to load completely.\n",
    "\n",
    "You'll notice when the data is loaded in that a warning message will immediately pop up. Before you really start digging into the modeling and analysis, you're going to need to perform some cleaning. Take some time to browse the structure of the data and look over the informational spreadsheets to understand the data values. Make some decisions on which features to keep, which features to drop, and if any revisions need to be made on data formats. It'll be a good idea to create a function with pre-processing steps, since you'll need to clean all of the datasets before you work with them."
   ],
   "metadata": {}
  },
  {
   "cell_type": "markdown",
   "source": [
    "# 0.1. Data Exploration"
   ],
   "metadata": {}
  },
  {
   "cell_type": "code",
   "execution_count": 3,
   "source": [
    "# load in the data\r\n",
    "try:\r\n",
    "    azdias = pd.read_csv('Udacity_AZDIAS_052018.csv', sep=';')\r\n",
    "    customers = pd.read_csv('Udacity_CUSTOMERS_052018.csv', sep=';')\r\n",
    "    attributes_values = pd.read_excel('DIAS Attributes - Values 2017.xlsx', header=1).fillna(method = 'ffill').reset_index().drop(['index'],axis=1)\r\n",
    "    attributes_desc = pd.read_excel('DIAS Information Levels - Attributes 2017.xlsx', header=1).reset_index().drop(['index'],axis=1)\r\n",
    "    print('Datasets are loaded..')\r\n",
    "except:\r\n",
    "    print('Datasets are not loaded!!')"
   ],
   "outputs": [
    {
     "output_type": "stream",
     "name": "stderr",
     "text": [
      "c:\\Users\\user\\env\\matrixenv\\lib\\site-packages\\IPython\\core\\interactiveshell.py:3441: DtypeWarning: Columns (18,19) have mixed types.Specify dtype option on import or set low_memory=False.\n",
      "  exec(code_obj, self.user_global_ns, self.user_ns)\n"
     ]
    },
    {
     "output_type": "stream",
     "name": "stdout",
     "text": [
      "Datasets are loaded..\n"
     ]
    }
   ],
   "metadata": {}
  },
  {
   "cell_type": "markdown",
   "source": [
    "Note: As you can see after downloading the dataset, Python gave a Dtype Warning. We will look at this problem again in the data cleaning section."
   ],
   "metadata": {}
  },
  {
   "cell_type": "code",
   "execution_count": 4,
   "source": [
    "print('General Population Dataset Shape: ', azdias.shape)\r\n",
    "print('Customer Dataset Shape: ', customers.shape)"
   ],
   "outputs": [
    {
     "output_type": "stream",
     "name": "stdout",
     "text": [
      "General Population Dataset Shape:  (891221, 366)\n",
      "Customer Dataset Shape:  (191652, 369)\n"
     ]
    }
   ],
   "metadata": {}
  },
  {
   "cell_type": "code",
   "execution_count": 5,
   "source": [
    "azdias.head()"
   ],
   "outputs": [
    {
     "output_type": "execute_result",
     "data": {
      "text/plain": [
       "      LNR  AGER_TYP  AKT_DAT_KL  ALTER_HH  ALTER_KIND1  ALTER_KIND2  \\\n",
       "0  910215        -1         NaN       NaN          NaN          NaN   \n",
       "1  910220        -1         9.0       0.0          NaN          NaN   \n",
       "2  910225        -1         9.0      17.0          NaN          NaN   \n",
       "3  910226         2         1.0      13.0          NaN          NaN   \n",
       "4  910241        -1         1.0      20.0          NaN          NaN   \n",
       "\n",
       "   ALTER_KIND3  ALTER_KIND4  ALTERSKATEGORIE_FEIN  ANZ_HAUSHALTE_AKTIV  ...  \\\n",
       "0          NaN          NaN                   NaN                  NaN  ...   \n",
       "1          NaN          NaN                  21.0                 11.0  ...   \n",
       "2          NaN          NaN                  17.0                 10.0  ...   \n",
       "3          NaN          NaN                  13.0                  1.0  ...   \n",
       "4          NaN          NaN                  14.0                  3.0  ...   \n",
       "\n",
       "   VHN  VK_DHT4A  VK_DISTANZ  VK_ZG11  W_KEIT_KIND_HH  WOHNDAUER_2008  \\\n",
       "0  NaN       NaN         NaN      NaN             NaN             NaN   \n",
       "1  4.0       8.0        11.0     10.0             3.0             9.0   \n",
       "2  2.0       9.0         9.0      6.0             3.0             9.0   \n",
       "3  0.0       7.0        10.0     11.0             NaN             9.0   \n",
       "4  2.0       3.0         5.0      4.0             2.0             9.0   \n",
       "\n",
       "   WOHNLAGE ZABEOTYP ANREDE_KZ ALTERSKATEGORIE_GROB  \n",
       "0       NaN        3         1                    2  \n",
       "1       4.0        5         2                    1  \n",
       "2       2.0        5         2                    3  \n",
       "3       7.0        3         2                    4  \n",
       "4       3.0        4         1                    3  \n",
       "\n",
       "[5 rows x 366 columns]"
      ],
      "text/html": [
       "<div>\n",
       "<style scoped>\n",
       "    .dataframe tbody tr th:only-of-type {\n",
       "        vertical-align: middle;\n",
       "    }\n",
       "\n",
       "    .dataframe tbody tr th {\n",
       "        vertical-align: top;\n",
       "    }\n",
       "\n",
       "    .dataframe thead th {\n",
       "        text-align: right;\n",
       "    }\n",
       "</style>\n",
       "<table border=\"1\" class=\"dataframe\">\n",
       "  <thead>\n",
       "    <tr style=\"text-align: right;\">\n",
       "      <th></th>\n",
       "      <th>LNR</th>\n",
       "      <th>AGER_TYP</th>\n",
       "      <th>AKT_DAT_KL</th>\n",
       "      <th>ALTER_HH</th>\n",
       "      <th>ALTER_KIND1</th>\n",
       "      <th>ALTER_KIND2</th>\n",
       "      <th>ALTER_KIND3</th>\n",
       "      <th>ALTER_KIND4</th>\n",
       "      <th>ALTERSKATEGORIE_FEIN</th>\n",
       "      <th>ANZ_HAUSHALTE_AKTIV</th>\n",
       "      <th>...</th>\n",
       "      <th>VHN</th>\n",
       "      <th>VK_DHT4A</th>\n",
       "      <th>VK_DISTANZ</th>\n",
       "      <th>VK_ZG11</th>\n",
       "      <th>W_KEIT_KIND_HH</th>\n",
       "      <th>WOHNDAUER_2008</th>\n",
       "      <th>WOHNLAGE</th>\n",
       "      <th>ZABEOTYP</th>\n",
       "      <th>ANREDE_KZ</th>\n",
       "      <th>ALTERSKATEGORIE_GROB</th>\n",
       "    </tr>\n",
       "  </thead>\n",
       "  <tbody>\n",
       "    <tr>\n",
       "      <th>0</th>\n",
       "      <td>910215</td>\n",
       "      <td>-1</td>\n",
       "      <td>NaN</td>\n",
       "      <td>NaN</td>\n",
       "      <td>NaN</td>\n",
       "      <td>NaN</td>\n",
       "      <td>NaN</td>\n",
       "      <td>NaN</td>\n",
       "      <td>NaN</td>\n",
       "      <td>NaN</td>\n",
       "      <td>...</td>\n",
       "      <td>NaN</td>\n",
       "      <td>NaN</td>\n",
       "      <td>NaN</td>\n",
       "      <td>NaN</td>\n",
       "      <td>NaN</td>\n",
       "      <td>NaN</td>\n",
       "      <td>NaN</td>\n",
       "      <td>3</td>\n",
       "      <td>1</td>\n",
       "      <td>2</td>\n",
       "    </tr>\n",
       "    <tr>\n",
       "      <th>1</th>\n",
       "      <td>910220</td>\n",
       "      <td>-1</td>\n",
       "      <td>9.0</td>\n",
       "      <td>0.0</td>\n",
       "      <td>NaN</td>\n",
       "      <td>NaN</td>\n",
       "      <td>NaN</td>\n",
       "      <td>NaN</td>\n",
       "      <td>21.0</td>\n",
       "      <td>11.0</td>\n",
       "      <td>...</td>\n",
       "      <td>4.0</td>\n",
       "      <td>8.0</td>\n",
       "      <td>11.0</td>\n",
       "      <td>10.0</td>\n",
       "      <td>3.0</td>\n",
       "      <td>9.0</td>\n",
       "      <td>4.0</td>\n",
       "      <td>5</td>\n",
       "      <td>2</td>\n",
       "      <td>1</td>\n",
       "    </tr>\n",
       "    <tr>\n",
       "      <th>2</th>\n",
       "      <td>910225</td>\n",
       "      <td>-1</td>\n",
       "      <td>9.0</td>\n",
       "      <td>17.0</td>\n",
       "      <td>NaN</td>\n",
       "      <td>NaN</td>\n",
       "      <td>NaN</td>\n",
       "      <td>NaN</td>\n",
       "      <td>17.0</td>\n",
       "      <td>10.0</td>\n",
       "      <td>...</td>\n",
       "      <td>2.0</td>\n",
       "      <td>9.0</td>\n",
       "      <td>9.0</td>\n",
       "      <td>6.0</td>\n",
       "      <td>3.0</td>\n",
       "      <td>9.0</td>\n",
       "      <td>2.0</td>\n",
       "      <td>5</td>\n",
       "      <td>2</td>\n",
       "      <td>3</td>\n",
       "    </tr>\n",
       "    <tr>\n",
       "      <th>3</th>\n",
       "      <td>910226</td>\n",
       "      <td>2</td>\n",
       "      <td>1.0</td>\n",
       "      <td>13.0</td>\n",
       "      <td>NaN</td>\n",
       "      <td>NaN</td>\n",
       "      <td>NaN</td>\n",
       "      <td>NaN</td>\n",
       "      <td>13.0</td>\n",
       "      <td>1.0</td>\n",
       "      <td>...</td>\n",
       "      <td>0.0</td>\n",
       "      <td>7.0</td>\n",
       "      <td>10.0</td>\n",
       "      <td>11.0</td>\n",
       "      <td>NaN</td>\n",
       "      <td>9.0</td>\n",
       "      <td>7.0</td>\n",
       "      <td>3</td>\n",
       "      <td>2</td>\n",
       "      <td>4</td>\n",
       "    </tr>\n",
       "    <tr>\n",
       "      <th>4</th>\n",
       "      <td>910241</td>\n",
       "      <td>-1</td>\n",
       "      <td>1.0</td>\n",
       "      <td>20.0</td>\n",
       "      <td>NaN</td>\n",
       "      <td>NaN</td>\n",
       "      <td>NaN</td>\n",
       "      <td>NaN</td>\n",
       "      <td>14.0</td>\n",
       "      <td>3.0</td>\n",
       "      <td>...</td>\n",
       "      <td>2.0</td>\n",
       "      <td>3.0</td>\n",
       "      <td>5.0</td>\n",
       "      <td>4.0</td>\n",
       "      <td>2.0</td>\n",
       "      <td>9.0</td>\n",
       "      <td>3.0</td>\n",
       "      <td>4</td>\n",
       "      <td>1</td>\n",
       "      <td>3</td>\n",
       "    </tr>\n",
       "  </tbody>\n",
       "</table>\n",
       "<p>5 rows × 366 columns</p>\n",
       "</div>"
      ]
     },
     "metadata": {},
     "execution_count": 5
    }
   ],
   "metadata": {}
  },
  {
   "cell_type": "code",
   "execution_count": 6,
   "source": [
    "customers.head()"
   ],
   "outputs": [
    {
     "output_type": "execute_result",
     "data": {
      "text/plain": [
       "      LNR  AGER_TYP  AKT_DAT_KL  ALTER_HH  ALTER_KIND1  ALTER_KIND2  \\\n",
       "0    9626         2         1.0      10.0          NaN          NaN   \n",
       "1    9628        -1         9.0      11.0          NaN          NaN   \n",
       "2  143872        -1         1.0       6.0          NaN          NaN   \n",
       "3  143873         1         1.0       8.0          NaN          NaN   \n",
       "4  143874        -1         1.0      20.0          NaN          NaN   \n",
       "\n",
       "   ALTER_KIND3  ALTER_KIND4  ALTERSKATEGORIE_FEIN  ANZ_HAUSHALTE_AKTIV  ...  \\\n",
       "0          NaN          NaN                  10.0                  1.0  ...   \n",
       "1          NaN          NaN                   NaN                  NaN  ...   \n",
       "2          NaN          NaN                   0.0                  1.0  ...   \n",
       "3          NaN          NaN                   8.0                  0.0  ...   \n",
       "4          NaN          NaN                  14.0                  7.0  ...   \n",
       "\n",
       "   VK_ZG11  W_KEIT_KIND_HH  WOHNDAUER_2008  WOHNLAGE  ZABEOTYP  \\\n",
       "0      2.0             6.0             9.0       7.0         3   \n",
       "1      3.0             0.0             9.0       NaN         3   \n",
       "2     11.0             6.0             9.0       2.0         3   \n",
       "3      2.0             NaN             9.0       7.0         1   \n",
       "4      4.0             2.0             9.0       3.0         1   \n",
       "\n",
       "       PRODUCT_GROUP  CUSTOMER_GROUP ONLINE_PURCHASE ANREDE_KZ  \\\n",
       "0  COSMETIC_AND_FOOD     MULTI_BUYER               0         1   \n",
       "1               FOOD    SINGLE_BUYER               0         1   \n",
       "2  COSMETIC_AND_FOOD     MULTI_BUYER               0         2   \n",
       "3           COSMETIC     MULTI_BUYER               0         1   \n",
       "4               FOOD     MULTI_BUYER               0         1   \n",
       "\n",
       "  ALTERSKATEGORIE_GROB  \n",
       "0                    4  \n",
       "1                    4  \n",
       "2                    4  \n",
       "3                    4  \n",
       "4                    3  \n",
       "\n",
       "[5 rows x 369 columns]"
      ],
      "text/html": [
       "<div>\n",
       "<style scoped>\n",
       "    .dataframe tbody tr th:only-of-type {\n",
       "        vertical-align: middle;\n",
       "    }\n",
       "\n",
       "    .dataframe tbody tr th {\n",
       "        vertical-align: top;\n",
       "    }\n",
       "\n",
       "    .dataframe thead th {\n",
       "        text-align: right;\n",
       "    }\n",
       "</style>\n",
       "<table border=\"1\" class=\"dataframe\">\n",
       "  <thead>\n",
       "    <tr style=\"text-align: right;\">\n",
       "      <th></th>\n",
       "      <th>LNR</th>\n",
       "      <th>AGER_TYP</th>\n",
       "      <th>AKT_DAT_KL</th>\n",
       "      <th>ALTER_HH</th>\n",
       "      <th>ALTER_KIND1</th>\n",
       "      <th>ALTER_KIND2</th>\n",
       "      <th>ALTER_KIND3</th>\n",
       "      <th>ALTER_KIND4</th>\n",
       "      <th>ALTERSKATEGORIE_FEIN</th>\n",
       "      <th>ANZ_HAUSHALTE_AKTIV</th>\n",
       "      <th>...</th>\n",
       "      <th>VK_ZG11</th>\n",
       "      <th>W_KEIT_KIND_HH</th>\n",
       "      <th>WOHNDAUER_2008</th>\n",
       "      <th>WOHNLAGE</th>\n",
       "      <th>ZABEOTYP</th>\n",
       "      <th>PRODUCT_GROUP</th>\n",
       "      <th>CUSTOMER_GROUP</th>\n",
       "      <th>ONLINE_PURCHASE</th>\n",
       "      <th>ANREDE_KZ</th>\n",
       "      <th>ALTERSKATEGORIE_GROB</th>\n",
       "    </tr>\n",
       "  </thead>\n",
       "  <tbody>\n",
       "    <tr>\n",
       "      <th>0</th>\n",
       "      <td>9626</td>\n",
       "      <td>2</td>\n",
       "      <td>1.0</td>\n",
       "      <td>10.0</td>\n",
       "      <td>NaN</td>\n",
       "      <td>NaN</td>\n",
       "      <td>NaN</td>\n",
       "      <td>NaN</td>\n",
       "      <td>10.0</td>\n",
       "      <td>1.0</td>\n",
       "      <td>...</td>\n",
       "      <td>2.0</td>\n",
       "      <td>6.0</td>\n",
       "      <td>9.0</td>\n",
       "      <td>7.0</td>\n",
       "      <td>3</td>\n",
       "      <td>COSMETIC_AND_FOOD</td>\n",
       "      <td>MULTI_BUYER</td>\n",
       "      <td>0</td>\n",
       "      <td>1</td>\n",
       "      <td>4</td>\n",
       "    </tr>\n",
       "    <tr>\n",
       "      <th>1</th>\n",
       "      <td>9628</td>\n",
       "      <td>-1</td>\n",
       "      <td>9.0</td>\n",
       "      <td>11.0</td>\n",
       "      <td>NaN</td>\n",
       "      <td>NaN</td>\n",
       "      <td>NaN</td>\n",
       "      <td>NaN</td>\n",
       "      <td>NaN</td>\n",
       "      <td>NaN</td>\n",
       "      <td>...</td>\n",
       "      <td>3.0</td>\n",
       "      <td>0.0</td>\n",
       "      <td>9.0</td>\n",
       "      <td>NaN</td>\n",
       "      <td>3</td>\n",
       "      <td>FOOD</td>\n",
       "      <td>SINGLE_BUYER</td>\n",
       "      <td>0</td>\n",
       "      <td>1</td>\n",
       "      <td>4</td>\n",
       "    </tr>\n",
       "    <tr>\n",
       "      <th>2</th>\n",
       "      <td>143872</td>\n",
       "      <td>-1</td>\n",
       "      <td>1.0</td>\n",
       "      <td>6.0</td>\n",
       "      <td>NaN</td>\n",
       "      <td>NaN</td>\n",
       "      <td>NaN</td>\n",
       "      <td>NaN</td>\n",
       "      <td>0.0</td>\n",
       "      <td>1.0</td>\n",
       "      <td>...</td>\n",
       "      <td>11.0</td>\n",
       "      <td>6.0</td>\n",
       "      <td>9.0</td>\n",
       "      <td>2.0</td>\n",
       "      <td>3</td>\n",
       "      <td>COSMETIC_AND_FOOD</td>\n",
       "      <td>MULTI_BUYER</td>\n",
       "      <td>0</td>\n",
       "      <td>2</td>\n",
       "      <td>4</td>\n",
       "    </tr>\n",
       "    <tr>\n",
       "      <th>3</th>\n",
       "      <td>143873</td>\n",
       "      <td>1</td>\n",
       "      <td>1.0</td>\n",
       "      <td>8.0</td>\n",
       "      <td>NaN</td>\n",
       "      <td>NaN</td>\n",
       "      <td>NaN</td>\n",
       "      <td>NaN</td>\n",
       "      <td>8.0</td>\n",
       "      <td>0.0</td>\n",
       "      <td>...</td>\n",
       "      <td>2.0</td>\n",
       "      <td>NaN</td>\n",
       "      <td>9.0</td>\n",
       "      <td>7.0</td>\n",
       "      <td>1</td>\n",
       "      <td>COSMETIC</td>\n",
       "      <td>MULTI_BUYER</td>\n",
       "      <td>0</td>\n",
       "      <td>1</td>\n",
       "      <td>4</td>\n",
       "    </tr>\n",
       "    <tr>\n",
       "      <th>4</th>\n",
       "      <td>143874</td>\n",
       "      <td>-1</td>\n",
       "      <td>1.0</td>\n",
       "      <td>20.0</td>\n",
       "      <td>NaN</td>\n",
       "      <td>NaN</td>\n",
       "      <td>NaN</td>\n",
       "      <td>NaN</td>\n",
       "      <td>14.0</td>\n",
       "      <td>7.0</td>\n",
       "      <td>...</td>\n",
       "      <td>4.0</td>\n",
       "      <td>2.0</td>\n",
       "      <td>9.0</td>\n",
       "      <td>3.0</td>\n",
       "      <td>1</td>\n",
       "      <td>FOOD</td>\n",
       "      <td>MULTI_BUYER</td>\n",
       "      <td>0</td>\n",
       "      <td>1</td>\n",
       "      <td>3</td>\n",
       "    </tr>\n",
       "  </tbody>\n",
       "</table>\n",
       "<p>5 rows × 369 columns</p>\n",
       "</div>"
      ]
     },
     "metadata": {},
     "execution_count": 6
    }
   ],
   "metadata": {}
  },
  {
   "cell_type": "markdown",
   "source": [
    "When I looked at the 2 data sets, the first thing that caught my attention was that there was a lot of missing data."
   ],
   "metadata": {}
  },
  {
   "cell_type": "code",
   "execution_count": 7,
   "source": [
    "azdias.describe()"
   ],
   "outputs": [
    {
     "output_type": "execute_result",
     "data": {
      "text/plain": [
       "                LNR       AGER_TYP     AKT_DAT_KL       ALTER_HH  \\\n",
       "count  8.912210e+05  891221.000000  817722.000000  817722.000000   \n",
       "mean   6.372630e+05      -0.358435       4.421928      10.864126   \n",
       "std    2.572735e+05       1.198724       3.638805       7.639683   \n",
       "min    1.916530e+05      -1.000000       1.000000       0.000000   \n",
       "25%    4.144580e+05      -1.000000       1.000000       0.000000   \n",
       "50%    6.372630e+05      -1.000000       3.000000      13.000000   \n",
       "75%    8.600680e+05      -1.000000       9.000000      17.000000   \n",
       "max    1.082873e+06       3.000000       9.000000      21.000000   \n",
       "\n",
       "        ALTER_KIND1   ALTER_KIND2  ALTER_KIND3  ALTER_KIND4  \\\n",
       "count  81058.000000  29499.000000  6170.000000  1205.000000   \n",
       "mean      11.745392     13.402658    14.476013    15.089627   \n",
       "std        4.097660      3.243300     2.712427     2.452932   \n",
       "min        2.000000      2.000000     4.000000     7.000000   \n",
       "25%        8.000000     11.000000    13.000000    14.000000   \n",
       "50%       12.000000     14.000000    15.000000    15.000000   \n",
       "75%       15.000000     16.000000    17.000000    17.000000   \n",
       "max       18.000000     18.000000    18.000000    18.000000   \n",
       "\n",
       "       ALTERSKATEGORIE_FEIN  ANZ_HAUSHALTE_AKTIV  ...            VHN  \\\n",
       "count         628274.000000        798073.000000  ...  770025.000000   \n",
       "mean              13.700717             8.287263  ...       2.417322   \n",
       "std                5.079849            15.628087  ...       1.166572   \n",
       "min                0.000000             0.000000  ...       0.000000   \n",
       "25%               11.000000             1.000000  ...       2.000000   \n",
       "50%               14.000000             4.000000  ...       2.000000   \n",
       "75%               17.000000             9.000000  ...       3.000000   \n",
       "max               25.000000           595.000000  ...       4.000000   \n",
       "\n",
       "            VK_DHT4A     VK_DISTANZ        VK_ZG11  W_KEIT_KIND_HH  \\\n",
       "count  815304.000000  815304.000000  815304.000000   783619.000000   \n",
       "mean        6.001214       7.532130       5.945972        3.933406   \n",
       "std         2.856091       3.247789       2.771464        1.964701   \n",
       "min         1.000000       1.000000       1.000000        0.000000   \n",
       "25%         3.000000       5.000000       4.000000        2.000000   \n",
       "50%         6.000000       8.000000       6.000000        4.000000   \n",
       "75%         9.000000      10.000000       8.000000        6.000000   \n",
       "max        11.000000      13.000000      11.000000        6.000000   \n",
       "\n",
       "       WOHNDAUER_2008       WOHNLAGE       ZABEOTYP      ANREDE_KZ  \\\n",
       "count   817722.000000  798073.000000  891221.000000  891221.000000   \n",
       "mean         7.908791       4.052836       3.362438       1.522098   \n",
       "std          1.923137       1.949539       1.352704       0.499512   \n",
       "min          1.000000       0.000000       1.000000       1.000000   \n",
       "25%          8.000000       3.000000       3.000000       1.000000   \n",
       "50%          9.000000       3.000000       3.000000       2.000000   \n",
       "75%          9.000000       5.000000       4.000000       2.000000   \n",
       "max          9.000000       8.000000       6.000000       2.000000   \n",
       "\n",
       "       ALTERSKATEGORIE_GROB  \n",
       "count         891221.000000  \n",
       "mean               2.777398  \n",
       "std                1.068775  \n",
       "min                1.000000  \n",
       "25%                2.000000  \n",
       "50%                3.000000  \n",
       "75%                4.000000  \n",
       "max                9.000000  \n",
       "\n",
       "[8 rows x 360 columns]"
      ],
      "text/html": [
       "<div>\n",
       "<style scoped>\n",
       "    .dataframe tbody tr th:only-of-type {\n",
       "        vertical-align: middle;\n",
       "    }\n",
       "\n",
       "    .dataframe tbody tr th {\n",
       "        vertical-align: top;\n",
       "    }\n",
       "\n",
       "    .dataframe thead th {\n",
       "        text-align: right;\n",
       "    }\n",
       "</style>\n",
       "<table border=\"1\" class=\"dataframe\">\n",
       "  <thead>\n",
       "    <tr style=\"text-align: right;\">\n",
       "      <th></th>\n",
       "      <th>LNR</th>\n",
       "      <th>AGER_TYP</th>\n",
       "      <th>AKT_DAT_KL</th>\n",
       "      <th>ALTER_HH</th>\n",
       "      <th>ALTER_KIND1</th>\n",
       "      <th>ALTER_KIND2</th>\n",
       "      <th>ALTER_KIND3</th>\n",
       "      <th>ALTER_KIND4</th>\n",
       "      <th>ALTERSKATEGORIE_FEIN</th>\n",
       "      <th>ANZ_HAUSHALTE_AKTIV</th>\n",
       "      <th>...</th>\n",
       "      <th>VHN</th>\n",
       "      <th>VK_DHT4A</th>\n",
       "      <th>VK_DISTANZ</th>\n",
       "      <th>VK_ZG11</th>\n",
       "      <th>W_KEIT_KIND_HH</th>\n",
       "      <th>WOHNDAUER_2008</th>\n",
       "      <th>WOHNLAGE</th>\n",
       "      <th>ZABEOTYP</th>\n",
       "      <th>ANREDE_KZ</th>\n",
       "      <th>ALTERSKATEGORIE_GROB</th>\n",
       "    </tr>\n",
       "  </thead>\n",
       "  <tbody>\n",
       "    <tr>\n",
       "      <th>count</th>\n",
       "      <td>8.912210e+05</td>\n",
       "      <td>891221.000000</td>\n",
       "      <td>817722.000000</td>\n",
       "      <td>817722.000000</td>\n",
       "      <td>81058.000000</td>\n",
       "      <td>29499.000000</td>\n",
       "      <td>6170.000000</td>\n",
       "      <td>1205.000000</td>\n",
       "      <td>628274.000000</td>\n",
       "      <td>798073.000000</td>\n",
       "      <td>...</td>\n",
       "      <td>770025.000000</td>\n",
       "      <td>815304.000000</td>\n",
       "      <td>815304.000000</td>\n",
       "      <td>815304.000000</td>\n",
       "      <td>783619.000000</td>\n",
       "      <td>817722.000000</td>\n",
       "      <td>798073.000000</td>\n",
       "      <td>891221.000000</td>\n",
       "      <td>891221.000000</td>\n",
       "      <td>891221.000000</td>\n",
       "    </tr>\n",
       "    <tr>\n",
       "      <th>mean</th>\n",
       "      <td>6.372630e+05</td>\n",
       "      <td>-0.358435</td>\n",
       "      <td>4.421928</td>\n",
       "      <td>10.864126</td>\n",
       "      <td>11.745392</td>\n",
       "      <td>13.402658</td>\n",
       "      <td>14.476013</td>\n",
       "      <td>15.089627</td>\n",
       "      <td>13.700717</td>\n",
       "      <td>8.287263</td>\n",
       "      <td>...</td>\n",
       "      <td>2.417322</td>\n",
       "      <td>6.001214</td>\n",
       "      <td>7.532130</td>\n",
       "      <td>5.945972</td>\n",
       "      <td>3.933406</td>\n",
       "      <td>7.908791</td>\n",
       "      <td>4.052836</td>\n",
       "      <td>3.362438</td>\n",
       "      <td>1.522098</td>\n",
       "      <td>2.777398</td>\n",
       "    </tr>\n",
       "    <tr>\n",
       "      <th>std</th>\n",
       "      <td>2.572735e+05</td>\n",
       "      <td>1.198724</td>\n",
       "      <td>3.638805</td>\n",
       "      <td>7.639683</td>\n",
       "      <td>4.097660</td>\n",
       "      <td>3.243300</td>\n",
       "      <td>2.712427</td>\n",
       "      <td>2.452932</td>\n",
       "      <td>5.079849</td>\n",
       "      <td>15.628087</td>\n",
       "      <td>...</td>\n",
       "      <td>1.166572</td>\n",
       "      <td>2.856091</td>\n",
       "      <td>3.247789</td>\n",
       "      <td>2.771464</td>\n",
       "      <td>1.964701</td>\n",
       "      <td>1.923137</td>\n",
       "      <td>1.949539</td>\n",
       "      <td>1.352704</td>\n",
       "      <td>0.499512</td>\n",
       "      <td>1.068775</td>\n",
       "    </tr>\n",
       "    <tr>\n",
       "      <th>min</th>\n",
       "      <td>1.916530e+05</td>\n",
       "      <td>-1.000000</td>\n",
       "      <td>1.000000</td>\n",
       "      <td>0.000000</td>\n",
       "      <td>2.000000</td>\n",
       "      <td>2.000000</td>\n",
       "      <td>4.000000</td>\n",
       "      <td>7.000000</td>\n",
       "      <td>0.000000</td>\n",
       "      <td>0.000000</td>\n",
       "      <td>...</td>\n",
       "      <td>0.000000</td>\n",
       "      <td>1.000000</td>\n",
       "      <td>1.000000</td>\n",
       "      <td>1.000000</td>\n",
       "      <td>0.000000</td>\n",
       "      <td>1.000000</td>\n",
       "      <td>0.000000</td>\n",
       "      <td>1.000000</td>\n",
       "      <td>1.000000</td>\n",
       "      <td>1.000000</td>\n",
       "    </tr>\n",
       "    <tr>\n",
       "      <th>25%</th>\n",
       "      <td>4.144580e+05</td>\n",
       "      <td>-1.000000</td>\n",
       "      <td>1.000000</td>\n",
       "      <td>0.000000</td>\n",
       "      <td>8.000000</td>\n",
       "      <td>11.000000</td>\n",
       "      <td>13.000000</td>\n",
       "      <td>14.000000</td>\n",
       "      <td>11.000000</td>\n",
       "      <td>1.000000</td>\n",
       "      <td>...</td>\n",
       "      <td>2.000000</td>\n",
       "      <td>3.000000</td>\n",
       "      <td>5.000000</td>\n",
       "      <td>4.000000</td>\n",
       "      <td>2.000000</td>\n",
       "      <td>8.000000</td>\n",
       "      <td>3.000000</td>\n",
       "      <td>3.000000</td>\n",
       "      <td>1.000000</td>\n",
       "      <td>2.000000</td>\n",
       "    </tr>\n",
       "    <tr>\n",
       "      <th>50%</th>\n",
       "      <td>6.372630e+05</td>\n",
       "      <td>-1.000000</td>\n",
       "      <td>3.000000</td>\n",
       "      <td>13.000000</td>\n",
       "      <td>12.000000</td>\n",
       "      <td>14.000000</td>\n",
       "      <td>15.000000</td>\n",
       "      <td>15.000000</td>\n",
       "      <td>14.000000</td>\n",
       "      <td>4.000000</td>\n",
       "      <td>...</td>\n",
       "      <td>2.000000</td>\n",
       "      <td>6.000000</td>\n",
       "      <td>8.000000</td>\n",
       "      <td>6.000000</td>\n",
       "      <td>4.000000</td>\n",
       "      <td>9.000000</td>\n",
       "      <td>3.000000</td>\n",
       "      <td>3.000000</td>\n",
       "      <td>2.000000</td>\n",
       "      <td>3.000000</td>\n",
       "    </tr>\n",
       "    <tr>\n",
       "      <th>75%</th>\n",
       "      <td>8.600680e+05</td>\n",
       "      <td>-1.000000</td>\n",
       "      <td>9.000000</td>\n",
       "      <td>17.000000</td>\n",
       "      <td>15.000000</td>\n",
       "      <td>16.000000</td>\n",
       "      <td>17.000000</td>\n",
       "      <td>17.000000</td>\n",
       "      <td>17.000000</td>\n",
       "      <td>9.000000</td>\n",
       "      <td>...</td>\n",
       "      <td>3.000000</td>\n",
       "      <td>9.000000</td>\n",
       "      <td>10.000000</td>\n",
       "      <td>8.000000</td>\n",
       "      <td>6.000000</td>\n",
       "      <td>9.000000</td>\n",
       "      <td>5.000000</td>\n",
       "      <td>4.000000</td>\n",
       "      <td>2.000000</td>\n",
       "      <td>4.000000</td>\n",
       "    </tr>\n",
       "    <tr>\n",
       "      <th>max</th>\n",
       "      <td>1.082873e+06</td>\n",
       "      <td>3.000000</td>\n",
       "      <td>9.000000</td>\n",
       "      <td>21.000000</td>\n",
       "      <td>18.000000</td>\n",
       "      <td>18.000000</td>\n",
       "      <td>18.000000</td>\n",
       "      <td>18.000000</td>\n",
       "      <td>25.000000</td>\n",
       "      <td>595.000000</td>\n",
       "      <td>...</td>\n",
       "      <td>4.000000</td>\n",
       "      <td>11.000000</td>\n",
       "      <td>13.000000</td>\n",
       "      <td>11.000000</td>\n",
       "      <td>6.000000</td>\n",
       "      <td>9.000000</td>\n",
       "      <td>8.000000</td>\n",
       "      <td>6.000000</td>\n",
       "      <td>2.000000</td>\n",
       "      <td>9.000000</td>\n",
       "    </tr>\n",
       "  </tbody>\n",
       "</table>\n",
       "<p>8 rows × 360 columns</p>\n",
       "</div>"
      ]
     },
     "metadata": {},
     "execution_count": 7
    }
   ],
   "metadata": {}
  },
  {
   "cell_type": "code",
   "execution_count": 8,
   "source": [
    "customers.describe()"
   ],
   "outputs": [
    {
     "output_type": "execute_result",
     "data": {
      "text/plain": [
       "                 LNR       AGER_TYP     AKT_DAT_KL       ALTER_HH  \\\n",
       "count  191652.000000  191652.000000  145056.000000  145056.000000   \n",
       "mean    95826.500000       0.344359       1.747525      11.352009   \n",
       "std     55325.311233       1.391672       1.966334       6.275026   \n",
       "min         1.000000      -1.000000       1.000000       0.000000   \n",
       "25%     47913.750000      -1.000000       1.000000       8.000000   \n",
       "50%     95826.500000       0.000000       1.000000      11.000000   \n",
       "75%    143739.250000       2.000000       1.000000      16.000000   \n",
       "max    191652.000000       3.000000       9.000000      21.000000   \n",
       "\n",
       "        ALTER_KIND1  ALTER_KIND2  ALTER_KIND3  ALTER_KIND4  \\\n",
       "count  11766.000000  5100.000000  1275.000000   236.000000   \n",
       "mean      12.337243    13.672353    14.647059    15.377119   \n",
       "std        4.006050     3.243335     2.753787     2.307653   \n",
       "min        2.000000     2.000000     5.000000     8.000000   \n",
       "25%        9.000000    11.000000    13.000000    14.000000   \n",
       "50%       13.000000    14.000000    15.000000    16.000000   \n",
       "75%       16.000000    16.000000    17.000000    17.000000   \n",
       "max       18.000000    18.000000    18.000000    18.000000   \n",
       "\n",
       "       ALTERSKATEGORIE_FEIN  ANZ_HAUSHALTE_AKTIV  ...       VK_DHT4A  \\\n",
       "count         139810.000000        141725.000000  ...  143781.000000   \n",
       "mean              10.331579             4.965863  ...       4.374417   \n",
       "std                4.134828            14.309694  ...       2.924355   \n",
       "min                0.000000             0.000000  ...       1.000000   \n",
       "25%                9.000000             1.000000  ...       2.000000   \n",
       "50%               10.000000             1.000000  ...       4.000000   \n",
       "75%               13.000000             4.000000  ...       7.000000   \n",
       "max               25.000000           523.000000  ...      11.000000   \n",
       "\n",
       "          VK_DISTANZ        VK_ZG11  W_KEIT_KIND_HH  WOHNDAUER_2008  \\\n",
       "count  143781.000000  143781.000000   137910.000000   145056.000000   \n",
       "mean        4.564769       3.168868        4.152716        8.646371   \n",
       "std         2.887035       2.233516        1.974375        1.154001   \n",
       "min         1.000000       1.000000        0.000000        1.000000   \n",
       "25%         2.000000       1.000000        2.000000        9.000000   \n",
       "50%         4.000000       3.000000        5.000000        9.000000   \n",
       "75%         7.000000       4.000000        6.000000        9.000000   \n",
       "max        13.000000      11.000000        6.000000        9.000000   \n",
       "\n",
       "            WOHNLAGE       ZABEOTYP  ONLINE_PURCHASE      ANREDE_KZ  \\\n",
       "count  141725.000000  191652.000000    191652.000000  191652.000000   \n",
       "mean        3.723133       2.576806         0.090247       1.376432   \n",
       "std         2.095540       1.168486         0.286536       0.484492   \n",
       "min         0.000000       1.000000         0.000000       1.000000   \n",
       "25%         2.000000       1.000000         0.000000       1.000000   \n",
       "50%         3.000000       3.000000         0.000000       1.000000   \n",
       "75%         5.000000       3.000000         0.000000       2.000000   \n",
       "max         8.000000       6.000000         1.000000       2.000000   \n",
       "\n",
       "       ALTERSKATEGORIE_GROB  \n",
       "count         191652.000000  \n",
       "mean               3.060907  \n",
       "std                1.086254  \n",
       "min                1.000000  \n",
       "25%                3.000000  \n",
       "50%                3.000000  \n",
       "75%                4.000000  \n",
       "max                9.000000  \n",
       "\n",
       "[8 rows x 361 columns]"
      ],
      "text/html": [
       "<div>\n",
       "<style scoped>\n",
       "    .dataframe tbody tr th:only-of-type {\n",
       "        vertical-align: middle;\n",
       "    }\n",
       "\n",
       "    .dataframe tbody tr th {\n",
       "        vertical-align: top;\n",
       "    }\n",
       "\n",
       "    .dataframe thead th {\n",
       "        text-align: right;\n",
       "    }\n",
       "</style>\n",
       "<table border=\"1\" class=\"dataframe\">\n",
       "  <thead>\n",
       "    <tr style=\"text-align: right;\">\n",
       "      <th></th>\n",
       "      <th>LNR</th>\n",
       "      <th>AGER_TYP</th>\n",
       "      <th>AKT_DAT_KL</th>\n",
       "      <th>ALTER_HH</th>\n",
       "      <th>ALTER_KIND1</th>\n",
       "      <th>ALTER_KIND2</th>\n",
       "      <th>ALTER_KIND3</th>\n",
       "      <th>ALTER_KIND4</th>\n",
       "      <th>ALTERSKATEGORIE_FEIN</th>\n",
       "      <th>ANZ_HAUSHALTE_AKTIV</th>\n",
       "      <th>...</th>\n",
       "      <th>VK_DHT4A</th>\n",
       "      <th>VK_DISTANZ</th>\n",
       "      <th>VK_ZG11</th>\n",
       "      <th>W_KEIT_KIND_HH</th>\n",
       "      <th>WOHNDAUER_2008</th>\n",
       "      <th>WOHNLAGE</th>\n",
       "      <th>ZABEOTYP</th>\n",
       "      <th>ONLINE_PURCHASE</th>\n",
       "      <th>ANREDE_KZ</th>\n",
       "      <th>ALTERSKATEGORIE_GROB</th>\n",
       "    </tr>\n",
       "  </thead>\n",
       "  <tbody>\n",
       "    <tr>\n",
       "      <th>count</th>\n",
       "      <td>191652.000000</td>\n",
       "      <td>191652.000000</td>\n",
       "      <td>145056.000000</td>\n",
       "      <td>145056.000000</td>\n",
       "      <td>11766.000000</td>\n",
       "      <td>5100.000000</td>\n",
       "      <td>1275.000000</td>\n",
       "      <td>236.000000</td>\n",
       "      <td>139810.000000</td>\n",
       "      <td>141725.000000</td>\n",
       "      <td>...</td>\n",
       "      <td>143781.000000</td>\n",
       "      <td>143781.000000</td>\n",
       "      <td>143781.000000</td>\n",
       "      <td>137910.000000</td>\n",
       "      <td>145056.000000</td>\n",
       "      <td>141725.000000</td>\n",
       "      <td>191652.000000</td>\n",
       "      <td>191652.000000</td>\n",
       "      <td>191652.000000</td>\n",
       "      <td>191652.000000</td>\n",
       "    </tr>\n",
       "    <tr>\n",
       "      <th>mean</th>\n",
       "      <td>95826.500000</td>\n",
       "      <td>0.344359</td>\n",
       "      <td>1.747525</td>\n",
       "      <td>11.352009</td>\n",
       "      <td>12.337243</td>\n",
       "      <td>13.672353</td>\n",
       "      <td>14.647059</td>\n",
       "      <td>15.377119</td>\n",
       "      <td>10.331579</td>\n",
       "      <td>4.965863</td>\n",
       "      <td>...</td>\n",
       "      <td>4.374417</td>\n",
       "      <td>4.564769</td>\n",
       "      <td>3.168868</td>\n",
       "      <td>4.152716</td>\n",
       "      <td>8.646371</td>\n",
       "      <td>3.723133</td>\n",
       "      <td>2.576806</td>\n",
       "      <td>0.090247</td>\n",
       "      <td>1.376432</td>\n",
       "      <td>3.060907</td>\n",
       "    </tr>\n",
       "    <tr>\n",
       "      <th>std</th>\n",
       "      <td>55325.311233</td>\n",
       "      <td>1.391672</td>\n",
       "      <td>1.966334</td>\n",
       "      <td>6.275026</td>\n",
       "      <td>4.006050</td>\n",
       "      <td>3.243335</td>\n",
       "      <td>2.753787</td>\n",
       "      <td>2.307653</td>\n",
       "      <td>4.134828</td>\n",
       "      <td>14.309694</td>\n",
       "      <td>...</td>\n",
       "      <td>2.924355</td>\n",
       "      <td>2.887035</td>\n",
       "      <td>2.233516</td>\n",
       "      <td>1.974375</td>\n",
       "      <td>1.154001</td>\n",
       "      <td>2.095540</td>\n",
       "      <td>1.168486</td>\n",
       "      <td>0.286536</td>\n",
       "      <td>0.484492</td>\n",
       "      <td>1.086254</td>\n",
       "    </tr>\n",
       "    <tr>\n",
       "      <th>min</th>\n",
       "      <td>1.000000</td>\n",
       "      <td>-1.000000</td>\n",
       "      <td>1.000000</td>\n",
       "      <td>0.000000</td>\n",
       "      <td>2.000000</td>\n",
       "      <td>2.000000</td>\n",
       "      <td>5.000000</td>\n",
       "      <td>8.000000</td>\n",
       "      <td>0.000000</td>\n",
       "      <td>0.000000</td>\n",
       "      <td>...</td>\n",
       "      <td>1.000000</td>\n",
       "      <td>1.000000</td>\n",
       "      <td>1.000000</td>\n",
       "      <td>0.000000</td>\n",
       "      <td>1.000000</td>\n",
       "      <td>0.000000</td>\n",
       "      <td>1.000000</td>\n",
       "      <td>0.000000</td>\n",
       "      <td>1.000000</td>\n",
       "      <td>1.000000</td>\n",
       "    </tr>\n",
       "    <tr>\n",
       "      <th>25%</th>\n",
       "      <td>47913.750000</td>\n",
       "      <td>-1.000000</td>\n",
       "      <td>1.000000</td>\n",
       "      <td>8.000000</td>\n",
       "      <td>9.000000</td>\n",
       "      <td>11.000000</td>\n",
       "      <td>13.000000</td>\n",
       "      <td>14.000000</td>\n",
       "      <td>9.000000</td>\n",
       "      <td>1.000000</td>\n",
       "      <td>...</td>\n",
       "      <td>2.000000</td>\n",
       "      <td>2.000000</td>\n",
       "      <td>1.000000</td>\n",
       "      <td>2.000000</td>\n",
       "      <td>9.000000</td>\n",
       "      <td>2.000000</td>\n",
       "      <td>1.000000</td>\n",
       "      <td>0.000000</td>\n",
       "      <td>1.000000</td>\n",
       "      <td>3.000000</td>\n",
       "    </tr>\n",
       "    <tr>\n",
       "      <th>50%</th>\n",
       "      <td>95826.500000</td>\n",
       "      <td>0.000000</td>\n",
       "      <td>1.000000</td>\n",
       "      <td>11.000000</td>\n",
       "      <td>13.000000</td>\n",
       "      <td>14.000000</td>\n",
       "      <td>15.000000</td>\n",
       "      <td>16.000000</td>\n",
       "      <td>10.000000</td>\n",
       "      <td>1.000000</td>\n",
       "      <td>...</td>\n",
       "      <td>4.000000</td>\n",
       "      <td>4.000000</td>\n",
       "      <td>3.000000</td>\n",
       "      <td>5.000000</td>\n",
       "      <td>9.000000</td>\n",
       "      <td>3.000000</td>\n",
       "      <td>3.000000</td>\n",
       "      <td>0.000000</td>\n",
       "      <td>1.000000</td>\n",
       "      <td>3.000000</td>\n",
       "    </tr>\n",
       "    <tr>\n",
       "      <th>75%</th>\n",
       "      <td>143739.250000</td>\n",
       "      <td>2.000000</td>\n",
       "      <td>1.000000</td>\n",
       "      <td>16.000000</td>\n",
       "      <td>16.000000</td>\n",
       "      <td>16.000000</td>\n",
       "      <td>17.000000</td>\n",
       "      <td>17.000000</td>\n",
       "      <td>13.000000</td>\n",
       "      <td>4.000000</td>\n",
       "      <td>...</td>\n",
       "      <td>7.000000</td>\n",
       "      <td>7.000000</td>\n",
       "      <td>4.000000</td>\n",
       "      <td>6.000000</td>\n",
       "      <td>9.000000</td>\n",
       "      <td>5.000000</td>\n",
       "      <td>3.000000</td>\n",
       "      <td>0.000000</td>\n",
       "      <td>2.000000</td>\n",
       "      <td>4.000000</td>\n",
       "    </tr>\n",
       "    <tr>\n",
       "      <th>max</th>\n",
       "      <td>191652.000000</td>\n",
       "      <td>3.000000</td>\n",
       "      <td>9.000000</td>\n",
       "      <td>21.000000</td>\n",
       "      <td>18.000000</td>\n",
       "      <td>18.000000</td>\n",
       "      <td>18.000000</td>\n",
       "      <td>18.000000</td>\n",
       "      <td>25.000000</td>\n",
       "      <td>523.000000</td>\n",
       "      <td>...</td>\n",
       "      <td>11.000000</td>\n",
       "      <td>13.000000</td>\n",
       "      <td>11.000000</td>\n",
       "      <td>6.000000</td>\n",
       "      <td>9.000000</td>\n",
       "      <td>8.000000</td>\n",
       "      <td>6.000000</td>\n",
       "      <td>1.000000</td>\n",
       "      <td>2.000000</td>\n",
       "      <td>9.000000</td>\n",
       "    </tr>\n",
       "  </tbody>\n",
       "</table>\n",
       "<p>8 rows × 361 columns</p>\n",
       "</div>"
      ]
     },
     "metadata": {},
     "execution_count": 8
    }
   ],
   "metadata": {}
  },
  {
   "cell_type": "code",
   "execution_count": 9,
   "source": [
    "azdias.select_dtypes('object').head()"
   ],
   "outputs": [
    {
     "output_type": "execute_result",
     "data": {
      "text/plain": [
       "  CAMEO_DEU_2015 CAMEO_DEUG_2015 CAMEO_INTL_2015 D19_LETZTER_KAUF_BRANCHE  \\\n",
       "0            NaN             NaN             NaN                      NaN   \n",
       "1             8A             8.0            51.0                      NaN   \n",
       "2             4C             4.0            24.0            D19_UNBEKANNT   \n",
       "3             2A             2.0            12.0            D19_UNBEKANNT   \n",
       "4             6B             6.0            43.0               D19_SCHUHE   \n",
       "\n",
       "         EINGEFUEGT_AM OST_WEST_KZ  \n",
       "0                  NaN         NaN  \n",
       "1  1992-02-10 00:00:00           W  \n",
       "2  1992-02-12 00:00:00           W  \n",
       "3  1997-04-21 00:00:00           W  \n",
       "4  1992-02-12 00:00:00           W  "
      ],
      "text/html": [
       "<div>\n",
       "<style scoped>\n",
       "    .dataframe tbody tr th:only-of-type {\n",
       "        vertical-align: middle;\n",
       "    }\n",
       "\n",
       "    .dataframe tbody tr th {\n",
       "        vertical-align: top;\n",
       "    }\n",
       "\n",
       "    .dataframe thead th {\n",
       "        text-align: right;\n",
       "    }\n",
       "</style>\n",
       "<table border=\"1\" class=\"dataframe\">\n",
       "  <thead>\n",
       "    <tr style=\"text-align: right;\">\n",
       "      <th></th>\n",
       "      <th>CAMEO_DEU_2015</th>\n",
       "      <th>CAMEO_DEUG_2015</th>\n",
       "      <th>CAMEO_INTL_2015</th>\n",
       "      <th>D19_LETZTER_KAUF_BRANCHE</th>\n",
       "      <th>EINGEFUEGT_AM</th>\n",
       "      <th>OST_WEST_KZ</th>\n",
       "    </tr>\n",
       "  </thead>\n",
       "  <tbody>\n",
       "    <tr>\n",
       "      <th>0</th>\n",
       "      <td>NaN</td>\n",
       "      <td>NaN</td>\n",
       "      <td>NaN</td>\n",
       "      <td>NaN</td>\n",
       "      <td>NaN</td>\n",
       "      <td>NaN</td>\n",
       "    </tr>\n",
       "    <tr>\n",
       "      <th>1</th>\n",
       "      <td>8A</td>\n",
       "      <td>8.0</td>\n",
       "      <td>51.0</td>\n",
       "      <td>NaN</td>\n",
       "      <td>1992-02-10 00:00:00</td>\n",
       "      <td>W</td>\n",
       "    </tr>\n",
       "    <tr>\n",
       "      <th>2</th>\n",
       "      <td>4C</td>\n",
       "      <td>4.0</td>\n",
       "      <td>24.0</td>\n",
       "      <td>D19_UNBEKANNT</td>\n",
       "      <td>1992-02-12 00:00:00</td>\n",
       "      <td>W</td>\n",
       "    </tr>\n",
       "    <tr>\n",
       "      <th>3</th>\n",
       "      <td>2A</td>\n",
       "      <td>2.0</td>\n",
       "      <td>12.0</td>\n",
       "      <td>D19_UNBEKANNT</td>\n",
       "      <td>1997-04-21 00:00:00</td>\n",
       "      <td>W</td>\n",
       "    </tr>\n",
       "    <tr>\n",
       "      <th>4</th>\n",
       "      <td>6B</td>\n",
       "      <td>6.0</td>\n",
       "      <td>43.0</td>\n",
       "      <td>D19_SCHUHE</td>\n",
       "      <td>1992-02-12 00:00:00</td>\n",
       "      <td>W</td>\n",
       "    </tr>\n",
       "  </tbody>\n",
       "</table>\n",
       "</div>"
      ]
     },
     "metadata": {},
     "execution_count": 9
    }
   ],
   "metadata": {}
  },
  {
   "cell_type": "code",
   "execution_count": 10,
   "source": [
    "customers.select_dtypes('object').head()"
   ],
   "outputs": [
    {
     "output_type": "execute_result",
     "data": {
      "text/plain": [
       "  CAMEO_DEU_2015 CAMEO_DEUG_2015 CAMEO_INTL_2015 D19_LETZTER_KAUF_BRANCHE  \\\n",
       "0             1A             1.0            13.0            D19_UNBEKANNT   \n",
       "1            NaN             NaN             NaN         D19_BANKEN_GROSS   \n",
       "2             5D             5.0            34.0            D19_UNBEKANNT   \n",
       "3             4C             4.0            24.0   D19_NAHRUNGSERGAENZUNG   \n",
       "4             7B             7.0            41.0               D19_SCHUHE   \n",
       "\n",
       "         EINGEFUEGT_AM OST_WEST_KZ      PRODUCT_GROUP CUSTOMER_GROUP  \n",
       "0  1992-02-12 00:00:00           W  COSMETIC_AND_FOOD    MULTI_BUYER  \n",
       "1                  NaN         NaN               FOOD   SINGLE_BUYER  \n",
       "2  1992-02-10 00:00:00           W  COSMETIC_AND_FOOD    MULTI_BUYER  \n",
       "3  1992-02-10 00:00:00           W           COSMETIC    MULTI_BUYER  \n",
       "4  1992-02-12 00:00:00           W               FOOD    MULTI_BUYER  "
      ],
      "text/html": [
       "<div>\n",
       "<style scoped>\n",
       "    .dataframe tbody tr th:only-of-type {\n",
       "        vertical-align: middle;\n",
       "    }\n",
       "\n",
       "    .dataframe tbody tr th {\n",
       "        vertical-align: top;\n",
       "    }\n",
       "\n",
       "    .dataframe thead th {\n",
       "        text-align: right;\n",
       "    }\n",
       "</style>\n",
       "<table border=\"1\" class=\"dataframe\">\n",
       "  <thead>\n",
       "    <tr style=\"text-align: right;\">\n",
       "      <th></th>\n",
       "      <th>CAMEO_DEU_2015</th>\n",
       "      <th>CAMEO_DEUG_2015</th>\n",
       "      <th>CAMEO_INTL_2015</th>\n",
       "      <th>D19_LETZTER_KAUF_BRANCHE</th>\n",
       "      <th>EINGEFUEGT_AM</th>\n",
       "      <th>OST_WEST_KZ</th>\n",
       "      <th>PRODUCT_GROUP</th>\n",
       "      <th>CUSTOMER_GROUP</th>\n",
       "    </tr>\n",
       "  </thead>\n",
       "  <tbody>\n",
       "    <tr>\n",
       "      <th>0</th>\n",
       "      <td>1A</td>\n",
       "      <td>1.0</td>\n",
       "      <td>13.0</td>\n",
       "      <td>D19_UNBEKANNT</td>\n",
       "      <td>1992-02-12 00:00:00</td>\n",
       "      <td>W</td>\n",
       "      <td>COSMETIC_AND_FOOD</td>\n",
       "      <td>MULTI_BUYER</td>\n",
       "    </tr>\n",
       "    <tr>\n",
       "      <th>1</th>\n",
       "      <td>NaN</td>\n",
       "      <td>NaN</td>\n",
       "      <td>NaN</td>\n",
       "      <td>D19_BANKEN_GROSS</td>\n",
       "      <td>NaN</td>\n",
       "      <td>NaN</td>\n",
       "      <td>FOOD</td>\n",
       "      <td>SINGLE_BUYER</td>\n",
       "    </tr>\n",
       "    <tr>\n",
       "      <th>2</th>\n",
       "      <td>5D</td>\n",
       "      <td>5.0</td>\n",
       "      <td>34.0</td>\n",
       "      <td>D19_UNBEKANNT</td>\n",
       "      <td>1992-02-10 00:00:00</td>\n",
       "      <td>W</td>\n",
       "      <td>COSMETIC_AND_FOOD</td>\n",
       "      <td>MULTI_BUYER</td>\n",
       "    </tr>\n",
       "    <tr>\n",
       "      <th>3</th>\n",
       "      <td>4C</td>\n",
       "      <td>4.0</td>\n",
       "      <td>24.0</td>\n",
       "      <td>D19_NAHRUNGSERGAENZUNG</td>\n",
       "      <td>1992-02-10 00:00:00</td>\n",
       "      <td>W</td>\n",
       "      <td>COSMETIC</td>\n",
       "      <td>MULTI_BUYER</td>\n",
       "    </tr>\n",
       "    <tr>\n",
       "      <th>4</th>\n",
       "      <td>7B</td>\n",
       "      <td>7.0</td>\n",
       "      <td>41.0</td>\n",
       "      <td>D19_SCHUHE</td>\n",
       "      <td>1992-02-12 00:00:00</td>\n",
       "      <td>W</td>\n",
       "      <td>FOOD</td>\n",
       "      <td>MULTI_BUYER</td>\n",
       "    </tr>\n",
       "  </tbody>\n",
       "</table>\n",
       "</div>"
      ]
     },
     "metadata": {},
     "execution_count": 10
    }
   ],
   "metadata": {}
  },
  {
   "cell_type": "code",
   "execution_count": 11,
   "source": [
    "extra_columns = [col for col in customers.columns if col not in azdias.columns]\r\n",
    "print(\"Extra columns in Customers Data - \",extra_columns)"
   ],
   "outputs": [
    {
     "output_type": "stream",
     "name": "stdout",
     "text": [
      "Extra columns in Customers Data -  ['PRODUCT_GROUP', 'CUSTOMER_GROUP', 'ONLINE_PURCHASE']\n"
     ]
    }
   ],
   "metadata": {}
  },
  {
   "cell_type": "code",
   "execution_count": 12,
   "source": [
    "f, ax = plt.subplots(figsize=(15, 6))\r\n",
    "\r\n",
    "plt.subplot(1, 3, 1)\r\n",
    "cust_group = customers['CUSTOMER_GROUP'].value_counts()\r\n",
    "(cust_group/customers.shape[0]).plot(kind=\"bar\")\r\n",
    "plt.title(\"CUSTOMER_GROUP\")\r\n",
    "\r\n",
    "\r\n",
    "plt.subplot(1, 3, 2)\r\n",
    "onln_pur = customers['ONLINE_PURCHASE'].value_counts()\r\n",
    "(onln_pur/customers.shape[0]).plot(kind=\"bar\")\r\n",
    "plt.title(\"ONLINE_PURCHASE\")\r\n",
    "\r\n",
    "\r\n",
    "plt.subplot(1, 3, 3)\r\n",
    "prod_group = customers['PRODUCT_GROUP'].value_counts()\r\n",
    "(prod_group/customers.shape[0]).plot(kind=\"bar\")\r\n",
    "plt.title(\"PRODUCT_GROUP\")\r\n",
    "\r\n",
    "plt.show()"
   ],
   "outputs": [
    {
     "output_type": "display_data",
     "data": {
      "text/plain": [
       "<Figure size 1080x432 with 3 Axes>"
      ],
      "image/png": "[encoded data removed]"
     },
     "metadata": {
      "needs_background": "light"
     }
    }
   ],
   "metadata": {}
  },
  {
   "cell_type": "code",
   "execution_count": 13,
   "source": [
    "print(\"Number of columns without missing data in the Customers dataset:\",len(set(customers.columns[customers.isnull().sum() == 0])))\r\n",
    "print(\"Number of columns without missing data in the Azdias dataset:\",len(set(azdias.columns[azdias.isnull().sum() == 0])))"
   ],
   "outputs": [
    {
     "output_type": "stream",
     "name": "stdout",
     "text": [
      "Number of columns without missing data in the Customers dataset: 96\n",
      "Number of columns without missing data in the Azdias dataset: 93\n"
     ]
    }
   ],
   "metadata": {}
  },
  {
   "cell_type": "markdown",
   "source": [
    "##### Explore Attribute Data\n",
    "\n",
    "According to the information given to us \"attributes_desc\" is a top-level list of attributes and descriptions, organized by informational category. \"attributes_values\" is a detailed mapping of data values for each feature in alphabetical order."
   ],
   "metadata": {}
  },
  {
   "cell_type": "code",
   "execution_count": 14,
   "source": [
    "attributes_desc.head()"
   ],
   "outputs": [
    {
     "output_type": "execute_result",
     "data": {
      "text/plain": [
       "   Unnamed: 0 Information level             Attribute  \\\n",
       "0         NaN               NaN              AGER_TYP   \n",
       "1         NaN            Person  ALTERSKATEGORIE_GROB   \n",
       "2         NaN               NaN             ANREDE_KZ   \n",
       "3         NaN               NaN         CJT_GESAMTTYP   \n",
       "4         NaN               NaN     FINANZ_MINIMALIST   \n",
       "\n",
       "                                         Description  \\\n",
       "0                                 best-ager typology   \n",
       "1                      age through prename analysis    \n",
       "2                                             gender   \n",
       "3  Customer-Journey-Typology relating to the pref...   \n",
       "4         financial typology: low financial interest   \n",
       "\n",
       "                                    Additional notes  \n",
       "0  in cooperation with Kantar TNS; the informatio...  \n",
       "1  modelled on millions of first name-age-referen...  \n",
       "2                                                NaN  \n",
       "3  relating to the preferred information, marketi...  \n",
       "4  Gfk-Typology based on a representative househo...  "
      ],
      "text/html": [
       "<div>\n",
       "<style scoped>\n",
       "    .dataframe tbody tr th:only-of-type {\n",
       "        vertical-align: middle;\n",
       "    }\n",
       "\n",
       "    .dataframe tbody tr th {\n",
       "        vertical-align: top;\n",
       "    }\n",
       "\n",
       "    .dataframe thead th {\n",
       "        text-align: right;\n",
       "    }\n",
       "</style>\n",
       "<table border=\"1\" class=\"dataframe\">\n",
       "  <thead>\n",
       "    <tr style=\"text-align: right;\">\n",
       "      <th></th>\n",
       "      <th>Unnamed: 0</th>\n",
       "      <th>Information level</th>\n",
       "      <th>Attribute</th>\n",
       "      <th>Description</th>\n",
       "      <th>Additional notes</th>\n",
       "    </tr>\n",
       "  </thead>\n",
       "  <tbody>\n",
       "    <tr>\n",
       "      <th>0</th>\n",
       "      <td>NaN</td>\n",
       "      <td>NaN</td>\n",
       "      <td>AGER_TYP</td>\n",
       "      <td>best-ager typology</td>\n",
       "      <td>in cooperation with Kantar TNS; the informatio...</td>\n",
       "    </tr>\n",
       "    <tr>\n",
       "      <th>1</th>\n",
       "      <td>NaN</td>\n",
       "      <td>Person</td>\n",
       "      <td>ALTERSKATEGORIE_GROB</td>\n",
       "      <td>age through prename analysis</td>\n",
       "      <td>modelled on millions of first name-age-referen...</td>\n",
       "    </tr>\n",
       "    <tr>\n",
       "      <th>2</th>\n",
       "      <td>NaN</td>\n",
       "      <td>NaN</td>\n",
       "      <td>ANREDE_KZ</td>\n",
       "      <td>gender</td>\n",
       "      <td>NaN</td>\n",
       "    </tr>\n",
       "    <tr>\n",
       "      <th>3</th>\n",
       "      <td>NaN</td>\n",
       "      <td>NaN</td>\n",
       "      <td>CJT_GESAMTTYP</td>\n",
       "      <td>Customer-Journey-Typology relating to the pref...</td>\n",
       "      <td>relating to the preferred information, marketi...</td>\n",
       "    </tr>\n",
       "    <tr>\n",
       "      <th>4</th>\n",
       "      <td>NaN</td>\n",
       "      <td>NaN</td>\n",
       "      <td>FINANZ_MINIMALIST</td>\n",
       "      <td>financial typology: low financial interest</td>\n",
       "      <td>Gfk-Typology based on a representative househo...</td>\n",
       "    </tr>\n",
       "  </tbody>\n",
       "</table>\n",
       "</div>"
      ]
     },
     "metadata": {},
     "execution_count": 14
    }
   ],
   "metadata": {}
  },
  {
   "cell_type": "code",
   "execution_count": 15,
   "source": [
    "attributes_values.head(8)"
   ],
   "outputs": [
    {
     "output_type": "execute_result",
     "data": {
      "text/plain": [
       "   Unnamed: 0             Attribute  \\\n",
       "0         NaN              AGER_TYP   \n",
       "1         NaN              AGER_TYP   \n",
       "2         NaN              AGER_TYP   \n",
       "3         NaN              AGER_TYP   \n",
       "4         NaN              AGER_TYP   \n",
       "5         NaN  ALTERSKATEGORIE_GROB   \n",
       "6         NaN  ALTERSKATEGORIE_GROB   \n",
       "7         NaN  ALTERSKATEGORIE_GROB   \n",
       "\n",
       "                                    Description  Value  \\\n",
       "0                            best-ager typology     -1   \n",
       "1                            best-ager typology      0   \n",
       "2                            best-ager typology      1   \n",
       "3                            best-ager typology      2   \n",
       "4                            best-ager typology      3   \n",
       "5  age classification through prename analysis   -1, 0   \n",
       "6  age classification through prename analysis       1   \n",
       "7  age classification through prename analysis       2   \n",
       "\n",
       "                      Meaning  \n",
       "0                     unknown  \n",
       "1  no classification possible  \n",
       "2             passive elderly  \n",
       "3            cultural elderly  \n",
       "4   experience-driven elderly  \n",
       "5                     unknown  \n",
       "6                  < 30 years  \n",
       "7               30 - 45 years  "
      ],
      "text/html": [
       "<div>\n",
       "<style scoped>\n",
       "    .dataframe tbody tr th:only-of-type {\n",
       "        vertical-align: middle;\n",
       "    }\n",
       "\n",
       "    .dataframe tbody tr th {\n",
       "        vertical-align: top;\n",
       "    }\n",
       "\n",
       "    .dataframe thead th {\n",
       "        text-align: right;\n",
       "    }\n",
       "</style>\n",
       "<table border=\"1\" class=\"dataframe\">\n",
       "  <thead>\n",
       "    <tr style=\"text-align: right;\">\n",
       "      <th></th>\n",
       "      <th>Unnamed: 0</th>\n",
       "      <th>Attribute</th>\n",
       "      <th>Description</th>\n",
       "      <th>Value</th>\n",
       "      <th>Meaning</th>\n",
       "    </tr>\n",
       "  </thead>\n",
       "  <tbody>\n",
       "    <tr>\n",
       "      <th>0</th>\n",
       "      <td>NaN</td>\n",
       "      <td>AGER_TYP</td>\n",
       "      <td>best-ager typology</td>\n",
       "      <td>-1</td>\n",
       "      <td>unknown</td>\n",
       "    </tr>\n",
       "    <tr>\n",
       "      <th>1</th>\n",
       "      <td>NaN</td>\n",
       "      <td>AGER_TYP</td>\n",
       "      <td>best-ager typology</td>\n",
       "      <td>0</td>\n",
       "      <td>no classification possible</td>\n",
       "    </tr>\n",
       "    <tr>\n",
       "      <th>2</th>\n",
       "      <td>NaN</td>\n",
       "      <td>AGER_TYP</td>\n",
       "      <td>best-ager typology</td>\n",
       "      <td>1</td>\n",
       "      <td>passive elderly</td>\n",
       "    </tr>\n",
       "    <tr>\n",
       "      <th>3</th>\n",
       "      <td>NaN</td>\n",
       "      <td>AGER_TYP</td>\n",
       "      <td>best-ager typology</td>\n",
       "      <td>2</td>\n",
       "      <td>cultural elderly</td>\n",
       "    </tr>\n",
       "    <tr>\n",
       "      <th>4</th>\n",
       "      <td>NaN</td>\n",
       "      <td>AGER_TYP</td>\n",
       "      <td>best-ager typology</td>\n",
       "      <td>3</td>\n",
       "      <td>experience-driven elderly</td>\n",
       "    </tr>\n",
       "    <tr>\n",
       "      <th>5</th>\n",
       "      <td>NaN</td>\n",
       "      <td>ALTERSKATEGORIE_GROB</td>\n",
       "      <td>age classification through prename analysis</td>\n",
       "      <td>-1, 0</td>\n",
       "      <td>unknown</td>\n",
       "    </tr>\n",
       "    <tr>\n",
       "      <th>6</th>\n",
       "      <td>NaN</td>\n",
       "      <td>ALTERSKATEGORIE_GROB</td>\n",
       "      <td>age classification through prename analysis</td>\n",
       "      <td>1</td>\n",
       "      <td>&lt; 30 years</td>\n",
       "    </tr>\n",
       "    <tr>\n",
       "      <th>7</th>\n",
       "      <td>NaN</td>\n",
       "      <td>ALTERSKATEGORIE_GROB</td>\n",
       "      <td>age classification through prename analysis</td>\n",
       "      <td>2</td>\n",
       "      <td>30 - 45 years</td>\n",
       "    </tr>\n",
       "  </tbody>\n",
       "</table>\n",
       "</div>"
      ]
     },
     "metadata": {},
     "execution_count": 15
    }
   ],
   "metadata": {}
  },
  {
   "cell_type": "markdown",
   "source": [
    "I have manually reviewed the attribute files. We will use the \"attributes_desc\" file in the following sections to get information about the columns.\n",
    "\n",
    "What I noticed while inspecting the \"attributes_values\" file is that some attributes have some descriptions like \"unknown\" or \"no transactions known\". We will also examine them in the missing data section."
   ],
   "metadata": {}
  },
  {
   "cell_type": "markdown",
   "source": [
    "# 0.2. Data Preparation\n",
    "\n",
    "## 0.2.1 Dtype Warning"
   ],
   "metadata": {}
  },
  {
   "cell_type": "code",
   "execution_count": 16,
   "source": [
    "warning_cols = list(azdias.columns[18:20])"
   ],
   "outputs": [],
   "metadata": {}
  },
  {
   "cell_type": "code",
   "execution_count": 17,
   "source": [
    "# CAMEO_INTL_2015 column is defined in the attribute file as CAMEO_DEUINTL_2015.\r\n",
    "attributes_desc[attributes_desc[\"Attribute\"].isin(['CAMEO_DEUG_2015','CAMEO_DEUINTL_2015'])]"
   ],
   "outputs": [
    {
     "output_type": "execute_result",
     "data": {
      "text/plain": [
       "    Unnamed: 0   Information level           Attribute  \\\n",
       "85         NaN  Microcell (RR4_ID)     CAMEO_DEUG_2015   \n",
       "87         NaN                 NaN  CAMEO_DEUINTL_2015   \n",
       "\n",
       "                                Description  \\\n",
       "85                    CAMEO_4.0: uppergroup   \n",
       "87  CAMEO_4.0: international classification   \n",
       "\n",
       "                                     Additional notes  \n",
       "85  New German CAMEO Typology established together...  \n",
       "87                                                NaN  "
      ],
      "text/html": [
       "<div>\n",
       "<style scoped>\n",
       "    .dataframe tbody tr th:only-of-type {\n",
       "        vertical-align: middle;\n",
       "    }\n",
       "\n",
       "    .dataframe tbody tr th {\n",
       "        vertical-align: top;\n",
       "    }\n",
       "\n",
       "    .dataframe thead th {\n",
       "        text-align: right;\n",
       "    }\n",
       "</style>\n",
       "<table border=\"1\" class=\"dataframe\">\n",
       "  <thead>\n",
       "    <tr style=\"text-align: right;\">\n",
       "      <th></th>\n",
       "      <th>Unnamed: 0</th>\n",
       "      <th>Information level</th>\n",
       "      <th>Attribute</th>\n",
       "      <th>Description</th>\n",
       "      <th>Additional notes</th>\n",
       "    </tr>\n",
       "  </thead>\n",
       "  <tbody>\n",
       "    <tr>\n",
       "      <th>85</th>\n",
       "      <td>NaN</td>\n",
       "      <td>Microcell (RR4_ID)</td>\n",
       "      <td>CAMEO_DEUG_2015</td>\n",
       "      <td>CAMEO_4.0: uppergroup</td>\n",
       "      <td>New German CAMEO Typology established together...</td>\n",
       "    </tr>\n",
       "    <tr>\n",
       "      <th>87</th>\n",
       "      <td>NaN</td>\n",
       "      <td>NaN</td>\n",
       "      <td>CAMEO_DEUINTL_2015</td>\n",
       "      <td>CAMEO_4.0: international classification</td>\n",
       "      <td>NaN</td>\n",
       "    </tr>\n",
       "  </tbody>\n",
       "</table>\n",
       "</div>"
      ]
     },
     "metadata": {},
     "execution_count": 17
    }
   ],
   "metadata": {}
  },
  {
   "cell_type": "code",
   "execution_count": 18,
   "source": [
    "def print_unique_values(df,col):\r\n",
    "    '''\r\n",
    "    INPUT:\r\n",
    "    df - Pandas DataFrame\r\n",
    "    col - Column List\r\n",
    "    \r\n",
    "    OUTPUT: No Output\r\n",
    "    \r\n",
    "    DESC: Returns unique values according to the dataframe and column list given as input.\r\n",
    "    '''\r\n",
    "    for c in col:\r\n",
    "        print(c,df[c].unique())"
   ],
   "outputs": [],
   "metadata": {}
  },
  {
   "cell_type": "code",
   "execution_count": 19,
   "source": [
    "print_unique_values(azdias,warning_cols)"
   ],
   "outputs": [
    {
     "output_type": "stream",
     "name": "stdout",
     "text": [
      "CAMEO_DEUG_2015 [nan 8.0 4.0 2.0 6.0 1.0 9.0 5.0 7.0 3.0 '4' '3' '7' '2' '8' '9' '6' '5'\n",
      " '1' 'X']\n",
      "CAMEO_INTL_2015 [nan 51.0 24.0 12.0 43.0 54.0 22.0 14.0 13.0 15.0 33.0 41.0 34.0 55.0 25.0\n",
      " 23.0 31.0 52.0 35.0 45.0 44.0 32.0 '22' '24' '41' '12' '54' '51' '44'\n",
      " '35' '23' '25' '14' '34' '52' '55' '31' '32' '15' '13' '43' '33' '45'\n",
      " 'XX']\n"
     ]
    }
   ],
   "metadata": {}
  },
  {
   "cell_type": "markdown",
   "source": [
    "As you can see, there are both numerical and categorical data in both columns. We also noticed the 'X' and 'XX' columns. We considered these values as missing data."
   ],
   "metadata": {}
  },
  {
   "cell_type": "code",
   "execution_count": 20,
   "source": [
    "azdias[warning_cols[0]].replace('X', np.nan, inplace = True)\r\n",
    "customers[warning_cols[0]].replace('X', np.nan, inplace = True)\r\n",
    "azdias[warning_cols[1]].replace('XX', np.nan, inplace = True)\r\n",
    "customers[warning_cols[1]].replace('XX', np.nan, inplace = True)"
   ],
   "outputs": [],
   "metadata": {}
  },
  {
   "cell_type": "code",
   "execution_count": 21,
   "source": [
    "def convert_object_to_float(df,col):\r\n",
    "    '''\r\n",
    "    INPUT:\r\n",
    "    df - Pandas DataFrame\r\n",
    "    col - Column List\r\n",
    "    \r\n",
    "    OUTPUT:\r\n",
    "    df - Pandas DataFrame\r\n",
    "    \r\n",
    "    DESC: Converts the data type from object to float according to the data frame and column list given as input.\r\n",
    "    '''\r\n",
    "    for c in col:\r\n",
    "        df[c] = df[c].astype(str).astype(float)\r\n",
    "    \r\n",
    "    return df"
   ],
   "outputs": [],
   "metadata": {}
  },
  {
   "cell_type": "code",
   "execution_count": 22,
   "source": [
    "customers = convert_object_to_float(customers,warning_cols)\r\n",
    "azdias = convert_object_to_float(azdias,warning_cols)"
   ],
   "outputs": [],
   "metadata": {}
  },
  {
   "cell_type": "code",
   "execution_count": 23,
   "source": [
    "print_unique_values(azdias,warning_cols)"
   ],
   "outputs": [
    {
     "output_type": "stream",
     "name": "stdout",
     "text": [
      "CAMEO_DEUG_2015 [nan  8.  4.  2.  6.  1.  9.  5.  7.  3.]\n",
      "CAMEO_INTL_2015 [nan 51. 24. 12. 43. 54. 22. 14. 13. 15. 33. 41. 34. 55. 25. 23. 31. 52.\n",
      " 35. 45. 44. 32.]\n"
     ]
    }
   ],
   "metadata": {}
  },
  {
   "cell_type": "markdown",
   "source": [
    "**Everything looks good now for these 2 columns. We can continue cleaning data.**"
   ],
   "metadata": {}
  },
  {
   "cell_type": "markdown",
   "source": [
    "## 0.2.2 Missing Value"
   ],
   "metadata": {}
  },
  {
   "cell_type": "code",
   "execution_count": 24,
   "source": [
    "first_nan_count_customers = customers.isna().sum()\r\n",
    "first_nan_count_azdias = azdias.isna().sum()"
   ],
   "outputs": [],
   "metadata": {}
  },
  {
   "cell_type": "markdown",
   "source": [
    "* In the following sections we take the initial missing data numbers for comparison."
   ],
   "metadata": {}
  },
  {
   "cell_type": "code",
   "execution_count": 25,
   "source": [
    "azdias_nan_value = pd.DataFrame(first_nan_count_azdias[first_nan_count_azdias != 0].sort_values(ascending=False)[:50])\r\n",
    "\r\n",
    "X_axis = np.arange(len(azdias_nan_value))\r\n",
    "f, ax = plt.subplots(figsize=(15, 6))\r\n",
    "plt.bar(X_axis - 0.2, azdias_nan_value[0])\r\n",
    "  \r\n",
    "plt.xticks(X_axis, azdias_nan_value.index,rotation='vertical')\r\n",
    "plt.xlabel(\"Attribute\")\r\n",
    "plt.ylabel(\"Number of NaN Value\")\r\n",
    "plt.title(\"Number of NaN Value in Attribute\")\r\n",
    "plt.legend()\r\n",
    "plt.show()"
   ],
   "outputs": [
    {
     "output_type": "stream",
     "name": "stderr",
     "text": [
      "No handles with labels found to put in legend.\n"
     ]
    },
    {
     "output_type": "display_data",
     "data": {
      "text/plain": [
       "<Figure size 1080x432 with 1 Axes>"
      ],
      "image/png": "[encoded data removed]"
     },
     "metadata": {
      "needs_background": "light"
     }
    }
   ],
   "metadata": {}
  },
  {
   "cell_type": "markdown",
   "source": [
    "### 0.2.2.1 Explore Attribute file for Missing Value"
   ],
   "metadata": {}
  },
  {
   "cell_type": "markdown",
   "source": [
    "If you remember, while we were examining the Attribute files, we saw that some values have meanings such as \"unknown\",\"no transactions known\". We need to use the data from the Attribute file to fix these incorrect values.\n",
    "\n",
    "* First we will find the values that are \"unknown\",\"no transactions known\" in the table \"attributes_values\".\n",
    "* Some values are written with commas, we will separate them."
   ],
   "metadata": {}
  },
  {
   "cell_type": "code",
   "execution_count": 26,
   "source": [
    "attributes_missing = attributes_values[attributes_values['Meaning'].isin(['unknown','unknown / no main age detectable','no transactions known','no transaction known'])]\r\n",
    "attributes_missing.head()"
   ],
   "outputs": [
    {
     "output_type": "execute_result",
     "data": {
      "text/plain": [
       "    Unnamed: 0             Attribute  \\\n",
       "0          NaN              AGER_TYP   \n",
       "5          NaN  ALTERSKATEGORIE_GROB   \n",
       "11         NaN              ALTER_HH   \n",
       "33         NaN             ANREDE_KZ   \n",
       "40         NaN              BALLRAUM   \n",
       "\n",
       "                                     Description  Value  \\\n",
       "0                             best-ager typology     -1   \n",
       "5   age classification through prename analysis   -1, 0   \n",
       "11                 main age within the household      0   \n",
       "33                                        gender  -1, 0   \n",
       "40                distance to next urban centre      -1   \n",
       "\n",
       "                             Meaning  \n",
       "0                            unknown  \n",
       "5                            unknown  \n",
       "11  unknown / no main age detectable  \n",
       "33                           unknown  \n",
       "40                           unknown  "
      ],
      "text/html": [
       "<div>\n",
       "<style scoped>\n",
       "    .dataframe tbody tr th:only-of-type {\n",
       "        vertical-align: middle;\n",
       "    }\n",
       "\n",
       "    .dataframe tbody tr th {\n",
       "        vertical-align: top;\n",
       "    }\n",
       "\n",
       "    .dataframe thead th {\n",
       "        text-align: right;\n",
       "    }\n",
       "</style>\n",
       "<table border=\"1\" class=\"dataframe\">\n",
       "  <thead>\n",
       "    <tr style=\"text-align: right;\">\n",
       "      <th></th>\n",
       "      <th>Unnamed: 0</th>\n",
       "      <th>Attribute</th>\n",
       "      <th>Description</th>\n",
       "      <th>Value</th>\n",
       "      <th>Meaning</th>\n",
       "    </tr>\n",
       "  </thead>\n",
       "  <tbody>\n",
       "    <tr>\n",
       "      <th>0</th>\n",
       "      <td>NaN</td>\n",
       "      <td>AGER_TYP</td>\n",
       "      <td>best-ager typology</td>\n",
       "      <td>-1</td>\n",
       "      <td>unknown</td>\n",
       "    </tr>\n",
       "    <tr>\n",
       "      <th>5</th>\n",
       "      <td>NaN</td>\n",
       "      <td>ALTERSKATEGORIE_GROB</td>\n",
       "      <td>age classification through prename analysis</td>\n",
       "      <td>-1, 0</td>\n",
       "      <td>unknown</td>\n",
       "    </tr>\n",
       "    <tr>\n",
       "      <th>11</th>\n",
       "      <td>NaN</td>\n",
       "      <td>ALTER_HH</td>\n",
       "      <td>main age within the household</td>\n",
       "      <td>0</td>\n",
       "      <td>unknown / no main age detectable</td>\n",
       "    </tr>\n",
       "    <tr>\n",
       "      <th>33</th>\n",
       "      <td>NaN</td>\n",
       "      <td>ANREDE_KZ</td>\n",
       "      <td>gender</td>\n",
       "      <td>-1, 0</td>\n",
       "      <td>unknown</td>\n",
       "    </tr>\n",
       "    <tr>\n",
       "      <th>40</th>\n",
       "      <td>NaN</td>\n",
       "      <td>BALLRAUM</td>\n",
       "      <td>distance to next urban centre</td>\n",
       "      <td>-1</td>\n",
       "      <td>unknown</td>\n",
       "    </tr>\n",
       "  </tbody>\n",
       "</table>\n",
       "</div>"
      ]
     },
     "metadata": {},
     "execution_count": 26
    }
   ],
   "metadata": {}
  },
  {
   "cell_type": "code",
   "execution_count": 27,
   "source": [
    "def missing_dict(df):\r\n",
    "    '''\r\n",
    "    INPUT:\r\n",
    "    df - Pandas DataFrame \r\n",
    "    \r\n",
    "    OUPUT:\r\n",
    "    missing_dict - Dictionary\r\n",
    "    \r\n",
    "    DESC: Combines \"unknown\" and \"no transaction known\" values into a dictionary for each column.\r\n",
    "    '''\r\n",
    "\r\n",
    "    unknown_values = []\r\n",
    "    for val in df.Value:\r\n",
    "        if isinstance(val, int):\r\n",
    "            unknown_values.append([val])\r\n",
    "        elif isinstance(val, str):\r\n",
    "            split_list = val.split(',')\r\n",
    "            int_list = [int(x) for x in split_list]\r\n",
    "            unknown_values.append(int_list)\r\n",
    "\r\n",
    "    unknown_dict = {}\r\n",
    "    for attr, value_list in zip(df.Attribute, unknown_values):\r\n",
    "        if 'D19' in attr and '_RZ' in attr:\r\n",
    "            attr = attr[:-3]\r\n",
    "        \r\n",
    "        unknown_dict[attr] = value_list\r\n",
    "\r\n",
    "    unknown_dict['ALTERSKATEGORIE_FEIN'] = [0]\r\n",
    "    unknown_dict['GEBURTSJAHR'] = [0]\r\n",
    "    \r\n",
    "    return unknown_dict"
   ],
   "outputs": [],
   "metadata": {}
  },
  {
   "cell_type": "code",
   "execution_count": 28,
   "source": [
    "missing_dict = missing_dict(attributes_missing)\r\n",
    "missing_dict"
   ],
   "outputs": [
    {
     "output_type": "execute_result",
     "data": {
      "text/plain": [
       "{'AGER_TYP': [-1],\n",
       " 'ALTERSKATEGORIE_GROB': [-1, 0],\n",
       " 'ALTER_HH': [0],\n",
       " 'ANREDE_KZ': [-1, 0],\n",
       " 'BALLRAUM': [-1],\n",
       " 'BIP_FLAG': [-1],\n",
       " 'CAMEO_DEUG_2015': [-1],\n",
       " 'CAMEO_DEUINTL_2015': [-1],\n",
       " 'CJT_GESAMTTYP': [0],\n",
       " 'D19_BANKEN_ANZ_12': [0],\n",
       " 'D19_BANKEN_ANZ_24': [0],\n",
       " 'D19_BANKEN_DATUM': [10],\n",
       " 'D19_BANKEN_DIREKT': [0],\n",
       " 'D19_BANKEN_GROSS': [0],\n",
       " 'D19_BANKEN_LOKAL': [0],\n",
       " 'D19_BANKEN_OFFLINE_DATUM': [10],\n",
       " 'D19_BANKEN_ONLINE_DATUM': [10],\n",
       " 'D19_BANKEN_REST': [0],\n",
       " 'D19_BEKLEIDUNG_GEH': [0],\n",
       " 'D19_BEKLEIDUNG_REST': [0],\n",
       " 'D19_BILDUNG': [0],\n",
       " 'D19_BIO_OEKO': [0],\n",
       " 'D19_BUCH': [0],\n",
       " 'D19_DIGIT_SERV': [0],\n",
       " 'D19_DROGERIEARTIKEL': [0],\n",
       " 'D19_ENERGIE': [0],\n",
       " 'D19_FREIZEIT': [0],\n",
       " 'D19_GARTEN': [0],\n",
       " 'D19_GESAMT_ANZ_12': [0],\n",
       " 'D19_GESAMT_ANZ_24': [0],\n",
       " 'D19_GESAMT_DATUM': [10],\n",
       " 'D19_GESAMT_OFFLINE_DATUM': [10],\n",
       " 'D19_GESAMT_ONLINE_DATUM': [10],\n",
       " 'D19_HANDWERK': [0],\n",
       " 'D19_HAUS_DEKO': [0],\n",
       " 'D19_KINDERARTIKEL': [0],\n",
       " 'D19_KK_KUNDENTYP': [-1],\n",
       " 'D19_KOSMETIK': [0],\n",
       " 'D19_LEBENSMITTEL': [0],\n",
       " 'D19_LOTTO': [0],\n",
       " 'D19_NAHRUNGSERGAENZUNG': [0],\n",
       " 'D19_RATGEBER': [0],\n",
       " 'D19_REISEN': [0],\n",
       " 'D19_SAMMELARTIKEL': [0],\n",
       " 'D19_SCHUHE': [0],\n",
       " 'D19_SONSTIGE': [0],\n",
       " 'D19_TECHNIK': [0],\n",
       " 'D19_TELKO_ANZ_12': [0],\n",
       " 'D19_TELKO_ANZ_24': [0],\n",
       " 'D19_TELKO_DATUM': [10],\n",
       " 'D19_TELKO_MOBILE': [0],\n",
       " 'D19_TELKO_OFFLINE_DATUM': [10],\n",
       " 'D19_TELKO_ONLINE_DATUM': [10],\n",
       " 'D19_TELKO_REST': [0],\n",
       " 'D19_TIERARTIKEL': [0],\n",
       " 'D19_VERSAND_ANZ_12': [0],\n",
       " 'D19_VERSAND_ANZ_24': [0],\n",
       " 'D19_VERSAND_DATUM': [10],\n",
       " 'D19_VERSAND_OFFLINE_DATUM': [10],\n",
       " 'D19_VERSAND_ONLINE_DATUM': [10],\n",
       " 'D19_VERSAND_REST': [0],\n",
       " 'D19_VERSICHERUNGEN': [0],\n",
       " 'D19_VERSI_ANZ_12': [0],\n",
       " 'D19_VERSI_ANZ_24': [0],\n",
       " 'D19_VOLLSORTIMENT': [0],\n",
       " 'D19_WEIN_FEINKOST': [0],\n",
       " 'EWDICHTE': [-1],\n",
       " 'FINANZTYP': [-1],\n",
       " 'FINANZ_ANLEGER': [-1],\n",
       " 'FINANZ_HAUSBAUER': [-1],\n",
       " 'FINANZ_MINIMALIST': [-1],\n",
       " 'FINANZ_SPARER': [-1],\n",
       " 'FINANZ_UNAUFFAELLIGER': [-1],\n",
       " 'FINANZ_VORSORGER': [-1],\n",
       " 'GEBAEUDETYP': [-1, 0],\n",
       " 'GEOSCORE_KLS7': [-1, 0],\n",
       " 'HAUSHALTSSTRUKTUR': [-1, 0],\n",
       " 'HEALTH_TYP': [-1],\n",
       " 'HH_EINKOMMEN_SCORE': [-1, 0],\n",
       " 'INNENSTADT': [-1],\n",
       " 'KBA05_ALTER1': [-1, 9],\n",
       " 'KBA05_ALTER2': [-1, 9],\n",
       " 'KBA05_ALTER3': [-1, 9],\n",
       " 'KBA05_ALTER4': [-1, 9],\n",
       " 'KBA05_ANHANG': [-1, 9],\n",
       " 'KBA05_ANTG1': [-1],\n",
       " 'KBA05_ANTG2': [-1],\n",
       " 'KBA05_ANTG3': [-1],\n",
       " 'KBA05_ANTG4': [-1],\n",
       " 'KBA05_AUTOQUOT': [-1, 9],\n",
       " 'KBA05_BAUMAX': [-1, 0],\n",
       " 'KBA05_CCM1': [-1, 9],\n",
       " 'KBA05_CCM2': [-1, 9],\n",
       " 'KBA05_CCM3': [-1, 9],\n",
       " 'KBA05_CCM4': [-1, 9],\n",
       " 'KBA05_DIESEL': [-1, 9],\n",
       " 'KBA05_FRAU': [-1, 9],\n",
       " 'KBA05_GBZ': [-1, 0],\n",
       " 'KBA05_HERST1': [-1, 9],\n",
       " 'KBA05_HERST2': [-1, 9],\n",
       " 'KBA05_HERST3': [-1, 9],\n",
       " 'KBA05_HERST4': [-1, 9],\n",
       " 'KBA05_HERST5': [-1, 9],\n",
       " 'KBA05_HERSTTEMP': [-1, 9],\n",
       " 'KBA05_KRSAQUOT': [-1, 9],\n",
       " 'KBA05_KRSHERST1': [-1, 9],\n",
       " 'KBA05_KRSHERST2': [-1, 9],\n",
       " 'KBA05_KRSHERST3': [-1, 9],\n",
       " 'KBA05_KRSKLEIN': [-1, 9],\n",
       " 'KBA05_KRSOBER': [-1, 9],\n",
       " 'KBA05_KRSVAN': [-1, 9],\n",
       " 'KBA05_KRSZUL': [-1, 9],\n",
       " 'KBA05_KW1': [-1, 9],\n",
       " 'KBA05_KW2': [-1, 9],\n",
       " 'KBA05_KW3': [-1, 9],\n",
       " 'KBA05_MAXAH': [-1, 9],\n",
       " 'KBA05_MAXBJ': [-1, 9],\n",
       " 'KBA05_MAXHERST': [-1, 9],\n",
       " 'KBA05_MAXSEG': [-1, 9],\n",
       " 'KBA05_MAXVORB': [-1, 9],\n",
       " 'KBA05_MOD1': [-1, 9],\n",
       " 'KBA05_MOD2': [-1, 9],\n",
       " 'KBA05_MOD3': [-1, 9],\n",
       " 'KBA05_MOD4': [-1, 9],\n",
       " 'KBA05_MOD8': [-1, 9],\n",
       " 'KBA05_MODTEMP': [-1, 9],\n",
       " 'KBA05_MOTOR': [-1, 9],\n",
       " 'KBA05_MOTRAD': [-1, 9],\n",
       " 'KBA05_SEG1': [-1, 9],\n",
       " 'KBA05_SEG10': [-1, 9],\n",
       " 'KBA05_SEG2': [-1, 9],\n",
       " 'KBA05_SEG3': [-1, 9],\n",
       " 'KBA05_SEG4': [-1, 9],\n",
       " 'KBA05_SEG5': [-1, 9],\n",
       " 'KBA05_SEG6': [-1, 9],\n",
       " 'KBA05_SEG7': [-1, 9],\n",
       " 'KBA05_SEG8': [-1, 9],\n",
       " 'KBA05_SEG9': [-1, 9],\n",
       " 'KBA05_VORB0': [-1, 9],\n",
       " 'KBA05_VORB1': [-1, 9],\n",
       " 'KBA05_VORB2': [-1, 9],\n",
       " 'KBA05_ZUL1': [-1, 9],\n",
       " 'KBA05_ZUL2': [-1, 9],\n",
       " 'KBA05_ZUL3': [-1, 9],\n",
       " 'KBA05_ZUL4': [-1, 9],\n",
       " 'KBA13_ALTERHALTER_30': [-1],\n",
       " 'KBA13_ALTERHALTER_45': [-1],\n",
       " 'KBA13_ALTERHALTER_60': [-1],\n",
       " 'KBA13_ALTERHALTER_61': [-1],\n",
       " 'KBA13_AUDI': [-1],\n",
       " 'KBA13_AUTOQUOTE': [-1],\n",
       " 'KBA13_BJ_1999': [-1],\n",
       " 'KBA13_BJ_2000': [-1],\n",
       " 'KBA13_BJ_2004': [-1],\n",
       " 'KBA13_BJ_2006': [-1],\n",
       " 'KBA13_BJ_2008': [-1],\n",
       " 'KBA13_BJ_2009': [-1],\n",
       " 'KBA13_BMW': [-1],\n",
       " 'KBA13_CCM_1000': [-1],\n",
       " 'KBA13_CCM_1200': [-1],\n",
       " 'KBA13_CCM_1400': [-1],\n",
       " 'KBA13_CCM_0_1400': [-1],\n",
       " 'KBA13_CCM_1500': [-1],\n",
       " 'KBA13_CCM_1400_2500': [-1],\n",
       " 'KBA13_CCM_1600': [-1],\n",
       " 'KBA13_CCM_1800': [-1],\n",
       " 'KBA13_CCM_2000': [-1],\n",
       " 'KBA13_CCM_2500': [-1],\n",
       " 'KBA13_CCM_2501': [-1],\n",
       " 'KBA13_CCM_3000': [-1],\n",
       " 'KBA13_CCM_3001': [-1],\n",
       " 'KBA13_FAB_ASIEN': [-1],\n",
       " 'KBA13_FAB_SONSTIGE': [-1],\n",
       " 'KBA13_FIAT': [-1],\n",
       " 'KBA13_FORD': [-1],\n",
       " 'KBA13_HALTER_20': [-1],\n",
       " 'KBA13_HALTER_25': [-1],\n",
       " 'KBA13_HALTER_30': [-1],\n",
       " 'KBA13_HALTER_35': [-1],\n",
       " 'KBA13_HALTER_40': [-1],\n",
       " 'KBA13_HALTER_45': [-1],\n",
       " 'KBA13_HALTER_50': [-1],\n",
       " 'KBA13_HALTER_55': [-1],\n",
       " 'KBA13_HALTER_60': [-1],\n",
       " 'KBA13_HALTER_65': [-1],\n",
       " 'KBA13_HALTER_66': [-1],\n",
       " 'KBA13_HERST_ASIEN': [-1],\n",
       " 'KBA13_HERST_AUDI_VW': [-1],\n",
       " 'KBA13_HERST_BMW_BENZ': [-1],\n",
       " 'KBA13_HERST_EUROPA': [-1],\n",
       " 'KBA13_HERST_FORD_OPEL': [-1],\n",
       " 'KBA13_HERST_SONST': [-1],\n",
       " 'KBA13_KMH_110': [-1],\n",
       " 'KBA13_KMH_140': [-1],\n",
       " 'KBA13_KMH_180': [-1],\n",
       " 'KBA13_KMH_0_140': [-1],\n",
       " 'KBA13_KMH_140_210': [-1],\n",
       " 'KBA13_KMH_211': [-1],\n",
       " 'KBA13_KMH_250': [-1],\n",
       " 'KBA13_KMH_251': [-1],\n",
       " 'KBA13_KRSAQUOT': [-1],\n",
       " 'KBA13_KRSHERST_AUDI_VW': [-1],\n",
       " 'KBA13_KRSHERST_BMW_BENZ': [-1],\n",
       " 'KBA13_KRSHERST_FORD_OPEL': [-1],\n",
       " 'KBA13_KRSSEG_KLEIN': [-1],\n",
       " 'KBA13_KRSSEG_OBER': [-1],\n",
       " 'KBA13_KRSSEG_VAN': [-1],\n",
       " 'KBA13_KRSZUL_NEU': [-1],\n",
       " 'KBA13_KW_30': [-1],\n",
       " 'KBA13_KW_40': [-1],\n",
       " 'KBA13_KW_50': [-1],\n",
       " 'KBA13_KW_60': [-1],\n",
       " 'KBA13_KW_0_60': [-1],\n",
       " 'KBA13_KW_70': [-1],\n",
       " 'KBA13_KW_61_120': [-1],\n",
       " 'KBA13_KW_80': [-1],\n",
       " 'KBA13_KW_90': [-1],\n",
       " 'KBA13_KW_110': [-1],\n",
       " 'KBA13_KW_120': [-1],\n",
       " 'KBA13_KW_121': [-1],\n",
       " 'KBA13_MAZDA': [-1],\n",
       " 'KBA13_MERCEDES': [-1],\n",
       " 'KBA13_MOTOR': [-1],\n",
       " 'KBA13_NISSAN': [-1],\n",
       " 'KBA13_OPEL': [-1],\n",
       " 'KBA13_PEUGEOT': [-1],\n",
       " 'KBA13_RENAULT': [-1],\n",
       " 'KBA13_SEG_GELAENDEWAGEN': [-1],\n",
       " 'KBA13_SEG_GROSSRAUMVANS': [-1],\n",
       " 'KBA13_SEG_KLEINST': [-1],\n",
       " 'KBA13_SEG_KLEINWAGEN': [-1],\n",
       " 'KBA13_SEG_KOMPAKTKLASSE': [-1],\n",
       " 'KBA13_SEG_MINIVANS': [-1],\n",
       " 'KBA13_SEG_MINIWAGEN': [-1],\n",
       " 'KBA13_SEG_MITTELKLASSE': [-1],\n",
       " 'KBA13_SEG_OBEREMITTELKLASSE': [-1],\n",
       " 'KBA13_SEG_OBERKLASSE': [-1],\n",
       " 'KBA13_SEG_SONSTIGE': [-1],\n",
       " 'KBA13_SEG_SPORTWAGEN': [-1],\n",
       " 'KBA13_SEG_UTILITIES': [-1],\n",
       " 'KBA13_SEG_VAN': [-1],\n",
       " 'KBA13_SEG_WOHNMOBILE': [-1],\n",
       " 'KBA13_SITZE_4': [-1],\n",
       " 'KBA13_SITZE_5': [-1],\n",
       " 'KBA13_SITZE_6': [-1],\n",
       " 'KBA13_TOYOTA': [-1],\n",
       " 'KBA13_VORB_0': [-1],\n",
       " 'KBA13_VORB_1': [-1],\n",
       " 'KBA13_VORB_1_2': [-1],\n",
       " 'KBA13_VORB_2': [-1],\n",
       " 'KBA13_VORB_3': [-1],\n",
       " 'KBA13_VW': [-1],\n",
       " 'KKK': [-1, 0],\n",
       " 'NATIONALITAET_KZ': [-1, 0],\n",
       " 'ORTSGR_KLS9': [-1],\n",
       " 'OST_WEST_KZ': [-1],\n",
       " 'PLZ8_ANTG1': [-1],\n",
       " 'PLZ8_ANTG2': [-1],\n",
       " 'PLZ8_ANTG3': [-1],\n",
       " 'PLZ8_ANTG4': [-1],\n",
       " 'PLZ8_GBZ': [-1],\n",
       " 'PLZ8_HHZ': [-1],\n",
       " 'PRAEGENDE_JUGENDJAHRE': [-1, 0],\n",
       " 'REGIOTYP': [-1, 0],\n",
       " 'RELAT_AB': [-1, 9],\n",
       " 'RETOURTYP_BK_S': [0],\n",
       " 'SEMIO_DOM': [-1, 9],\n",
       " 'SEMIO_ERL': [-1, 9],\n",
       " 'SEMIO_FAM': [-1, 9],\n",
       " 'SEMIO_KAEM': [-1, 9],\n",
       " 'SEMIO_KRIT': [-1, 9],\n",
       " 'SEMIO_KULT': [-1, 9],\n",
       " 'SEMIO_LUST': [-1, 9],\n",
       " 'SEMIO_MAT': [-1, 9],\n",
       " 'SEMIO_PFLICHT': [-1, 9],\n",
       " 'SEMIO_RAT': [-1, 9],\n",
       " 'SEMIO_REL': [-1, 9],\n",
       " 'SEMIO_SOZ': [-1, 9],\n",
       " 'SEMIO_TRADV': [-1, 9],\n",
       " 'SEMIO_VERT': [-1, 9],\n",
       " 'SHOPPER_TYP': [-1],\n",
       " 'SOHO_FLAG': [-1],\n",
       " 'TITEL_KZ': [-1, 0],\n",
       " 'VERS_TYP': [-1],\n",
       " 'WOHNDAUER_2008': [-1, 0],\n",
       " 'WOHNLAGE': [-1],\n",
       " 'WACHSTUMSGEBIET_NB': [-1, 0],\n",
       " 'W_KEIT_KIND_HH': [-1, 0],\n",
       " 'ZABEOTYP': [-1, 9],\n",
       " 'ALTERSKATEGORIE_FEIN': [0],\n",
       " 'GEBURTSJAHR': [0]}"
      ]
     },
     "metadata": {},
     "execution_count": 28
    }
   ],
   "metadata": {}
  },
  {
   "cell_type": "markdown",
   "source": [
    "The \"missing_dict\" dictionary shows us the values in the column that we need to convert to nan.\n",
    "\n",
    "Now it's time to convert these values to nan."
   ],
   "metadata": {}
  },
  {
   "cell_type": "code",
   "execution_count": 29,
   "source": [
    "def change_nan_value(df,missing_dict):\r\n",
    "    '''\r\n",
    "    INPUT:\r\n",
    "    df - Pandas DataFrame\r\n",
    "    missing_dict - Dictionary\r\n",
    "    \r\n",
    "    OUTPUT:\r\n",
    "    df - Pandas Dataframe\r\n",
    "    \r\n",
    "    DESC: Converts values that should be NaN to NaN.\r\n",
    "    '''\r\n",
    "    \r\n",
    "    change_column = []\r\n",
    "    for (key,value) in missing_dict.items():\r\n",
    "\r\n",
    "        try:\r\n",
    "            df[key].replace(missing_dict[key], np.nan, inplace = True)\r\n",
    "            change_column.append(key)\r\n",
    "        except:\r\n",
    "            continue\r\n",
    "            \r\n",
    "    return df\r\n",
    "    "
   ],
   "outputs": [],
   "metadata": {}
  },
  {
   "cell_type": "code",
   "execution_count": 30,
   "source": [
    "customers = change_nan_value(customers,missing_dict)\r\n",
    "azdias = change_nan_value(azdias,missing_dict)"
   ],
   "outputs": [],
   "metadata": {}
  },
  {
   "cell_type": "code",
   "execution_count": 31,
   "source": [
    "last_nan_count_customers = customers.isna().sum()\r\n",
    "last_nan_count_azdias = azdias.isna().sum()"
   ],
   "outputs": [],
   "metadata": {}
  },
  {
   "cell_type": "markdown",
   "source": [
    "Yes, we now have completely missing values. Now it's time to visualize this missing data to see, compare and determine what to do.\n",
    "\n",
    "In the first chart, we will see how to compare the number of missing data before and after converting to nan."
   ],
   "metadata": {}
  },
  {
   "cell_type": "code",
   "execution_count": 32,
   "source": [
    "nan_values = pd.concat([first_nan_count_azdias, last_nan_count_azdias], axis=1,sort=True)\r\n",
    "nan_values['yüzde'] = nan_values[1]/len(azdias)\r\n",
    "nan_values = nan_values[nan_values['yüzde']>0.75]"
   ],
   "outputs": [],
   "metadata": {}
  },
  {
   "cell_type": "code",
   "execution_count": 33,
   "source": [
    "X_axis = np.arange(len(nan_values))\r\n",
    "f, ax = plt.subplots(figsize=(15, 6))\r\n",
    "plt.bar(X_axis - 0.2, nan_values[0], 0.3, label = 'first')\r\n",
    "plt.bar(X_axis + 0.2, nan_values[1], 0.3, label = 'last')\r\n",
    "  \r\n",
    "plt.xticks(X_axis, nan_values.index,rotation='vertical')\r\n",
    "plt.xlabel(\"Attribute\")\r\n",
    "plt.ylabel(\"Number of NaN Value\")\r\n",
    "plt.title(\"Number of NaN Value in Attribute\")\r\n",
    "plt.legend()\r\n",
    "plt.show()"
   ],
   "outputs": [
    {
     "output_type": "display_data",
     "data": {
      "text/plain": [
       "<Figure size 1080x432 with 1 Axes>"
      ],
      "image/png": "[encoded data removed]"
     },
     "metadata": {
      "needs_background": "light"
     }
    }
   ],
   "metadata": {}
  },
  {
   "cell_type": "code",
   "execution_count": 34,
   "source": [
    "nan_values = pd.concat([first_nan_count_customers, last_nan_count_customers], axis=1)\r\n",
    "nan_values['yüzde'] = nan_values[1]/len(customers)\r\n",
    "nan_values = nan_values[nan_values['yüzde']>0.75]"
   ],
   "outputs": [],
   "metadata": {}
  },
  {
   "cell_type": "code",
   "execution_count": 35,
   "source": [
    "X_axis = np.arange(len(nan_values))\r\n",
    "f, ax = plt.subplots(figsize=(15, 6))\r\n",
    "plt.bar(X_axis - 0.2, nan_values[0], 0.3, label = 'first')\r\n",
    "plt.bar(X_axis + 0.2, nan_values[1], 0.3, label = 'last')\r\n",
    "  \r\n",
    "plt.xticks(X_axis, nan_values.index,rotation='vertical')\r\n",
    "plt.xlabel(\"Attribute\")\r\n",
    "plt.ylabel(\"Number of NaN Value\")\r\n",
    "plt.title(\"Number of NaN Value in Attribute\")\r\n",
    "plt.legend()\r\n",
    "plt.show()"
   ],
   "outputs": [
    {
     "output_type": "display_data",
     "data": {
      "text/plain": [
       "<Figure size 1080x432 with 1 Axes>"
      ],
      "image/png": "[encoded data removed]"
     },
     "metadata": {
      "needs_background": "light"
     }
    }
   ],
   "metadata": {}
  },
  {
   "cell_type": "markdown",
   "source": [
    "In the graphs below, we will see the features in the datasets whose missing data is more than 50% of the total data."
   ],
   "metadata": {}
  },
  {
   "cell_type": "code",
   "execution_count": 36,
   "source": [
    "# Percentage of missing values in each dataframe along with visualization\r\n",
    "total = azdias.isnull().sum().sort_values(ascending=False)\r\n",
    "percent = (azdias.isnull().sum()/azdias.isnull().count()).sort_values(ascending=False)\r\n",
    "missing_data = pd.concat([total, percent], axis=1, keys=['Total', 'Percent'])\r\n",
    "missing_data = missing_data[missing_data['Percent'] > 0.5]\r\n",
    "f, ax = plt.subplots(figsize=(15, 6))\r\n",
    "plt.xticks(rotation='90')\r\n",
    "sns.barplot(x=missing_data.index, y=missing_data['Percent'])\r\n",
    "plt.xlabel('Azdias', fontsize=15)\r\n",
    "plt.ylabel('Percent of missing values', fontsize=15)\r\n",
    "plt.title('Percent missing data by feature', fontsize=15)"
   ],
   "outputs": [
    {
     "output_type": "execute_result",
     "data": {
      "text/plain": [
       "Text(0.5, 1.0, 'Percent missing data by feature')"
      ]
     },
     "metadata": {},
     "execution_count": 36
    },
    {
     "output_type": "display_data",
     "data": {
      "text/plain": [
       "<Figure size 1080x432 with 1 Axes>"
      ],
      "image/png": "[encoded data removed]"
     },
     "metadata": {
      "needs_background": "light"
     }
    }
   ],
   "metadata": {}
  },
  {
   "cell_type": "code",
   "execution_count": 37,
   "source": [
    "total = customers.isnull().sum().sort_values(ascending=False)\r\n",
    "percent = (customers.isnull().sum()/customers.isnull().count()).sort_values(ascending=False)\r\n",
    "missing_data = pd.concat([total, percent], axis=1, keys=['Total', 'Percent'])\r\n",
    "missing_data = missing_data[missing_data['Percent'] > 0.5]\r\n",
    "f, ax = plt.subplots(figsize=(15, 6))\r\n",
    "plt.xticks(rotation='90')\r\n",
    "sns.barplot(x=missing_data.index, y=missing_data['Percent'])\r\n",
    "plt.xlabel('Customers', fontsize=15)\r\n",
    "plt.ylabel('Percent of missing values', fontsize=15)\r\n",
    "plt.title('Percent missing data by feature', fontsize=15)"
   ],
   "outputs": [
    {
     "output_type": "execute_result",
     "data": {
      "text/plain": [
       "Text(0.5, 1.0, 'Percent missing data by feature')"
      ]
     },
     "metadata": {},
     "execution_count": 37
    },
    {
     "output_type": "display_data",
     "data": {
      "text/plain": [
       "<Figure size 1080x432 with 1 Axes>"
      ],
      "image/png": "[encoded data removed]"
     },
     "metadata": {
      "needs_background": "light"
     }
    }
   ],
   "metadata": {}
  },
  {
   "cell_type": "markdown",
   "source": [
    "As you can see in the graphs, almost all of the data with some features is missing data. It would be best to drop these columns."
   ],
   "metadata": {}
  },
  {
   "cell_type": "code",
   "execution_count": 38,
   "source": [
    "def missing_column(df,per = 0.75):\r\n",
    "    '''\r\n",
    "    INPUT:\r\n",
    "    df - Pandas DataFrame\r\n",
    "    per - float\r\n",
    "    \r\n",
    "    OUTPUT:\r\n",
    "    df - Pandas DataFrame\r\n",
    "    \r\n",
    "    DESC: Returns a list of columns with a missing data rate higher than the threshold value we set.\r\n",
    "    '''\r\n",
    "    nan_count_by_column = pd.DataFrame(df.isna().sum() / len(df),columns=['Percentage'])\r\n",
    "    nan_count_by_column = nan_count_by_column.sort_values(by=['Percentage'], ascending= False)\r\n",
    "    drop_col = list(nan_count_by_column[nan_count_by_column['Percentage'] > per].index)\r\n",
    "    \r\n",
    "    return drop_col\r\n",
    "\r\n",
    "def drop_column(df,col):\r\n",
    "    '''\r\n",
    "    INPUT:\r\n",
    "    df - Pandas DataFrame\r\n",
    "    col - list\r\n",
    "    \r\n",
    "    OUTPUT:\r\n",
    "    df - Pandas DataFrame\r\n",
    "    \r\n",
    "    DESC: Removes columns from the input list from the dataset.\r\n",
    "    '''\r\n",
    "    try:\r\n",
    "        df = df.drop(col,axis=1)\r\n",
    "    except:\r\n",
    "        print(\"Can't drop the column!!\")\r\n",
    "    \r\n",
    "    return df\r\n",
    "    "
   ],
   "outputs": [],
   "metadata": {}
  },
  {
   "cell_type": "code",
   "execution_count": 39,
   "source": [
    "print('Before Dropping:')\r\n",
    "print('General Population Dataset Shape: ', azdias.shape)\r\n",
    "print('Customer Dataset Shape: ', customers.shape)\r\n",
    "\r\n",
    "customers_missing_columns = missing_column(customers)\r\n",
    "azdias_missing_columns = missing_column(azdias)\r\n",
    "\r\n",
    "azdias_missing_columns.extend(customers_missing_columns)\r\n",
    "drop_col = list(set(azdias_missing_columns))\r\n",
    "\r\n",
    "print(len(drop_col))\r\n",
    "\r\n",
    "azdias = drop_column(azdias,drop_col)\r\n",
    "customers = drop_column(customers,drop_col)\r\n",
    "\r\n",
    "print('After Dropping:')\r\n",
    "print('General Population Dataset Shape: ', azdias.shape)\r\n",
    "print('Customer Dataset Shape: ', customers.shape)"
   ],
   "outputs": [
    {
     "output_type": "stream",
     "name": "stdout",
     "text": [
      "Before Dropping:\n",
      "General Population Dataset Shape:  (891221, 366)\n",
      "Customer Dataset Shape:  (191652, 369)\n",
      "48\n",
      "After Dropping:\n",
      "General Population Dataset Shape:  (891221, 318)\n",
      "Customer Dataset Shape:  (191652, 321)\n"
     ]
    }
   ],
   "metadata": {}
  },
  {
   "cell_type": "code",
   "execution_count": 40,
   "source": [
    "bins = 30\r\n",
    "fig = plt.figure(figsize=(15, 6))\r\n",
    "\r\n",
    "ax = fig.add_subplot(111)\r\n",
    "ax.set_title(\"No. of Rows vs No. of Missing features\")\r\n",
    "ax.set_xlabel(\"No. of Missing Features\")\r\n",
    "ax.set_ylabel(\"No. of Rows\")\r\n",
    "sns.distplot(azdias.isnull().sum(axis=1), bins, kde=False, ax=ax, label=\"Azdias\")\r\n",
    "sns.distplot(customers.isnull().sum(axis=1), bins, kde=False, ax=ax, label=\"Customers\")\r\n",
    "ax.legend()\r\n",
    "    \r\n",
    "plt.show()"
   ],
   "outputs": [
    {
     "output_type": "stream",
     "name": "stderr",
     "text": [
      "c:\\Users\\user\\env\\matrixenv\\lib\\site-packages\\seaborn\\distributions.py:2619: FutureWarning: `distplot` is a deprecated function and will be removed in a future version. Please adapt your code to use either `displot` (a figure-level function with similar flexibility) or `histplot` (an axes-level function for histograms).\n",
      "  warnings.warn(msg, FutureWarning)\n"
     ]
    },
    {
     "output_type": "display_data",
     "data": {
      "text/plain": [
       "<Figure size 1080x432 with 1 Axes>"
      ],
      "image/png": "[encoded data removed]"
     },
     "metadata": {
      "needs_background": "light"
     }
    }
   ],
   "metadata": {}
  },
  {
   "cell_type": "code",
   "execution_count": 41,
   "source": [
    "def remove_missing_rows(df, threshold):\r\n",
    "    '''\r\n",
    "    INPUT:\r\n",
    "    df - Pandas DataFrame\r\n",
    "    threshold - int\r\n",
    "    \r\n",
    "    OUTPUT:\r\n",
    "    df - Pandas DataFrame\r\n",
    "    \r\n",
    "    DESC: Removes missing data more than the threshold specified in the row.\r\n",
    "    '''\r\n",
    "    total_rows = df.shape[0]\r\n",
    "    \r\n",
    "    df = df.dropna(thresh=df.shape[1]-threshold)\r\n",
    "    \r\n",
    "    removed_rows = total_rows - df.shape[0]\r\n",
    "    \r\n",
    "    df = df.reset_index().drop(['index'],axis=1)\r\n",
    "    \r\n",
    "    return df"
   ],
   "outputs": [],
   "metadata": {}
  },
  {
   "cell_type": "code",
   "execution_count": 42,
   "source": [
    "print('Before Dropping:')\r\n",
    "print('General Population Dataset Shape: ', azdias.shape)\r\n",
    "print('Customer Dataset Shape: ', customers.shape)\r\n",
    "\r\n",
    "customers = remove_missing_rows(customers, threshold=50)\r\n",
    "azdias = remove_missing_rows(azdias, threshold=50)\r\n",
    "\r\n",
    "print('After Dropping:')\r\n",
    "print('General Population Dataset Shape: ', azdias.shape)\r\n",
    "print('Customer Dataset Shape: ', customers.shape)"
   ],
   "outputs": [
    {
     "output_type": "stream",
     "name": "stdout",
     "text": [
      "Before Dropping:\n",
      "General Population Dataset Shape:  (891221, 318)\n",
      "Customer Dataset Shape:  (191652, 321)\n",
      "After Dropping:\n",
      "General Population Dataset Shape:  (737206, 318)\n",
      "Customer Dataset Shape:  (134241, 321)\n"
     ]
    }
   ],
   "metadata": {}
  },
  {
   "cell_type": "markdown",
   "source": [
    "## 0.2.3 Categorical Data Cleaning"
   ],
   "metadata": {}
  },
  {
   "cell_type": "markdown",
   "source": [
    "Now that we have solved most of the missing data problem, we can move on to categorical data. Now let's examine the categorical data we have."
   ],
   "metadata": {}
  },
  {
   "cell_type": "code",
   "execution_count": 43,
   "source": [
    "def get_numeric_column_name(df):\r\n",
    "    '''\r\n",
    "    INPUT: \r\n",
    "    df - Pandas DataFrame\r\n",
    "    \r\n",
    "    OUTPUT: \r\n",
    "    col - Column list\r\n",
    "    \r\n",
    "    DESC: Returns the column names that are numeric types in the input dataframe.\r\n",
    "    \r\n",
    "    '''\r\n",
    "    col = df.select_dtypes(include = ['int64','float64']).columns\r\n",
    "    \r\n",
    "    return col\r\n",
    "\r\n",
    "customers_numeric_col = get_numeric_column_name(customers)\r\n",
    "azdias_numeric_col = get_numeric_column_name(azdias)"
   ],
   "outputs": [],
   "metadata": {}
  },
  {
   "cell_type": "code",
   "execution_count": 44,
   "source": [
    "def get_object_column_name(df):\r\n",
    "    '''\r\n",
    "    INPUT: \r\n",
    "    df - Dandas DataFrame\r\n",
    "    \r\n",
    "    OUTPUT: \r\n",
    "    col - Column list\r\n",
    "    \r\n",
    "    DESC: Returns the column names that are objects types in the input dataframe.\r\n",
    "    \r\n",
    "    '''\r\n",
    "    col = df.select_dtypes('object').columns\r\n",
    "    \r\n",
    "    return col\r\n",
    "\r\n",
    "customers_object_col = get_object_column_name(customers)\r\n",
    "azdias_object_col = get_object_column_name(azdias)"
   ],
   "outputs": [],
   "metadata": {}
  },
  {
   "cell_type": "code",
   "execution_count": 45,
   "source": [
    "print_unique_values(azdias,azdias_object_col)"
   ],
   "outputs": [
    {
     "output_type": "stream",
     "name": "stdout",
     "text": [
      "CAMEO_DEU_2015 ['8A' '4C' '2A' '6B' '8C' '4A' '2D' '1A' '1E' '9D' '7A' '5D' '9E' '5C'\n",
      " '9B' '1B' '8B' '3D' nan '4E' '4B' '3C' '5A' '7B' '9A' '6E' '6D' '2C' '7C'\n",
      " '9C' '7D' '5E' '1D' '8D' '6C' '6A' '5B' '4D' '3A' '2B' '7E' '3B' '6F'\n",
      " '5F' '1C' 'XX']\n",
      "D19_LETZTER_KAUF_BRANCHE [nan 'D19_UNBEKANNT' 'D19_SCHUHE' 'D19_ENERGIE' 'D19_KOSMETIK'\n",
      " 'D19_SONSTIGE' 'D19_BANKEN_GROSS' 'D19_VOLLSORTIMENT'\n",
      " 'D19_DROGERIEARTIKEL' 'D19_HANDWERK' 'D19_BUCH_CD' 'D19_VERSICHERUNGEN'\n",
      " 'D19_VERSAND_REST' 'D19_TELKO_REST' 'D19_BANKEN_DIREKT' 'D19_BANKEN_REST'\n",
      " 'D19_LEBENSMITTEL' 'D19_HAUS_DEKO' 'D19_BEKLEIDUNG_REST'\n",
      " 'D19_SAMMELARTIKEL' 'D19_TELKO_MOBILE' 'D19_REISEN' 'D19_BEKLEIDUNG_GEH'\n",
      " 'D19_TECHNIK' 'D19_NAHRUNGSERGAENZUNG' 'D19_DIGIT_SERV' 'D19_LOTTO'\n",
      " 'D19_RATGEBER' 'D19_TIERARTIKEL' 'D19_KINDERARTIKEL' 'D19_BIO_OEKO'\n",
      " 'D19_FREIZEIT' 'D19_WEIN_FEINKOST' 'D19_GARTEN' 'D19_BILDUNG'\n",
      " 'D19_BANKEN_LOKAL']\n",
      "EINGEFUEGT_AM ['1992-02-10 00:00:00' '1992-02-12 00:00:00' '1997-04-21 00:00:00' ...\n",
      " '1994-10-24 00:00:00' '2000-03-09 00:00:00' '2005-03-19 00:00:00']\n",
      "OST_WEST_KZ ['W' 'O']\n"
     ]
    }
   ],
   "metadata": {}
  },
  {
   "cell_type": "markdown",
   "source": [
    "* D19_LETZTER_KAUF_BRANCHE - Indicates the last purchase sector.\n",
    "* CAMEO_DEU_2015 - Indicates the special group it belongs to.\n",
    "* EINGEFUEGT_AM - Data insert date.\n",
    "* OST_WEST_KZ - Flag indicating the former GDR/FRG.\n",
    "\n",
    "Since the CAMEO_DEU_2015 and D19_LETZTER_KAUF_BRANCHE columns contain very detailed information, we will abandon these columns to simplify our model.\n",
    "\n",
    "Using only the year column in the EINGEFUEGT_AM column is a good way to simplify our model.\n",
    "\n",
    "The OST_WEST_KZ column seems quite reasonable for encoding."
   ],
   "metadata": {}
  },
  {
   "cell_type": "code",
   "execution_count": 46,
   "source": [
    "customers['EINGEFUEGT_AM'] = pd.to_datetime(customers['EINGEFUEGT_AM'])\r\n",
    "customers['EINGEFUEGT_AM_YEAR'] = customers['EINGEFUEGT_AM'].dt.year\r\n",
    "\r\n",
    "azdias['EINGEFUEGT_AM'] = pd.to_datetime(azdias['EINGEFUEGT_AM'])\r\n",
    "azdias['EINGEFUEGT_AM_YEAR'] = azdias['EINGEFUEGT_AM'].dt.year"
   ],
   "outputs": [],
   "metadata": {}
  },
  {
   "cell_type": "code",
   "execution_count": 47,
   "source": [
    "print('Before Dropping:')\r\n",
    "print('General Population Dataset Shape: ', azdias.shape)\r\n",
    "print('Customer Dataset Shape: ', customers.shape)\r\n",
    "\r\n",
    "drop_col = ['CAMEO_DEU_2015','D19_LETZTER_KAUF_BRANCHE','EINGEFUEGT_AM']\r\n",
    "\r\n",
    "azdias = drop_column(azdias,drop_col)\r\n",
    "customers = drop_column(customers,drop_col)\r\n",
    "\r\n",
    "print('After Dropping:')\r\n",
    "print('General Population Dataset Shape: ', azdias.shape)\r\n",
    "print('Customer Dataset Shape: ', customers.shape)"
   ],
   "outputs": [
    {
     "output_type": "stream",
     "name": "stdout",
     "text": [
      "Before Dropping:\n",
      "General Population Dataset Shape:  (737206, 319)\n",
      "Customer Dataset Shape:  (134241, 322)\n",
      "After Dropping:\n",
      "General Population Dataset Shape:  (737206, 316)\n",
      "Customer Dataset Shape:  (134241, 319)\n"
     ]
    }
   ],
   "metadata": {}
  },
  {
   "cell_type": "markdown",
   "source": [
    "We have one last thing left to do with categorical data: encode the OST_WEST_KZ column. But before we move on to this, we need to separate the extra columns in the customers verse from the dataset in order not to cause problems in the model we created in the later sections."
   ],
   "metadata": {}
  },
  {
   "cell_type": "code",
   "execution_count": 48,
   "source": [
    "extra_columns = list(set(customers.columns) - set(azdias.columns))\r\n",
    "extra_columns"
   ],
   "outputs": [
    {
     "output_type": "execute_result",
     "data": {
      "text/plain": [
       "['ONLINE_PURCHASE', 'CUSTOMER_GROUP', 'PRODUCT_GROUP']"
      ]
     },
     "metadata": {},
     "execution_count": 48
    }
   ],
   "metadata": {}
  },
  {
   "cell_type": "code",
   "execution_count": 49,
   "source": [
    "extra_columns_data = customers[extra_columns]\r\n",
    "customers = drop_column(customers,extra_columns)"
   ],
   "outputs": [],
   "metadata": {}
  },
  {
   "cell_type": "code",
   "execution_count": 50,
   "source": [
    "obj_col_customers = get_object_column_name(customers)\r\n",
    "obj_col_azdias = get_object_column_name(azdias)"
   ],
   "outputs": [],
   "metadata": {}
  },
  {
   "cell_type": "code",
   "execution_count": 51,
   "source": [
    "def create_dummy_df(df, cat_cols, dummy_na):\r\n",
    "    '''\r\n",
    "    INPUT:\r\n",
    "    df - pandas dataframe with categorical variables you want to dummy\r\n",
    "    cat_cols - list of strings that are associated with names of the categorical columns\r\n",
    "    dummy_na - Bool holding whether you want to dummy NA vals of categorical columns or not\r\n",
    "    \r\n",
    "    OUTPUT:\r\n",
    "    df - a new dataframe that has the following characteristics:\r\n",
    "            1. contains all columns that were not specified as categorical\r\n",
    "            2. removes all the original columns in cat_cols\r\n",
    "            3. dummy columns for each of the categorical columns in cat_cols\r\n",
    "            4. if dummy_na is True - it also contains dummy columns for the NaN values\r\n",
    "            5. Use a prefix of the column name with an underscore (_) for separating \r\n",
    "    '''\r\n",
    "    for col in cat_cols:\r\n",
    "        try:\r\n",
    "            df = pd.concat([df.drop(col,axis=1),pd.get_dummies(df[col], prefix=col, prefix_sep='_', drop_first=True, dummy_na=dummy_na)],axis=1)\r\n",
    "        except:\r\n",
    "            continue\r\n",
    "    return df"
   ],
   "outputs": [],
   "metadata": {}
  },
  {
   "cell_type": "code",
   "execution_count": 52,
   "source": [
    "customers = create_dummy_df(customers, obj_col_customers, False)\r\n",
    "azdias = create_dummy_df(azdias, obj_col_azdias, False)"
   ],
   "outputs": [],
   "metadata": {}
  },
  {
   "cell_type": "code",
   "execution_count": 53,
   "source": [
    "print('General Population Dataset Shape: ', azdias.shape)\r\n",
    "print('Customer Dataset Shape: ', customers.shape)"
   ],
   "outputs": [
    {
     "output_type": "stream",
     "name": "stdout",
     "text": [
      "General Population Dataset Shape:  (737206, 316)\n",
      "Customer Dataset Shape:  (134241, 316)\n"
     ]
    }
   ],
   "metadata": {}
  },
  {
   "cell_type": "markdown",
   "source": [
    "## 0.2.4 Unique Value"
   ],
   "metadata": {}
  },
  {
   "cell_type": "markdown",
   "source": [
    "Since the columns that are the same as the number of datasets are id or index, these columns identify the person or row. Therefore, we cannot extract features from these columns."
   ],
   "metadata": {}
  },
  {
   "cell_type": "code",
   "execution_count": 54,
   "source": [
    "for col in customers.columns:\r\n",
    "    if len(customers[col].unique()) == len(customers):\r\n",
    "        LNR_customers = customers[col]\r\n",
    "        customers = customers.drop([col],axis=1)\r\n",
    "        print(col,'is dropped from customers.')\r\n",
    "        \r\n",
    "for col in azdias.columns:\r\n",
    "    if len(azdias[col].unique()) == len(azdias):\r\n",
    "        LNR_azdias = azdias[col]\r\n",
    "        azdias = azdias.drop([col],axis=1)\r\n",
    "        print(col,'is dropped from azdias.')"
   ],
   "outputs": [
    {
     "output_type": "stream",
     "name": "stdout",
     "text": [
      "LNR is dropped from customers.\n",
      "LNR is dropped from azdias.\n"
     ]
    }
   ],
   "metadata": {}
  },
  {
   "cell_type": "markdown",
   "source": [
    "**LNR column is something like id or index. Therefore, this column has been dropped.**"
   ],
   "metadata": {}
  },
  {
   "cell_type": "markdown",
   "source": [
    "## 0.2.5 Imputing Missing Values"
   ],
   "metadata": {}
  },
  {
   "cell_type": "code",
   "execution_count": 55,
   "source": [
    "total = azdias.isnull().sum().sort_values(ascending=False)\r\n",
    "percent = (azdias.isnull().sum()/azdias.isnull().count()).sort_values(ascending=False)\r\n",
    "missing_data = pd.concat([total, percent], axis=1, keys=['Total', 'Percent'])\r\n",
    "missing_data = missing_data[missing_data['Percent'] > 0.5]\r\n",
    "f, ax = plt.subplots(figsize=(15, 6))\r\n",
    "plt.xticks(rotation='90')\r\n",
    "sns.barplot(x=missing_data.index, y=missing_data['Percent'])\r\n",
    "plt.xlabel('Azdias', fontsize=15)\r\n",
    "plt.ylabel('Percent of missing values', fontsize=15)\r\n",
    "plt.title('Percent missing data by feature', fontsize=15)"
   ],
   "outputs": [
    {
     "output_type": "execute_result",
     "data": {
      "text/plain": [
       "Text(0.5, 1.0, 'Percent missing data by feature')"
      ]
     },
     "metadata": {},
     "execution_count": 55
    },
    {
     "output_type": "display_data",
     "data": {
      "text/plain": [
       "<Figure size 1080x432 with 1 Axes>"
      ],
      "image/png": "[encoded data removed]"
     },
     "metadata": {
      "needs_background": "light"
     }
    }
   ],
   "metadata": {}
  },
  {
   "cell_type": "markdown",
   "source": [
    "Until we got to this stage, we deleted many columns and lost data. But there are still missing data as seen in the chart above. Now it's time to fill in this data. Missing data are usually filled in with the mean or most common values.\n",
    "\n",
    "We will fill in our missing data by assigning the most common data, which is the most appropriate method for demographic data."
   ],
   "metadata": {}
  },
  {
   "cell_type": "code",
   "execution_count": 56,
   "source": [
    "def fill_missing_value(df,missing_value = np.nan,strategy = 'most_frequent'):\r\n",
    "    '''\r\n",
    "    INPUT:\r\n",
    "    df - Pandas DataFrame\r\n",
    "    missing_value - string\r\n",
    "    strategy - string\r\n",
    "    \r\n",
    "    OUTPUT:\r\n",
    "    df - Pandas DataFrame\r\n",
    "    \r\n",
    "    DESC: Fills the missing data in the Data Set according to the specified strategy.\r\n",
    "    '''\r\n",
    "    col = df.columns\r\n",
    "    \r\n",
    "    imputer = SimpleImputer(missing_values=missing_value, strategy=strategy)\r\n",
    "    df = imputer.fit_transform(df)\r\n",
    "    \r\n",
    "    return pd.DataFrame(df,columns = col)"
   ],
   "outputs": [],
   "metadata": {}
  },
  {
   "cell_type": "code",
   "execution_count": 57,
   "source": [
    "customers = fill_missing_value(customers)\r\n",
    "azdias = fill_missing_value(azdias)"
   ],
   "outputs": [],
   "metadata": {}
  },
  {
   "cell_type": "code",
   "execution_count": 58,
   "source": [
    "print('Number of missing data in Azdias dataset:',np.sum(azdias.isna().sum()))\r\n",
    "print('Number of missing data in Customers dataset:',np.sum(customers.isna().sum()))"
   ],
   "outputs": [
    {
     "output_type": "stream",
     "name": "stdout",
     "text": [
      "Number of missing data in Azdias dataset: 0\n",
      "Number of missing data in Customers dataset: 0\n"
     ]
    }
   ],
   "metadata": {}
  },
  {
   "cell_type": "markdown",
   "source": [
    "## 0.2.6 Standardizing Data"
   ],
   "metadata": {}
  },
  {
   "cell_type": "markdown",
   "source": [
    "**We no longer have missing data... We can celebrate that. Because we've come a long way.**\n",
    "\n",
    "But there is one last step left to complete the data preprocessing step. In order not to mislead the data into our model, we need to pass it through the standardization process."
   ],
   "metadata": {}
  },
  {
   "cell_type": "code",
   "execution_count": 59,
   "source": [
    "def standartize_data(df):\r\n",
    "    '''\r\n",
    "    INPUT:\r\n",
    "    df - Pandas DataFrame\r\n",
    "    \r\n",
    "    OUTPUT: \r\n",
    "    df - Pandas DataFrame\r\n",
    "    scale - trained model\r\n",
    "    \r\n",
    "    DESC: Standardizes the given dataset.\r\n",
    "    '''\r\n",
    "\r\n",
    "    scale = StandardScaler(copy=False)\r\n",
    "\r\n",
    "    df[df.columns] = scale.fit_transform(df)\r\n",
    "    \r\n",
    "    return df, scale"
   ],
   "outputs": [],
   "metadata": {}
  },
  {
   "cell_type": "code",
   "execution_count": 60,
   "source": [
    "azdias,scale = standartize_data(azdias)\r\n",
    "col = customers.columns\r\n",
    "customers[col] = scale.transform(customers)"
   ],
   "outputs": [],
   "metadata": {}
  },
  {
   "cell_type": "code",
   "execution_count": 61,
   "source": [
    "azdias.head()"
   ],
   "outputs": [
    {
     "output_type": "execute_result",
     "data": {
      "text/plain": [
       "   AKT_DAT_KL  ALTER_HH  ALTERSKATEGORIE_FEIN  ANZ_HAUSHALTE_AKTIV  \\\n",
       "0    1.262242  0.565418              2.002930             0.186863   \n",
       "1    1.262242  0.275062              0.725469             0.120673   \n",
       "2   -0.934320 -0.886359             -0.551992            -0.475044   \n",
       "3   -0.934320  1.146128             -0.232627            -0.342662   \n",
       "4   -0.934320 -1.757424             -1.510088            -0.210281   \n",
       "\n",
       "   ANZ_HH_TITEL  ANZ_KINDER  ANZ_PERSONEN  ANZ_STATISTISCHE_HAUSHALTE  \\\n",
       "0     -0.125305   -0.299078      0.224645                    0.335470   \n",
       "1     -0.125305   -0.299078     -0.634504                   -0.031830   \n",
       "2     -0.125305   -0.299078     -1.493653                   -0.399129   \n",
       "3     -0.125305   -0.299078      1.942943                   -0.325669   \n",
       "4     -0.125305   -0.299078     -0.634504                   -0.399129   \n",
       "\n",
       "   ANZ_TITEL    ARBEIT  ...  VK_DISTANZ   VK_ZG11  W_KEIT_KIND_HH  \\\n",
       "0  -0.060664 -0.183303  ...    1.064969  1.455111       -0.747645   \n",
       "1  -0.060664 -0.183303  ...    0.450990  0.024136       -0.747645   \n",
       "2  -0.060664 -1.187433  ...    0.757979  1.812855        0.952143   \n",
       "3  -0.060664  0.820828  ...   -0.776970 -0.691351       -1.314241   \n",
       "4  -0.060664 -1.187433  ...   -0.162990 -0.691351        0.952143   \n",
       "\n",
       "   WOHNDAUER_2008  WOHNLAGE  ZABEOTYP  ANREDE_KZ  ALTERSKATEGORIE_GROB  \\\n",
       "0        0.547787 -0.028552  1.141253   0.958506             -1.682098   \n",
       "1        0.547787 -1.083095  1.141253   0.958506              0.168048   \n",
       "2        0.547787  1.553263 -0.279623   0.958506              1.093120   \n",
       "3        0.547787 -0.555824  0.430815  -1.043291              0.168048   \n",
       "4        0.547787  1.553263  0.430815   0.958506             -1.682098   \n",
       "\n",
       "   EINGEFUEGT_AM_YEAR  OST_WEST_KZ_W  \n",
       "0           -0.426256        0.51595  \n",
       "1           -0.426256        0.51595  \n",
       "2            1.632602        0.51595  \n",
       "3           -0.426256        0.51595  \n",
       "4           -0.426256        0.51595  \n",
       "\n",
       "[5 rows x 315 columns]"
      ],
      "text/html": [
       "<div>\n",
       "<style scoped>\n",
       "    .dataframe tbody tr th:only-of-type {\n",
       "        vertical-align: middle;\n",
       "    }\n",
       "\n",
       "    .dataframe tbody tr th {\n",
       "        vertical-align: top;\n",
       "    }\n",
       "\n",
       "    .dataframe thead th {\n",
       "        text-align: right;\n",
       "    }\n",
       "</style>\n",
       "<table border=\"1\" class=\"dataframe\">\n",
       "  <thead>\n",
       "    <tr style=\"text-align: right;\">\n",
       "      <th></th>\n",
       "      <th>AKT_DAT_KL</th>\n",
       "      <th>ALTER_HH</th>\n",
       "      <th>ALTERSKATEGORIE_FEIN</th>\n",
       "      <th>ANZ_HAUSHALTE_AKTIV</th>\n",
       "      <th>ANZ_HH_TITEL</th>\n",
       "      <th>ANZ_KINDER</th>\n",
       "      <th>ANZ_PERSONEN</th>\n",
       "      <th>ANZ_STATISTISCHE_HAUSHALTE</th>\n",
       "      <th>ANZ_TITEL</th>\n",
       "      <th>ARBEIT</th>\n",
       "      <th>...</th>\n",
       "      <th>VK_DISTANZ</th>\n",
       "      <th>VK_ZG11</th>\n",
       "      <th>W_KEIT_KIND_HH</th>\n",
       "      <th>WOHNDAUER_2008</th>\n",
       "      <th>WOHNLAGE</th>\n",
       "      <th>ZABEOTYP</th>\n",
       "      <th>ANREDE_KZ</th>\n",
       "      <th>ALTERSKATEGORIE_GROB</th>\n",
       "      <th>EINGEFUEGT_AM_YEAR</th>\n",
       "      <th>OST_WEST_KZ_W</th>\n",
       "    </tr>\n",
       "  </thead>\n",
       "  <tbody>\n",
       "    <tr>\n",
       "      <th>0</th>\n",
       "      <td>1.262242</td>\n",
       "      <td>0.565418</td>\n",
       "      <td>2.002930</td>\n",
       "      <td>0.186863</td>\n",
       "      <td>-0.125305</td>\n",
       "      <td>-0.299078</td>\n",
       "      <td>0.224645</td>\n",
       "      <td>0.335470</td>\n",
       "      <td>-0.060664</td>\n",
       "      <td>-0.183303</td>\n",
       "      <td>...</td>\n",
       "      <td>1.064969</td>\n",
       "      <td>1.455111</td>\n",
       "      <td>-0.747645</td>\n",
       "      <td>0.547787</td>\n",
       "      <td>-0.028552</td>\n",
       "      <td>1.141253</td>\n",
       "      <td>0.958506</td>\n",
       "      <td>-1.682098</td>\n",
       "      <td>-0.426256</td>\n",
       "      <td>0.51595</td>\n",
       "    </tr>\n",
       "    <tr>\n",
       "      <th>1</th>\n",
       "      <td>1.262242</td>\n",
       "      <td>0.275062</td>\n",
       "      <td>0.725469</td>\n",
       "      <td>0.120673</td>\n",
       "      <td>-0.125305</td>\n",
       "      <td>-0.299078</td>\n",
       "      <td>-0.634504</td>\n",
       "      <td>-0.031830</td>\n",
       "      <td>-0.060664</td>\n",
       "      <td>-0.183303</td>\n",
       "      <td>...</td>\n",
       "      <td>0.450990</td>\n",
       "      <td>0.024136</td>\n",
       "      <td>-0.747645</td>\n",
       "      <td>0.547787</td>\n",
       "      <td>-1.083095</td>\n",
       "      <td>1.141253</td>\n",
       "      <td>0.958506</td>\n",
       "      <td>0.168048</td>\n",
       "      <td>-0.426256</td>\n",
       "      <td>0.51595</td>\n",
       "    </tr>\n",
       "    <tr>\n",
       "      <th>2</th>\n",
       "      <td>-0.934320</td>\n",
       "      <td>-0.886359</td>\n",
       "      <td>-0.551992</td>\n",
       "      <td>-0.475044</td>\n",
       "      <td>-0.125305</td>\n",
       "      <td>-0.299078</td>\n",
       "      <td>-1.493653</td>\n",
       "      <td>-0.399129</td>\n",
       "      <td>-0.060664</td>\n",
       "      <td>-1.187433</td>\n",
       "      <td>...</td>\n",
       "      <td>0.757979</td>\n",
       "      <td>1.812855</td>\n",
       "      <td>0.952143</td>\n",
       "      <td>0.547787</td>\n",
       "      <td>1.553263</td>\n",
       "      <td>-0.279623</td>\n",
       "      <td>0.958506</td>\n",
       "      <td>1.093120</td>\n",
       "      <td>1.632602</td>\n",
       "      <td>0.51595</td>\n",
       "    </tr>\n",
       "    <tr>\n",
       "      <th>3</th>\n",
       "      <td>-0.934320</td>\n",
       "      <td>1.146128</td>\n",
       "      <td>-0.232627</td>\n",
       "      <td>-0.342662</td>\n",
       "      <td>-0.125305</td>\n",
       "      <td>-0.299078</td>\n",
       "      <td>1.942943</td>\n",
       "      <td>-0.325669</td>\n",
       "      <td>-0.060664</td>\n",
       "      <td>0.820828</td>\n",
       "      <td>...</td>\n",
       "      <td>-0.776970</td>\n",
       "      <td>-0.691351</td>\n",
       "      <td>-1.314241</td>\n",
       "      <td>0.547787</td>\n",
       "      <td>-0.555824</td>\n",
       "      <td>0.430815</td>\n",
       "      <td>-1.043291</td>\n",
       "      <td>0.168048</td>\n",
       "      <td>-0.426256</td>\n",
       "      <td>0.51595</td>\n",
       "    </tr>\n",
       "    <tr>\n",
       "      <th>4</th>\n",
       "      <td>-0.934320</td>\n",
       "      <td>-1.757424</td>\n",
       "      <td>-1.510088</td>\n",
       "      <td>-0.210281</td>\n",
       "      <td>-0.125305</td>\n",
       "      <td>-0.299078</td>\n",
       "      <td>-0.634504</td>\n",
       "      <td>-0.399129</td>\n",
       "      <td>-0.060664</td>\n",
       "      <td>-1.187433</td>\n",
       "      <td>...</td>\n",
       "      <td>-0.162990</td>\n",
       "      <td>-0.691351</td>\n",
       "      <td>0.952143</td>\n",
       "      <td>0.547787</td>\n",
       "      <td>1.553263</td>\n",
       "      <td>0.430815</td>\n",
       "      <td>0.958506</td>\n",
       "      <td>-1.682098</td>\n",
       "      <td>-0.426256</td>\n",
       "      <td>0.51595</td>\n",
       "    </tr>\n",
       "  </tbody>\n",
       "</table>\n",
       "<p>5 rows × 315 columns</p>\n",
       "</div>"
      ]
     },
     "metadata": {},
     "execution_count": 61
    }
   ],
   "metadata": {}
  },
  {
   "cell_type": "code",
   "execution_count": 62,
   "source": [
    "customers.head()"
   ],
   "outputs": [
    {
     "output_type": "execute_result",
     "data": {
      "text/plain": [
       "   AKT_DAT_KL  ALTER_HH  ALTERSKATEGORIE_FEIN  ANZ_HAUSHALTE_AKTIV  \\\n",
       "0    -0.93432 -1.757424             -1.510088            -0.475044   \n",
       "1    -0.93432 -2.918845             -1.510088            -0.475044   \n",
       "2    -0.93432 -2.338135             -2.148819            -0.541234   \n",
       "3    -0.93432  1.146128             -0.232627            -0.077899   \n",
       "4    -0.93432 -1.467069             -1.510088            -0.475044   \n",
       "\n",
       "   ANZ_HH_TITEL  ANZ_KINDER  ANZ_PERSONEN  ANZ_STATISTISCHE_HAUSHALTE  \\\n",
       "0     -0.125305   -0.299078      0.224645                   -0.472589   \n",
       "1     -0.125305   -0.299078     -0.634504                   -0.472589   \n",
       "2     -0.125305   -0.299078     -1.493653                   -0.472589   \n",
       "3     -0.125305   -0.299078      1.942943                   -0.031830   \n",
       "4     -0.125305   -0.299078      0.224645                   -0.472589   \n",
       "\n",
       "   ANZ_TITEL    ARBEIT  ...  VK_DISTANZ   VK_ZG11  W_KEIT_KIND_HH  \\\n",
       "0  -0.060664 -2.191564  ...   -1.390950 -1.406838        0.952143   \n",
       "1  -0.060664 -0.183303  ...    1.678949  1.812855        0.952143   \n",
       "2  -0.060664 -2.191564  ...   -1.083960 -1.406838        0.952143   \n",
       "3  -0.060664 -0.183303  ...   -0.776970 -0.691351       -1.314241   \n",
       "4  -0.060664 -0.183303  ...   -1.697940 -1.764582        0.952143   \n",
       "\n",
       "   WOHNDAUER_2008  WOHNLAGE  ZABEOTYP  ANREDE_KZ  ALTERSKATEGORIE_GROB  \\\n",
       "0        0.547787  1.553263 -0.279623  -1.043291              1.093120   \n",
       "1        0.547787 -1.083095 -0.279623   0.958506              1.093120   \n",
       "2        0.547787  1.553263 -1.700500  -1.043291              1.093120   \n",
       "3        0.547787 -0.555824 -1.700500  -1.043291              0.168048   \n",
       "4        0.547787 -1.610367 -0.990062  -1.043291              0.168048   \n",
       "\n",
       "   EINGEFUEGT_AM_YEAR  OST_WEST_KZ_W  \n",
       "0           -0.426256        0.51595  \n",
       "1           -0.426256        0.51595  \n",
       "2           -0.426256        0.51595  \n",
       "3           -0.426256        0.51595  \n",
       "4           -0.426256        0.51595  \n",
       "\n",
       "[5 rows x 315 columns]"
      ],
      "text/html": [
       "<div>\n",
       "<style scoped>\n",
       "    .dataframe tbody tr th:only-of-type {\n",
       "        vertical-align: middle;\n",
       "    }\n",
       "\n",
       "    .dataframe tbody tr th {\n",
       "        vertical-align: top;\n",
       "    }\n",
       "\n",
       "    .dataframe thead th {\n",
       "        text-align: right;\n",
       "    }\n",
       "</style>\n",
       "<table border=\"1\" class=\"dataframe\">\n",
       "  <thead>\n",
       "    <tr style=\"text-align: right;\">\n",
       "      <th></th>\n",
       "      <th>AKT_DAT_KL</th>\n",
       "      <th>ALTER_HH</th>\n",
       "      <th>ALTERSKATEGORIE_FEIN</th>\n",
       "      <th>ANZ_HAUSHALTE_AKTIV</th>\n",
       "      <th>ANZ_HH_TITEL</th>\n",
       "      <th>ANZ_KINDER</th>\n",
       "      <th>ANZ_PERSONEN</th>\n",
       "      <th>ANZ_STATISTISCHE_HAUSHALTE</th>\n",
       "      <th>ANZ_TITEL</th>\n",
       "      <th>ARBEIT</th>\n",
       "      <th>...</th>\n",
       "      <th>VK_DISTANZ</th>\n",
       "      <th>VK_ZG11</th>\n",
       "      <th>W_KEIT_KIND_HH</th>\n",
       "      <th>WOHNDAUER_2008</th>\n",
       "      <th>WOHNLAGE</th>\n",
       "      <th>ZABEOTYP</th>\n",
       "      <th>ANREDE_KZ</th>\n",
       "      <th>ALTERSKATEGORIE_GROB</th>\n",
       "      <th>EINGEFUEGT_AM_YEAR</th>\n",
       "      <th>OST_WEST_KZ_W</th>\n",
       "    </tr>\n",
       "  </thead>\n",
       "  <tbody>\n",
       "    <tr>\n",
       "      <th>0</th>\n",
       "      <td>-0.93432</td>\n",
       "      <td>-1.757424</td>\n",
       "      <td>-1.510088</td>\n",
       "      <td>-0.475044</td>\n",
       "      <td>-0.125305</td>\n",
       "      <td>-0.299078</td>\n",
       "      <td>0.224645</td>\n",
       "      <td>-0.472589</td>\n",
       "      <td>-0.060664</td>\n",
       "      <td>-2.191564</td>\n",
       "      <td>...</td>\n",
       "      <td>-1.390950</td>\n",
       "      <td>-1.406838</td>\n",
       "      <td>0.952143</td>\n",
       "      <td>0.547787</td>\n",
       "      <td>1.553263</td>\n",
       "      <td>-0.279623</td>\n",
       "      <td>-1.043291</td>\n",
       "      <td>1.093120</td>\n",
       "      <td>-0.426256</td>\n",
       "      <td>0.51595</td>\n",
       "    </tr>\n",
       "    <tr>\n",
       "      <th>1</th>\n",
       "      <td>-0.93432</td>\n",
       "      <td>-2.918845</td>\n",
       "      <td>-1.510088</td>\n",
       "      <td>-0.475044</td>\n",
       "      <td>-0.125305</td>\n",
       "      <td>-0.299078</td>\n",
       "      <td>-0.634504</td>\n",
       "      <td>-0.472589</td>\n",
       "      <td>-0.060664</td>\n",
       "      <td>-0.183303</td>\n",
       "      <td>...</td>\n",
       "      <td>1.678949</td>\n",
       "      <td>1.812855</td>\n",
       "      <td>0.952143</td>\n",
       "      <td>0.547787</td>\n",
       "      <td>-1.083095</td>\n",
       "      <td>-0.279623</td>\n",
       "      <td>0.958506</td>\n",
       "      <td>1.093120</td>\n",
       "      <td>-0.426256</td>\n",
       "      <td>0.51595</td>\n",
       "    </tr>\n",
       "    <tr>\n",
       "      <th>2</th>\n",
       "      <td>-0.93432</td>\n",
       "      <td>-2.338135</td>\n",
       "      <td>-2.148819</td>\n",
       "      <td>-0.541234</td>\n",
       "      <td>-0.125305</td>\n",
       "      <td>-0.299078</td>\n",
       "      <td>-1.493653</td>\n",
       "      <td>-0.472589</td>\n",
       "      <td>-0.060664</td>\n",
       "      <td>-2.191564</td>\n",
       "      <td>...</td>\n",
       "      <td>-1.083960</td>\n",
       "      <td>-1.406838</td>\n",
       "      <td>0.952143</td>\n",
       "      <td>0.547787</td>\n",
       "      <td>1.553263</td>\n",
       "      <td>-1.700500</td>\n",
       "      <td>-1.043291</td>\n",
       "      <td>1.093120</td>\n",
       "      <td>-0.426256</td>\n",
       "      <td>0.51595</td>\n",
       "    </tr>\n",
       "    <tr>\n",
       "      <th>3</th>\n",
       "      <td>-0.93432</td>\n",
       "      <td>1.146128</td>\n",
       "      <td>-0.232627</td>\n",
       "      <td>-0.077899</td>\n",
       "      <td>-0.125305</td>\n",
       "      <td>-0.299078</td>\n",
       "      <td>1.942943</td>\n",
       "      <td>-0.031830</td>\n",
       "      <td>-0.060664</td>\n",
       "      <td>-0.183303</td>\n",
       "      <td>...</td>\n",
       "      <td>-0.776970</td>\n",
       "      <td>-0.691351</td>\n",
       "      <td>-1.314241</td>\n",
       "      <td>0.547787</td>\n",
       "      <td>-0.555824</td>\n",
       "      <td>-1.700500</td>\n",
       "      <td>-1.043291</td>\n",
       "      <td>0.168048</td>\n",
       "      <td>-0.426256</td>\n",
       "      <td>0.51595</td>\n",
       "    </tr>\n",
       "    <tr>\n",
       "      <th>4</th>\n",
       "      <td>-0.93432</td>\n",
       "      <td>-1.467069</td>\n",
       "      <td>-1.510088</td>\n",
       "      <td>-0.475044</td>\n",
       "      <td>-0.125305</td>\n",
       "      <td>-0.299078</td>\n",
       "      <td>0.224645</td>\n",
       "      <td>-0.472589</td>\n",
       "      <td>-0.060664</td>\n",
       "      <td>-0.183303</td>\n",
       "      <td>...</td>\n",
       "      <td>-1.697940</td>\n",
       "      <td>-1.764582</td>\n",
       "      <td>0.952143</td>\n",
       "      <td>0.547787</td>\n",
       "      <td>-1.610367</td>\n",
       "      <td>-0.990062</td>\n",
       "      <td>-1.043291</td>\n",
       "      <td>0.168048</td>\n",
       "      <td>-0.426256</td>\n",
       "      <td>0.51595</td>\n",
       "    </tr>\n",
       "  </tbody>\n",
       "</table>\n",
       "<p>5 rows × 315 columns</p>\n",
       "</div>"
      ]
     },
     "metadata": {},
     "execution_count": 62
    }
   ],
   "metadata": {}
  },
  {
   "cell_type": "code",
   "execution_count": 63,
   "source": [
    "print('General Population Dataset Shape: ', azdias.shape)\r\n",
    "print('Customer Dataset Shape: ', customers.shape)"
   ],
   "outputs": [
    {
     "output_type": "stream",
     "name": "stdout",
     "text": [
      "General Population Dataset Shape:  (737206, 315)\n",
      "Customer Dataset Shape:  (134241, 315)\n"
     ]
    }
   ],
   "metadata": {}
  },
  {
   "cell_type": "markdown",
   "source": [
    " "
   ],
   "metadata": {}
  },
  {
   "cell_type": "markdown",
   "source": [
    " "
   ],
   "metadata": {}
  },
  {
   "cell_type": "markdown",
   "source": [
    "## Part 1: Customer Segmentation Report\n",
    "\n",
    "The main bulk of your analysis will come in this part of the project. Here, you should use unsupervised learning techniques to describe the relationship between the demographics of the company's existing customers and the general population of Germany. By the end of this part, you should be able to describe parts of the general population that are more likely to be part of the mail-order company's main customer base, and which parts of the general population are less so."
   ],
   "metadata": {}
  },
  {
   "cell_type": "markdown",
   "source": [
    "# 1.1. Dimensionality Reduction"
   ],
   "metadata": {}
  },
  {
   "cell_type": "markdown",
   "source": [
    "On our scaled data, we are now ready to apply dimensionality reduction techniques. \n",
    "\n",
    "When the number of features/variables is very large relative to the number of observations in your dataset, certain algorithms struggle to train effective models. This is called the “Curse of Dimensionality”. To get rid of this curse, we apply the Dimensionality Reduction technique. In this technique, the aim is to determine the columns that will not affect the result, to reduce the calculation cost and to increase the calculation speed.\n",
    "\n",
    "We will use the PCA algorithm, which is the most widely used algorithm for Dimensionality Reduction."
   ],
   "metadata": {}
  },
  {
   "cell_type": "code",
   "execution_count": 64,
   "source": [
    "def pca_without_component(df):\r\n",
    "    '''\r\n",
    "    INPUT:\r\n",
    "    df - Pandas Dataframe\r\n",
    "    \r\n",
    "    OUTPUT:\r\n",
    "    df_pca - Pandas Dataframe\r\n",
    "    pca - trained model\r\n",
    "    \r\n",
    "    DESC: Trains the PCA model with the input dataset.\r\n",
    "    '''\r\n",
    "    pca = PCA()\r\n",
    "    df_pca = pca.fit_transform(df)\r\n",
    "    \r\n",
    "    return df_pca, pca"
   ],
   "outputs": [],
   "metadata": {}
  },
  {
   "cell_type": "code",
   "execution_count": 65,
   "source": [
    "azdias_pca, pca = pca_without_component(azdias)"
   ],
   "outputs": [],
   "metadata": {}
  },
  {
   "cell_type": "code",
   "execution_count": 66,
   "source": [
    "def find_pca_component_number(pca):\r\n",
    "    '''\r\n",
    "    INPUT:\r\n",
    "    pca - trained model\r\n",
    "    \r\n",
    "    OUTPUT:\r\n",
    "    No Output\r\n",
    "    \r\n",
    "    DESC: Finds the number of components by visualizing the trained PCA model.\r\n",
    "    '''\r\n",
    "    plt.rcParams[\"figure.figsize\"] = (20,8)\r\n",
    "\r\n",
    "    fig, ax = plt.subplots()\r\n",
    "    xi = np.arange(len(pca.explained_variance_ratio_))\r\n",
    "    y = np.cumsum(pca.explained_variance_ratio_)\r\n",
    "\r\n",
    "    plt.ylim(0.0,1.1)\r\n",
    "    plt.plot(xi, y, marker='o', linestyle='--', color='b')\r\n",
    "\r\n",
    "    plt.xlabel('Number of Components')\r\n",
    "    plt.ylabel('Cumulative variance (%)')\r\n",
    "    plt.title('The number of components needed to explain variance')\r\n",
    "\r\n",
    "    i = np.argmax(y > 0.95)\r\n",
    "\r\n",
    "    plt.axhline(y=0.95, color='r', linestyle='-')\r\n",
    "    plt.text(0.5, 0.85, 'Number of components we need: '+ str(i), color = 'red', fontsize=13)\r\n",
    "\r\n",
    "    ax.grid(axis='x')\r\n",
    "    plt.show()\r\n",
    "    \r\n",
    "    return i\r\n",
    "    "
   ],
   "outputs": [],
   "metadata": {}
  },
  {
   "cell_type": "code",
   "execution_count": 67,
   "source": [
    "component_number = find_pca_component_number(pca)"
   ],
   "outputs": [
    {
     "output_type": "display_data",
     "data": {
      "text/plain": [
       "<Figure size 1440x576 with 1 Axes>"
      ],
      "image/png": "[encoded data removed]"
     },
     "metadata": {
      "needs_background": "light"
     }
    }
   ],
   "metadata": {}
  },
  {
   "cell_type": "code",
   "execution_count": 68,
   "source": [
    "def pca_with_component(df, component):\r\n",
    "    '''\r\n",
    "    INPUT:\r\n",
    "    df - Pandas DataFrame\r\n",
    "    component - int\r\n",
    "    \r\n",
    "    OUTPUT:\r\n",
    "    df_pca - Pandas DataFrame\r\n",
    "    pca - trained model\r\n",
    "    \r\n",
    "    DESC: Trains the PCA model with the input dataset and the specified number of components.\r\n",
    "    '''\r\n",
    "    pca = PCA(component)\r\n",
    "    df_pca = pca.fit_transform(df)\r\n",
    "    \r\n",
    "    return df_pca, pca"
   ],
   "outputs": [],
   "metadata": {}
  },
  {
   "cell_type": "code",
   "execution_count": 69,
   "source": [
    "azdias_pca, pca  = pca_with_component(azdias,component_number)\r\n",
    "customers_pca = pca.transform(customers)"
   ],
   "outputs": [],
   "metadata": {}
  },
  {
   "cell_type": "code",
   "execution_count": 70,
   "source": [
    "def pca_interpretation(df, pca, i):\r\n",
    "    '''\r\n",
    "    INPUT:\r\n",
    "    df - Pandas DataFrame\r\n",
    "    pca - trained model\r\n",
    "    i - int\r\n",
    "    \r\n",
    "    OUTPUT:\r\n",
    "    No Output\r\n",
    "    \r\n",
    "    DESC: Creates graph to discuss desired Principial Component.\r\n",
    "    '''\r\n",
    "    feature_weights = dict(zip(df.columns.values, pca.components_[i]))\r\n",
    "    sorted_feature_weights = sorted(feature_weights.items(), key=operator.itemgetter(1), reverse=True)\r\n",
    "    \r\n",
    "    features = pd.DataFrame(sorted_feature_weights).iloc[np.r_[:3,  -3, -2, -1],:]\r\n",
    "    feature_names = features[0].values\r\n",
    "    weights = features[1].values\r\n",
    "\r\n",
    "    sns.set(style='whitegrid')\r\n",
    "    sns.set_color_codes('bright')\r\n",
    "    fig = plt.figure(figsize=(10, 5))\r\n",
    "    sns.set()\r\n",
    "\r\n",
    "    ax = sns.barplot(x=weights, y=feature_names)\r\n",
    "    ax.set(xlabel=\"Weight\", ylabel=\"Feature\", title=f'{i+1}.Principial Component')\r\n",
    "    \r\n",
    "    "
   ],
   "outputs": [],
   "metadata": {}
  },
  {
   "cell_type": "code",
   "execution_count": 71,
   "source": [
    "pca_interpretation(azdias, pca, 0)"
   ],
   "outputs": [
    {
     "output_type": "display_data",
     "data": {
      "text/plain": [
       "<Figure size 720x360 with 1 Axes>"
      ],
      "image/png": "[encoded data removed]"
     },
     "metadata": {}
    }
   ],
   "metadata": {}
  },
  {
   "cell_type": "markdown",
   "source": [
    "Highest:\n",
    "\n",
    "* PLZ8_ANTG3 is number of 6-10 family houses in the PLZ8 (3 = high share)\n",
    "* KBA13_ANTG3 is number of 6-10 family houses in the cell (3 = high share of 6-10 family homes)\n",
    "* KBA13_ANTG4 is number of >10 family houses in the cell (2 = high share of >10 family homes)\n",
    "\n",
    "Lowest:\n",
    "\n",
    "* KBA13_ANTG1 is number of 1-2 family houses in the cell (4 = very high share of 1-2 family homes)\n",
    "* PLZ8_ANTG1 is number of 1-2 family houses in the PLZ8 (1 = very high)\n",
    "* MOBI_REGIO is mobility patterns (1 = very high)\n",
    "\n",
    "**1.Principial Component is an indicator of the number of share family in the house.**"
   ],
   "metadata": {}
  },
  {
   "cell_type": "code",
   "execution_count": 72,
   "source": [
    "pca_interpretation(azdias, pca, 1)"
   ],
   "outputs": [
    {
     "output_type": "display_data",
     "data": {
      "text/plain": [
       "<Figure size 720x360 with 1 Axes>"
      ],
      "image/png": "[encoded data removed]"
     },
     "metadata": {}
    }
   ],
   "metadata": {}
  },
  {
   "cell_type": "markdown",
   "source": [
    "Highest:\r\n",
    "\r\n",
    "* KBA13_HERST_BMW_BENZ is share of BMW & Mercedes Benz within the PLZ8 (5 = very high)\r\n",
    "* KBA13_MERCEDES is share of MERCEDES within the PLZ8 (5 = very high)\r\n",
    "* KBA13_SEG_OBEREMITTELKLASSE is share of upper middle class cars and upper class cars (BMW5er, BMW7er etc.) (5 = very high)\r\n",
    "\r\n",
    "Lowest:\r\n",
    "\r\n",
    "* KBA13_SEG_KLEINWAGEN is share of small and very small cars (Ford Fiesta, Ford Ka etc.) in the PLZ8 (5 = very high)\r\n",
    "* KBA13_KMH_140_210 is share of cars with max speed between 140 and 210 km/h within the PLZ8 (5 = very high)\r\n",
    "* KBA13_SITZE_5 is number of cars with 5 seats in the PLZ8 (5 = very high)\r\n",
    "\r\n",
    "**2.Principial Component is obviously an indicator of Cars related properties.**"
   ],
   "metadata": {}
  },
  {
   "cell_type": "code",
   "execution_count": 73,
   "source": [
    "pca_interpretation(azdias, pca, 2)"
   ],
   "outputs": [
    {
     "output_type": "display_data",
     "data": {
      "text/plain": [
       "<Figure size 720x360 with 1 Axes>"
      ],
      "image/png": "[encoded data removed]"
     },
     "metadata": {}
    }
   ],
   "metadata": {}
  },
  {
   "cell_type": "markdown",
   "source": [
    "Highest:\r\n",
    "\r\n",
    "* PRAEGENDE_JUGENDJAHRE is dominating movement in the person's youth (avantgarde or mainstream)\r\n",
    "* CJT_TYP_1 is Customer journey typology of the Advertising and Consumptionminimalist type\r\n",
    "* CJT_TYP_2 is Customer journey typology of the Advertising and Consumptiontraditionalist type\r\n",
    "\r\n",
    "Lowest:\r\n",
    "\r\n",
    "* CJT_TYP_4 is Customer journey typology of the Advertisinginterested Online-shopper type\r\n",
    "* CJT_TYP_5 is Customer journey typology of the Advertising and Cross-Channel-Enthusiast type\r\n",
    "* FINANZ_VORSORGER is financial typology of the be prepared (5 = very low)\r\n",
    "\r\n",
    "**3.Principal Component provides information about the shopping type and generation information.**"
   ],
   "metadata": {}
  },
  {
   "cell_type": "markdown",
   "source": [
    "# 1.2. Customer Segmentation with K-Means Algorithm"
   ],
   "metadata": {}
  },
  {
   "cell_type": "markdown",
   "source": [
    "K-means is a centroid-based algorithm, or a distance-based algorithm, where we calculate the distances to assign a point to a cluster. In K-Means, each cluster is associated with a centroid. \n",
    "\n",
    "The main objective of the K-Means algorithm is to minimize the sum of distances between the points and their respective cluster centroid."
   ],
   "metadata": {}
  },
  {
   "cell_type": "code",
   "execution_count": 74,
   "source": [
    "wcss = []\r\n",
    "for i in range(2,20):\r\n",
    "    kmeans = KMeans(n_clusters = i, init = 'k-means++', random_state = 42)\r\n",
    "    kmeans.fit(azdias_pca)\r\n",
    "    wcss.append(kmeans.inertia_)"
   ],
   "outputs": [],
   "metadata": {}
  },
  {
   "cell_type": "code",
   "execution_count": 75,
   "source": [
    "plt.plot(range(2,20), wcss)\r\n",
    "plt.title(\"elbow method\")\r\n",
    "plt.xlabel(\"no of clusters\")\r\n",
    "plt.ylabel(\"wcss\")\r\n",
    "plt.show()"
   ],
   "outputs": [
    {
     "output_type": "display_data",
     "data": {
      "text/plain": [
       "<Figure size 1440x576 with 1 Axes>"
      ],
      "image/png": "[encoded data removed]"
     },
     "metadata": {}
    }
   ],
   "metadata": {}
  },
  {
   "cell_type": "code",
   "execution_count": 76,
   "source": [
    "kmeans = KMeans(n_init=10, init=\"k-means++\", n_clusters=7, max_iter=300, random_state=0)\r\n",
    "azdias_pred = kmeans.fit_predict(azdias_pca)\r\n",
    "customers_pred = kmeans.predict(customers_pca)"
   ],
   "outputs": [],
   "metadata": {}
  },
  {
   "cell_type": "code",
   "execution_count": 77,
   "source": [
    "labels = ['Cluster 1', 'Cluster 2', 'Cluster 3', 'Cluster 4', 'Cluster 5', 'Cluster 6', 'Cluster 7']\r\n",
    "sizes = pd.DataFrame(azdias_pred)[0].value_counts()\r\n",
    "explode = (0, 0, 0, 0, 0, 0, 0)\r\n",
    "\r\n",
    "fig1, ax1 = plt.subplots()\r\n",
    "ax1.pie(sizes, explode=explode, labels=labels, autopct='%1.1f%%',\r\n",
    "        shadow=True, startangle=90)\r\n",
    "ax1.axis('equal')\r\n",
    "\r\n",
    "plt.show()"
   ],
   "outputs": [
    {
     "output_type": "display_data",
     "data": {
      "text/plain": [
       "<Figure size 1440x576 with 1 Axes>"
      ],
      "image/png": "[encoded data removed]"
     },
     "metadata": {}
    }
   ],
   "metadata": {}
  },
  {
   "cell_type": "code",
   "execution_count": 78,
   "source": [
    "azdias_preds = pd.DataFrame({'LNR': LNR_azdias, 'Clusters': azdias_pred})\r\n",
    "customers_preds = pd.DataFrame({'LNR': LNR_customers, 'Clusters': customers_pred})"
   ],
   "outputs": [],
   "metadata": {}
  },
  {
   "cell_type": "code",
   "execution_count": 79,
   "source": [
    "general_proportions = Counter(azdias_preds['Clusters'])\r\n",
    "customers_proportions = Counter(customers_preds['Clusters'])"
   ],
   "outputs": [],
   "metadata": {}
  },
  {
   "cell_type": "code",
   "execution_count": 80,
   "source": [
    "for k, v in general_proportions.items():\r\n",
    "    general_proportions[k] = v / len(azdias)\r\n",
    "    \r\n",
    "for k, v in customers_proportions.items():\r\n",
    "    customers_proportions[k] = v / len(customers)"
   ],
   "outputs": [],
   "metadata": {}
  },
  {
   "cell_type": "code",
   "execution_count": 81,
   "source": [
    "df_props = pd.DataFrame(columns=[\"Dataset\", \"Cluster\", \"Proportions\", 'Difference'])\r\n",
    "for k, v in customers_proportions.items():\r\n",
    "    df_props = df_props.append({\"Dataset\" : \"customer\", \"Cluster\": k, \"Proportions\": v}, ignore_index=True)\r\n",
    "\r\n",
    "for k, v in general_proportions.items():\r\n",
    "    df_props = df_props.append({\"Dataset\" : \"general\", \"Cluster\": k, \"Proportions\": v}, ignore_index=True)"
   ],
   "outputs": [],
   "metadata": {}
  },
  {
   "cell_type": "code",
   "execution_count": 82,
   "source": [
    "fig = plt.figure(figsize=(15,7))\r\n",
    "sns.barplot(x=\"Cluster\", y=\"Proportions\", hue=\"Dataset\", data=df_props)"
   ],
   "outputs": [
    {
     "output_type": "execute_result",
     "data": {
      "text/plain": [
       "<AxesSubplot:xlabel='Cluster', ylabel='Proportions'>"
      ]
     },
     "metadata": {},
     "execution_count": 82
    },
    {
     "output_type": "display_data",
     "data": {
      "text/plain": [
       "<Figure size 1080x504 with 1 Axes>"
      ],
      "image/png": "[encoded data removed]"
     },
     "metadata": {}
    }
   ],
   "metadata": {}
  },
  {
   "cell_type": "markdown",
   "source": [
    "As seen in the graph, clusters 0, 1 and 2 are under-represented clusters. In other words, they are the clusters with the least potential to become customers in the future. Clusters 3, 4, 5, and 6 are multi-representational sets. These are the clusters with the highest potential to become customers in the future. We will examine the components of the clusters that have the potential to become the most customers in the future."
   ],
   "metadata": {}
  },
  {
   "cell_type": "markdown",
   "source": [
    "1. Principial Component is an indicator of the number of share family in the house.\n",
    "2. Principial Component is obviously an indicator of Cars related properties. "
   ],
   "metadata": {}
  },
  {
   "cell_type": "code",
   "execution_count": 83,
   "source": [
    "kmeans.cluster_centers_[3][:3]"
   ],
   "outputs": [
    {
     "output_type": "execute_result",
     "data": {
      "text/plain": [
       "array([ 3.39913675,  0.24727438, -3.84673168])"
      ]
     },
     "metadata": {},
     "execution_count": 83
    }
   ],
   "metadata": {}
  },
  {
   "cell_type": "markdown",
   "source": [
    "According to the information we obtained from the first 2 components, the 3rd cluster represents a segment that has a high number of family houses and gets on luxury vehicles. Also, according to the information we obtained from the 3rd Component, we can see that there is an elderly group."
   ],
   "metadata": {}
  },
  {
   "cell_type": "code",
   "execution_count": 84,
   "source": [
    "kmeans.cluster_centers_[5][:3]"
   ],
   "outputs": [
    {
     "output_type": "execute_result",
     "data": {
      "text/plain": [
       "array([-5.50107478, -0.98508396,  3.804263  ])"
      ]
     },
     "metadata": {},
     "execution_count": 84
    }
   ],
   "metadata": {}
  },
  {
   "cell_type": "markdown",
   "source": [
    "According to the information we obtained from the first 2 components, the 5th cluster represents a segment where the number of family residences is low and who rides vehicles in the lower segment. Also, when we look at the 3rd Component, we can see that it is mostly a young cluster and they are not financially prepared."
   ],
   "metadata": {}
  },
  {
   "cell_type": "code",
   "execution_count": 85,
   "source": [
    "kmeans.cluster_centers_[4][:3]"
   ],
   "outputs": [
    {
     "output_type": "execute_result",
     "data": {
      "text/plain": [
       "array([-2.09538667,  6.75642474, -1.50105909])"
      ]
     },
     "metadata": {},
     "execution_count": 85
    }
   ],
   "metadata": {}
  },
  {
   "cell_type": "markdown",
   "source": [
    "According to the information we obtained from the first 2 components, the 4th cluster represents a segment where the number of family residences is low, but who rides luxury vehicles. Also, when we look at the 3rd Component, we can see that it represents a relatively middle level segment."
   ],
   "metadata": {}
  },
  {
   "cell_type": "markdown",
   "source": [
    "## Part 2: Supervised Learning Model\n",
    "\n",
    "Now that you've found which parts of the population are more likely to be customers of the mail-order company, it's time to build a prediction model. Each of the rows in the \"MAILOUT\" data files represents an individual that was targeted for a mailout campaign. Ideally, we should be able to use the demographic information from each individual to decide whether or not it will be worth it to include that person in the campaign.\n",
    "\n",
    "The \"MAILOUT\" data has been split into two approximately equal parts, each with almost 43 000 data rows. In this part, you can verify your model with the \"TRAIN\" partition, which includes a column, \"RESPONSE\", that states whether or not a person became a customer of the company following the campaign. In the next part, you'll need to create predictions on the \"TEST\" partition, where the \"RESPONSE\" column has been withheld."
   ],
   "metadata": {}
  },
  {
   "cell_type": "code",
   "execution_count": 86,
   "source": [
    "mailout_train = pd.read_csv('Udacity_MAILOUT_052018_TRAIN.csv', sep=';')"
   ],
   "outputs": [
    {
     "output_type": "stream",
     "name": "stderr",
     "text": [
      "c:\\Users\\user\\env\\matrixenv\\lib\\site-packages\\IPython\\core\\interactiveshell.py:3441: DtypeWarning: Columns (18,19) have mixed types.Specify dtype option on import or set low_memory=False.\n",
      "  exec(code_obj, self.user_global_ns, self.user_ns)\n"
     ]
    }
   ],
   "metadata": {}
  },
  {
   "cell_type": "code",
   "execution_count": 87,
   "source": [
    "mailout_train.shape"
   ],
   "outputs": [
    {
     "output_type": "execute_result",
     "data": {
      "text/plain": [
       "(42962, 367)"
      ]
     },
     "metadata": {},
     "execution_count": 87
    }
   ],
   "metadata": {}
  },
  {
   "cell_type": "code",
   "execution_count": 88,
   "source": [
    "mailout_train.head()"
   ],
   "outputs": [
    {
     "output_type": "execute_result",
     "data": {
      "text/plain": [
       "    LNR  AGER_TYP  AKT_DAT_KL  ALTER_HH  ALTER_KIND1  ALTER_KIND2  \\\n",
       "0  1763         2         1.0       8.0          NaN          NaN   \n",
       "1  1771         1         4.0      13.0          NaN          NaN   \n",
       "2  1776         1         1.0       9.0          NaN          NaN   \n",
       "3  1460         2         1.0       6.0          NaN          NaN   \n",
       "4  1783         2         1.0       9.0          NaN          NaN   \n",
       "\n",
       "   ALTER_KIND3  ALTER_KIND4  ALTERSKATEGORIE_FEIN  ANZ_HAUSHALTE_AKTIV  ...  \\\n",
       "0          NaN          NaN                   8.0                 15.0  ...   \n",
       "1          NaN          NaN                  13.0                  1.0  ...   \n",
       "2          NaN          NaN                   7.0                  0.0  ...   \n",
       "3          NaN          NaN                   6.0                  4.0  ...   \n",
       "4          NaN          NaN                   9.0                 53.0  ...   \n",
       "\n",
       "   VK_DHT4A  VK_DISTANZ  VK_ZG11  W_KEIT_KIND_HH  WOHNDAUER_2008  WOHNLAGE  \\\n",
       "0       5.0         2.0      1.0             6.0             9.0       3.0   \n",
       "1       1.0         2.0      1.0             4.0             9.0       7.0   \n",
       "2       6.0         4.0      2.0             NaN             9.0       2.0   \n",
       "3       8.0        11.0     11.0             6.0             9.0       1.0   \n",
       "4       2.0         2.0      1.0             6.0             9.0       3.0   \n",
       "\n",
       "   ZABEOTYP RESPONSE ANREDE_KZ ALTERSKATEGORIE_GROB  \n",
       "0         3        0         2                    4  \n",
       "1         1        0         2                    3  \n",
       "2         3        0         1                    4  \n",
       "3         3        0         2                    4  \n",
       "4         3        0         1                    3  \n",
       "\n",
       "[5 rows x 367 columns]"
      ],
      "text/html": [
       "<div>\n",
       "<style scoped>\n",
       "    .dataframe tbody tr th:only-of-type {\n",
       "        vertical-align: middle;\n",
       "    }\n",
       "\n",
       "    .dataframe tbody tr th {\n",
       "        vertical-align: top;\n",
       "    }\n",
       "\n",
       "    .dataframe thead th {\n",
       "        text-align: right;\n",
       "    }\n",
       "</style>\n",
       "<table border=\"1\" class=\"dataframe\">\n",
       "  <thead>\n",
       "    <tr style=\"text-align: right;\">\n",
       "      <th></th>\n",
       "      <th>LNR</th>\n",
       "      <th>AGER_TYP</th>\n",
       "      <th>AKT_DAT_KL</th>\n",
       "      <th>ALTER_HH</th>\n",
       "      <th>ALTER_KIND1</th>\n",
       "      <th>ALTER_KIND2</th>\n",
       "      <th>ALTER_KIND3</th>\n",
       "      <th>ALTER_KIND4</th>\n",
       "      <th>ALTERSKATEGORIE_FEIN</th>\n",
       "      <th>ANZ_HAUSHALTE_AKTIV</th>\n",
       "      <th>...</th>\n",
       "      <th>VK_DHT4A</th>\n",
       "      <th>VK_DISTANZ</th>\n",
       "      <th>VK_ZG11</th>\n",
       "      <th>W_KEIT_KIND_HH</th>\n",
       "      <th>WOHNDAUER_2008</th>\n",
       "      <th>WOHNLAGE</th>\n",
       "      <th>ZABEOTYP</th>\n",
       "      <th>RESPONSE</th>\n",
       "      <th>ANREDE_KZ</th>\n",
       "      <th>ALTERSKATEGORIE_GROB</th>\n",
       "    </tr>\n",
       "  </thead>\n",
       "  <tbody>\n",
       "    <tr>\n",
       "      <th>0</th>\n",
       "      <td>1763</td>\n",
       "      <td>2</td>\n",
       "      <td>1.0</td>\n",
       "      <td>8.0</td>\n",
       "      <td>NaN</td>\n",
       "      <td>NaN</td>\n",
       "      <td>NaN</td>\n",
       "      <td>NaN</td>\n",
       "      <td>8.0</td>\n",
       "      <td>15.0</td>\n",
       "      <td>...</td>\n",
       "      <td>5.0</td>\n",
       "      <td>2.0</td>\n",
       "      <td>1.0</td>\n",
       "      <td>6.0</td>\n",
       "      <td>9.0</td>\n",
       "      <td>3.0</td>\n",
       "      <td>3</td>\n",
       "      <td>0</td>\n",
       "      <td>2</td>\n",
       "      <td>4</td>\n",
       "    </tr>\n",
       "    <tr>\n",
       "      <th>1</th>\n",
       "      <td>1771</td>\n",
       "      <td>1</td>\n",
       "      <td>4.0</td>\n",
       "      <td>13.0</td>\n",
       "      <td>NaN</td>\n",
       "      <td>NaN</td>\n",
       "      <td>NaN</td>\n",
       "      <td>NaN</td>\n",
       "      <td>13.0</td>\n",
       "      <td>1.0</td>\n",
       "      <td>...</td>\n",
       "      <td>1.0</td>\n",
       "      <td>2.0</td>\n",
       "      <td>1.0</td>\n",
       "      <td>4.0</td>\n",
       "      <td>9.0</td>\n",
       "      <td>7.0</td>\n",
       "      <td>1</td>\n",
       "      <td>0</td>\n",
       "      <td>2</td>\n",
       "      <td>3</td>\n",
       "    </tr>\n",
       "    <tr>\n",
       "      <th>2</th>\n",
       "      <td>1776</td>\n",
       "      <td>1</td>\n",
       "      <td>1.0</td>\n",
       "      <td>9.0</td>\n",
       "      <td>NaN</td>\n",
       "      <td>NaN</td>\n",
       "      <td>NaN</td>\n",
       "      <td>NaN</td>\n",
       "      <td>7.0</td>\n",
       "      <td>0.0</td>\n",
       "      <td>...</td>\n",
       "      <td>6.0</td>\n",
       "      <td>4.0</td>\n",
       "      <td>2.0</td>\n",
       "      <td>NaN</td>\n",
       "      <td>9.0</td>\n",
       "      <td>2.0</td>\n",
       "      <td>3</td>\n",
       "      <td>0</td>\n",
       "      <td>1</td>\n",
       "      <td>4</td>\n",
       "    </tr>\n",
       "    <tr>\n",
       "      <th>3</th>\n",
       "      <td>1460</td>\n",
       "      <td>2</td>\n",
       "      <td>1.0</td>\n",
       "      <td>6.0</td>\n",
       "      <td>NaN</td>\n",
       "      <td>NaN</td>\n",
       "      <td>NaN</td>\n",
       "      <td>NaN</td>\n",
       "      <td>6.0</td>\n",
       "      <td>4.0</td>\n",
       "      <td>...</td>\n",
       "      <td>8.0</td>\n",
       "      <td>11.0</td>\n",
       "      <td>11.0</td>\n",
       "      <td>6.0</td>\n",
       "      <td>9.0</td>\n",
       "      <td>1.0</td>\n",
       "      <td>3</td>\n",
       "      <td>0</td>\n",
       "      <td>2</td>\n",
       "      <td>4</td>\n",
       "    </tr>\n",
       "    <tr>\n",
       "      <th>4</th>\n",
       "      <td>1783</td>\n",
       "      <td>2</td>\n",
       "      <td>1.0</td>\n",
       "      <td>9.0</td>\n",
       "      <td>NaN</td>\n",
       "      <td>NaN</td>\n",
       "      <td>NaN</td>\n",
       "      <td>NaN</td>\n",
       "      <td>9.0</td>\n",
       "      <td>53.0</td>\n",
       "      <td>...</td>\n",
       "      <td>2.0</td>\n",
       "      <td>2.0</td>\n",
       "      <td>1.0</td>\n",
       "      <td>6.0</td>\n",
       "      <td>9.0</td>\n",
       "      <td>3.0</td>\n",
       "      <td>3</td>\n",
       "      <td>0</td>\n",
       "      <td>1</td>\n",
       "      <td>3</td>\n",
       "    </tr>\n",
       "  </tbody>\n",
       "</table>\n",
       "<p>5 rows × 367 columns</p>\n",
       "</div>"
      ]
     },
     "metadata": {},
     "execution_count": 88
    }
   ],
   "metadata": {}
  },
  {
   "cell_type": "code",
   "execution_count": 89,
   "source": [
    "pie, ax = plt.subplots(figsize=[8,8])\r\n",
    "mailout_train.RESPONSE.value_counts().plot.pie(autopct=\"%.1f%%\")\r\n",
    "plt.title(\"Response Value Count\", fontsize=14)"
   ],
   "outputs": [
    {
     "output_type": "execute_result",
     "data": {
      "text/plain": [
       "Text(0.5, 1.0, 'Response Value Count')"
      ]
     },
     "metadata": {},
     "execution_count": 89
    },
    {
     "output_type": "display_data",
     "data": {
      "text/plain": [
       "<Figure size 576x576 with 1 Axes>"
      ],
      "image/png": "[encoded data removed]"
     },
     "metadata": {}
    }
   ],
   "metadata": {}
  },
  {
   "cell_type": "markdown",
   "source": [
    "## 2.1. Evaluation Metric"
   ],
   "metadata": {}
  },
  {
   "cell_type": "markdown",
   "source": [
    "There are standard metrics that are widely used for evaluating classification predictive models, such as classification accuracy or classification error.\n",
    "\n",
    "Standard metrics work well on most problems, which is why they are widely adopted. But all metrics make assumptions about the problem or about what is important in the problem. Therefore an evaluation metric must be chosen that best captures what you or your project stakeholders believe is important about the model or predictions, which makes choosing model evaluation metrics challenging.\n",
    "\n",
    "This challenge is made even more difficult when there is a skew in the class distribution. The reason for this is that many of the standard metrics become unreliable or even misleading when classes are imbalanced, or severely imbalanced, such as 1:100 or 1:1000 ratio between a minority and majority class, like us."
   ],
   "metadata": {}
  },
  {
   "cell_type": "markdown",
   "source": [
    "AUC - ROC curve is a performance measurement for the classification problems at various threshold settings. ROC is a probability curve and AUC represents the degree or measure of separability. It tells how much the model is capable of distinguishing between classes. Higher the AUC, the better the model is at predicting 0 classes as 0 and 1 classes as 1. By analogy, the Higher the AUC, the better the model is at distinguishing between patients with the disease and no disease."
   ],
   "metadata": {}
  },
  {
   "cell_type": "markdown",
   "source": [
    "## 2.2. Clean Data"
   ],
   "metadata": {}
  },
  {
   "cell_type": "code",
   "execution_count": 90,
   "source": [
    "def process_data(df,df2):\r\n",
    "    '''\r\n",
    "    INPUT:\r\n",
    "    df - Pandas DataFrame\r\n",
    "    \r\n",
    "    OUTPUT:\r\n",
    "    df - Pandas DataFrame\r\n",
    "    LNR_df - List\r\n",
    "    RESPONSE_df - List\r\n",
    "    \r\n",
    "    DESC: Returns the cleaned training data, index column and response column.\r\n",
    "    '''\r\n",
    "    \r\n",
    "    LNR_df = df['LNR']\r\n",
    "    RESPONSE_df = df['RESPONSE']\r\n",
    "    df = df.drop(['LNR','RESPONSE'],axis=1)\r\n",
    "    \r\n",
    "    warning_cols = ['CAMEO_DEUG_2015','CAMEO_INTL_2015']\r\n",
    "    df['CAMEO_DEUG_2015'].replace('X', np.nan, inplace = True)\r\n",
    "    df['CAMEO_INTL_2015'].replace('XX', np.nan, inplace = True)\r\n",
    "\r\n",
    "    df = convert_object_to_float(df,warning_cols)\r\n",
    "\r\n",
    "    df = change_nan_value(df,missing_dict)\r\n",
    "\r\n",
    "    df['EINGEFUEGT_AM'] = pd.to_datetime(df['EINGEFUEGT_AM'])\r\n",
    "    df['EINGEFUEGT_AM_YEAR'] = df['EINGEFUEGT_AM'].dt.year\r\n",
    "\r\n",
    "    obj_col_df = get_object_column_name(df)\r\n",
    "    \r\n",
    "    df = create_dummy_df(df, obj_col_df, False)\r\n",
    "    \r\n",
    "    df_missing_columns = [col for col in df.columns if col not in df2.columns]\r\n",
    "\r\n",
    "    df = drop_column(df,df_missing_columns)\r\n",
    "    \r\n",
    "    df = fill_missing_value(df)\r\n",
    "    \r\n",
    "    return df, LNR_df, RESPONSE_df\r\n",
    "    "
   ],
   "outputs": [],
   "metadata": {}
  },
  {
   "cell_type": "code",
   "execution_count": 91,
   "source": [
    "clean_mailout_train,mailout_train_LNR,mailout_train_RESPONSE = process_data(mailout_train,azdias)"
   ],
   "outputs": [],
   "metadata": {}
  },
  {
   "cell_type": "code",
   "execution_count": 92,
   "source": [
    "clean_mailout_train.shape"
   ],
   "outputs": [
    {
     "output_type": "execute_result",
     "data": {
      "text/plain": [
       "(42962, 315)"
      ]
     },
     "metadata": {},
     "execution_count": 92
    }
   ],
   "metadata": {}
  },
  {
   "cell_type": "markdown",
   "source": [
    "## 2.3. Standartize Data"
   ],
   "metadata": {}
  },
  {
   "cell_type": "code",
   "execution_count": 93,
   "source": [
    "clean_mailout_train,scale = standartize_data(clean_mailout_train)"
   ],
   "outputs": [],
   "metadata": {}
  },
  {
   "cell_type": "markdown",
   "source": [
    "## 2.4. Split Data"
   ],
   "metadata": {}
  },
  {
   "cell_type": "code",
   "execution_count": 94,
   "source": [
    "X_train, X_val, y_train, y_val = train_test_split(clean_mailout_train, mailout_train_RESPONSE, stratify=mailout_train_RESPONSE, test_size=0.2, random_state=2)"
   ],
   "outputs": [],
   "metadata": {}
  },
  {
   "cell_type": "markdown",
   "source": [
    "## 2.5. Evaluate Models"
   ],
   "metadata": {}
  },
  {
   "cell_type": "code",
   "execution_count": 95,
   "source": [
    "def evaluate_based_model(model, X_train, y_train, X_test, y_test):\r\n",
    "    '''\r\n",
    "    INPUT:\r\n",
    "    model - Classifier Model\r\n",
    "    X_train - Pandas DataFrame\r\n",
    "    y_train - Pandas DataFrame\r\n",
    "    X_test - Pandas DataFrame\r\n",
    "    y_test - Pandas DataFrame\r\n",
    "    \r\n",
    "    OUTPUT:\r\n",
    "    roc_score - float \r\n",
    "    spend_time - float\r\n",
    "    \r\n",
    "    DESC: Returns the roc-auc score of the trained model.\r\n",
    "    '''\r\n",
    "    start = time.time()\r\n",
    "    model = model.fit(X_train, y_train)\r\n",
    "    \r\n",
    "    roc_score = roc_auc_score(y_test, model.predict_proba(X_test)[:,1])\r\n",
    "    \r\n",
    "    end = time.time()\r\n",
    "    spend_time = end - start\r\n",
    "    \r\n",
    "    return roc_score, spend_time"
   ],
   "outputs": [],
   "metadata": {}
  },
  {
   "cell_type": "code",
   "execution_count": 96,
   "source": [
    "based_models = [(\"GradientBoostingClassifier\", GradientBoostingClassifier(random_state=42)),\r\n",
    "                 (\"AdaBoostClassifier\", AdaBoostClassifier(random_state=42)),\r\n",
    "                 (\"LightGBMClissifier\",lgb.LGBMClassifier(random_state=42))]"
   ],
   "outputs": [],
   "metadata": {}
  },
  {
   "cell_type": "code",
   "execution_count": 97,
   "source": [
    "results = {\"MODEL\":[],\r\n",
    "          \"AUCROC_SCORE\":[],\r\n",
    "          \"SPEND_TIME\":[]}\r\n",
    "\r\n",
    "for name, model in based_models:\r\n",
    "    roc, time_ = evaluate_based_model(model, X_train, y_train, X_val, y_val)\r\n",
    "    results[\"MODEL\"].append(name)\r\n",
    "    results[\"AUCROC_SCORE\"].append(roc)\r\n",
    "    results[\"SPEND_TIME\"].append(time_)"
   ],
   "outputs": [],
   "metadata": {}
  },
  {
   "cell_type": "code",
   "execution_count": 98,
   "source": [
    "results = pd.DataFrame.from_dict(results, orient='index').transpose()"
   ],
   "outputs": [],
   "metadata": {}
  },
  {
   "cell_type": "code",
   "execution_count": 99,
   "source": [
    "plt.plot(results.AUCROC_SCORE, results.SPEND_TIME, 'o', color='black',label=results.MODEL)\r\n",
    "plt.text(results.AUCROC_SCORE[results.MODEL=='GradientBoostingClassifier'],\r\n",
    "         results.SPEND_TIME[results.MODEL=='GradientBoostingClassifier'],\"GBC\", color='red')\r\n",
    "plt.text(results.AUCROC_SCORE[results.MODEL=='AdaBoostClassifier'],\r\n",
    "         results.SPEND_TIME[results.MODEL=='AdaBoostClassifier'],\"ABC\", color='purple')\r\n",
    "plt.text(results.AUCROC_SCORE[results.MODEL=='LightGBMClissifier'],\r\n",
    "         results.SPEND_TIME[results.MODEL=='LightGBMClissifier'],\"LGB\", color='blue')"
   ],
   "outputs": [
    {
     "output_type": "execute_result",
     "data": {
      "text/plain": [
       "Text(2    0.695731\n",
       "Name: AUCROC_SCORE, dtype: object, 2    1.343219\n",
       "Name: SPEND_TIME, dtype: object, 'LGB')"
      ]
     },
     "metadata": {},
     "execution_count": 99
    },
    {
     "output_type": "display_data",
     "data": {
      "text/plain": [
       "<Figure size 1440x576 with 1 Axes>"
      ],
      "image/png": "[encoded data removed]"
     },
     "metadata": {}
    }
   ],
   "metadata": {}
  },
  {
   "cell_type": "markdown",
   "source": [
    "### 2.5.1. Gradient Boost"
   ],
   "metadata": {}
  },
  {
   "cell_type": "markdown",
   "source": [
    "We will now try to find the best parameters for the Gradient Boost model, which is the most successful in the basic models."
   ],
   "metadata": {}
  },
  {
   "cell_type": "code",
   "execution_count": 100,
   "source": [
    "GBC_classifier = GradientBoostingClassifier(random_state=42)\r\n",
    "cv_sets = ShuffleSplit(random_state = 4) # shuffling our data for cross-validation\r\n",
    "parameters = {'learning_rate':[0.01],\r\n",
    "             'n_estimators' : [50,100],\r\n",
    "             'max_depth':[5]}\r\n",
    "GBC_obj = GridSearchCV(GBC_classifier, \r\n",
    "                             parameters, \r\n",
    "                             scoring = \"roc_auc\", \r\n",
    "                             cv = cv_sets)\r\n",
    "GBC_fit = GBC_obj.fit(X_train, y_train)\r\n",
    "GBC_opt = GBC_fit.best_estimator_\r\n",
    "GBC_fit.best_params_"
   ],
   "outputs": [
    {
     "output_type": "execute_result",
     "data": {
      "text/plain": [
       "{'learning_rate': 0.01, 'max_depth': 5, 'n_estimators': 50}"
      ]
     },
     "metadata": {},
     "execution_count": 100
    }
   ],
   "metadata": {}
  },
  {
   "cell_type": "code",
   "execution_count": 101,
   "source": [
    "print(\"Best Score: \", GBC_fit.best_score_)\r\n",
    "print(\"Best Params: \", GBC_fit.best_params_)"
   ],
   "outputs": [
    {
     "output_type": "stream",
     "name": "stdout",
     "text": [
      "Best Score:  0.7662063493622548\n",
      "Best Params:  {'learning_rate': 0.01, 'max_depth': 5, 'n_estimators': 50}\n"
     ]
    }
   ],
   "metadata": {}
  },
  {
   "cell_type": "code",
   "execution_count": 102,
   "source": [
    "preds = GBC_opt.predict_proba(X_val)[:,1]\r\n",
    "\r\n",
    "print(\"ROC score on validation data: {:.4f}\".format(roc_auc_score(y_val, preds)))"
   ],
   "outputs": [
    {
     "output_type": "stream",
     "name": "stdout",
     "text": [
      "ROC score on validation data: 0.7542\n"
     ]
    }
   ],
   "metadata": {}
  },
  {
   "cell_type": "code",
   "execution_count": 103,
   "source": [
    "pd.Series(GBC_opt.feature_importances_, index=clean_mailout_train.columns).sort_values(ascending=False).head()"
   ],
   "outputs": [
    {
     "output_type": "execute_result",
     "data": {
      "text/plain": [
       "D19_SOZIALES          0.272137\n",
       "D19_KONSUMTYP_MAX     0.116622\n",
       "ANZ_KINDER            0.065752\n",
       "EINGEFUEGT_AM_YEAR    0.052066\n",
       "KBA13_ANZAHL_PKW      0.042441\n",
       "dtype: float64"
      ]
     },
     "metadata": {},
     "execution_count": 103
    }
   ],
   "metadata": {}
  },
  {
   "cell_type": "markdown",
   "source": [
    "## Part 3: Kaggle Competition\n",
    "\n",
    "Now that you've created a model to predict which individuals are most likely to respond to a mailout campaign, it's time to test that model in competition through Kaggle. If you click on the link [here](http://www.kaggle.com/t/21e6d45d4c574c7fa2d868f0e8c83140), you'll be taken to the competition page where, if you have a Kaggle account, you can enter.\n",
    "\n",
    "Your entry to the competition should be a CSV file with two columns. The first column should be a copy of \"LNR\", which acts as an ID number for each individual in the \"TEST\" partition. The second column, \"RESPONSE\", should be some measure of how likely each individual became a customer – this might not be a straightforward probability. As you should have found in Part 2, there is a large output class imbalance, where most individuals did not respond to the mailout. Thus, predicting individual classes and using accuracy does not seem to be an appropriate performance evaluation method. Instead, the competition will be using AUC to evaluate performance. The exact values of the \"RESPONSE\" column do not matter as much: only that the higher values try to capture as many of the actual customers as possible, early in the ROC curve sweep."
   ],
   "metadata": {}
  },
  {
   "cell_type": "code",
   "execution_count": 104,
   "source": [
    "mailout_test = pd.read_csv('Udacity_MAILOUT_052018_TEST.csv', sep=';')"
   ],
   "outputs": [
    {
     "output_type": "stream",
     "name": "stderr",
     "text": [
      "c:\\Users\\user\\env\\matrixenv\\lib\\site-packages\\IPython\\core\\interactiveshell.py:3441: DtypeWarning: Columns (18,19) have mixed types.Specify dtype option on import or set low_memory=False.\n",
      "  exec(code_obj, self.user_global_ns, self.user_ns)\n"
     ]
    }
   ],
   "metadata": {}
  },
  {
   "cell_type": "code",
   "execution_count": 105,
   "source": [
    "def process_data(df,df2):\r\n",
    "    '''\r\n",
    "    INPUT:\r\n",
    "    df - Pandas DataFrame\r\n",
    "    \r\n",
    "    OUTPUT:\r\n",
    "    df - Pandas DataFrame\r\n",
    "    LNR_df - List\r\n",
    "    \r\n",
    "    DESC:Returns the cleaned training data and index column.\r\n",
    "    '''\r\n",
    "    \r\n",
    "    LNR_df = df['LNR']\r\n",
    "    df = df.drop(['LNR'],axis=1)\r\n",
    "\r\n",
    "    warning_cols = ['CAMEO_DEUG_2015','CAMEO_INTL_2015']\r\n",
    "    df['CAMEO_DEUG_2015'].replace('X', np.nan, inplace = True)\r\n",
    "    df['CAMEO_INTL_2015'].replace('XX', np.nan, inplace = True)\r\n",
    "\r\n",
    "    df = convert_object_to_float(df,warning_cols)\r\n",
    "\r\n",
    "    df = change_nan_value(df,missing_dict)\r\n",
    "\r\n",
    "    df['EINGEFUEGT_AM'] = pd.to_datetime(df['EINGEFUEGT_AM'])\r\n",
    "    df['EINGEFUEGT_AM_YEAR'] = df['EINGEFUEGT_AM'].dt.year\r\n",
    "\r\n",
    "    obj_col_df = get_object_column_name(df)\r\n",
    "\r\n",
    "    df = create_dummy_df(df, obj_col_df, False)\r\n",
    "\r\n",
    "    df_missing_columns = [col for col in df.columns if col not in df2.columns]\r\n",
    "\r\n",
    "    df = drop_column(df,df_missing_columns)\r\n",
    "\r\n",
    "    df = fill_missing_value(df)\r\n",
    "\r\n",
    "    return df, LNR_df\r\n",
    "    "
   ],
   "outputs": [],
   "metadata": {}
  },
  {
   "cell_type": "markdown",
   "source": [
    "**NOTE: In this part, I encountered the problem of shape difference between the dataset that I trained the model with and the dataset that I will predict. When I researched the reason for this, I saw that I deleted 1 more column from the prediction set. When I noticed this and fixed it, I was able to do the guesswork.**"
   ],
   "metadata": {}
  },
  {
   "cell_type": "code",
   "execution_count": 106,
   "source": [
    "mailout_test,mailout_test_LNR = process_data(mailout_test, clean_mailout_train)\r\n",
    "mailout_test,scale = standartize_data(mailout_test)\r\n",
    "mailout_test = pd.DataFrame(mailout_test, columns = mailout_test.columns)"
   ],
   "outputs": [],
   "metadata": {}
  },
  {
   "cell_type": "code",
   "execution_count": 107,
   "source": [
    "GBC_opt.fit(clean_mailout_train, mailout_train_RESPONSE)\r\n",
    "preds_test_GBC = GBC_opt.predict_proba(mailout_test)[:,1]\r\n",
    "kaggle_GBC = pd.DataFrame(index=mailout_test_LNR, data=preds_test_GBC)\r\n",
    "kaggle_GBC.rename(columns={0: \"RESPONSE\"}, inplace=True)"
   ],
   "outputs": [],
   "metadata": {}
  },
  {
   "cell_type": "code",
   "execution_count": 108,
   "source": [
    "kaggle_GBC.head()"
   ],
   "outputs": [
    {
     "output_type": "execute_result",
     "data": {
      "text/plain": [
       "      RESPONSE\n",
       "LNR           \n",
       "1754  0.019810\n",
       "1770  0.019005\n",
       "1465  0.008554\n",
       "1470  0.008563\n",
       "1478  0.008699"
      ],
      "text/html": [
       "<div>\n",
       "<style scoped>\n",
       "    .dataframe tbody tr th:only-of-type {\n",
       "        vertical-align: middle;\n",
       "    }\n",
       "\n",
       "    .dataframe tbody tr th {\n",
       "        vertical-align: top;\n",
       "    }\n",
       "\n",
       "    .dataframe thead th {\n",
       "        text-align: right;\n",
       "    }\n",
       "</style>\n",
       "<table border=\"1\" class=\"dataframe\">\n",
       "  <thead>\n",
       "    <tr style=\"text-align: right;\">\n",
       "      <th></th>\n",
       "      <th>RESPONSE</th>\n",
       "    </tr>\n",
       "    <tr>\n",
       "      <th>LNR</th>\n",
       "      <th></th>\n",
       "    </tr>\n",
       "  </thead>\n",
       "  <tbody>\n",
       "    <tr>\n",
       "      <th>1754</th>\n",
       "      <td>0.019810</td>\n",
       "    </tr>\n",
       "    <tr>\n",
       "      <th>1770</th>\n",
       "      <td>0.019005</td>\n",
       "    </tr>\n",
       "    <tr>\n",
       "      <th>1465</th>\n",
       "      <td>0.008554</td>\n",
       "    </tr>\n",
       "    <tr>\n",
       "      <th>1470</th>\n",
       "      <td>0.008563</td>\n",
       "    </tr>\n",
       "    <tr>\n",
       "      <th>1478</th>\n",
       "      <td>0.008699</td>\n",
       "    </tr>\n",
       "  </tbody>\n",
       "</table>\n",
       "</div>"
      ]
     },
     "metadata": {},
     "execution_count": 108
    }
   ],
   "metadata": {}
  },
  {
   "cell_type": "code",
   "execution_count": 109,
   "source": [
    "kaggle_GBC.describe()"
   ],
   "outputs": [
    {
     "output_type": "execute_result",
     "data": {
      "text/plain": [
       "           RESPONSE\n",
       "count  42833.000000\n",
       "mean       0.012391\n",
       "std        0.006400\n",
       "min        0.007790\n",
       "25%        0.008481\n",
       "50%        0.009062\n",
       "75%        0.017442\n",
       "max        0.568304"
      ],
      "text/html": [
       "<div>\n",
       "<style scoped>\n",
       "    .dataframe tbody tr th:only-of-type {\n",
       "        vertical-align: middle;\n",
       "    }\n",
       "\n",
       "    .dataframe tbody tr th {\n",
       "        vertical-align: top;\n",
       "    }\n",
       "\n",
       "    .dataframe thead th {\n",
       "        text-align: right;\n",
       "    }\n",
       "</style>\n",
       "<table border=\"1\" class=\"dataframe\">\n",
       "  <thead>\n",
       "    <tr style=\"text-align: right;\">\n",
       "      <th></th>\n",
       "      <th>RESPONSE</th>\n",
       "    </tr>\n",
       "  </thead>\n",
       "  <tbody>\n",
       "    <tr>\n",
       "      <th>count</th>\n",
       "      <td>42833.000000</td>\n",
       "    </tr>\n",
       "    <tr>\n",
       "      <th>mean</th>\n",
       "      <td>0.012391</td>\n",
       "    </tr>\n",
       "    <tr>\n",
       "      <th>std</th>\n",
       "      <td>0.006400</td>\n",
       "    </tr>\n",
       "    <tr>\n",
       "      <th>min</th>\n",
       "      <td>0.007790</td>\n",
       "    </tr>\n",
       "    <tr>\n",
       "      <th>25%</th>\n",
       "      <td>0.008481</td>\n",
       "    </tr>\n",
       "    <tr>\n",
       "      <th>50%</th>\n",
       "      <td>0.009062</td>\n",
       "    </tr>\n",
       "    <tr>\n",
       "      <th>75%</th>\n",
       "      <td>0.017442</td>\n",
       "    </tr>\n",
       "    <tr>\n",
       "      <th>max</th>\n",
       "      <td>0.568304</td>\n",
       "    </tr>\n",
       "  </tbody>\n",
       "</table>\n",
       "</div>"
      ]
     },
     "metadata": {},
     "execution_count": 109
    }
   ],
   "metadata": {}
  },
  {
   "cell_type": "code",
   "execution_count": 110,
   "source": [
    "kaggle_GBC.to_csv(\"./submission1.csv\")"
   ],
   "outputs": [],
   "metadata": {}
  },
  {
   "cell_type": "code",
   "execution_count": null,
   "source": [],
   "outputs": [],
   "metadata": {}
  },
  {
   "cell_type": "code",
   "execution_count": null,
   "source": [],
   "outputs": [],
   "metadata": {}
  },
  {
   "cell_type": "code",
   "execution_count": null,
   "source": [],
   "outputs": [],
   "metadata": {}
  }
 ],
 "metadata": {
  "interpreter": {
   "hash": "ad3255bf553fe2c64946e8b6fbfb29ae3475662587d1cb16498b28b31fa43d49"
  },
  "kernelspec": {
   "name": "python3",
   "display_name": "Python 3.9.5 64-bit ('matrixenv': venv)"
  },
  "language_info": {
   "codemirror_mode": {
    "name": "ipython",
    "version": 3
   },
   "file_extension": ".py",
   "mimetype": "text/x-python",
   "name": "python",
   "nbconvert_exporter": "python",
   "pygments_lexer": "ipython3",
   "version": "3.9.5"
  }
 },
 "nbformat": 4,
 "nbformat_minor": 2
}